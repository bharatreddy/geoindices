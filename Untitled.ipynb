{
 "cells": [
  {
   "cell_type": "code",
   "execution_count": 147,
   "metadata": {
    "collapsed": false
   },
   "outputs": [],
   "source": [
    "import pandas\n",
    "import mysql.connector\n",
    "import bokeh\n",
    "import numpy\n",
    "import plotly.plotly as pltly\n",
    "from plotly.graph_objs import Bar, Scatter, Figure, Layout\n",
    "import cufflinks as cf\n",
    "import plotly.graph_objs as go"
   ]
  },
  {
   "cell_type": "code",
   "execution_count": 148,
   "metadata": {
    "collapsed": false
   },
   "outputs": [
    {
     "name": "stdout",
     "output_type": "stream",
     "text": [
      "                 date  dst_index\n",
      "0 2000-01-01 01:00:00        -46\n",
      "1 2000-01-01 02:00:00        -38\n",
      "2 2000-01-01 03:00:00        -38\n",
      "3 2000-01-01 04:00:00        -42\n",
      "4 2000-01-01 05:00:00        -45\n"
     ]
    }
   ],
   "source": [
    "conn = mysql.connector.Connect(host='localhost',user='root',\\\n",
    "                        password='',database='geoindices')\n",
    "qryDst = \"SELECT * FROM dst\"\n",
    "dstDF = pandas.read_sql( qryDst, conn )\n",
    "print dstDF.head()"
   ]
  },
  {
   "cell_type": "code",
   "execution_count": 158,
   "metadata": {
    "collapsed": false
   },
   "outputs": [],
   "source": [
    "# add year, month and day columns\n",
    "monthNameList = [\"Jan\", \"Feb\", \"Mar\", \"Apr\", \"May\", \\\n",
    "                 \"Jun\", \"Jul\", \"Aug\", \"Sep\", \"Oct\", \"Nov\", \"Dec\"]\n",
    "dstDF['year'] = dstDF['date'].map(lambda x: x.year)\n",
    "dstDF['month'] = dstDF['date'].map(lambda x: x.month)\n",
    "dstDF['day'] = dstDF['date'].map(lambda x: x.day)\n",
    "dstDF['month_name'] = dstDF['date'].map(lambda x: monthNameList[x.month-1])"
   ]
  },
  {
   "cell_type": "code",
   "execution_count": 166,
   "metadata": {
    "collapsed": false
   },
   "outputs": [
    {
     "name": "stdout",
     "output_type": "stream",
     "text": [
      "   year  month  day  dst_index                date month_name\n",
      "0  2015      1    1        -15 2015-01-01 03:00:00        Jan\n",
      "1  2015      1    2        -42 2015-01-02 21:00:00        Jan\n",
      "2  2015      1    3        -36 2015-01-03 02:00:00        Jan\n",
      "3  2015      1    4        -71 2015-01-04 22:00:00        Jan\n",
      "4  2015      1    5        -63 2015-01-05 01:00:00        Jan\n"
     ]
    }
   ],
   "source": [
    "# dst2016 = dstDF[ dstDF['year'] == 2015 ]\n",
    "dstGrp = dstDF.groupby( ['year', 'month', 'day'] )\n",
    "minDst = dstGrp.min()\n",
    "minDst.reset_index(level=['year', 'month','day'],inplace=True)\n",
    "resDF = pandas.merge( minDst, dst2016,\\\n",
    "                         on=['dst_index','year','month','day'], how='inner' )\n",
    "resDF.drop(['date_x', 'month_name_x'], axis=1, inplace=True)\n",
    "# resDF.drop('month', axis=1, inplace=True)\n",
    "resDF.rename(columns={'date_y': 'date'}, inplace=True)\n",
    "resDF.rename(columns={'month_name_y': 'month_name'}, inplace=True)\n",
    "resDF.drop_duplicates(['year','month','day'],inplace=True)\n",
    "resDF.reset_index(drop=True,inplace=True)\n",
    "print resDF.head(5)"
   ]
  },
  {
   "cell_type": "code",
   "execution_count": 167,
   "metadata": {
    "collapsed": false
   },
   "outputs": [
    {
     "data": {
      "text/html": [
       "<script>requirejs.config({paths: { 'plotly': ['https://cdn.plot.ly/plotly-latest.min']},});if(!window.Plotly) {{require(['plotly'],function(plotly) {window.Plotly=plotly;});}}</script>"
      ],
      "text/plain": [
       "<IPython.core.display.HTML object>"
      ]
     },
     "metadata": {},
     "output_type": "display_data"
    }
   ],
   "source": [
    "init_notebook_mode(connected=True) # run at the start of every ipython notebook to use plotly.offline\n",
    "# this injects the plotly.js source files into the notebook"
   ]
  },
  {
   "cell_type": "code",
   "execution_count": 169,
   "metadata": {
    "collapsed": false
   },
   "outputs": [
    {
     "name": "stdout",
     "output_type": "stream",
     "text": [
      "month_name  Apr  Aug  Dec  Feb  Jan  Jul  Jun  Mar  May  Nov  Oct  Sep\n",
      "day                                                                   \n",
      "1            -1  -30  -28  -28  -15  -18  -16  -45   -6  -44  -41   -8\n",
      "2           -20  -10  -21  -46  -42  -17   -5  -54   -4  -15  -30   -8\n",
      "3           -14   -3  -12  -26  -36   -8   -3  -17  -12  -55  -34  -13\n",
      "4           -21    0   -3  -21  -71  -58   -1  -20   -7  -61  -56  -44\n",
      "5            -8    2  -14  -15  -63  -68    1   -7  -10  -36  -46  -23\n"
     ]
    }
   ],
   "source": [
    "\n",
    "resDF = resDF[resDF['year'] == 2015].reset_index(drop=True)\n",
    "r2 = resDF[['month_name','day','dst_index']]\n",
    "r2=r2.pivot(index='day', columns='month_name', values='dst_index')\n",
    "print r2.head(5)"
   ]
  },
  {
   "cell_type": "code",
   "execution_count": 172,
   "metadata": {
    "collapsed": false
   },
   "outputs": [
    {
     "data": {
      "text/html": [
       "<div id=\"58ce235f-3576-403d-a1ec-79d8b15f4771\" style=\"height: 525px; width: 100%;\" class=\"plotly-graph-div\"></div><script type=\"text/javascript\">require([\"plotly\"], function(Plotly) { window.PLOTLYENV=window.PLOTLYENV || {};window.PLOTLYENV.BASE_URL=\"https://plot.ly\";Plotly.newPlot(\"58ce235f-3576-403d-a1ec-79d8b15f4771\", [{\"x\": [\"Jan\", \"Feb\", \"Mar\", \"Apr\", \"May\", \"Jun\", \"Jul\", \"Aug\", \"Sep\", \"Oct\", \"Nov\", \"Dec\"], \"z\": [[-1.0, -30.0, -28.0, -28.0, -15.0, -18.0, -16.0, -45.0, -6.0, -44.0, -41.0, -8.0], [-20.0, -10.0, -21.0, -46.0, -42.0, -17.0, -5.0, -54.0, -4.0, -15.0, -30.0, -8.0], [-14.0, -3.0, -12.0, -26.0, -36.0, -8.0, -3.0, -17.0, -12.0, -55.0, -34.0, -13.0], [-21.0, 0.0, -3.0, -21.0, -71.0, -58.0, -1.0, -20.0, -7.0, -61.0, -56.0, -44.0], [-8.0, 2.0, -14.0, -15.0, -63.0, -68.0, 1.0, -7.0, -10.0, -36.0, -46.0, -23.0], [-8.0, -12.0, -27.0, -14.0, -42.0, -50.0, 4.0, -21.0, -28.0, -35.0, -43.0, -28.0], [-8.0, -14.0, -15.0, -39.0, -99.0, -28.0, -6.0, -17.0, -13.0, -96.0, -124.0, -71.0], [4.0, -25.0, -16.0, -30.0, -52.0, -22.0, -73.0, -11.0, -8.0, -48.0, -109.0, -66.0], [-7.0, -16.0, -5.0, -20.0, -38.0, -20.0, -45.0, -12.0, -3.0, -55.0, -49.0, -98.0], [-51.0, -18.0, -14.0, -17.0, -30.0, -14.0, -31.0, 3.0, -29.0, -58.0, -47.0, -60.0], [-75.0, -12.0, -14.0, -12.0, -30.0, -28.0, -33.0, -8.0, -51.0, -37.0, -50.0, -82.0], [-22.0, -15.0, -14.0, -13.0, -30.0, -26.0, -24.0, -14.0, -44.0, -38.0, -42.0, -48.0], [-19.0, -25.0, -7.0, -13.0, -24.0, -61.0, -21.0, -9.0, -76.0, -32.0, -36.0, -38.0], [-36.0, -9.0, -46.0, -1.0, -22.0, -48.0, -25.0, -6.0, -33.0, -32.0, -46.0, -41.0], [-55.0, -57.0, -37.0, -15.0, -14.0, -16.0, -34.0, -1.0, -24.0, -18.0, -24.0, -31.0], [-75.0, -84.0, -27.0, 0.0, -14.0, -23.0, -30.0, 2.0, -15.0, -40.0, -27.0, -27.0], [-78.0, -39.0, -17.0, -60.0, -21.0, -19.0, -44.0, -223.0, -14.0, -24.0, -18.0, -26.0], [-40.0, -25.0, -11.0, -64.0, -11.0, -15.0, -32.0, -214.0, -17.0, -30.0, -48.0, -33.0], [-30.0, -51.0, -9.0, -31.0, -8.0, -9.0, -25.0, -83.0, -44.0, -36.0, -26.0, -28.0], [-26.0, -16.0, -155.0, -27.0, -15.0, 3.0, -15.0, -69.0, -22.0, -12.0, -12.0, -75.0], [-28.0, -11.0, -151.0, -22.0, -11.0, 0.0, -3.0, -58.0, -22.0, -15.0, -14.0, -38.0], [-22.0, -21.0, -40.0, -11.0, -19.0, -8.0, -121.0, -43.0, -7.0, -12.0, -12.0, -22.0], [-20.0, -44.0, -27.0, -35.0, -11.0, -64.0, -204.0, -38.0, -1.0, -7.0, -6.0, -37.0], [-16.0, -22.0, -15.0, -55.0, -14.0, -44.0, -93.0, -36.0, -7.0, -3.0, -10.0, -21.0], [-2.0, -19.0, -10.0, -31.0, -2.0, -32.0, -86.0, -24.0, 0.0, 1.0, 0.0, -16.0], [6.0, -67.0, -11.0, -14.0, -34.0, -36.0, -65.0, -20.0, 0.0, -12.0, -7.0, -6.0], [-21.0, -91.0, -24.0, -1.0, -19.0, -17.0, -44.0, -20.0, -10.0, -14.0, -4.0, -3.0], [-31.0, -88.0, -5.0, -22.0, -15.0, -21.0, -55.0, -29.0, -10.0, -17.0, -1.0, -5.0], [-15.0, -35.0, -4.0, null, -12.0, -14.0, -34.0, -35.0, 7.0, -20.0, 1.0, -16.0], [-11.0, -15.0, 0.0, null, -26.0, -23.0, -26.0, -19.0, 6.0, -42.0, -17.0, -1.0], [null, -10.0, -93.0, null, -18.0, -28.0, null, -12.0, 0.0, null, -9.0, null]], \"type\": \"heatmap\", \"colorscale\": \"spectral\"}], {\"title\": \"Dst-index\", \"xaxis\": {\"nticks\": 12, \"ticks\": \"\", \"title\": \"Month\"}, \"yaxis\": {\"nticks\": 30, \"ticks\": \"\", \"title\": \"Day\"}}, {\"linkText\": \"Export to plot.ly\", \"showLink\": true})});</script>"
      ],
      "text/plain": [
       "<IPython.core.display.HTML object>"
      ]
     },
     "metadata": {},
     "output_type": "display_data"
    }
   ],
   "source": [
    "monthNameList = [\"Jan\", \"Feb\", \"Mar\", \"Apr\", \"May\", \\\n",
    "                 \"Jun\", \"Jul\", \"Aug\", \"Sep\", \"Oct\", \"Nov\", \"Dec\"]\n",
    "layout = go.Layout(\n",
    "    title='Dst-index',\n",
    "    xaxis = dict(ticks='', nticks=12, title='Month'),\n",
    "    yaxis = dict(ticks='', nticks=30, title='Day' )\n",
    ")\n",
    "d2 = [go.Heatmap( z=r2.values.tolist(),x=monthNameList,colorscale='spectral')]\n",
    "fig = go.Figure(data=d2, layout=layout)\n",
    "iplot(fig, filename='datetime-heatmap')\n",
    "\n",
    "# d2 = [go.Heatmap( z=r2.values.tolist())]\n",
    "# iplot(d2, filename='pandas-heatmap')"
   ]
  },
  {
   "cell_type": "code",
   "execution_count": null,
   "metadata": {
    "collapsed": true
   },
   "outputs": [],
   "source": []
  }
 ],
 "metadata": {
  "kernelspec": {
   "display_name": "Python 2",
   "language": "python",
   "name": "python2"
  },
  "language_info": {
   "codemirror_mode": {
    "name": "ipython",
    "version": 2
   },
   "file_extension": ".py",
   "mimetype": "text/x-python",
   "name": "python",
   "nbconvert_exporter": "python",
   "pygments_lexer": "ipython2",
   "version": "2.7.10"
  }
 },
 "nbformat": 4,
 "nbformat_minor": 0
}
