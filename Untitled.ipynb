{
 "cells": [
  {
   "cell_type": "code",
   "execution_count": 105,
   "metadata": {
    "collapsed": false
   },
   "outputs": [],
   "source": [
    "import pandas\n",
    "import mysql.connector\n",
    "import bokeh\n",
    "import numpy"
   ]
  },
  {
   "cell_type": "code",
   "execution_count": 44,
   "metadata": {
    "collapsed": false
   },
   "outputs": [
    {
     "name": "stdout",
     "output_type": "stream",
     "text": [
      "                 date  dst_index\n",
      "0 2000-01-01 01:00:00        -46\n",
      "1 2000-01-01 02:00:00        -38\n",
      "2 2000-01-01 03:00:00        -38\n",
      "3 2000-01-01 04:00:00        -42\n",
      "4 2000-01-01 05:00:00        -45\n"
     ]
    }
   ],
   "source": [
    "conn = mysql.connector.Connect(host='localhost',user='root',\\\n",
    "                        password='',database='geoindices')\n",
    "qryDst = \"SELECT * FROM dst\"\n",
    "dstDF = pandas.read_sql( qryStockNames, conn )\n",
    "print dstDF.head()"
   ]
  },
  {
   "cell_type": "code",
   "execution_count": 136,
   "metadata": {
    "collapsed": false
   },
   "outputs": [
    {
     "name": "stdout",
     "output_type": "stream",
     "text": [
      "                 date  dst_index  year  month  day\n",
      "0 2000-01-01 01:00:00        -46  2000      1    1\n",
      "1 2000-01-01 02:00:00        -38  2000      1    1\n",
      "2 2000-01-01 03:00:00        -38  2000      1    1\n",
      "3 2000-01-01 04:00:00        -42  2000      1    1\n",
      "4 2000-01-01 05:00:00        -45  2000      1    1\n"
     ]
    }
   ],
   "source": [
    "# add year, month and day columns\n",
    "dstDF['year'] = dstDF['date'].map(lambda x: x.year)\n",
    "dstDF['month'] = dstDF['date'].map(lambda x: x.month)\n",
    "dstDF['day'] = dstDF['date'].map(lambda x: x.day)\n",
    "print dstDF.head()"
   ]
  },
  {
   "cell_type": "code",
   "execution_count": 135,
   "metadata": {
    "collapsed": false
   },
   "outputs": [
    {
     "name": "stdout",
     "output_type": "stream",
     "text": [
      "   year  month  day  dst_index                date\n",
      "0  2000      1    1        -46 2000-01-01 01:00:00\n",
      "1  2000      1    2        -29 2000-01-02 06:00:00\n",
      "2  2000      1    3        -23 2000-01-03 05:00:00\n",
      "3  2000      1    3        -23 2000-01-03 07:00:00\n",
      "4  2000      1    4        -24 2000-01-04 14:00:00\n",
      "5  2000      1    5        -34 2000-01-05 08:00:00\n",
      "6  2000      1    5        -34 2000-01-05 10:00:00\n",
      "7  2000      1    6        -37 2000-01-06 15:00:00\n",
      "8  2000      1    7        -30 2000-01-07 05:00:00\n",
      "9  2000      1    8        -19 2000-01-08 13:00:00\n"
     ]
    }
   ],
   "source": [
    "dst2016 = dstDF#[ (dstDF['year'] == 2016) & (dstDF['month'] == 1) ]\n",
    "dst2016Grp = dst2016.groupby( ['year', 'month', 'day'] )\n",
    "minDst = dst2016Grp.min()\n",
    "minDst.reset_index(level=['year', 'month','day'],inplace=True)\n",
    "resDF = pandas.merge( minDst, dst2016,\\\n",
    "                         on=['dst_index','year','month','day'], how='inner' )\n",
    "resDF.drop('date_x', axis=1, inplace=True)\n",
    "resDF.rename(columns={'date_y': 'date'}, inplace=True)\n",
    "print resDF.head(10)"
   ]
  },
  {
   "cell_type": "code",
   "execution_count": 138,
   "metadata": {
    "collapsed": false
   },
   "outputs": [
    {
     "name": "stdout",
     "output_type": "stream",
     "text": [
      "    year  month  day  dst_index                date\n",
      "0   2000      1    1        -46 2000-01-01 01:00:00\n",
      "1   2000      1    2        -29 2000-01-02 06:00:00\n",
      "2   2000      1    3        -23 2000-01-03 05:00:00\n",
      "4   2000      1    4        -24 2000-01-04 14:00:00\n",
      "5   2000      1    5        -34 2000-01-05 08:00:00\n",
      "7   2000      1    6        -37 2000-01-06 15:00:00\n",
      "8   2000      1    7        -30 2000-01-07 05:00:00\n",
      "9   2000      1    8        -19 2000-01-08 13:00:00\n",
      "10  2000      1    9        -11 2000-01-09 04:00:00\n",
      "11  2000      1   10         -8 2000-01-10 23:00:00\n"
     ]
    }
   ],
   "source": [
    "resDF.drop_duplicates(['year', 'month','day'],inplace=True)\n",
    "resDF.reset_index(inplace=True)\n",
    "print resDF.head(10)"
   ]
  },
  {
   "cell_type": "code",
   "execution_count": null,
   "metadata": {
    "collapsed": true
   },
   "outputs": [],
   "source": []
  }
 ],
 "metadata": {
  "kernelspec": {
   "display_name": "Python 2",
   "language": "python",
   "name": "python2"
  },
  "language_info": {
   "codemirror_mode": {
    "name": "ipython",
    "version": 2
   },
   "file_extension": ".py",
   "mimetype": "text/x-python",
   "name": "python",
   "nbconvert_exporter": "python",
   "pygments_lexer": "ipython2",
   "version": "2.7.10"
  }
 },
 "nbformat": 4,
 "nbformat_minor": 0
}
