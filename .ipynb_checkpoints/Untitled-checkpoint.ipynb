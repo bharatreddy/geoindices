{
 "cells": [
  {
   "cell_type": "code",
   "execution_count": 44,
   "metadata": {
    "collapsed": false
   },
   "outputs": [],
   "source": [
    "import pandas\n",
    "import mysql.connector\n",
    "import bokeh\n",
    "import numpy\n",
    "import plotly.plotly as pltly\n",
    "from plotly.graph_objs import Bar, Scatter, Figure, Layout\n",
    "import cufflinks as cf\n",
    "import plotly.graph_objs as go"
   ]
  },
  {
   "cell_type": "code",
   "execution_count": 4,
   "metadata": {
    "collapsed": false
   },
   "outputs": [
    {
     "name": "stdout",
     "output_type": "stream",
     "text": [
      "                 date  dst_index\n",
      "0 2000-01-01 01:00:00        -46\n",
      "1 2000-01-01 02:00:00        -38\n",
      "2 2000-01-01 03:00:00        -38\n",
      "3 2000-01-01 04:00:00        -42\n",
      "4 2000-01-01 05:00:00        -45\n"
     ]
    }
   ],
   "source": [
    "conn = mysql.connector.Connect(host='localhost',user='root',\\\n",
    "                        password='',database='geoindices')\n",
    "qryDst = \"SELECT * FROM dst\"\n",
    "dstDF = pandas.read_sql( qryDst, conn )\n",
    "print dstDF.head()"
   ]
  },
  {
   "cell_type": "code",
   "execution_count": 136,
   "metadata": {
    "collapsed": false
   },
   "outputs": [
    {
     "ename": "AttributeError",
     "evalue": "'numpy.int64' object has no attribute 'month'",
     "output_type": "error",
     "traceback": [
      "\u001b[0;31m---------------------------------------------------------------------------\u001b[0m",
      "\u001b[0;31mAttributeError\u001b[0m                            Traceback (most recent call last)",
      "\u001b[0;32m<ipython-input-136-dde99467cb5f>\u001b[0m in \u001b[0;36m<module>\u001b[0;34m()\u001b[0m\n\u001b[1;32m      4\u001b[0m \u001b[0mdstDF\u001b[0m\u001b[0;34m[\u001b[0m\u001b[0;34m'month'\u001b[0m\u001b[0;34m]\u001b[0m \u001b[0;34m=\u001b[0m \u001b[0mdstDF\u001b[0m\u001b[0;34m[\u001b[0m\u001b[0;34m'date'\u001b[0m\u001b[0;34m]\u001b[0m\u001b[0;34m.\u001b[0m\u001b[0mmap\u001b[0m\u001b[0;34m(\u001b[0m\u001b[0;32mlambda\u001b[0m \u001b[0mx\u001b[0m\u001b[0;34m:\u001b[0m \u001b[0mx\u001b[0m\u001b[0;34m.\u001b[0m\u001b[0mmonth\u001b[0m\u001b[0;34m)\u001b[0m\u001b[0;34m\u001b[0m\u001b[0m\n\u001b[1;32m      5\u001b[0m \u001b[0mdstDF\u001b[0m\u001b[0;34m[\u001b[0m\u001b[0;34m'day'\u001b[0m\u001b[0;34m]\u001b[0m \u001b[0;34m=\u001b[0m \u001b[0mdstDF\u001b[0m\u001b[0;34m[\u001b[0m\u001b[0;34m'date'\u001b[0m\u001b[0;34m]\u001b[0m\u001b[0;34m.\u001b[0m\u001b[0mmap\u001b[0m\u001b[0;34m(\u001b[0m\u001b[0;32mlambda\u001b[0m \u001b[0mx\u001b[0m\u001b[0;34m:\u001b[0m \u001b[0mx\u001b[0m\u001b[0;34m.\u001b[0m\u001b[0mday\u001b[0m\u001b[0;34m)\u001b[0m\u001b[0;34m\u001b[0m\u001b[0m\n\u001b[0;32m----> 6\u001b[0;31m \u001b[0mdstDF\u001b[0m\u001b[0;34m[\u001b[0m\u001b[0;34m'month_name'\u001b[0m\u001b[0;34m]\u001b[0m \u001b[0;34m=\u001b[0m \u001b[0mdstDF\u001b[0m\u001b[0;34m[\u001b[0m\u001b[0;34m'month'\u001b[0m\u001b[0;34m]\u001b[0m\u001b[0;34m.\u001b[0m\u001b[0mmap\u001b[0m\u001b[0;34m(\u001b[0m\u001b[0;32mlambda\u001b[0m \u001b[0mx\u001b[0m\u001b[0;34m:\u001b[0m \u001b[0mmonthNameList\u001b[0m\u001b[0;34m[\u001b[0m\u001b[0mint\u001b[0m\u001b[0;34m(\u001b[0m\u001b[0mx\u001b[0m\u001b[0;34m.\u001b[0m\u001b[0mmonth\u001b[0m\u001b[0;34m)\u001b[0m\u001b[0;34m-\u001b[0m\u001b[0;36m1\u001b[0m\u001b[0;34m]\u001b[0m\u001b[0;34m)\u001b[0m\u001b[0;34m\u001b[0m\u001b[0m\n\u001b[0m\u001b[1;32m      7\u001b[0m \u001b[0;32mprint\u001b[0m \u001b[0mdstDF\u001b[0m\u001b[0;34m.\u001b[0m\u001b[0mhead\u001b[0m\u001b[0;34m(\u001b[0m\u001b[0;34m)\u001b[0m\u001b[0;34m\u001b[0m\u001b[0m\n",
      "\u001b[0;32m/Library/Python/2.7/site-packages/pandas/core/series.pyc\u001b[0m in \u001b[0;36mmap\u001b[0;34m(self, arg, na_action)\u001b[0m\n\u001b[1;32m   2003\u001b[0m                                      index=self.index).__finalize__(self)\n\u001b[1;32m   2004\u001b[0m         \u001b[0;32melse\u001b[0m\u001b[0;34m:\u001b[0m\u001b[0;34m\u001b[0m\u001b[0m\n\u001b[0;32m-> 2005\u001b[0;31m             \u001b[0mmapped\u001b[0m \u001b[0;34m=\u001b[0m \u001b[0mmap_f\u001b[0m\u001b[0;34m(\u001b[0m\u001b[0mvalues\u001b[0m\u001b[0;34m,\u001b[0m \u001b[0marg\u001b[0m\u001b[0;34m)\u001b[0m\u001b[0;34m\u001b[0m\u001b[0m\n\u001b[0m\u001b[1;32m   2006\u001b[0m             return self._constructor(mapped,\n\u001b[1;32m   2007\u001b[0m                                      index=self.index).__finalize__(self)\n",
      "\u001b[0;32mpandas/src/inference.pyx\u001b[0m in \u001b[0;36mpandas.lib.map_infer (pandas/lib.c:56990)\u001b[0;34m()\u001b[0m\n",
      "\u001b[0;32m<ipython-input-136-dde99467cb5f>\u001b[0m in \u001b[0;36m<lambda>\u001b[0;34m(x)\u001b[0m\n\u001b[1;32m      4\u001b[0m \u001b[0mdstDF\u001b[0m\u001b[0;34m[\u001b[0m\u001b[0;34m'month'\u001b[0m\u001b[0;34m]\u001b[0m \u001b[0;34m=\u001b[0m \u001b[0mdstDF\u001b[0m\u001b[0;34m[\u001b[0m\u001b[0;34m'date'\u001b[0m\u001b[0;34m]\u001b[0m\u001b[0;34m.\u001b[0m\u001b[0mmap\u001b[0m\u001b[0;34m(\u001b[0m\u001b[0;32mlambda\u001b[0m \u001b[0mx\u001b[0m\u001b[0;34m:\u001b[0m \u001b[0mx\u001b[0m\u001b[0;34m.\u001b[0m\u001b[0mmonth\u001b[0m\u001b[0;34m)\u001b[0m\u001b[0;34m\u001b[0m\u001b[0m\n\u001b[1;32m      5\u001b[0m \u001b[0mdstDF\u001b[0m\u001b[0;34m[\u001b[0m\u001b[0;34m'day'\u001b[0m\u001b[0;34m]\u001b[0m \u001b[0;34m=\u001b[0m \u001b[0mdstDF\u001b[0m\u001b[0;34m[\u001b[0m\u001b[0;34m'date'\u001b[0m\u001b[0;34m]\u001b[0m\u001b[0;34m.\u001b[0m\u001b[0mmap\u001b[0m\u001b[0;34m(\u001b[0m\u001b[0;32mlambda\u001b[0m \u001b[0mx\u001b[0m\u001b[0;34m:\u001b[0m \u001b[0mx\u001b[0m\u001b[0;34m.\u001b[0m\u001b[0mday\u001b[0m\u001b[0;34m)\u001b[0m\u001b[0;34m\u001b[0m\u001b[0m\n\u001b[0;32m----> 6\u001b[0;31m \u001b[0mdstDF\u001b[0m\u001b[0;34m[\u001b[0m\u001b[0;34m'month_name'\u001b[0m\u001b[0;34m]\u001b[0m \u001b[0;34m=\u001b[0m \u001b[0mdstDF\u001b[0m\u001b[0;34m[\u001b[0m\u001b[0;34m'month'\u001b[0m\u001b[0;34m]\u001b[0m\u001b[0;34m.\u001b[0m\u001b[0mmap\u001b[0m\u001b[0;34m(\u001b[0m\u001b[0;32mlambda\u001b[0m \u001b[0mx\u001b[0m\u001b[0;34m:\u001b[0m \u001b[0mmonthNameList\u001b[0m\u001b[0;34m[\u001b[0m\u001b[0mint\u001b[0m\u001b[0;34m(\u001b[0m\u001b[0mx\u001b[0m\u001b[0;34m.\u001b[0m\u001b[0mmonth\u001b[0m\u001b[0;34m)\u001b[0m\u001b[0;34m-\u001b[0m\u001b[0;36m1\u001b[0m\u001b[0;34m]\u001b[0m\u001b[0;34m)\u001b[0m\u001b[0;34m\u001b[0m\u001b[0m\n\u001b[0m\u001b[1;32m      7\u001b[0m \u001b[0;32mprint\u001b[0m \u001b[0mdstDF\u001b[0m\u001b[0;34m.\u001b[0m\u001b[0mhead\u001b[0m\u001b[0;34m(\u001b[0m\u001b[0;34m)\u001b[0m\u001b[0;34m\u001b[0m\u001b[0m\n",
      "\u001b[0;31mAttributeError\u001b[0m: 'numpy.int64' object has no attribute 'month'"
     ]
    }
   ],
   "source": [
    "# add year, month and day columns\n",
    "monthNameList = [\"Jan\", \"Feb\", \"Mar\", \"Apr\", \"May\", \\\n",
    "                 \"Jun\", \"Jul\", \"Aug\", \"Sep\", \"Oct\", \"Nov\", \"Dec\"]\n",
    "dstDF['year'] = dstDF['date'].map(lambda x: x.year)\n",
    "dstDF['month'] = dstDF['date'].map(lambda x: x.month)\n",
    "dstDF['day'] = dstDF['date'].map(lambda x: x.day)\n",
    "dstDF['month_name'] = dstDF['date'].map(lambda x: monthNameList[int(x.month)-1])\n",
    "print dstDF.head()"
   ]
  },
  {
   "cell_type": "code",
   "execution_count": 128,
   "metadata": {
    "collapsed": false
   },
   "outputs": [
    {
     "name": "stdout",
     "output_type": "stream",
     "text": [
      "   year  day  dst_index                date          month_name\n",
      "0  2000    1        -46 2000-01-01 01:00:00 2000-01-01 01:00:00\n",
      "1  2000    2        -29 2000-01-02 06:00:00 2000-01-02 06:00:00\n",
      "2  2000    3        -23 2000-01-03 05:00:00 2000-01-03 05:00:00\n",
      "3  2000    4        -24 2000-01-04 14:00:00 2000-01-04 14:00:00\n",
      "4  2000    5        -34 2000-01-05 08:00:00 2000-01-05 08:00:00\n",
      "5  2000    6        -37 2000-01-06 15:00:00 2000-01-06 15:00:00\n",
      "6  2000    7        -30 2000-01-07 05:00:00 2000-01-07 05:00:00\n",
      "7  2000    8        -19 2000-01-08 13:00:00 2000-01-08 13:00:00\n",
      "8  2000    9        -11 2000-01-09 04:00:00 2000-01-09 04:00:00\n",
      "9  2000   10         -8 2000-01-10 23:00:00 2000-01-10 23:00:00\n"
     ]
    }
   ],
   "source": [
    "dst2016 = dstDF#[ (dstDF['year'] == 2016) & (dstDF['month'] == 1) ]\n",
    "dst2016Grp = dst2016.groupby( ['year', 'month', 'day'] )\n",
    "minDst = dst2016Grp.min()\n",
    "minDst.reset_index(level=['year', 'month','day'],inplace=True)\n",
    "resDF = pandas.merge( minDst, dst2016,\\\n",
    "                         on=['dst_index','year','month','day'], how='inner' )\n",
    "resDF.drop(['date_x','month', 'month_name_x'], axis=1, inplace=True)\n",
    "# resDF.drop('month', axis=1, inplace=True)\n",
    "resDF.rename(columns={'date_y': 'date'}, inplace=True)\n",
    "resDF.rename(columns={'month_name_y': 'month_name'}, inplace=True)\n",
    "resDF.drop_duplicates(['year','day'],inplace=True)\n",
    "resDF.reset_index(drop=True,inplace=True)\n",
    "print resDF.head(10)"
   ]
  },
  {
   "cell_type": "code",
   "execution_count": 129,
   "metadata": {
    "collapsed": false
   },
   "outputs": [
    {
     "data": {
      "text/html": [
       "<script>requirejs.config({paths: { 'plotly': ['https://cdn.plot.ly/plotly-latest.min']},});if(!window.Plotly) {{require(['plotly'],function(plotly) {window.Plotly=plotly;});}}</script>"
      ],
      "text/plain": [
       "<IPython.core.display.HTML object>"
      ]
     },
     "metadata": {},
     "output_type": "display_data"
    }
   ],
   "source": [
    "init_notebook_mode(connected=True) # run at the start of every ipython notebook to use plotly.offline\n",
    "# this injects the plotly.js source files into the notebook"
   ]
  },
  {
   "cell_type": "code",
   "execution_count": 133,
   "metadata": {
    "collapsed": false
   },
   "outputs": [
    {
     "name": "stdout",
     "output_type": "stream",
     "text": [
      "month_name  2015-01-01 03:00:00  2015-01-02 21:00:00  2015-01-03 02:00:00  \\\n",
      "day                                                                         \n",
      "1                           -15                  NaN                  NaN   \n",
      "2                           NaN                  -42                  NaN   \n",
      "3                           NaN                  NaN                  -36   \n",
      "4                           NaN                  NaN                  NaN   \n",
      "5                           NaN                  NaN                  NaN   \n",
      "\n",
      "month_name  2015-01-04 22:00:00  2015-01-05 01:00:00  2015-01-06 10:00:00  \\\n",
      "day                                                                         \n",
      "1                           NaN                  NaN                  NaN   \n",
      "2                           NaN                  NaN                  NaN   \n",
      "3                           NaN                  NaN                  NaN   \n",
      "4                           -71                  NaN                  NaN   \n",
      "5                           NaN                  -63                  NaN   \n",
      "\n",
      "month_name  2015-01-07 12:00:00  2015-01-08 02:00:00  2015-01-09 02:00:00  \\\n",
      "day                                                                         \n",
      "1                           NaN                  NaN                  NaN   \n",
      "2                           NaN                  NaN                  NaN   \n",
      "3                           NaN                  NaN                  NaN   \n",
      "4                           NaN                  NaN                  NaN   \n",
      "5                           NaN                  NaN                  NaN   \n",
      "\n",
      "month_name  2015-01-10 02:00:00         ...           2015-01-22 14:00:00  \\\n",
      "day                                     ...                                 \n",
      "1                           NaN         ...                           NaN   \n",
      "2                           NaN         ...                           NaN   \n",
      "3                           NaN         ...                           NaN   \n",
      "4                           NaN         ...                           NaN   \n",
      "5                           NaN         ...                           NaN   \n",
      "\n",
      "month_name  2015-01-23 13:00:00  2015-01-24 13:00:00  2015-01-25 02:00:00  \\\n",
      "day                                                                         \n",
      "1                           NaN                  NaN                  NaN   \n",
      "2                           NaN                  NaN                  NaN   \n",
      "3                           NaN                  NaN                  NaN   \n",
      "4                           NaN                  NaN                  NaN   \n",
      "5                           NaN                  NaN                  NaN   \n",
      "\n",
      "month_name  2015-01-26 11:00:00  2015-01-27 06:00:00  2015-01-28 00:00:00  \\\n",
      "day                                                                         \n",
      "1                           NaN                  NaN                  NaN   \n",
      "2                           NaN                  NaN                  NaN   \n",
      "3                           NaN                  NaN                  NaN   \n",
      "4                           NaN                  NaN                  NaN   \n",
      "5                           NaN                  NaN                  NaN   \n",
      "\n",
      "month_name  2015-01-29 21:00:00  2015-01-30 22:00:00  2015-01-31 09:00:00  \n",
      "day                                                                        \n",
      "1                           NaN                  NaN                  NaN  \n",
      "2                           NaN                  NaN                  NaN  \n",
      "3                           NaN                  NaN                  NaN  \n",
      "4                           NaN                  NaN                  NaN  \n",
      "5                           NaN                  NaN                  NaN  \n",
      "\n",
      "[5 rows x 31 columns]\n"
     ]
    }
   ],
   "source": [
    "\n",
    "resDF = resDF[resDF['year'] == 2015].reset_index(drop=True)\n",
    "r2 = resDF[['month_name','day','dst_index']]\n",
    "r2=r2.pivot(index='day', columns='month_name', values='dst_index')\n",
    "print r2.head()"
   ]
  },
  {
   "cell_type": "code",
   "execution_count": 131,
   "metadata": {
    "collapsed": false
   },
   "outputs": [
    {
     "data": {
      "text/html": [
       "<div id=\"bf2a07c6-e024-4314-b0f2-d8570e33e247\" style=\"height: 525px; width: 100%;\" class=\"plotly-graph-div\"></div><script type=\"text/javascript\">require([\"plotly\"], function(Plotly) { window.PLOTLYENV=window.PLOTLYENV || {};window.PLOTLYENV.BASE_URL=\"https://plot.ly\";Plotly.newPlot(\"bf2a07c6-e024-4314-b0f2-d8570e33e247\", [{\"z\": [[-15.0, null, null, null, null, null, null, null, null, null, null, null, null, null, null, null, null, null, null, null, null, null, null, null, null, null, null, null, null, null, null], [null, -42.0, null, null, null, null, null, null, null, null, null, null, null, null, null, null, null, null, null, null, null, null, null, null, null, null, null, null, null, null, null], [null, null, -36.0, null, null, null, null, null, null, null, null, null, null, null, null, null, null, null, null, null, null, null, null, null, null, null, null, null, null, null, null], [null, null, null, -71.0, null, null, null, null, null, null, null, null, null, null, null, null, null, null, null, null, null, null, null, null, null, null, null, null, null, null, null], [null, null, null, null, -63.0, null, null, null, null, null, null, null, null, null, null, null, null, null, null, null, null, null, null, null, null, null, null, null, null, null, null], [null, null, null, null, null, -42.0, null, null, null, null, null, null, null, null, null, null, null, null, null, null, null, null, null, null, null, null, null, null, null, null, null], [null, null, null, null, null, null, -99.0, null, null, null, null, null, null, null, null, null, null, null, null, null, null, null, null, null, null, null, null, null, null, null, null], [null, null, null, null, null, null, null, -52.0, null, null, null, null, null, null, null, null, null, null, null, null, null, null, null, null, null, null, null, null, null, null, null], [null, null, null, null, null, null, null, null, -38.0, null, null, null, null, null, null, null, null, null, null, null, null, null, null, null, null, null, null, null, null, null, null], [null, null, null, null, null, null, null, null, null, -30.0, null, null, null, null, null, null, null, null, null, null, null, null, null, null, null, null, null, null, null, null, null], [null, null, null, null, null, null, null, null, null, null, -30.0, null, null, null, null, null, null, null, null, null, null, null, null, null, null, null, null, null, null, null, null], [null, null, null, null, null, null, null, null, null, null, null, -30.0, null, null, null, null, null, null, null, null, null, null, null, null, null, null, null, null, null, null, null], [null, null, null, null, null, null, null, null, null, null, null, null, -24.0, null, null, null, null, null, null, null, null, null, null, null, null, null, null, null, null, null, null], [null, null, null, null, null, null, null, null, null, null, null, null, null, -22.0, null, null, null, null, null, null, null, null, null, null, null, null, null, null, null, null, null], [null, null, null, null, null, null, null, null, null, null, null, null, null, null, -14.0, null, null, null, null, null, null, null, null, null, null, null, null, null, null, null, null], [null, null, null, null, null, null, null, null, null, null, null, null, null, null, null, -14.0, null, null, null, null, null, null, null, null, null, null, null, null, null, null, null], [null, null, null, null, null, null, null, null, null, null, null, null, null, null, null, null, -21.0, null, null, null, null, null, null, null, null, null, null, null, null, null, null], [null, null, null, null, null, null, null, null, null, null, null, null, null, null, null, null, null, -11.0, null, null, null, null, null, null, null, null, null, null, null, null, null], [null, null, null, null, null, null, null, null, null, null, null, null, null, null, null, null, null, null, -8.0, null, null, null, null, null, null, null, null, null, null, null, null], [null, null, null, null, null, null, null, null, null, null, null, null, null, null, null, null, null, null, null, -15.0, null, null, null, null, null, null, null, null, null, null, null], [null, null, null, null, null, null, null, null, null, null, null, null, null, null, null, null, null, null, null, null, -11.0, null, null, null, null, null, null, null, null, null, null], [null, null, null, null, null, null, null, null, null, null, null, null, null, null, null, null, null, null, null, null, null, -19.0, null, null, null, null, null, null, null, null, null], [null, null, null, null, null, null, null, null, null, null, null, null, null, null, null, null, null, null, null, null, null, null, -11.0, null, null, null, null, null, null, null, null], [null, null, null, null, null, null, null, null, null, null, null, null, null, null, null, null, null, null, null, null, null, null, null, -14.0, null, null, null, null, null, null, null], [null, null, null, null, null, null, null, null, null, null, null, null, null, null, null, null, null, null, null, null, null, null, null, null, -2.0, null, null, null, null, null, null], [null, null, null, null, null, null, null, null, null, null, null, null, null, null, null, null, null, null, null, null, null, null, null, null, null, -34.0, null, null, null, null, null], [null, null, null, null, null, null, null, null, null, null, null, null, null, null, null, null, null, null, null, null, null, null, null, null, null, null, -19.0, null, null, null, null], [null, null, null, null, null, null, null, null, null, null, null, null, null, null, null, null, null, null, null, null, null, null, null, null, null, null, null, -15.0, null, null, null], [null, null, null, null, null, null, null, null, null, null, null, null, null, null, null, null, null, null, null, null, null, null, null, null, null, null, null, null, -12.0, null, null], [null, null, null, null, null, null, null, null, null, null, null, null, null, null, null, null, null, null, null, null, null, null, null, null, null, null, null, null, null, -26.0, null], [null, null, null, null, null, null, null, null, null, null, null, null, null, null, null, null, null, null, null, null, null, null, null, null, null, null, null, null, null, null, -18.0]], \"type\": \"heatmap\"}], {\"title\": \"Dst-index\", \"xaxis\": {\"nticks\": 12, \"ticks\": \"\", \"title\": \"Month\"}, \"yaxis\": {\"nticks\": 30, \"ticks\": \"\", \"title\": \"Day\"}}, {\"linkText\": \"Export to plot.ly\", \"showLink\": true})});</script>"
      ],
      "text/plain": [
       "<IPython.core.display.HTML object>"
      ]
     },
     "metadata": {},
     "output_type": "display_data"
    }
   ],
   "source": [
    "layout = go.Layout(\n",
    "    title='Dst-index',\n",
    "    xaxis = dict(ticks='', nticks=12, title='Month'),\n",
    "    yaxis = dict(ticks='', nticks=30, title='Day' )\n",
    ")\n",
    "d2 = [go.Heatmap( z=r2.values.tolist())]\n",
    "fig = go.Figure(data=d2, layout=layout)\n",
    "iplot(fig, filename='datetime-heatmap')\n",
    "\n",
    "# d2 = [go.Heatmap( z=r2.values.tolist())]\n",
    "# iplot(d2, filename='pandas-heatmap')"
   ]
  },
  {
   "cell_type": "code",
   "execution_count": null,
   "metadata": {
    "collapsed": true
   },
   "outputs": [],
   "source": []
  }
 ],
 "metadata": {
  "kernelspec": {
   "display_name": "Python 2",
   "language": "python",
   "name": "python2"
  },
  "language_info": {
   "codemirror_mode": {
    "name": "ipython",
    "version": 2
   },
   "file_extension": ".py",
   "mimetype": "text/x-python",
   "name": "python",
   "nbconvert_exporter": "python",
   "pygments_lexer": "ipython2",
   "version": "2.7.10"
  }
 },
 "nbformat": 4,
 "nbformat_minor": 0
}
