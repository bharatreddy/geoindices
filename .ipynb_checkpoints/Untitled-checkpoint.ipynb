{
 "cells": [
  {
   "cell_type": "code",
   "execution_count": 5,
   "metadata": {
    "collapsed": false
   },
   "outputs": [],
   "source": [
    "import urllib\n",
    "import bs4\n",
    "import mysql.connector"
   ]
  },
  {
   "cell_type": "code",
   "execution_count": 6,
   "metadata": {
    "collapsed": false
   },
   "outputs": [],
   "source": [
    "currUrl = 'http://wdc.kugi.kyoto-u.ac.jp/dst_realtime/presentmonth/index.html'\n",
    "conn = urllib.urlopen(currUrl)\n",
    "htmlSource = conn.read()\n",
    "soup = bs4.BeautifulSoup(htmlSource, 'html.parser')\n",
    "dataResObj = soup.find(\"pre\", { \"class\" : \"data\" })"
   ]
  },
  {
   "cell_type": "code",
   "execution_count": 7,
   "metadata": {
    "collapsed": true
   },
   "outputs": [],
   "source": [
    "# set up connections to the DB\n",
    "conn = mysql.connector.Connect(host='localhost',user='root',\\\n",
    "                        password='',database='geoindices')\n",
    "cursor = conn.cursor()"
   ]
  },
  {
   "cell_type": "code",
   "execution_count": 35,
   "metadata": {
    "collapsed": false
   },
   "outputs": [
    {
     "name": "stdout",
     "output_type": "stream",
     "text": [
      "2000-01-01\n",
      "2016-12-31\n",
      "hiii\n"
     ]
    }
   ],
   "source": [
    "import datetime\n",
    "t1 = datetime.date(2000,1,1)\n",
    "t2 = datetime.date(2016,12,31)\n",
    "print t1\n",
    "print t2\n",
    "yearRange = [12123,1231]\n",
    "if (not isinstance(yearRange[0],int)) or (not isinstance(yearRange[1],int)):\n",
    "    print \"need the elements of yearRange to be ints-->\", yearRange\n",
    "else:\n",
    "    print \"hiii\""
   ]
  },
  {
   "cell_type": "markdown",
   "metadata": {},
   "source": [
    "import pandas as pd\n",
    "daterange = pd.date_range(t1, t2, freq=\"M\")\n"
   ]
  },
  {
   "cell_type": "code",
   "execution_count": null,
   "metadata": {
    "collapsed": true
   },
   "outputs": [],
   "source": []
  }
 ],
 "metadata": {
  "kernelspec": {
   "display_name": "Python 2",
   "language": "python",
   "name": "python2"
  },
  "language_info": {
   "codemirror_mode": {
    "name": "ipython",
    "version": 2
   },
   "file_extension": ".py",
   "mimetype": "text/x-python",
   "name": "python",
   "nbconvert_exporter": "python",
   "pygments_lexer": "ipython2",
   "version": "2.7.10"
  }
 },
 "nbformat": 4,
 "nbformat_minor": 0
}
