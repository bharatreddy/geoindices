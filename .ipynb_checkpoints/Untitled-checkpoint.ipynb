{
 "cells": [
  {
   "cell_type": "code",
   "execution_count": 105,
   "metadata": {
    "collapsed": false
   },
   "outputs": [],
   "source": [
    "import pandas\n",
    "import mysql.connector\n",
    "import bokeh\n",
    "import numpy"
   ]
  },
  {
   "cell_type": "code",
   "execution_count": 44,
   "metadata": {
    "collapsed": false
   },
   "outputs": [
    {
     "name": "stdout",
     "output_type": "stream",
     "text": [
      "                 date  dst_index\n",
      "0 2000-01-01 01:00:00        -46\n",
      "1 2000-01-01 02:00:00        -38\n",
      "2 2000-01-01 03:00:00        -38\n",
      "3 2000-01-01 04:00:00        -42\n",
      "4 2000-01-01 05:00:00        -45\n"
     ]
    }
   ],
   "source": [
    "conn = mysql.connector.Connect(host='localhost',user='root',\\\n",
    "                        password='',database='geoindices')\n",
    "qryDst = \"SELECT * FROM dst\"\n",
    "dstDF = pandas.read_sql( qryStockNames, conn )\n",
    "print dstDF.head()"
   ]
  },
  {
   "cell_type": "code",
   "execution_count": 91,
   "metadata": {
    "collapsed": false
   },
   "outputs": [
    {
     "name": "stdout",
     "output_type": "stream",
     "text": [
      "                  date  dst_index  year  month  day\n",
      "0  2000-01-01 01:00:00        -46  2000      1    1\n",
      "1  2000-01-01 02:00:00        -38  2000      1    1\n",
      "2  2000-01-01 03:00:00        -38  2000      1    1\n",
      "3  2000-01-01 04:00:00        -42  2000      1    1\n",
      "4  2000-01-01 05:00:00        -45  2000      1    1\n",
      "5  2000-01-01 06:00:00        -40  2000      1    1\n",
      "6  2000-01-01 07:00:00        -38  2000      1    1\n",
      "7  2000-01-01 08:00:00        -35  2000      1    1\n",
      "8  2000-01-01 09:00:00        -38  2000      1    1\n",
      "9  2000-01-01 10:00:00        -30  2000      1    1\n",
      "10 2000-01-01 11:00:00        -24  2000      1    1\n",
      "11 2000-01-01 12:00:00        -22  2000      1    1\n",
      "12 2000-01-01 13:00:00        -22  2000      1    1\n",
      "13 2000-01-01 14:00:00        -24  2000      1    1\n",
      "14 2000-01-01 15:00:00        -22  2000      1    1\n",
      "15 2000-01-01 16:00:00        -23  2000      1    1\n",
      "16 2000-01-01 17:00:00        -21  2000      1    1\n",
      "17 2000-01-01 18:00:00        -23  2000      1    1\n",
      "18 2000-01-01 19:00:00        -24  2000      1    1\n",
      "19 2000-01-01 20:00:00        -28  2000      1    1\n",
      "20 2000-01-01 21:00:00        -25  2000      1    1\n",
      "21 2000-01-01 22:00:00        -27  2000      1    1\n",
      "22 2000-01-01 23:00:00        -28  2000      1    1\n",
      "23 2000-01-02 00:00:00        -28  2000      1    2\n",
      "24 2000-01-02 01:00:00        -24  2000      1    2\n",
      "25 2000-01-02 02:00:00        -23  2000      1    2\n",
      "26 2000-01-02 03:00:00        -25  2000      1    2\n",
      "27 2000-01-02 04:00:00        -24  2000      1    2\n",
      "28 2000-01-02 05:00:00        -26  2000      1    2\n",
      "29 2000-01-02 06:00:00        -29  2000      1    2\n",
      "30 2000-01-02 07:00:00        -22  2000      1    2\n",
      "31 2000-01-02 08:00:00        -20  2000      1    2\n",
      "32 2000-01-02 09:00:00        -21  2000      1    2\n",
      "33 2000-01-02 10:00:00        -21  2000      1    2\n",
      "34 2000-01-02 11:00:00        -20  2000      1    2\n",
      "35 2000-01-02 12:00:00        -17  2000      1    2\n",
      "36 2000-01-02 13:00:00        -16  2000      1    2\n",
      "37 2000-01-02 14:00:00        -17  2000      1    2\n",
      "38 2000-01-02 15:00:00        -16  2000      1    2\n",
      "39 2000-01-02 16:00:00        -16  2000      1    2\n",
      "40 2000-01-02 17:00:00        -18  2000      1    2\n",
      "41 2000-01-02 18:00:00        -19  2000      1    2\n",
      "42 2000-01-02 19:00:00        -12  2000      1    2\n",
      "43 2000-01-02 20:00:00        -19  2000      1    2\n",
      "44 2000-01-02 21:00:00        -19  2000      1    2\n",
      "45 2000-01-02 22:00:00        -17  2000      1    2\n",
      "46 2000-01-02 23:00:00        -15  2000      1    2\n",
      "47 2000-01-03 00:00:00        -14  2000      1    3\n",
      "48 2000-01-03 01:00:00        -17  2000      1    3\n",
      "49 2000-01-03 02:00:00        -21  2000      1    3\n"
     ]
    }
   ],
   "source": [
    "# add year, month and day columns\n",
    "dstDF['year'] = dstDF['date'].map(lambda x: x.year)\n",
    "dstDF['month'] = dstDF['date'].map(lambda x: x.month)\n",
    "dstDF['day'] = dstDF['date'].map(lambda x: x.day)\n",
    "print dstDF.head(50)"
   ]
  },
  {
   "cell_type": "code",
   "execution_count": 128,
   "metadata": {
    "collapsed": false
   },
   "outputs": [
    {
     "name": "stdout",
     "output_type": "stream",
     "text": [
      "   year  month  day                date  dst_index\n",
      "0  2000      1    1 2000-01-01 01:00:00        -46\n",
      "1  2000      1    2 2000-01-02 00:00:00        -29\n",
      "2  2000      1    3 2000-01-03 00:00:00        -23\n",
      "3  2000      1    4 2000-01-04 00:00:00        -24\n",
      "4  2000      1    5 2000-01-05 00:00:00        -34\n"
     ]
    }
   ],
   "source": [
    "dst2016 = dstDF#[ (dstDF['year'] == 2016) & (dstDF['month'] == 1) ]\n",
    "dst2016Grp = dst2016.groupby( ['year', 'month', 'day'] )\n",
    "minDst = dst2016Grp.min()\n",
    "minDst.reset_index(level=['year', 'month','day'],inplace=True)\n",
    "resDF = pandas.merge( minDst, dst2016,\\\n",
    "                         on=['dst_index','year','month','day'], how='inner' )\n",
    "# print minDst.head()\n",
    "\n",
    "print minDst.head()"
   ]
  },
  {
   "cell_type": "code",
   "execution_count": null,
   "metadata": {
    "collapsed": true
   },
   "outputs": [],
   "source": []
  }
 ],
 "metadata": {
  "kernelspec": {
   "display_name": "Python 2",
   "language": "python",
   "name": "python2"
  },
  "language_info": {
   "codemirror_mode": {
    "name": "ipython",
    "version": 2
   },
   "file_extension": ".py",
   "mimetype": "text/x-python",
   "name": "python",
   "nbconvert_exporter": "python",
   "pygments_lexer": "ipython2",
   "version": "2.7.10"
  }
 },
 "nbformat": 4,
 "nbformat_minor": 0
}
