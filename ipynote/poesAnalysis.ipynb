{
 "cells": [
  {
   "cell_type": "code",
   "execution_count": 1,
   "metadata": {
    "collapsed": true
   },
   "outputs": [],
   "source": [
    "import pandas\n",
    "import numpy\n",
    "import datetime\n",
    "import matplotlib.pyplot as plt\n",
    "%matplotlib inline"
   ]
  },
  {
   "cell_type": "code",
   "execution_count": 2,
   "metadata": {
    "collapsed": true
   },
   "outputs": [],
   "source": [
    "eleInpFile = \"/home/bharat/Desktop/poesTest/eleflux.csv\"\n",
    "proInpFile = \"/home/bharat/Desktop/poesTest/proflux.csv\"\n",
    "eleDF = pandas.read_csv(eleInpFile, sep=' ')\n",
    "proDF = pandas.read_csv(proInpFile, sep=' ')\n",
    "eleDF[\"date\"] = pandas.to_datetime( eleDF[\"date\"] )\n",
    "proDF[\"date\"] = pandas.to_datetime( proDF[\"date\"] )"
   ]
  },
  {
   "cell_type": "code",
   "execution_count": 3,
   "metadata": {
    "collapsed": false
   },
   "outputs": [
    {
     "data": {
      "text/html": [
       "<div>\n",
       "<table border=\"1\" class=\"dataframe\">\n",
       "  <thead>\n",
       "    <tr style=\"text-align: right;\">\n",
       "      <th></th>\n",
       "      <th>timestamp</th>\n",
       "      <th>date</th>\n",
       "      <th>aacgm_lat_foot</th>\n",
       "      <th>aacgm_lon_foot</th>\n",
       "      <th>MLT</th>\n",
       "      <th>log_ele_flux</th>\n",
       "      <th>sat</th>\n",
       "      <th>dateStr</th>\n",
       "      <th>time</th>\n",
       "    </tr>\n",
       "  </thead>\n",
       "  <tbody>\n",
       "    <tr>\n",
       "      <th>26845</th>\n",
       "      <td>1.434530e+12</td>\n",
       "      <td>2015-06-17 08:31:45.535</td>\n",
       "      <td>-52.299999</td>\n",
       "      <td>337.549988</td>\n",
       "      <td>1.95</td>\n",
       "      <td>1.276002</td>\n",
       "      <td>n19</td>\n",
       "      <td>20150617</td>\n",
       "      <td>831</td>\n",
       "    </tr>\n",
       "    <tr>\n",
       "      <th>26846</th>\n",
       "      <td>1.434530e+12</td>\n",
       "      <td>2015-06-17 08:32:09.535</td>\n",
       "      <td>-53.570000</td>\n",
       "      <td>337.570007</td>\n",
       "      <td>1.96</td>\n",
       "      <td>2.283301</td>\n",
       "      <td>n19</td>\n",
       "      <td>20150617</td>\n",
       "      <td>832</td>\n",
       "    </tr>\n",
       "    <tr>\n",
       "      <th>26847</th>\n",
       "      <td>1.434530e+12</td>\n",
       "      <td>2015-06-17 08:32:25.536</td>\n",
       "      <td>-54.430000</td>\n",
       "      <td>337.579987</td>\n",
       "      <td>1.96</td>\n",
       "      <td>2.283301</td>\n",
       "      <td>n19</td>\n",
       "      <td>20150617</td>\n",
       "      <td>832</td>\n",
       "    </tr>\n",
       "    <tr>\n",
       "      <th>26848</th>\n",
       "      <td>1.434530e+12</td>\n",
       "      <td>2015-06-17 08:33:13.536</td>\n",
       "      <td>-57.000000</td>\n",
       "      <td>337.640015</td>\n",
       "      <td>1.98</td>\n",
       "      <td>2.283301</td>\n",
       "      <td>n19</td>\n",
       "      <td>20150617</td>\n",
       "      <td>833</td>\n",
       "    </tr>\n",
       "    <tr>\n",
       "      <th>26849</th>\n",
       "      <td>1.434530e+12</td>\n",
       "      <td>2015-06-17 08:33:21.535</td>\n",
       "      <td>-57.419998</td>\n",
       "      <td>337.660004</td>\n",
       "      <td>1.98</td>\n",
       "      <td>3.083911</td>\n",
       "      <td>n19</td>\n",
       "      <td>20150617</td>\n",
       "      <td>833</td>\n",
       "    </tr>\n",
       "  </tbody>\n",
       "</table>\n",
       "</div>"
      ],
      "text/plain": [
       "          timestamp                    date  aacgm_lat_foot  aacgm_lon_foot  \\\n",
       "26845  1.434530e+12 2015-06-17 08:31:45.535      -52.299999      337.549988   \n",
       "26846  1.434530e+12 2015-06-17 08:32:09.535      -53.570000      337.570007   \n",
       "26847  1.434530e+12 2015-06-17 08:32:25.536      -54.430000      337.579987   \n",
       "26848  1.434530e+12 2015-06-17 08:33:13.536      -57.000000      337.640015   \n",
       "26849  1.434530e+12 2015-06-17 08:33:21.535      -57.419998      337.660004   \n",
       "\n",
       "        MLT  log_ele_flux  sat   dateStr  time  \n",
       "26845  1.95      1.276002  n19  20150617   831  \n",
       "26846  1.96      2.283301  n19  20150617   832  \n",
       "26847  1.96      2.283301  n19  20150617   832  \n",
       "26848  1.98      2.283301  n19  20150617   833  \n",
       "26849  1.98      3.083911  n19  20150617   833  "
      ]
     },
     "execution_count": 3,
     "metadata": {},
     "output_type": "execute_result"
    }
   ],
   "source": [
    "# select data for a datetime range\n",
    "selDate = datetime.datetime( 2015,6,17,9 ) \n",
    "timeInterval = datetime.timedelta( minutes=30 )\n",
    "eleDF = eleDF[ (eleDF[\"date\"] > selDate-timeInterval)\\\n",
    "                & (eleDF[\"date\"] < selDate+timeInterval) ]\n",
    "# poesProFluxDF.plot( x=\"aacgm_lat_foot\", y=\"log_pro_flux\", kind=\"scatter\" )\n",
    "eleDF[eleDF[\"sat\"] == \"n19\"].head()"
   ]
  },
  {
   "cell_type": "code",
   "execution_count": null,
   "metadata": {
    "collapsed": true
   },
   "outputs": [],
   "source": []
  }
 ],
 "metadata": {
  "kernelspec": {
   "display_name": "Python 2",
   "language": "python",
   "name": "python2"
  },
  "language_info": {
   "codemirror_mode": {
    "name": "ipython",
    "version": 2
   },
   "file_extension": ".py",
   "mimetype": "text/x-python",
   "name": "python",
   "nbconvert_exporter": "python",
   "pygments_lexer": "ipython2",
   "version": "2.7.6"
  }
 },
 "nbformat": 4,
 "nbformat_minor": 1
}
