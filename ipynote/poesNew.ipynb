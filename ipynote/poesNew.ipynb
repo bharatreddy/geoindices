{
 "cells": [
  {
   "cell_type": "code",
   "execution_count": 6,
   "metadata": {
    "collapsed": false
   },
   "outputs": [],
   "source": [
    "import netCDF4\n",
    "import pandas\n",
    "import numpy\n",
    "import datetime\n",
    "%matplotlib inline"
   ]
  },
  {
   "cell_type": "code",
   "execution_count": 52,
   "metadata": {
    "collapsed": false
   },
   "outputs": [],
   "source": [
    "# read data from the input (POES) file\n",
    "inpFil = \"/Users/bharat/Desktop/poes_n19_20150617_proc.nc\"\n",
    "poesRawData = netCDF4.Dataset(inpFil)\n",
    "# for i in poesRawData.variables.iterkeys():\n",
    "#     print i"
   ]
  },
  {
   "cell_type": "code",
   "execution_count": 53,
   "metadata": {
    "collapsed": false
   },
   "outputs": [],
   "source": [
    "poesDF = pandas.DataFrame( poesRawData.variables['time'][:], columns=[ \"timestamp\" ] )\n",
    "poesDF['date'] = pandas.to_datetime(poesDF['timestamp'], unit='ms')\n",
    "poesDF[\"alt\"] = poesRawData.variables['alt'][:]\n",
    "poesDF[\"aacgm_lat_foot\"] = poesRawData.variables['aacgm_lat_foot'][:]\n",
    "poesDF[\"aacgm_lon_foot\"] = poesRawData.variables['aacgm_lon_foot'][:]\n",
    "poesDF[\"MLT\"] = poesRawData.variables['MLT'][:]\n",
    "# Add up the fluxes\n",
    "poesDF[\"ted_ele_total_flux\"] = poesRawData.variables['ted_ele_tel0_flux_4'][:] +\\\n",
    "        poesRawData.variables['ted_ele_tel0_flux_8'][:] + \\\n",
    "        poesRawData.variables['ted_ele_tel0_flux_11'][:] + \\\n",
    "        poesRawData.variables['ted_ele_tel0_flux_14'][:] + \\\n",
    "        poesRawData.variables['ted_ele_tel30_flux_4'][:] +\\\n",
    "        poesRawData.variables['ted_ele_tel30_flux_8'][:] + \\\n",
    "        poesRawData.variables['ted_ele_tel30_flux_11'][:] + \\\n",
    "        poesRawData.variables['ted_ele_tel30_flux_14'][:]\n",
    "poesDF[\"ted_pro_total_flux\"] = poesRawData.variables['ted_pro_tel0_flux_4'][:] +\\\n",
    "        poesRawData.variables['ted_pro_tel0_flux_8'][:] + \\\n",
    "        poesRawData.variables['ted_pro_tel0_flux_11'][:] + \\\n",
    "        poesRawData.variables['ted_pro_tel0_flux_14'][:] + \\\n",
    "        poesRawData.variables['ted_pro_tel30_flux_4'][:] +\\\n",
    "        poesRawData.variables['ted_pro_tel30_flux_8'][:] + \\\n",
    "        poesRawData.variables['ted_pro_tel30_flux_11'][:] + \\\n",
    "        poesRawData.variables['ted_pro_tel30_flux_14'][:]\n",
    "# filter out unwanted data (0's and -1's in fluxs)\n",
    "poesDF = poesDF[ (poesDF[\"ted_pro_total_flux\"] > 0)\\\n",
    "                & (poesDF[\"ted_ele_total_flux\"] > 0) ].reset_index()\n",
    "# poesDF.head()"
   ]
  },
  {
   "cell_type": "code",
   "execution_count": 54,
   "metadata": {
    "collapsed": false
   },
   "outputs": [],
   "source": [
    "# poesDF.plot(x=\"aacgm_lat_foot\",y=\"ted_pro_total_flux\", kind=\"scatter\")\n",
    "# poesDF[[\"aacgm_lat_foot\"]].plot()"
   ]
  },
  {
   "cell_type": "code",
   "execution_count": 55,
   "metadata": {
    "collapsed": false
   },
   "outputs": [
    {
     "name": "stdout",
     "output_type": "stream",
     "text": [
      "Empty DataFrame\n",
      "Columns: [aacgm_lat_foot, MLT, ted_ele_total_flux]\n",
      "Index: []\n"
     ]
    }
   ],
   "source": [
    "print poesDF[poesDF[\"ted_ele_total_flux\"] <= 0.][ [\"aacgm_lat_foot\", \"MLT\", \"ted_ele_total_flux\"] ]"
   ]
  },
  {
   "cell_type": "code",
   "execution_count": 58,
   "metadata": {
    "collapsed": false
   },
   "outputs": [
    {
     "data": {
      "text/plain": [
       "True"
      ]
     },
     "execution_count": 58,
     "metadata": {},
     "output_type": "execute_result"
    }
   ],
   "source": [
    "import bs4\n",
    "import requests\n",
    "r = requests.get( \"http://satdat.ngdc.noaa.gov/sem/poes/data/processed/ngdc/uncorrected/full/2016/noaa15/poes_n15_20161127_proc.nc\" )\n",
    "r.status_code\n",
    "r."
   ]
  },
  {
   "cell_type": "code",
   "execution_count": 57,
   "metadata": {
    "collapsed": false
   },
   "outputs": [
    {
     "ename": "ImportError",
     "evalue": "No module named wget",
     "output_type": "error",
     "traceback": [
      "\u001b[0;31m---------------------------------------------------------------------------\u001b[0m",
      "\u001b[0;31mImportError\u001b[0m                               Traceback (most recent call last)",
      "\u001b[0;32m<ipython-input-57-814b9e54b98d>\u001b[0m in \u001b[0;36m<module>\u001b[0;34m()\u001b[0m\n\u001b[0;32m----> 1\u001b[0;31m \u001b[0;32mimport\u001b[0m \u001b[0mwget\u001b[0m\u001b[0;34m\u001b[0m\u001b[0m\n\u001b[0m",
      "\u001b[0;31mImportError\u001b[0m: No module named wget"
     ]
    }
   ],
   "source": [
    "import wget"
   ]
  },
  {
   "cell_type": "code",
   "execution_count": null,
   "metadata": {
    "collapsed": true
   },
   "outputs": [],
   "source": []
  }
 ],
 "metadata": {
  "kernelspec": {
   "display_name": "Python 2",
   "language": "python",
   "name": "python2"
  },
  "language_info": {
   "codemirror_mode": {
    "name": "ipython",
    "version": 2
   },
   "file_extension": ".py",
   "mimetype": "text/x-python",
   "name": "python",
   "nbconvert_exporter": "python",
   "pygments_lexer": "ipython2",
   "version": "2.7.9"
  }
 },
 "nbformat": 4,
 "nbformat_minor": 1
}
