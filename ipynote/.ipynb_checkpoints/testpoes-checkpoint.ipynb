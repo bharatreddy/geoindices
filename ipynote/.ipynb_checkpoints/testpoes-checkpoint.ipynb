{
 "cells": [
  {
   "cell_type": "code",
   "execution_count": 1,
   "metadata": {
    "collapsed": true
   },
   "outputs": [],
   "source": [
    "import netCDF4\n",
    "import pandas\n",
    "import datetime\n",
    "import numpy"
   ]
  },
  {
   "cell_type": "code",
   "execution_count": 2,
   "metadata": {
    "collapsed": true
   },
   "outputs": [],
   "source": [
    "minCutoffFitLat = 45.\n",
    "delTimeCutOffNrstPass = 45 # min\n",
    "mlonDiffOtrEndCutoff = 50.\n",
    "delLatCutoff = 2.\n",
    "delCtimeCutoff = 60. #min"
   ]
  },
  {
   "cell_type": "code",
   "execution_count": 3,
   "metadata": {
    "collapsed": false
   },
   "outputs": [
    {
     "name": "stdout",
     "output_type": "stream",
     "text": [
      "reading file--> ../poes_n15_20130302_proc.nc\n",
      "reading file--> ../poes_n18_20130302_proc.nc\n",
      "reading file--> ../poes_m01_20130302_proc.nc\n",
      "reading file--> ../poes_n19_20130302_proc.nc\n",
      "reading file--> ../poes_m01_20130302_proc.nc\n",
      "reading file--> ../poes_n16_20130302_proc.nc\n",
      "reading file--> ../poes_n17_20130302_proc.nc\n"
     ]
    }
   ],
   "source": [
    "fileList = [ \"../poes_n15_20130302_proc.nc\",\\\n",
    "                \"../poes_n18_20130302_proc.nc\",\\\n",
    "                \"../poes_m01_20130302_proc.nc\",\\\n",
    "                \"../poes_n19_20130302_proc.nc\",\\\n",
    "                \"../poes_m01_20130302_proc.nc\",\\\n",
    "                \"../poes_n16_20130302_proc.nc\",\\\n",
    "                \"../poes_n17_20130302_proc.nc\" ]\n",
    "poesAllEleDataDF = pandas.DataFrame( columns =  [\"timestamp\", \"date\", \"aacgm_lat_foot\",\\\n",
    "                         \"aacgm_lon_foot\", \"MLT\", \"log_ele_flux\", \"sat\"] )\n",
    "poesAllProDataDF = pandas.DataFrame( columns =  [\"timestamp\", \"date\", \"aacgm_lat_foot\",\\\n",
    "                         \"aacgm_lon_foot\", \"MLT\", \"log_pro_flux\", \"sat\"] )\n",
    "for f in fileList:\n",
    "    print \"reading file-->\", f\n",
    "    # read variable from the netCDF files\n",
    "    poesRawData = netCDF4.Dataset(f)\n",
    "    poesDF = pandas.DataFrame( poesRawData.variables['time'][:], columns=[ \"timestamp\" ] )\n",
    "    poesDF['date'] = pandas.to_datetime(poesDF['timestamp'], unit='ms')\n",
    "    poesDF[\"alt\"] = poesRawData.variables['alt'][:]\n",
    "    poesDF[\"aacgm_lat_foot\"] = poesRawData.variables['aacgm_lat_foot'][:]\n",
    "\n",
    "    poesDF[\"aacgm_lon_foot\"] = poesRawData.variables['aacgm_lon_foot'][:]\n",
    "    poesDF[\"MLT\"] = poesRawData.variables['MLT'][:]\n",
    "    # round of to 2 decimals\n",
    "    poesDF['alt'] = [ round( x, 2 ) for x in poesDF['alt']]\n",
    "    poesDF['aacgm_lat_foot'] = [ round( x, 2 ) for x in poesDF['aacgm_lat_foot']]\n",
    "    poesDF['aacgm_lon_foot'] = [ round( x, 2 ) for x in poesDF['aacgm_lon_foot']]\n",
    "    poesDF['MLT'] = [ round( x, 2 ) for x in poesDF['MLT']]\n",
    "    # Add up the fluxes\n",
    "    poesDF[\"ted_ele_total_flux\"] = poesRawData.variables['ted_ele_tel0_flux_4'][:] +\\\n",
    "            poesRawData.variables['ted_ele_tel0_flux_8'][:] + \\\n",
    "            poesRawData.variables['ted_ele_tel0_flux_11'][:] + \\\n",
    "            poesRawData.variables['ted_ele_tel0_flux_14'][:] + \\\n",
    "            poesRawData.variables['ted_ele_tel30_flux_4'][:] +\\\n",
    "            poesRawData.variables['ted_ele_tel30_flux_8'][:] + \\\n",
    "            poesRawData.variables['ted_ele_tel30_flux_11'][:] + \\\n",
    "            poesRawData.variables['ted_ele_tel30_flux_14'][:]\n",
    "    poesDF[\"ted_pro_total_flux\"] = poesRawData.variables['ted_pro_tel0_flux_4'][:] +\\\n",
    "            poesRawData.variables['ted_pro_tel0_flux_8'][:] + \\\n",
    "            poesRawData.variables['ted_pro_tel0_flux_11'][:] + \\\n",
    "            poesRawData.variables['ted_pro_tel0_flux_14'][:] + \\\n",
    "            poesRawData.variables['ted_pro_tel30_flux_4'][:] +\\\n",
    "            poesRawData.variables['ted_pro_tel30_flux_8'][:] + \\\n",
    "            poesRawData.variables['ted_pro_tel30_flux_11'][:] + \\\n",
    "            poesRawData.variables['ted_pro_tel30_flux_14'][:]\n",
    "    poesDF['log_ele_flux'] = poesDF['ted_ele_total_flux']#[0. if x <= 0. else round( numpy.log10(x), 2 )\\\n",
    "#                  for x in poesDF['ted_ele_total_flux']]\n",
    "    poesDF['log_pro_flux'] = poesDF['ted_pro_total_flux']#[0. if x <= 0. else round( numpy.log10(x), 2 )\\\n",
    "#                  for x in poesDF['ted_pro_total_flux']]\n",
    "    # the current satellite number\n",
    "    poesDF[\"sat\"] = f[-19:-17]\n",
    "#     seperate out electron and proton flux and discard all zeros\n",
    "    currPoesEleFluxDF = poesDF[poesDF[\"log_ele_flux\"] > 0.][ [\"timestamp\",\\\n",
    "                     \"date\", \"aacgm_lat_foot\", \"aacgm_lon_foot\", \"MLT\",\\\n",
    "                     \"log_ele_flux\", \"sat\"] ].reset_index(drop=True)\n",
    "    currPoesProFluxDF = poesDF[poesDF[\"log_pro_flux\"] > 0.][ [\"timestamp\",\\\n",
    "                     \"date\", \"aacgm_lat_foot\", \"aacgm_lon_foot\", \"MLT\",\\\n",
    "                     \"log_pro_flux\", \"sat\"] ].reset_index(drop=True)\n",
    "    \n",
    "    \n",
    "    poesAllEleDataDF = poesAllEleDataDF.append( currPoesEleFluxDF )\n",
    "    poesAllProDataDF = poesAllProDataDF.append( currPoesProFluxDF )\n",
    "    # now delete all the rows for prev DFs\n",
    "    # we don't want to duplicate data\n",
    "    poesDF = poesDF.drop( poesDF.index )\n",
    "    currPoesEleFluxDF = currPoesEleFluxDF.drop( currPoesEleFluxDF.index )\n",
    "    currPoesProFluxDF = currPoesProFluxDF.drop( currPoesProFluxDF.index )\n",
    "# create a date and time columns\n",
    "poesAllEleDataDF[\"dateStr\"] = poesAllEleDataDF[\"date\"].map(lambda x: x.strftime('%Y%m%d'))\n",
    "poesAllEleDataDF[\"time\"] = poesAllEleDataDF[\"date\"].map(lambda x: x.strftime('%H%M'))\n",
    "poesAllProDataDF[\"dateStr\"] = poesAllProDataDF[\"date\"].map(lambda x: x.strftime('%Y%m%d'))\n",
    "poesAllProDataDF[\"time\"] = poesAllProDataDF[\"date\"].map(lambda x: x.strftime('%H%M'))"
   ]
  },
  {
   "cell_type": "code",
   "execution_count": 4,
   "metadata": {
    "collapsed": false
   },
   "outputs": [
    {
     "name": "stdout",
     "output_type": "stream",
     "text": [
      "2013-03-02 03:00:00.201000\n"
     ]
    }
   ],
   "source": [
    "timeRange = [ poesAllEleDataDF[\"date\"].min(), poesAllEleDataDF[\"date\"].max() ]\n",
    "ctime = timeRange[0]\n",
    "timeInterval=datetime.timedelta(minutes=30)\n",
    "while ctime <= timeRange[1]:\n",
    "    ctime += timeInterval\n",
    "    if abs( ctime - datetime.datetime(2013,3,2,3) ) < datetime.timedelta(minutes=1):\n",
    "        break\n",
    "print ctime"
   ]
  },
  {
   "cell_type": "code",
   "execution_count": 5,
   "metadata": {
    "collapsed": true
   },
   "outputs": [],
   "source": [
    "poesAllEleDataDF = poesAllEleDataDF[ [ 'sat', 'date',\\\n",
    "                        'aacgm_lat_foot', 'aacgm_lon_foot',\\\n",
    "                            'MLT', 'log_ele_flux' ] ]\n",
    "poesAllEleDataDF[\"delCtime\"] = abs(poesAllEleDataDF[\"date\"] - ctime)\n",
    "poesAllEleDataDF[\"delLatFit\"] = abs( poesAllEleDataDF[\"aacgm_lat_foot\"] ) -\\\n",
    "                                    abs( minCutoffFitLat )\n",
    "# We are sorting by sats, dates and lats to pick the nearest time\n",
    "# when the satellite is between two 45 MLATs\n",
    "poesAllEleDataDFNth = poesAllEleDataDF[ poesAllEleDataDF[\"aacgm_lat_foot\"]\\\n",
    "                        >= 0. ].sort_values( ['sat', 'date', 'aacgm_lat_foot'],\\\n",
    "                                ascending=True ).reset_index(drop=True).drop_duplicates()\n",
    "poesAllEleDataDFSth = poesAllEleDataDF[ poesAllEleDataDF[\"aacgm_lat_foot\"]\\\n",
    "                        < 0. ].sort_values( ['sat', 'date', 'aacgm_lat_foot'],\\\n",
    "                                ascending=True ).reset_index(drop=True).drop_duplicates()"
   ]
  },
  {
   "cell_type": "code",
   "execution_count": 6,
   "metadata": {
    "collapsed": false
   },
   "outputs": [
    {
     "name": "stdout",
     "output_type": "stream",
     "text": [
      "      sat                    date  aacgm_lat_foot\n",
      "16831  15 2013-03-02 03:26:40.713           18.41\n",
      "16832  15 2013-03-02 03:26:42.713           18.42\n",
      "16833  15 2013-03-02 03:26:48.713           18.42\n",
      "16834  15 2013-03-02 03:26:50.713           18.43\n",
      "16835  15 2013-03-02 03:26:56.714           18.45\n",
      "16836  15 2013-03-02 03:26:58.714           18.45\n",
      "16837  15 2013-03-02 03:27:04.713           18.48\n",
      "16838  15 2013-03-02 03:27:06.713           18.49\n",
      "16839  15 2013-03-02 03:27:12.713           18.52\n",
      "16840  15 2013-03-02 03:27:14.713           18.53\n",
      "16841  15 2013-03-02 03:27:20.714           18.57\n",
      "16842  15 2013-03-02 03:27:22.714           18.59\n",
      "16843  15 2013-03-02 03:27:28.714           18.64\n",
      "16844  15 2013-03-02 03:27:30.713           18.65\n",
      "16845  15 2013-03-02 03:27:36.713           18.71\n",
      "16846  15 2013-03-02 03:27:38.713           18.73\n",
      "16847  15 2013-03-02 03:27:44.714           18.80\n",
      "16848  15 2013-03-02 03:27:46.714           18.82\n",
      "16849  15 2013-03-02 03:27:52.714           18.89\n",
      "16850  15 2013-03-02 03:27:54.714           18.92\n",
      "16851  15 2013-03-02 03:28:00.713           19.00\n",
      "16852  15 2013-03-02 03:28:02.713           19.03\n",
      "16853  15 2013-03-02 03:28:08.714           19.11\n",
      "16854  15 2013-03-02 03:28:10.714           19.14\n",
      "16855  15 2013-03-02 03:28:16.714           19.24\n",
      "16856  15 2013-03-02 03:28:18.714           19.27\n",
      "16857  15 2013-03-02 03:28:24.713           19.37\n",
      "16858  15 2013-03-02 03:28:26.713           19.41\n",
      "16859  15 2013-03-02 03:28:32.713           19.52\n",
      "16860  15 2013-03-02 03:28:34.714           19.55\n",
      "...    ..                     ...             ...\n",
      "22600  15 2013-03-02 23:58:00.712           69.73\n",
      "22601  15 2013-03-02 23:58:02.712           69.81\n",
      "22602  15 2013-03-02 23:58:08.711           70.05\n",
      "22603  15 2013-03-02 23:58:10.711           70.14\n",
      "22604  15 2013-03-02 23:58:16.711           70.38\n",
      "22605  15 2013-03-02 23:58:18.711           70.46\n",
      "22606  15 2013-03-02 23:58:24.712           70.70\n",
      "22607  15 2013-03-02 23:58:26.712           70.78\n",
      "22608  15 2013-03-02 23:58:32.712           71.01\n",
      "22609  15 2013-03-02 23:58:34.711           71.09\n",
      "22610  15 2013-03-02 23:58:40.711           71.33\n",
      "22611  15 2013-03-02 23:58:42.711           71.41\n",
      "22612  15 2013-03-02 23:58:48.712           71.64\n",
      "22613  15 2013-03-02 23:58:50.712           71.72\n",
      "22614  15 2013-03-02 23:58:56.712           71.95\n",
      "22615  15 2013-03-02 23:58:58.712           72.02\n",
      "22616  15 2013-03-02 23:59:04.711           72.25\n",
      "22617  15 2013-03-02 23:59:06.711           72.32\n",
      "22618  15 2013-03-02 23:59:12.712           72.55\n",
      "22619  15 2013-03-02 23:59:14.712           72.62\n",
      "22620  15 2013-03-02 23:59:20.712           72.84\n",
      "22621  15 2013-03-02 23:59:22.712           72.92\n",
      "22622  15 2013-03-02 23:59:28.711           73.14\n",
      "22623  15 2013-03-02 23:59:30.711           73.21\n",
      "22624  15 2013-03-02 23:59:36.711           73.42\n",
      "22625  15 2013-03-02 23:59:38.712           73.49\n",
      "22626  15 2013-03-02 23:59:44.712           73.69\n",
      "22627  15 2013-03-02 23:59:46.712           73.76\n",
      "22628  15 2013-03-02 23:59:52.711           73.96\n",
      "22629  15 2013-03-02 23:59:54.711           74.03\n",
      "\n",
      "[5799 rows x 3 columns]\n"
     ]
    }
   ],
   "source": [
    "delTTest = datetime.timedelta(minutes=35)\n",
    "print poesAllEleDataDFNth[ \\\n",
    "        (poesAllEleDataDFNth[\"sat\"] == \"15\") &\\\n",
    "        (poesAllEleDataDFNth[\"date\"] > ctime+delTTest)\\\n",
    "        ][ [ \"sat\", \"date\", \"aacgm_lat_foot\" ] ].sort_values( [\"date\"] )"
   ]
  },
  {
   "cell_type": "code",
   "execution_count": null,
   "metadata": {
    "collapsed": true
   },
   "outputs": [],
   "source": []
  }
 ],
 "metadata": {
  "kernelspec": {
   "display_name": "Python 2",
   "language": "python",
   "name": "python2"
  },
  "language_info": {
   "codemirror_mode": {
    "name": "ipython",
    "version": 2
   },
   "file_extension": ".py",
   "mimetype": "text/x-python",
   "name": "python",
   "nbconvert_exporter": "python",
   "pygments_lexer": "ipython2",
   "version": "2.7.9"
  }
 },
 "nbformat": 4,
 "nbformat_minor": 1
}
