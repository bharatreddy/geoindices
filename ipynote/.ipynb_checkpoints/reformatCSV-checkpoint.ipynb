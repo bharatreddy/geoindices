{
 "cells": [
  {
   "cell_type": "code",
   "execution_count": 1,
   "metadata": {
    "collapsed": true
   },
   "outputs": [],
   "source": [
    "import pandas"
   ]
  },
  {
   "cell_type": "code",
   "execution_count": 34,
   "metadata": {
    "collapsed": false
   },
   "outputs": [
    {
     "data": {
      "text/html": [
       "<div>\n",
       "<table border=\"1\" class=\"dataframe\">\n",
       "  <thead>\n",
       "    <tr style=\"text-align: right;\">\n",
       "      <th></th>\n",
       "      <th>dateStr</th>\n",
       "      <th>time</th>\n",
       "      <th>radId</th>\n",
       "      <th>radNames</th>\n",
       "    </tr>\n",
       "  </thead>\n",
       "  <tbody>\n",
       "    <tr>\n",
       "      <th>0</th>\n",
       "      <td>20110205</td>\n",
       "      <td>230</td>\n",
       "      <td>206.0</td>\n",
       "      <td>cvw</td>\n",
       "    </tr>\n",
       "    <tr>\n",
       "      <th>1</th>\n",
       "      <td>20110205</td>\n",
       "      <td>230</td>\n",
       "      <td>207.0</td>\n",
       "      <td>cve</td>\n",
       "    </tr>\n",
       "    <tr>\n",
       "      <th>2</th>\n",
       "      <td>20110205</td>\n",
       "      <td>230</td>\n",
       "      <td>205.0</td>\n",
       "      <td>fhe</td>\n",
       "    </tr>\n",
       "    <tr>\n",
       "      <th>3</th>\n",
       "      <td>20110205</td>\n",
       "      <td>230</td>\n",
       "      <td>33.0</td>\n",
       "      <td>bks</td>\n",
       "    </tr>\n",
       "    <tr>\n",
       "      <th>4</th>\n",
       "      <td>20110205</td>\n",
       "      <td>300</td>\n",
       "      <td>206.0</td>\n",
       "      <td>cvw</td>\n",
       "    </tr>\n",
       "  </tbody>\n",
       "</table>\n",
       "</div>"
      ],
      "text/plain": [
       "    dateStr  time  radId radNames\n",
       "0  20110205   230  206.0      cvw\n",
       "1  20110205   230  207.0      cve\n",
       "2  20110205   230  205.0      fhe\n",
       "3  20110205   230   33.0      bks\n",
       "4  20110205   300  206.0      cvw"
      ]
     },
     "execution_count": 34,
     "metadata": {},
     "output_type": "execute_result"
    }
   ],
   "source": [
    "def convert_to_datetime(row):\n",
    "    if row[\"time\"] < 10:\n",
    "        currTimeStr = \"000\" + str( int( row[\"time\"] ) )\n",
    "    elif row[\"time\"] < 100:\n",
    "        currTimeStr = \"00\" + str( int( row[\"time\"] ) )\n",
    "    elif row[\"time\"] < 1000:\n",
    "        currTimeStr = \"0\" + str( int( row[\"time\"] ) )\n",
    "    else:\n",
    "        currTimeStr = str( int( row[\"time\"] ) )\n",
    "    return currTimeStr\n",
    "\n",
    "inpFile = \"../data/XuelingSaps.txt\"\n",
    "dataDF = pandas.read_csv(inpFile, sep=' ')\n",
    "dataDF[\"radId\"] = dataDF[\"radId\"].astype('category')\n",
    "# Order of radar arrays is given below\n",
    "#[32.0, 33.0, 204.0, 205.0, 206.0, 207.0, 208.0, 209.0]\n",
    "radNameArr = [ \"wal\", \"bks\", \"fhw\", \"fhe\", \"cvw\", \"cve\", \"adw\", \"ade\" ]\n",
    "dataDF[\"catIndex\"] = dataDF[[ \"radId\" ]].apply(lambda x: x.cat.codes )\n",
    "dataDF[\"radNames\"] = dataDF[\"catIndex\"].map(lambda x: radNameArr[x] )\n",
    "dataDF = dataDF.drop([\"catIndex\"], 1)\n",
    "dataDF.head()"
   ]
  },
  {
   "cell_type": "code",
   "execution_count": null,
   "metadata": {
    "collapsed": true
   },
   "outputs": [],
   "source": []
  }
 ],
 "metadata": {
  "kernelspec": {
   "display_name": "Python 2",
   "language": "python",
   "name": "python2"
  },
  "language_info": {
   "codemirror_mode": {
    "name": "ipython",
    "version": 2
   },
   "file_extension": ".py",
   "mimetype": "text/x-python",
   "name": "python",
   "nbconvert_exporter": "python",
   "pygments_lexer": "ipython2",
   "version": "2.7.6"
  }
 },
 "nbformat": 4,
 "nbformat_minor": 1
}
