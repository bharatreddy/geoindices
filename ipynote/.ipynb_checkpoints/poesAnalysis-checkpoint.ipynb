{
 "cells": [
  {
   "cell_type": "code",
   "execution_count": 1,
   "metadata": {
    "collapsed": true
   },
   "outputs": [],
   "source": [
    "import pandas\n",
    "import numpy\n",
    "import datetime\n",
    "import matplotlib.pyplot as plt\n",
    "%matplotlib inline"
   ]
  },
  {
   "cell_type": "code",
   "execution_count": 2,
   "metadata": {
    "collapsed": true
   },
   "outputs": [],
   "source": [
    "eleInpFile = \"/home/bharat/Desktop/poesTest/eleflux.csv\"\n",
    "proInpFile = \"/home/bharat/Desktop/poesTest/proflux.csv\"\n",
    "eleDF = pandas.read_csv(eleInpFile, sep=' ')\n",
    "proDF = pandas.read_csv(proInpFile, sep=' ')\n",
    "eleDF[\"date\"] = pandas.to_datetime( eleDF[\"date\"] )\n",
    "proDF[\"date\"] = pandas.to_datetime( proDF[\"date\"] )"
   ]
  },
  {
   "cell_type": "code",
   "execution_count": null,
   "metadata": {
    "collapsed": true
   },
   "outputs": [],
   "source": [
    "# select data for a datetime range\n",
    "selDate = datetime.datetime( 2015,6,17,9 ) \n",
    "timeInterval = datetime.timedelta( minutes=30 )\n",
    "eleDF = eleDF[ (eleDF[\"date\"] > selDate-timeInterval)\\\n",
    "                & (eleDF[\"date\"] < selDate+timeInterval) ]\n",
    "# poesProFluxDF.plot( x=\"aacgm_lat_foot\", y=\"log_pro_flux\", kind=\"scatter\" )\n",
    "eleDF[eleDF[\"sat\"] == \"n19\"].head()"
   ]
  }
 ],
 "metadata": {
  "kernelspec": {
   "display_name": "Python 2",
   "language": "python",
   "name": "python2"
  },
  "language_info": {
   "codemirror_mode": {
    "name": "ipython",
    "version": 2
   },
   "file_extension": ".py",
   "mimetype": "text/x-python",
   "name": "python",
   "nbconvert_exporter": "python",
   "pygments_lexer": "ipython2",
   "version": "2.7.6"
  }
 },
 "nbformat": 4,
 "nbformat_minor": 1
}
