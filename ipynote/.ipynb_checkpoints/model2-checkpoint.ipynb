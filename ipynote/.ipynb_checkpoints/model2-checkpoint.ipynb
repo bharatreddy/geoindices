{
 "cells": [
  {
   "cell_type": "code",
   "execution_count": 1,
   "metadata": {
    "collapsed": true
   },
   "outputs": [],
   "source": [
    "import pandas\n",
    "import datetime\n",
    "import numpy\n",
    "from scipy.optimize import curve_fit\n",
    "import seaborn as sns\n",
    "import matplotlib.pyplot as plt\n",
    "from matplotlib.colors import ListedColormap\n",
    "%matplotlib inline"
   ]
  },
  {
   "cell_type": "code",
   "execution_count": 2,
   "metadata": {
    "collapsed": false
   },
   "outputs": [
    {
     "data": {
      "text/html": [
       "<div>\n",
       "<table border=\"1\" class=\"dataframe\">\n",
       "  <thead>\n",
       "    <tr style=\"text-align: right;\">\n",
       "      <th></th>\n",
       "      <th>dateStr</th>\n",
       "      <th>sapsLat</th>\n",
       "      <th>sapsMLT</th>\n",
       "      <th>sapsVel</th>\n",
       "      <th>dst_index</th>\n",
       "      <th>time</th>\n",
       "      <th>dst_bin</th>\n",
       "    </tr>\n",
       "  </thead>\n",
       "  <tbody>\n",
       "    <tr>\n",
       "      <th>0</th>\n",
       "      <td>20110107</td>\n",
       "      <td>56.5</td>\n",
       "      <td>17.7543</td>\n",
       "      <td>308.2077</td>\n",
       "      <td>-18.0</td>\n",
       "      <td>0</td>\n",
       "      <td>(-25, -10]</td>\n",
       "    </tr>\n",
       "    <tr>\n",
       "      <th>1</th>\n",
       "      <td>20110107</td>\n",
       "      <td>55.5</td>\n",
       "      <td>18.0147</td>\n",
       "      <td>224.1588</td>\n",
       "      <td>-18.0</td>\n",
       "      <td>0</td>\n",
       "      <td>(-25, -10]</td>\n",
       "    </tr>\n",
       "    <tr>\n",
       "      <th>2</th>\n",
       "      <td>20110107</td>\n",
       "      <td>56.5</td>\n",
       "      <td>17.8749</td>\n",
       "      <td>307.4328</td>\n",
       "      <td>-18.0</td>\n",
       "      <td>0</td>\n",
       "      <td>(-25, -10]</td>\n",
       "    </tr>\n",
       "    <tr>\n",
       "      <th>3</th>\n",
       "      <td>20110107</td>\n",
       "      <td>55.5</td>\n",
       "      <td>18.1324</td>\n",
       "      <td>222.4787</td>\n",
       "      <td>-18.0</td>\n",
       "      <td>0</td>\n",
       "      <td>(-25, -10]</td>\n",
       "    </tr>\n",
       "    <tr>\n",
       "      <th>4</th>\n",
       "      <td>20110107</td>\n",
       "      <td>56.5</td>\n",
       "      <td>17.9955</td>\n",
       "      <td>305.4201</td>\n",
       "      <td>-18.0</td>\n",
       "      <td>0</td>\n",
       "      <td>(-25, -10]</td>\n",
       "    </tr>\n",
       "  </tbody>\n",
       "</table>\n",
       "</div>"
      ],
      "text/plain": [
       "    dateStr  sapsLat  sapsMLT   sapsVel  dst_index  time     dst_bin\n",
       "0  20110107     56.5  17.7543  308.2077      -18.0     0  (-25, -10]\n",
       "1  20110107     55.5  18.0147  224.1588      -18.0     0  (-25, -10]\n",
       "2  20110107     56.5  17.8749  307.4328      -18.0     0  (-25, -10]\n",
       "3  20110107     55.5  18.1324  222.4787      -18.0     0  (-25, -10]\n",
       "4  20110107     56.5  17.9955  305.4201      -18.0     0  (-25, -10]"
      ]
     },
     "execution_count": 2,
     "metadata": {},
     "output_type": "execute_result"
    }
   ],
   "source": [
    "datFileName = \"../data/processedSaps.txt\"\n",
    "sapsDataDF = pandas.read_csv(datFileName, sep=' ')\n",
    "# add dst_bins\n",
    "dstBins = [ -150, -75, -50, -25, -10, 10 ]\n",
    "sapsDataDF = pandas.concat( [ sapsDataDF, \\\n",
    "                    pandas.cut( sapsDataDF[\"dst_index\"], \\\n",
    "                               bins=dstBins ) ], axis=1 )\n",
    "sapsDataDF.columns = [ \"dateStr\", \"sapsLat\", \"sapsMLT\", \\\n",
    "                      \"sapsVel\", \"radId\", \"poesLat\", \"poesMLT\", \\\n",
    "                      \"dst_date\", \"dst_index\", \"time\", \"dst_bin\" ]\n",
    "sapsDataDF = sapsDataDF.drop([\"radId\", \"poesLat\", \"poesMLT\", \"dst_date\"], 1)\n",
    "sapsDataDF.head()"
   ]
  },
  {
   "cell_type": "code",
   "execution_count": 3,
   "metadata": {
    "collapsed": false
   },
   "outputs": [
    {
     "data": {
      "text/html": [
       "<div>\n",
       "<table border=\"1\" class=\"dataframe\">\n",
       "  <thead>\n",
       "    <tr style=\"text-align: right;\">\n",
       "      <th></th>\n",
       "      <th>dst_bin</th>\n",
       "      <th>sapsMLT</th>\n",
       "      <th>sapsLat</th>\n",
       "      <th>normMLT</th>\n",
       "      <th>normLAT</th>\n",
       "      <th>dataCount</th>\n",
       "      <th>maxCount</th>\n",
       "      <th>MLT</th>\n",
       "      <th>probOcc</th>\n",
       "    </tr>\n",
       "  </thead>\n",
       "  <tbody>\n",
       "    <tr>\n",
       "      <th>0</th>\n",
       "      <td>(-150, -75]</td>\n",
       "      <td>0.0</td>\n",
       "      <td>51.5</td>\n",
       "      <td>0.0</td>\n",
       "      <td>-6.0</td>\n",
       "      <td>1</td>\n",
       "      <td>333</td>\n",
       "      <td>0</td>\n",
       "      <td>0.003003</td>\n",
       "    </tr>\n",
       "    <tr>\n",
       "      <th>1</th>\n",
       "      <td>(-150, -75]</td>\n",
       "      <td>0.0</td>\n",
       "      <td>52.5</td>\n",
       "      <td>0.0</td>\n",
       "      <td>-5.0</td>\n",
       "      <td>22</td>\n",
       "      <td>333</td>\n",
       "      <td>0</td>\n",
       "      <td>0.066066</td>\n",
       "    </tr>\n",
       "    <tr>\n",
       "      <th>2</th>\n",
       "      <td>(-150, -75]</td>\n",
       "      <td>0.0</td>\n",
       "      <td>53.5</td>\n",
       "      <td>0.0</td>\n",
       "      <td>-4.0</td>\n",
       "      <td>26</td>\n",
       "      <td>333</td>\n",
       "      <td>0</td>\n",
       "      <td>0.078078</td>\n",
       "    </tr>\n",
       "    <tr>\n",
       "      <th>3</th>\n",
       "      <td>(-150, -75]</td>\n",
       "      <td>0.0</td>\n",
       "      <td>54.5</td>\n",
       "      <td>0.0</td>\n",
       "      <td>-3.0</td>\n",
       "      <td>36</td>\n",
       "      <td>333</td>\n",
       "      <td>0</td>\n",
       "      <td>0.108108</td>\n",
       "    </tr>\n",
       "    <tr>\n",
       "      <th>4</th>\n",
       "      <td>(-150, -75]</td>\n",
       "      <td>0.0</td>\n",
       "      <td>55.5</td>\n",
       "      <td>0.0</td>\n",
       "      <td>-2.0</td>\n",
       "      <td>50</td>\n",
       "      <td>333</td>\n",
       "      <td>0</td>\n",
       "      <td>0.150150</td>\n",
       "    </tr>\n",
       "  </tbody>\n",
       "</table>\n",
       "</div>"
      ],
      "text/plain": [
       "       dst_bin  sapsMLT  sapsLat  normMLT  normLAT  dataCount  maxCount MLT  \\\n",
       "0  (-150, -75]      0.0     51.5      0.0     -6.0          1       333   0   \n",
       "1  (-150, -75]      0.0     52.5      0.0     -5.0         22       333   0   \n",
       "2  (-150, -75]      0.0     53.5      0.0     -4.0         26       333   0   \n",
       "3  (-150, -75]      0.0     54.5      0.0     -3.0         36       333   0   \n",
       "4  (-150, -75]      0.0     55.5      0.0     -2.0         50       333   0   \n",
       "\n",
       "    probOcc  \n",
       "0  0.003003  \n",
       "1  0.066066  \n",
       "2  0.078078  \n",
       "3  0.108108  \n",
       "4  0.150150  "
      ]
     },
     "execution_count": 3,
     "metadata": {},
     "output_type": "execute_result"
    }
   ],
   "source": [
    "# calculate prob of occ by dst_bin, MLT, Lat\n",
    "sapsDataDF[\"sapsMLTRounded\"] = sapsDataDF[\"sapsMLT\"].map(lambda x: round(x) )\n",
    "# get a normalized form of MLT where \n",
    "# if MLT > 12: MLT = MLT - 24, else MLT = MLT\n",
    "sapsDataDF['normMLT'] = [x-24 if x >= 12 else x for x in sapsDataDF['sapsMLTRounded']]\n",
    "sapsDataDF['normLAT'] = [x-57.5 for x in sapsDataDF['sapsLat']]\n",
    "# Get max points at a given Lat, MLT, DstBin\n",
    "dstGrps = sapsDataDF.groupby([\"dst_bin\", \"sapsMLTRounded\", \"sapsLat\", \"normMLT\", \"normLAT\"])\n",
    "dstSapsMLTLatCountDF = pandas.DataFrame( dstGrps[\"sapsVel\"].count() ).reset_index()\n",
    "maxCntMLTLatDst = dstSapsMLTLatCountDF.groupby([\"dst_bin\"]).max().reset_index()\n",
    "maxCntMLTLatDst = maxCntMLTLatDst.drop([\"sapsMLTRounded\", \"sapsLat\", \"normMLT\", \"normLAT\"], 1)\n",
    "maxCntMLTLatDst.columns = [\"dst_bin\", \"maxCount\"]\n",
    "dstSapsMLTLatCountDF = pandas.merge( dstSapsMLTLatCountDF, maxCntMLTLatDst, \\\n",
    "                              on=[\"dst_bin\"], how='inner')\n",
    "dstSapsMLTLatCountDF.columns = [\"dst_bin\", \"sapsMLT\", \"sapsLat\", \"normMLT\", \"normLAT\", \"dataCount\", \"maxCount\"]\n",
    "dstSapsMLTLatCountDF[\"MLT\"] = dstSapsMLTLatCountDF[\"sapsMLT\"].map(lambda x: str(int(x)) )\n",
    "dstSapsMLTLatCountDF[\"probOcc\"] = dstSapsMLTLatCountDF[\"dataCount\"]/dstSapsMLTLatCountDF[\"maxCount\"]\n",
    "dstSapsMLTLatCountDF.head()"
   ]
  },
  {
   "cell_type": "code",
   "execution_count": 4,
   "metadata": {
    "collapsed": false
   },
   "outputs": [],
   "source": [
    "# select the required dst_bin\n",
    "# the bins are :\n",
    "# ['(-150, -75]' '(-75, -50]' '(-50, -25]' '(-25, -10]' '(-10, 10]']\n",
    "saps5075 = dstSapsMLTLatCountDF[ \\\n",
    "                    dstSapsMLTLatCountDF[\"dst_bin\"] == \"(-10, 10]\" ]"
   ]
  },
  {
   "cell_type": "code",
   "execution_count": 5,
   "metadata": {
    "collapsed": false
   },
   "outputs": [
    {
     "data": {
      "text/html": [
       "<div>\n",
       "<table border=\"1\" class=\"dataframe\">\n",
       "  <thead>\n",
       "    <tr style=\"text-align: right;\">\n",
       "      <th></th>\n",
       "      <th>normMLT</th>\n",
       "      <th>normLAT</th>\n",
       "      <th>probSAPS</th>\n",
       "      <th>MLT_x</th>\n",
       "      <th>Lat</th>\n",
       "      <th>dst_bin</th>\n",
       "      <th>sapsMLT</th>\n",
       "      <th>sapsLat</th>\n",
       "      <th>dataCount</th>\n",
       "      <th>maxCount</th>\n",
       "      <th>MLT_y</th>\n",
       "      <th>probOcc</th>\n",
       "    </tr>\n",
       "  </thead>\n",
       "  <tbody>\n",
       "    <tr>\n",
       "      <th>0</th>\n",
       "      <td>-9</td>\n",
       "      <td>-7</td>\n",
       "      <td>NaN</td>\n",
       "      <td>NaN</td>\n",
       "      <td>NaN</td>\n",
       "      <td>NaN</td>\n",
       "      <td>NaN</td>\n",
       "      <td>NaN</td>\n",
       "      <td>NaN</td>\n",
       "      <td>NaN</td>\n",
       "      <td>NaN</td>\n",
       "      <td>0.02</td>\n",
       "    </tr>\n",
       "    <tr>\n",
       "      <th>1</th>\n",
       "      <td>-8</td>\n",
       "      <td>-7</td>\n",
       "      <td>NaN</td>\n",
       "      <td>NaN</td>\n",
       "      <td>NaN</td>\n",
       "      <td>NaN</td>\n",
       "      <td>NaN</td>\n",
       "      <td>NaN</td>\n",
       "      <td>NaN</td>\n",
       "      <td>NaN</td>\n",
       "      <td>NaN</td>\n",
       "      <td>0.02</td>\n",
       "    </tr>\n",
       "    <tr>\n",
       "      <th>2</th>\n",
       "      <td>-7</td>\n",
       "      <td>-7</td>\n",
       "      <td>NaN</td>\n",
       "      <td>NaN</td>\n",
       "      <td>NaN</td>\n",
       "      <td>NaN</td>\n",
       "      <td>NaN</td>\n",
       "      <td>NaN</td>\n",
       "      <td>NaN</td>\n",
       "      <td>NaN</td>\n",
       "      <td>NaN</td>\n",
       "      <td>0.02</td>\n",
       "    </tr>\n",
       "    <tr>\n",
       "      <th>3</th>\n",
       "      <td>-6</td>\n",
       "      <td>-7</td>\n",
       "      <td>NaN</td>\n",
       "      <td>NaN</td>\n",
       "      <td>NaN</td>\n",
       "      <td>NaN</td>\n",
       "      <td>NaN</td>\n",
       "      <td>NaN</td>\n",
       "      <td>NaN</td>\n",
       "      <td>NaN</td>\n",
       "      <td>NaN</td>\n",
       "      <td>0.02</td>\n",
       "    </tr>\n",
       "    <tr>\n",
       "      <th>4</th>\n",
       "      <td>-5</td>\n",
       "      <td>-7</td>\n",
       "      <td>NaN</td>\n",
       "      <td>NaN</td>\n",
       "      <td>NaN</td>\n",
       "      <td>NaN</td>\n",
       "      <td>NaN</td>\n",
       "      <td>NaN</td>\n",
       "      <td>NaN</td>\n",
       "      <td>NaN</td>\n",
       "      <td>NaN</td>\n",
       "      <td>0.02</td>\n",
       "    </tr>\n",
       "  </tbody>\n",
       "</table>\n",
       "</div>"
      ],
      "text/plain": [
       "   normMLT  normLAT probSAPS MLT_x  Lat dst_bin  sapsMLT  sapsLat  dataCount  \\\n",
       "0       -9       -7      NaN   NaN  NaN     NaN      NaN      NaN        NaN   \n",
       "1       -8       -7      NaN   NaN  NaN     NaN      NaN      NaN        NaN   \n",
       "2       -7       -7      NaN   NaN  NaN     NaN      NaN      NaN        NaN   \n",
       "3       -6       -7      NaN   NaN  NaN     NaN      NaN      NaN        NaN   \n",
       "4       -5       -7      NaN   NaN  NaN     NaN      NaN      NaN        NaN   \n",
       "\n",
       "   maxCount MLT_y  probOcc  \n",
       "0       NaN   NaN     0.02  \n",
       "1       NaN   NaN     0.02  \n",
       "2       NaN   NaN     0.02  \n",
       "3       NaN   NaN     0.02  \n",
       "4       NaN   NaN     0.02  "
      ]
     },
     "execution_count": 5,
     "metadata": {},
     "output_type": "execute_result"
    }
   ],
   "source": [
    "sapsModelDF = pandas.DataFrame(columns=[\"normMLT\", \"normLAT\", \"probSAPS\", \"MLT\", \"Lat\"])\n",
    "latArr = []\n",
    "mltArr = []\n",
    "for x in range( int(saps5075[\"normLAT\"].min()), int(saps5075[\"normLAT\"].max()) + 1 ):\n",
    "    for y in range( int(saps5075[\"normMLT\"].min()), int(saps5075[\"normMLT\"].max()) + 1 ):\n",
    "        latArr.append(x)\n",
    "        mltArr.append(y)\n",
    "sapsModelDF[\"normMLT\"] = mltArr\n",
    "sapsModelDF[\"normLAT\"] = latArr\n",
    "sapsModelDF = pandas.merge( sapsModelDF, saps5075, on=[\"normMLT\", \"normLAT\"], how=\"outer\" )\n",
    "sapsModelDF[\"probOcc\"] = sapsModelDF[\"probOcc\"].fillna(0.02)\n",
    "# sapsModelDF = sapsModelDF[ [\"normMLT\", \"normLAT\", \"probOcc\"] ]\n",
    "sapsModelDF.head()"
   ]
  },
  {
   "cell_type": "code",
   "execution_count": 6,
   "metadata": {
    "collapsed": false
   },
   "outputs": [],
   "source": [
    "def twoD_Gaussian((x, y), amplitude, xo, yo, sigma_x, sigma_y):\n",
    "    theta = 0.633\n",
    "    xo = float(xo)\n",
    "    yo = float(yo)    \n",
    "    a = (numpy.cos(theta)**2)/(2*sigma_x**2) + (numpy.sin(theta)**2)/(2*sigma_y**2)\n",
    "    b = -1*(numpy.sin(2*theta))/(4*sigma_x**2) + (numpy.sin(2*theta))/(4*sigma_y**2)\n",
    "    c = (numpy.sin(theta)**2)/(2*sigma_x**2) + (numpy.cos(theta)**2)/(2*sigma_y**2)\n",
    "    g = amplitude*numpy.exp( - (a*((x-xo)**2) + 2*b*(x-xo)*(y-yo) \n",
    "                            + c*((y-yo)**2)))\n",
    "    return g.ravel()"
   ]
  },
  {
   "cell_type": "code",
   "execution_count": 7,
   "metadata": {
    "collapsed": false
   },
   "outputs": [
    {
     "name": "stdout",
     "output_type": "stream",
     "text": [
      "[ 0.83570584  4.5310208  -1.25487903  3.27245002  1.6968925 ]\n",
      "[[  4.49940931e-04  -2.49617309e-04   1.27913351e-04  -1.17799172e-03\n",
      "   -4.66872699e-04]\n",
      " [ -2.49617309e-04   8.05479602e-03  -3.92479200e-03   4.20034225e-03\n",
      "    1.99506946e-04]\n",
      " [  1.27913351e-04  -3.92479200e-03   4.40847338e-03  -2.45360375e-03\n",
      "    5.32491554e-05]\n",
      " [ -1.17799172e-03   4.20034225e-03  -2.45360375e-03   1.23986331e-02\n",
      "    4.42010537e-05]\n",
      " [ -4.66872699e-04   1.99506946e-04   5.32491554e-05   4.42010537e-05\n",
      "    1.95331308e-03]]\n"
     ]
    }
   ],
   "source": [
    "initGuess = (1,4,-1,2,2)\n",
    "popt2, pcov2 = curve_fit(twoD_Gaussian, (sapsModelDF['normLAT'],sapsModelDF['normMLT']), sapsModelDF['probOcc'],\n",
    "                       p0=initGuess)\n",
    "print popt2 \n",
    "print pcov2"
   ]
  },
  {
   "cell_type": "code",
   "execution_count": 8,
   "metadata": {
    "collapsed": true
   },
   "outputs": [],
   "source": [
    "dstBinArr = [ \"(-150, -75]\", \"(-75, -50]\", \"(-50, -25]\", \"(-25, -10]\", \"(-10, 10]\" ]\n",
    "dstVals = [ -115., -65., -38., -18., 0. ]\n",
    "ampArr = [ 1.00, 0.988, 1.02, 0.88, 0.84 ]\n",
    "xoArr = [ -1.17, 0.56, 2.19, 3.65, 4.53 ]\n",
    "\n",
    "yoArr = [ -3.94, -3.47, -2.69, -1.64, -1.25 ]\n",
    "sigxArr = [ 2.78, 2.87, 2.82, 2.79, 3.27 ]\n",
    "sigyArr = [ -1.75, 1.57, 1.79, 1.58, 1.69 ]\n"
   ]
  },
  {
   "cell_type": "code",
   "execution_count": 9,
   "metadata": {
    "collapsed": false
   },
   "outputs": [
    {
     "data": {
      "text/plain": [
       "2.4700000001955003"
      ]
     },
     "execution_count": 9,
     "metadata": {},
     "output_type": "execute_result"
    }
   ],
   "source": [
    "9.57599617e+06 % 6.3"
   ]
  },
  {
   "cell_type": "code",
   "execution_count": null,
   "metadata": {
    "collapsed": true
   },
   "outputs": [],
   "source": []
  }
 ],
 "metadata": {
  "kernelspec": {
   "display_name": "Python 2",
   "language": "python",
   "name": "python2"
  },
  "language_info": {
   "codemirror_mode": {
    "name": "ipython",
    "version": 2
   },
   "file_extension": ".py",
   "mimetype": "text/x-python",
   "name": "python",
   "nbconvert_exporter": "python",
   "pygments_lexer": "ipython2",
   "version": "2.7.6"
  }
 },
 "nbformat": 4,
 "nbformat_minor": 1
}
