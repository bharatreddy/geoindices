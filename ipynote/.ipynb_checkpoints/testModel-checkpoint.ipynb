{
 "cells": [
  {
   "cell_type": "code",
   "execution_count": 1,
   "metadata": {
    "collapsed": true
   },
   "outputs": [],
   "source": [
    "import pandas\n",
    "import datetime\n",
    "import numpy\n",
    "from scipy.optimize import curve_fit\n",
    "import seaborn as sns\n",
    "import matplotlib.pyplot as plt\n",
    "from matplotlib.colors import ListedColormap\n",
    "%matplotlib inline"
   ]
  },
  {
   "cell_type": "code",
   "execution_count": 9,
   "metadata": {
    "collapsed": true
   },
   "outputs": [],
   "source": [
    "def saps_pred_func(x, y, dstInp):\n",
    "    (a_sx, b_sx, a_sy, b_sy, a_xo, b_xo, a_yo, b_yo, a_o, b_o, theta) = \\\n",
    "        ( 2.93, 2.67*10^-3, 2.21, 3*10^-3, 3.86, 6.03*10^-2, -0.51, 5.57*10^-2, 0.985, 0.93*10^-3, 0.633 )\n",
    "    # parameters from fitting\n",
    "#     (a_sx, b_sx, a_sy, b_sy, a_xo, b_xo, a_yo, b_yo, a_o, b_o, theta) = \\\n",
    "#         ( 2.58, -0.007, 1.03, -0.023, 3.99,  \\\n",
    "#            0.041, -1.63, 0.02, 1.11, 0.006, 0.68 )\n",
    "    sigma_x = a_sx + b_sx * dstInp\n",
    "    sigma_y = a_sy + b_sy * dstInp\n",
    "    xo = a_xo + b_xo * dstInp\n",
    "    yo = a_yo + b_yo * dstInp\n",
    "    amplitude = a_o + b_o * dstInp    \n",
    "    \n",
    "    a = (numpy.cos(theta)**2)/(2*sigma_x**2) + (numpy.sin(theta)**2)/(2*sigma_y**2)\n",
    "    b = -(numpy.sin(2*theta))/(4*sigma_x**2) + (numpy.sin(2*theta))/(4*sigma_y**2)\n",
    "    c = (numpy.sin(theta)**2)/(2*sigma_x**2) + (numpy.cos(theta)**2)/(2*sigma_y**2)\n",
    "    outProb = amplitude*numpy.exp( - (a*((x-xo)**2) + 2*b*(x-xo)*(y-yo) \n",
    "                            + c*((y-yo)**2)))\n",
    "    return outProb"
   ]
  },
  {
   "cell_type": "code",
   "execution_count": 10,
   "metadata": {
    "collapsed": false
   },
   "outputs": [],
   "source": [
    "# build test dst indices and plot them\n",
    "sapsPredDF = pandas.DataFrame(columns=[\"normMLT\", \"normLAT\", \"probSAPS\", \"MLT\", \"Lat\", \"dst_index\"])\n",
    "latArr = []\n",
    "mltArr = []\n",
    "normLatArr = []\n",
    "normMltArr = []\n",
    "probSapsArr = []\n",
    "dstArr = []\n",
    "dstIndSel = [ -150., -100., -75., -50, -25., 0. ]\n",
    "for z in dstIndSel:\n",
    "    for x in range( -7, 8 ):\n",
    "        for y in range( -12, 10 ):        \n",
    "            normLatArr.append( x )\n",
    "            normMltArr.append( y )\n",
    "            dstArr.append( z )\n",
    "            if y > 0:\n",
    "                mltArr.append( y )\n",
    "            else:\n",
    "                mltArr.append( y + 24 )\n",
    "            latArr.append( x + 57.5 )\n",
    "            probSapsArr.append( saps_pred_func(x,y,z) )\n",
    "        \n",
    "sapsPredDF[\"MLT\"] = mltArr\n",
    "sapsPredDF[\"Lat\"] = latArr\n",
    "sapsPredDF[\"normMLT\"] = normMltArr\n",
    "sapsPredDF[\"normLAT\"] = normLatArr\n",
    "sapsPredDF[\"probSAPS\"] = probSapsArr\n",
    "sapsPredDF[\"dst_index\"] = dstArr"
   ]
  },
  {
   "cell_type": "code",
   "execution_count": 18,
   "metadata": {
    "collapsed": false
   },
   "outputs": [
    {
     "data": {
      "text/html": [
       "<div>\n",
       "<table border=\"1\" class=\"dataframe\">\n",
       "  <thead>\n",
       "    <tr style=\"text-align: right;\">\n",
       "      <th></th>\n",
       "      <th>normMLT</th>\n",
       "      <th>normLAT</th>\n",
       "      <th>probSAPS</th>\n",
       "      <th>MLT</th>\n",
       "      <th>Lat</th>\n",
       "      <th>dst_index</th>\n",
       "    </tr>\n",
       "  </thead>\n",
       "  <tbody>\n",
       "    <tr>\n",
       "      <th>1197</th>\n",
       "      <td>-3</td>\n",
       "      <td>2</td>\n",
       "      <td>0.801044</td>\n",
       "      <td>21</td>\n",
       "      <td>59.5</td>\n",
       "      <td>-50.0</td>\n",
       "    </tr>\n",
       "    <tr>\n",
       "      <th>1528</th>\n",
       "      <td>-2</td>\n",
       "      <td>2</td>\n",
       "      <td>0.872781</td>\n",
       "      <td>22</td>\n",
       "      <td>59.5</td>\n",
       "      <td>-25.0</td>\n",
       "    </tr>\n",
       "    <tr>\n",
       "      <th>1529</th>\n",
       "      <td>-1</td>\n",
       "      <td>2</td>\n",
       "      <td>0.822208</td>\n",
       "      <td>23</td>\n",
       "      <td>59.5</td>\n",
       "      <td>-25.0</td>\n",
       "    </tr>\n",
       "    <tr>\n",
       "      <th>1549</th>\n",
       "      <td>-3</td>\n",
       "      <td>3</td>\n",
       "      <td>0.864428</td>\n",
       "      <td>21</td>\n",
       "      <td>60.5</td>\n",
       "      <td>-25.0</td>\n",
       "    </tr>\n",
       "    <tr>\n",
       "      <th>1550</th>\n",
       "      <td>-2</td>\n",
       "      <td>3</td>\n",
       "      <td>0.956993</td>\n",
       "      <td>22</td>\n",
       "      <td>60.5</td>\n",
       "      <td>-25.0</td>\n",
       "    </tr>\n",
       "    <tr>\n",
       "      <th>1571</th>\n",
       "      <td>-3</td>\n",
       "      <td>4</td>\n",
       "      <td>0.851006</td>\n",
       "      <td>21</td>\n",
       "      <td>61.5</td>\n",
       "      <td>-25.0</td>\n",
       "    </tr>\n",
       "    <tr>\n",
       "      <th>1572</th>\n",
       "      <td>-2</td>\n",
       "      <td>4</td>\n",
       "      <td>0.831112</td>\n",
       "      <td>22</td>\n",
       "      <td>61.5</td>\n",
       "      <td>-25.0</td>\n",
       "    </tr>\n",
       "    <tr>\n",
       "      <th>1881</th>\n",
       "      <td>-1</td>\n",
       "      <td>3</td>\n",
       "      <td>0.993974</td>\n",
       "      <td>23</td>\n",
       "      <td>60.5</td>\n",
       "      <td>0.0</td>\n",
       "    </tr>\n",
       "    <tr>\n",
       "      <th>1902</th>\n",
       "      <td>-2</td>\n",
       "      <td>4</td>\n",
       "      <td>1.064701</td>\n",
       "      <td>22</td>\n",
       "      <td>61.5</td>\n",
       "      <td>0.0</td>\n",
       "    </tr>\n",
       "    <tr>\n",
       "      <th>1903</th>\n",
       "      <td>-1</td>\n",
       "      <td>4</td>\n",
       "      <td>0.977272</td>\n",
       "      <td>23</td>\n",
       "      <td>61.5</td>\n",
       "      <td>0.0</td>\n",
       "    </tr>\n",
       "    <tr>\n",
       "      <th>1923</th>\n",
       "      <td>-3</td>\n",
       "      <td>5</td>\n",
       "      <td>0.829800</td>\n",
       "      <td>21</td>\n",
       "      <td>62.5</td>\n",
       "      <td>0.0</td>\n",
       "    </tr>\n",
       "    <tr>\n",
       "      <th>1924</th>\n",
       "      <td>-2</td>\n",
       "      <td>5</td>\n",
       "      <td>0.970099</td>\n",
       "      <td>22</td>\n",
       "      <td>62.5</td>\n",
       "      <td>0.0</td>\n",
       "    </tr>\n",
       "  </tbody>\n",
       "</table>\n",
       "</div>"
      ],
      "text/plain": [
       "      normMLT  normLAT  probSAPS  MLT   Lat  dst_index\n",
       "1197       -3        2  0.801044   21  59.5      -50.0\n",
       "1528       -2        2  0.872781   22  59.5      -25.0\n",
       "1529       -1        2  0.822208   23  59.5      -25.0\n",
       "1549       -3        3  0.864428   21  60.5      -25.0\n",
       "1550       -2        3  0.956993   22  60.5      -25.0\n",
       "1571       -3        4  0.851006   21  61.5      -25.0\n",
       "1572       -2        4  0.831112   22  61.5      -25.0\n",
       "1881       -1        3  0.993974   23  60.5        0.0\n",
       "1902       -2        4  1.064701   22  61.5        0.0\n",
       "1903       -1        4  0.977272   23  61.5        0.0\n",
       "1923       -3        5  0.829800   21  62.5        0.0\n",
       "1924       -2        5  0.970099   22  62.5        0.0"
      ]
     },
     "execution_count": 18,
     "metadata": {},
     "output_type": "execute_result"
    }
   ],
   "source": [
    "sapsPredDF[ sapsPredDF[\"probSAPS\"] > 0.8 ]"
   ]
  },
  {
   "cell_type": "code",
   "execution_count": 20,
   "metadata": {
    "collapsed": false
   },
   "outputs": [
    {
     "data": {
      "text/plain": [
       "0.50651404693802837"
      ]
     },
     "execution_count": 20,
     "metadata": {},
     "output_type": "execute_result"
    }
   ],
   "source": [
    "sapsPredDF[ sapsPredDF[\"dst_index\"] == -100. ][\"probSAPS\"].max()"
   ]
  },
  {
   "cell_type": "code",
   "execution_count": null,
   "metadata": {
    "collapsed": true
   },
   "outputs": [],
   "source": []
  }
 ],
 "metadata": {
  "kernelspec": {
   "display_name": "Python 2",
   "language": "python",
   "name": "python2"
  },
  "language_info": {
   "codemirror_mode": {
    "name": "ipython",
    "version": 2
   },
   "file_extension": ".py",
   "mimetype": "text/x-python",
   "name": "python",
   "nbconvert_exporter": "python",
   "pygments_lexer": "ipython2",
   "version": "2.7.6"
  }
 },
 "nbformat": 4,
 "nbformat_minor": 1
}
