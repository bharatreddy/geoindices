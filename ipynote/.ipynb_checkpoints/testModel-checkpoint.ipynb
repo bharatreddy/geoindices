{
 "cells": [
  {
   "cell_type": "code",
   "execution_count": 1,
   "metadata": {
    "collapsed": true
   },
   "outputs": [],
   "source": [
    "import pandas\n",
    "import datetime\n",
    "import numpy\n",
    "from scipy.optimize import curve_fit\n",
    "import seaborn as sns\n",
    "import matplotlib.pyplot as plt\n",
    "from matplotlib.colors import ListedColormap\n",
    "%matplotlib inline"
   ]
  },
  {
   "cell_type": "code",
   "execution_count": 29,
   "metadata": {
    "collapsed": true
   },
   "outputs": [],
   "source": [
    "def saps_pred_func(x, y, dstInp):\n",
    "    (a_sx, b_sx, a_sy, b_sy, a_xo, b_xo, a_yo, b_yo, a_o, b_o, theta) = \\\n",
    "        ( 2.93, 2.67e-3, 2.21, 3e-3, 3.86, 6.03e-2, -0.51, 5.57e-2, 0.985, 0.93e-3, 0.633 )\n",
    "    # parameters from fitting\n",
    "#     (a_sx, b_sx, a_sy, b_sy, a_xo, b_xo, a_yo, b_yo, a_o, b_o, theta) = \\\n",
    "#         ( 2.58, -0.007, 1.03, -0.023, 3.99,  \\\n",
    "#            0.041, -1.63, 0.02, 1.11, 0.006, 0.68 )\n",
    "    sigma_x = a_sx + b_sx * dstInp\n",
    "    sigma_y = a_sy + b_sy * dstInp\n",
    "    xo = a_xo + b_xo * dstInp\n",
    "    yo = a_yo + b_yo * dstInp\n",
    "    amplitude = a_o + b_o * dstInp    \n",
    "    \n",
    "    a = (numpy.cos(theta)**2)/(2*sigma_x**2) + (numpy.sin(theta)**2)/(2*sigma_y**2)\n",
    "    b = -(numpy.sin(2*theta))/(4*sigma_x**2) + (numpy.sin(2*theta))/(4*sigma_y**2)\n",
    "    c = (numpy.sin(theta)**2)/(2*sigma_x**2) + (numpy.cos(theta)**2)/(2*sigma_y**2)\n",
    "    outProb = amplitude*numpy.exp( - (a*((x-xo)**2) + 2*b*(x-xo)*(y-yo) \n",
    "                            + c*((y-yo)**2)))\n",
    "    return outProb"
   ]
  },
  {
   "cell_type": "code",
   "execution_count": null,
   "metadata": {
    "collapsed": true
   },
   "outputs": [],
   "source": [
    "### build test dst indices and plot them\n",
    "sapsPredDF = pandas.DataFrame(columns=[\"normMLT\", \"normLAT\", \"probSAPS\", \"MLT\", \"Lat\", \"dst_index\"])\n",
    "latArr = []\n",
    "mltArr = []\n",
    "normLatArr = []\n",
    "normMltArr = []\n",
    "probSapsArr = []\n",
    "dstArr = []\n",
    "dstIndSel = [ -150., -100., -75., -50, -25., 0. ]\n",
    "for z in dstIndSel:\n",
    "    for x in range( -7, 8 ):\n",
    "        for y in range( -12, 10 ):        \n",
    "            normLatArr.append( x )\n",
    "            normMltArr.append( y )\n",
    "            dstArr.append( z )\n",
    "            if y > 0:\n",
    "                mltArr.append( y )\n",
    "            else:\n",
    "                mltArr.append( y + 24 )\n",
    "            latArr.append( x + 57.5 )\n",
    "            probSapsArr.append( saps_pred_func(x,y,z) )\n",
    "        \n",
    "sapsPredDF[\"MLT\"] = mltArr\n",
    "sapsPredDF[\"Lat\"] = latArr\n",
    "sapsPredDF[\"normMLT\"] = normMltArr\n",
    "sapsPredDF[\"normLAT\"] = normLatArr\n",
    "sapsPredDF[\"probSAPS\"] = probSapsArr\n",
    "sapsPredDF[\"dst_index\"] = dstArr"
   ]
  },
  {
   "cell_type": "code",
   "execution_count": 33,
   "metadata": {
    "collapsed": false
   },
   "outputs": [
    {
     "data": {
      "text/html": [
       "<div>\n",
       "<table border=\"1\" class=\"dataframe\">\n",
       "  <thead>\n",
       "    <tr style=\"text-align: right;\">\n",
       "      <th></th>\n",
       "      <th>normMLT</th>\n",
       "      <th>normLAT</th>\n",
       "      <th>probSAPS</th>\n",
       "      <th>MLT</th>\n",
       "      <th>Lat</th>\n",
       "      <th>dst_index</th>\n",
       "    </tr>\n",
       "  </thead>\n",
       "  <tbody>\n",
       "    <tr>\n",
       "      <th>47</th>\n",
       "      <td>-9</td>\n",
       "      <td>-5</td>\n",
       "      <td>0.842042</td>\n",
       "      <td>15</td>\n",
       "      <td>52.5</td>\n",
       "      <td>-150.0</td>\n",
       "    </tr>\n",
       "    <tr>\n",
       "      <th>424</th>\n",
       "      <td>-6</td>\n",
       "      <td>-3</td>\n",
       "      <td>0.839106</td>\n",
       "      <td>18</td>\n",
       "      <td>54.5</td>\n",
       "      <td>-100.0</td>\n",
       "    </tr>\n",
       "    <tr>\n",
       "      <th>445</th>\n",
       "      <td>-7</td>\n",
       "      <td>-2</td>\n",
       "      <td>0.815981</td>\n",
       "      <td>17</td>\n",
       "      <td>55.5</td>\n",
       "      <td>-100.0</td>\n",
       "    </tr>\n",
       "    <tr>\n",
       "      <th>446</th>\n",
       "      <td>-6</td>\n",
       "      <td>-2</td>\n",
       "      <td>0.888171</td>\n",
       "      <td>18</td>\n",
       "      <td>55.5</td>\n",
       "      <td>-100.0</td>\n",
       "    </tr>\n",
       "    <tr>\n",
       "      <th>799</th>\n",
       "      <td>-5</td>\n",
       "      <td>-1</td>\n",
       "      <td>0.891411</td>\n",
       "      <td>19</td>\n",
       "      <td>56.5</td>\n",
       "      <td>-75.0</td>\n",
       "    </tr>\n",
       "  </tbody>\n",
       "</table>\n",
       "</div>"
      ],
      "text/plain": [
       "     normMLT  normLAT  probSAPS  MLT   Lat  dst_index\n",
       "47        -9       -5  0.842042   15  52.5     -150.0\n",
       "424       -6       -3  0.839106   18  54.5     -100.0\n",
       "445       -7       -2  0.815981   17  55.5     -100.0\n",
       "446       -6       -2  0.888171   18  55.5     -100.0\n",
       "799       -5       -1  0.891411   19  56.5      -75.0"
      ]
     },
     "execution_count": 33,
     "metadata": {},
     "output_type": "execute_result"
    }
   ],
   "source": [
    "sapsPredDF[ sapsPredDF[\"probSAPS\"] > 0.8 ].head()"
   ]
  },
  {
   "cell_type": "code",
   "execution_count": 32,
   "metadata": {
    "collapsed": false
   },
   "outputs": [
    {
     "name": "stdout",
     "output_type": "stream",
     "text": [
      "0.966048027011\n"
     ]
    }
   ],
   "source": [
    "print sapsPredDF[\"probSAPS\"].max()"
   ]
  },
  {
   "cell_type": "code",
   "execution_count": null,
   "metadata": {
    "collapsed": true
   },
   "outputs": [],
   "source": []
  }
 ],
 "metadata": {
  "kernelspec": {
   "display_name": "Python 2",
   "language": "python",
   "name": "python2"
  },
  "language_info": {
   "codemirror_mode": {
    "name": "ipython",
    "version": 2
   },
   "file_extension": ".py",
   "mimetype": "text/x-python",
   "name": "python",
   "nbconvert_exporter": "python",
   "pygments_lexer": "ipython2",
   "version": "2.7.6"
  }
 },
 "nbformat": 4,
 "nbformat_minor": 1
}
