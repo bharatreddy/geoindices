{
 "cells": [
  {
   "cell_type": "code",
   "execution_count": 1,
   "metadata": {
    "collapsed": true
   },
   "outputs": [],
   "source": [
    "import pandas\n",
    "import datetime\n",
    "import numpy\n",
    "from scipy.optimize import curve_fit\n",
    "import seaborn as sns\n",
    "import matplotlib.pyplot as plt\n",
    "from matplotlib.colors import ListedColormap\n",
    "from matplotlib import ticker\n",
    "import os\n",
    "%matplotlib inline"
   ]
  },
  {
   "cell_type": "code",
   "execution_count": 2,
   "metadata": {
    "collapsed": false
   },
   "outputs": [
    {
     "data": {
      "text/html": [
       "<div>\n",
       "<table border=\"1\" class=\"dataframe\">\n",
       "  <thead>\n",
       "    <tr style=\"text-align: right;\">\n",
       "      <th></th>\n",
       "      <th>dateStr</th>\n",
       "      <th>time</th>\n",
       "      <th>sapsLat</th>\n",
       "      <th>sapsLon</th>\n",
       "      <th>grdVelMagn</th>\n",
       "      <th>grdVelAzim</th>\n",
       "      <th>radId</th>\n",
       "      <th>sapsMLT</th>\n",
       "    </tr>\n",
       "  </thead>\n",
       "  <tbody>\n",
       "    <tr>\n",
       "      <th>0</th>\n",
       "      <td>20110107</td>\n",
       "      <td>0</td>\n",
       "      <td>56.5</td>\n",
       "      <td>344.6231</td>\n",
       "      <td>83.6037</td>\n",
       "      <td>-47.4307</td>\n",
       "      <td>33</td>\n",
       "      <td>17.7543</td>\n",
       "    </tr>\n",
       "    <tr>\n",
       "      <th>1</th>\n",
       "      <td>20110107</td>\n",
       "      <td>0</td>\n",
       "      <td>55.5</td>\n",
       "      <td>348.5294</td>\n",
       "      <td>96.6077</td>\n",
       "      <td>-42.6488</td>\n",
       "      <td>33</td>\n",
       "      <td>18.0147</td>\n",
       "    </tr>\n",
       "    <tr>\n",
       "      <th>2</th>\n",
       "      <td>20110107</td>\n",
       "      <td>0</td>\n",
       "      <td>56.5</td>\n",
       "      <td>346.4322</td>\n",
       "      <td>84.6154</td>\n",
       "      <td>-44.5228</td>\n",
       "      <td>33</td>\n",
       "      <td>17.8749</td>\n",
       "    </tr>\n",
       "    <tr>\n",
       "      <th>3</th>\n",
       "      <td>20110107</td>\n",
       "      <td>0</td>\n",
       "      <td>55.5</td>\n",
       "      <td>350.2941</td>\n",
       "      <td>95.6795</td>\n",
       "      <td>-35.1175</td>\n",
       "      <td>33</td>\n",
       "      <td>18.1324</td>\n",
       "    </tr>\n",
       "    <tr>\n",
       "      <th>4</th>\n",
       "      <td>20110107</td>\n",
       "      <td>0</td>\n",
       "      <td>56.5</td>\n",
       "      <td>348.2412</td>\n",
       "      <td>84.6160</td>\n",
       "      <td>-39.3513</td>\n",
       "      <td>33</td>\n",
       "      <td>17.9955</td>\n",
       "    </tr>\n",
       "  </tbody>\n",
       "</table>\n",
       "</div>"
      ],
      "text/plain": [
       "    dateStr  time  sapsLat   sapsLon  grdVelMagn  grdVelAzim  radId  sapsMLT\n",
       "0  20110107     0     56.5  344.6231     83.6037    -47.4307     33  17.7543\n",
       "1  20110107     0     55.5  348.5294     96.6077    -42.6488     33  18.0147\n",
       "2  20110107     0     56.5  346.4322     84.6154    -44.5228     33  17.8749\n",
       "3  20110107     0     55.5  350.2941     95.6795    -35.1175     33  18.1324\n",
       "4  20110107     0     56.5  348.2412     84.6160    -39.3513     33  17.9955"
      ]
     },
     "execution_count": 2,
     "metadata": {},
     "output_type": "execute_result"
    }
   ],
   "source": [
    "grdFileName = \"../data/gridVecs.txt\"\n",
    "prcsdGrdFileName = \"../data/gridVecs-processed.txt\"\n",
    "# os.system( 'cat ' + grdFileName + ' | tr -s \"  \" > ' + \"../data/gridVecs-processed.txt\" )\n",
    "inpColNames = [ \"dateStr\", \"time\", \"sapsLat\", \"sapsLon\", \\\n",
    "          \"grdVelMagn\", \"grdVelAzim\", \"radId\", \"sapsMLT\"]\n",
    "gridVecsDF = pandas.read_csv(prcsdGrdFileName, sep=' ',\\\n",
    "                             header=None, names=inpColNames)\n",
    "gridVecsDF.head()"
   ]
  },
  {
   "cell_type": "code",
   "execution_count": null,
   "metadata": {
    "collapsed": true
   },
   "outputs": [],
   "source": []
  }
 ],
 "metadata": {
  "kernelspec": {
   "display_name": "Python 2",
   "language": "python",
   "name": "python2"
  },
  "language_info": {
   "codemirror_mode": {
    "name": "ipython",
    "version": 2
   },
   "file_extension": ".py",
   "mimetype": "text/x-python",
   "name": "python",
   "nbconvert_exporter": "python",
   "pygments_lexer": "ipython2",
   "version": "2.7.6"
  }
 },
 "nbformat": 4,
 "nbformat_minor": 1
}
