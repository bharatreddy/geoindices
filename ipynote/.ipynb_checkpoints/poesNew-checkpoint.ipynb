{
 "cells": [
  {
   "cell_type": "code",
   "execution_count": 41,
   "metadata": {
    "collapsed": false
   },
   "outputs": [],
   "source": [
    "import netCDF4\n",
    "import pandas\n",
    "import numpy\n",
    "import datetime\n",
    "import matplotlib.pyplot as plt\n",
    "%matplotlib inline"
   ]
  },
  {
   "cell_type": "code",
   "execution_count": 42,
   "metadata": {
    "collapsed": false
   },
   "outputs": [],
   "source": [
    "# read data from the input (POES) file\n",
    "testFiles = ['/home/bharat/Desktop/poesTest/poes_n18_20150617_proc.nc', \\\n",
    "                '/home/bharat/Desktop/poesTest/poes_m01_20150617_proc.nc', \\\n",
    "                '/home/bharat/Desktop/poesTest/poes_n19_20150617_proc.nc', \\\n",
    "                '/home/bharat/Desktop/poesTest/poes_m02_20150617_proc.nc', \n",
    "                '/home/bharat/Desktop/poesTest/poes_n15_20150617_proc.nc']\n",
    "inpFil = testFiles[0]\n",
    "poesRawData = netCDF4.Dataset(inpFil)\n",
    "poesRawData2 = netCDF4.Dataset(testFiles[1])\n",
    "# for i in poesRawData.variables.iterkeys():\n",
    "#     print i"
   ]
  },
  {
   "cell_type": "code",
   "execution_count": 43,
   "metadata": {
    "collapsed": false
   },
   "outputs": [],
   "source": [
    "poesDF = pandas.DataFrame( poesRawData.variables['time'][:], columns=[ \"timestamp\" ] )\n",
    "poesDF['date'] = pandas.to_datetime(poesDF['timestamp'], unit='ms')\n",
    "poesDF[\"alt\"] = poesRawData.variables['alt'][:]\n",
    "poesDF[\"aacgm_lat_foot\"] = poesRawData.variables['aacgm_lat_foot'][:]\n",
    "poesDF[\"aacgm_lon_foot\"] = poesRawData.variables['aacgm_lon_foot'][:]\n",
    "poesDF[\"MLT\"] = poesRawData.variables['MLT'][:]\n",
    "# Add up the fluxes\n",
    "poesDF[\"ted_ele_total_flux\"] = poesRawData.variables['ted_ele_tel0_flux_4'][:] +\\\n",
    "        poesRawData.variables['ted_ele_tel0_flux_8'][:] + \\\n",
    "        poesRawData.variables['ted_ele_tel0_flux_11'][:] + \\\n",
    "        poesRawData.variables['ted_ele_tel0_flux_14'][:] + \\\n",
    "        poesRawData.variables['ted_ele_tel30_flux_4'][:] +\\\n",
    "        poesRawData.variables['ted_ele_tel30_flux_8'][:] + \\\n",
    "        poesRawData.variables['ted_ele_tel30_flux_11'][:] + \\\n",
    "        poesRawData.variables['ted_ele_tel30_flux_14'][:]\n",
    "poesDF[\"ted_pro_total_flux\"] = poesRawData.variables['ted_pro_tel0_flux_4'][:] +\\\n",
    "        poesRawData.variables['ted_pro_tel0_flux_8'][:] + \\\n",
    "        poesRawData.variables['ted_pro_tel0_flux_11'][:] + \\\n",
    "        poesRawData.variables['ted_pro_tel0_flux_14'][:] + \\\n",
    "        poesRawData.variables['ted_pro_tel30_flux_4'][:] +\\\n",
    "        poesRawData.variables['ted_pro_tel30_flux_8'][:] + \\\n",
    "        poesRawData.variables['ted_pro_tel30_flux_11'][:] + \\\n",
    "        poesRawData.variables['ted_pro_tel30_flux_14'][:]\n",
    "# filter out unwanted data (0's and -1's in fluxs)\n",
    "poesDF = poesDF[ (poesDF[\"ted_pro_total_flux\"] > 0)\\\n",
    "                | (poesDF[\"ted_ele_total_flux\"] > 0) ].reset_index()\n",
    "poesDF['log_ele_flux'] = [0. if x <= 0. else numpy.log10(x) for x in poesDF['ted_ele_total_flux']]\n",
    "poesDF['log_pro_flux'] = [0. if x <= 0. else numpy.log10(x) for x in poesDF['ted_pro_total_flux']]\n",
    "poesDF[\"sat\"] = \"n18\"\n",
    "# seperate out electron and proton flux and discard all zeros\n",
    "poesEleFluxDF = poesDF[poesDF[\"log_ele_flux\"] > 0.][ [\"timestamp\", \"date\", \"aacgm_lat_foot\",\\\n",
    "                         \"aacgm_lon_foot\", \"MLT\", \"log_ele_flux\", \"sat\"] ].reset_index(drop=True)\n",
    "poesProFluxDF = poesDF[poesDF[\"log_pro_flux\"] > 0.][ [\"timestamp\", \"date\", \"aacgm_lat_foot\",\\\n",
    "                         \"aacgm_lon_foot\", \"MLT\", \"log_pro_flux\", \"sat\"] ].reset_index(drop=True)\n",
    "\n",
    "# poesProFluxDF.head()"
   ]
  },
  {
   "cell_type": "code",
   "execution_count": 44,
   "metadata": {
    "collapsed": true
   },
   "outputs": [],
   "source": [
    "poesDF2 = pandas.DataFrame( poesRawData2.variables['time'][:], columns=[ \"timestamp\" ] )\n",
    "poesDF2['date'] = pandas.to_datetime(poesDF2['timestamp'], unit='ms')\n",
    "poesDF2[\"alt\"] = poesRawData2.variables['alt'][:]\n",
    "poesDF2[\"aacgm_lat_foot\"] = poesRawData2.variables['aacgm_lat_foot'][:]\n",
    "poesDF2[\"aacgm_lon_foot\"] = poesRawData2.variables['aacgm_lon_foot'][:]\n",
    "poesDF2[\"MLT\"] = poesRawData2.variables['MLT'][:]\n",
    "# Add up the fluxes\n",
    "poesDF2[\"ted_ele_total_flux\"] = poesRawData2.variables['ted_ele_tel0_flux_4'][:] +\\\n",
    "        poesRawData2.variables['ted_ele_tel0_flux_8'][:] + \\\n",
    "        poesRawData2.variables['ted_ele_tel0_flux_11'][:] + \\\n",
    "        poesRawData2.variables['ted_ele_tel0_flux_14'][:] + \\\n",
    "        poesRawData2.variables['ted_ele_tel30_flux_4'][:] +\\\n",
    "        poesRawData2.variables['ted_ele_tel30_flux_8'][:] + \\\n",
    "        poesRawData2.variables['ted_ele_tel30_flux_11'][:] + \\\n",
    "        poesRawData2.variables['ted_ele_tel30_flux_14'][:]\n",
    "poesDF2[\"ted_pro_total_flux\"] = poesRawData2.variables['ted_pro_tel0_flux_4'][:] +\\\n",
    "        poesRawData2.variables['ted_pro_tel0_flux_8'][:] + \\\n",
    "        poesRawData2.variables['ted_pro_tel0_flux_11'][:] + \\\n",
    "        poesRawData2.variables['ted_pro_tel0_flux_14'][:] + \\\n",
    "        poesRawData2.variables['ted_pro_tel30_flux_4'][:] +\\\n",
    "        poesRawData2.variables['ted_pro_tel30_flux_8'][:] + \\\n",
    "        poesRawData2.variables['ted_pro_tel30_flux_11'][:] + \\\n",
    "        poesRawData2.variables['ted_pro_tel30_flux_14'][:]\n",
    "# filter out unwanted data (0's and -1's in fluxs)\n",
    "poesDF2 = poesDF2[ (poesDF2[\"ted_pro_total_flux\"] > 0)\\\n",
    "                | (poesDF2[\"ted_ele_total_flux\"] > 0) ].reset_index(drop=True)\n",
    "poesDF2['log_ele_flux'] = [0. if x <= 0. else numpy.log10(x) for x in poesDF2['ted_ele_total_flux']]\n",
    "poesDF2['log_pro_flux'] = [0. if x <= 0. else numpy.log10(x) for x in poesDF2['ted_pro_total_flux']]\n",
    "poesDF2[\"sat\"] = \"m01\"\n",
    "# seperate out electron and proton flux and discard all zeros\n",
    "poesEleFluxDF2 = poesDF2[poesDF2[\"log_ele_flux\"] > 0.][ [\"timestamp\", \"date\", \"aacgm_lat_foot\",\\\n",
    "                         \"aacgm_lon_foot\", \"MLT\", \"log_ele_flux\", \"sat\"] ].reset_index()\n",
    "poesProFluxDF2 = poesDF2[poesDF2[\"log_pro_flux\"] > 0.][ [\"timestamp\", \"date\", \"aacgm_lat_foot\",\\\n",
    "                         \"aacgm_lon_foot\", \"MLT\", \"log_pro_flux\", \"sat\"] ].reset_index(drop=True)\n",
    "\n",
    "# poesProFluxDF2.head()"
   ]
  },
  {
   "cell_type": "code",
   "execution_count": 70,
   "metadata": {
    "collapsed": false
   },
   "outputs": [
    {
     "data": {
      "text/html": [
       "<div>\n",
       "<table border=\"1\" class=\"dataframe\">\n",
       "  <thead>\n",
       "    <tr style=\"text-align: right;\">\n",
       "      <th></th>\n",
       "      <th>timestamp</th>\n",
       "      <th>date</th>\n",
       "      <th>aacgm_lat_foot</th>\n",
       "      <th>aacgm_lon_foot</th>\n",
       "      <th>MLT</th>\n",
       "      <th>log_ele_flux</th>\n",
       "      <th>sat</th>\n",
       "    </tr>\n",
       "  </thead>\n",
       "  <tbody>\n",
       "    <tr>\n",
       "      <th>0</th>\n",
       "      <td>1434499228215</td>\n",
       "      <td>2015-06-17 00:00:28.215</td>\n",
       "      <td>53.950001</td>\n",
       "      <td>309.739990</td>\n",
       "      <td>16.209999</td>\n",
       "      <td>1.370698</td>\n",
       "      <td>n18</td>\n",
       "    </tr>\n",
       "    <tr>\n",
       "      <th>1</th>\n",
       "      <td>1434499278214</td>\n",
       "      <td>2015-06-17 00:01:18.214</td>\n",
       "      <td>56.369999</td>\n",
       "      <td>307.679993</td>\n",
       "      <td>16.080000</td>\n",
       "      <td>1.072618</td>\n",
       "      <td>n18</td>\n",
       "    </tr>\n",
       "    <tr>\n",
       "      <th>2</th>\n",
       "      <td>1434499348214</td>\n",
       "      <td>2015-06-17 00:02:28.214</td>\n",
       "      <td>59.720001</td>\n",
       "      <td>304.369995</td>\n",
       "      <td>15.880000</td>\n",
       "      <td>1.935356</td>\n",
       "      <td>n18</td>\n",
       "    </tr>\n",
       "    <tr>\n",
       "      <th>3</th>\n",
       "      <td>1434499374214</td>\n",
       "      <td>2015-06-17 00:02:54.214</td>\n",
       "      <td>60.939999</td>\n",
       "      <td>303.000000</td>\n",
       "      <td>15.800000</td>\n",
       "      <td>1.072618</td>\n",
       "      <td>n18</td>\n",
       "    </tr>\n",
       "    <tr>\n",
       "      <th>4</th>\n",
       "      <td>1434499422214</td>\n",
       "      <td>2015-06-17 00:03:42.214</td>\n",
       "      <td>63.160000</td>\n",
       "      <td>300.179993</td>\n",
       "      <td>15.630000</td>\n",
       "      <td>2.449787</td>\n",
       "      <td>n18</td>\n",
       "    </tr>\n",
       "  </tbody>\n",
       "</table>\n",
       "</div>"
      ],
      "text/plain": [
       "       timestamp                    date  aacgm_lat_foot  aacgm_lon_foot  \\\n",
       "0  1434499228215 2015-06-17 00:00:28.215       53.950001      309.739990   \n",
       "1  1434499278214 2015-06-17 00:01:18.214       56.369999      307.679993   \n",
       "2  1434499348214 2015-06-17 00:02:28.214       59.720001      304.369995   \n",
       "3  1434499374214 2015-06-17 00:02:54.214       60.939999      303.000000   \n",
       "4  1434499422214 2015-06-17 00:03:42.214       63.160000      300.179993   \n",
       "\n",
       "         MLT  log_ele_flux  sat  \n",
       "0  16.209999      1.370698  n18  \n",
       "1  16.080000      1.072618  n18  \n",
       "2  15.880000      1.935356  n18  \n",
       "3  15.800000      1.072618  n18  \n",
       "4  15.630000      2.449787  n18  "
      ]
     },
     "execution_count": 70,
     "metadata": {},
     "output_type": "execute_result"
    }
   ],
   "source": [
    "poesAllEleData = pandas.DataFrame( columns =  [\"timestamp\", \"date\", \"aacgm_lat_foot\",\\\n",
    "                         \"aacgm_lon_foot\", \"MLT\", \"log_ele_flux\", \"sat\"] )\n",
    "poesAllProData = pandas.DataFrame( columns =  [\"timestamp\", \"date\", \"aacgm_lat_foot\",\\\n",
    "                         \"aacgm_lon_foot\", \"MLT\", \"log_pro_flux\", \"sat\"] )\n",
    "\n",
    "poesAllEleData = poesAllEleData.append( poesEleFluxDF )#pandas.concat( [ poesAllEleData, poesEleFluxDF ] )\n",
    "poesAllEleData = poesAllEleData.append( poesEleFluxDF2 )#pandas.concat( [ poesAllEleData, poesEleFluxDF2 ] )\n",
    "poesEleFluxDF[ poesEleFluxDF[\"sat\"] == \"n18\" ].head()\n",
    "# poesProFluxDF2.head()\n",
    "# poesProFluxAll = pandas.concat( [ poesProFluxDF, poesProFluxDF2 ] )\n",
    "# poesProFluxAll.combine\n",
    "# poesProFluxDF.size"
   ]
  },
  {
   "cell_type": "code",
   "execution_count": 82,
   "metadata": {
    "collapsed": false
   },
   "outputs": [
    {
     "data": {
      "text/plain": [
       "timestamp         float64\n",
       "date               object\n",
       "aacgm_lat_foot    float64\n",
       "aacgm_lon_foot    float64\n",
       "MLT               float64\n",
       "log_ele_flux      float64\n",
       "sat                object\n",
       "dateStr             int64\n",
       "time                int64\n",
       "dtype: object"
      ]
     },
     "execution_count": 82,
     "metadata": {},
     "output_type": "execute_result"
    }
   ],
   "source": [
    "eleInpFile = \"/home/bharat/Desktop/poesTest/eleflux.csv\"\n",
    "proInpFile = \"/home/bharat/Desktop/poesTest/proflux.csv\"\n",
    "eleDF = pandas.read_csv(eleInpFile, sep=' ')\n",
    "proDF = pandas.read_csv(proInpFile, sep=' ')\n",
    "eleDF[\"date\"] = pandas.to_datetime( eleDF[\"date\"] )\n"
   ]
  },
  {
   "cell_type": "code",
   "execution_count": 79,
   "metadata": {
    "collapsed": false
   },
   "outputs": [
    {
     "ename": "TypeError",
     "evalue": "can't compare datetime.datetime to str",
     "output_type": "error",
     "traceback": [
      "\u001b[0;31m---------------------------------------------------------------------------\u001b[0m",
      "\u001b[0;31mTypeError\u001b[0m                                 Traceback (most recent call last)",
      "\u001b[0;32m<ipython-input-79-9de22dedee4a>\u001b[0m in \u001b[0;36m<module>\u001b[0;34m()\u001b[0m\n\u001b[1;32m      2\u001b[0m \u001b[0mselDate\u001b[0m \u001b[0;34m=\u001b[0m \u001b[0mdatetime\u001b[0m\u001b[0;34m.\u001b[0m\u001b[0mdatetime\u001b[0m\u001b[0;34m(\u001b[0m \u001b[0;36m2015\u001b[0m\u001b[0;34m,\u001b[0m\u001b[0;36m6\u001b[0m\u001b[0;34m,\u001b[0m\u001b[0;36m17\u001b[0m\u001b[0;34m,\u001b[0m\u001b[0;36m9\u001b[0m \u001b[0;34m)\u001b[0m\u001b[0;34m\u001b[0m\u001b[0m\n\u001b[1;32m      3\u001b[0m \u001b[0mtimeInterval\u001b[0m \u001b[0;34m=\u001b[0m \u001b[0mdatetime\u001b[0m\u001b[0;34m.\u001b[0m\u001b[0mtimedelta\u001b[0m\u001b[0;34m(\u001b[0m \u001b[0mminutes\u001b[0m\u001b[0;34m=\u001b[0m\u001b[0;36m30\u001b[0m \u001b[0;34m)\u001b[0m\u001b[0;34m\u001b[0m\u001b[0m\n\u001b[0;32m----> 4\u001b[0;31m \u001b[0meleDF\u001b[0m \u001b[0;34m=\u001b[0m \u001b[0meleDF\u001b[0m\u001b[0;34m[\u001b[0m \u001b[0;34m(\u001b[0m\u001b[0meleDF\u001b[0m\u001b[0;34m[\u001b[0m\u001b[0;34m\"date\"\u001b[0m\u001b[0;34m]\u001b[0m \u001b[0;34m>\u001b[0m \u001b[0mselDate\u001b[0m\u001b[0;34m-\u001b[0m\u001b[0mtimeInterval\u001b[0m\u001b[0;34m)\u001b[0m                \u001b[0;34m&\u001b[0m \u001b[0;34m(\u001b[0m\u001b[0meleDF\u001b[0m\u001b[0;34m[\u001b[0m\u001b[0;34m\"date\"\u001b[0m\u001b[0;34m]\u001b[0m \u001b[0;34m<\u001b[0m \u001b[0mselDate\u001b[0m\u001b[0;34m+\u001b[0m\u001b[0mtimeInterval\u001b[0m\u001b[0;34m)\u001b[0m \u001b[0;34m]\u001b[0m\u001b[0;34m\u001b[0m\u001b[0m\n\u001b[0m\u001b[1;32m      5\u001b[0m \u001b[0;31m# poesProFluxDF.plot( x=\"aacgm_lat_foot\", y=\"log_pro_flux\", kind=\"scatter\" )\u001b[0m\u001b[0;34m\u001b[0m\u001b[0;34m\u001b[0m\u001b[0m\n\u001b[1;32m      6\u001b[0m \u001b[0meleDF\u001b[0m\u001b[0;34m.\u001b[0m\u001b[0mhead\u001b[0m\u001b[0;34m(\u001b[0m\u001b[0;34m)\u001b[0m\u001b[0;34m\u001b[0m\u001b[0m\n",
      "\u001b[0;32m/usr/local/lib/python2.7/dist-packages/pandas/core/ops.pyc\u001b[0m in \u001b[0;36mwrapper\u001b[0;34m(self, other, axis)\u001b[0m\n\u001b[1;32m    853\u001b[0m \u001b[0;34m\u001b[0m\u001b[0m\n\u001b[1;32m    854\u001b[0m             \u001b[0;32mwith\u001b[0m \u001b[0mnp\u001b[0m\u001b[0;34m.\u001b[0m\u001b[0merrstate\u001b[0m\u001b[0;34m(\u001b[0m\u001b[0mall\u001b[0m\u001b[0;34m=\u001b[0m\u001b[0;34m'ignore'\u001b[0m\u001b[0;34m)\u001b[0m\u001b[0;34m:\u001b[0m\u001b[0;34m\u001b[0m\u001b[0m\n\u001b[0;32m--> 855\u001b[0;31m                 \u001b[0mres\u001b[0m \u001b[0;34m=\u001b[0m \u001b[0mna_op\u001b[0m\u001b[0;34m(\u001b[0m\u001b[0mvalues\u001b[0m\u001b[0;34m,\u001b[0m \u001b[0mother\u001b[0m\u001b[0;34m)\u001b[0m\u001b[0;34m\u001b[0m\u001b[0m\n\u001b[0m\u001b[1;32m    856\u001b[0m             \u001b[0;32mif\u001b[0m \u001b[0misscalar\u001b[0m\u001b[0;34m(\u001b[0m\u001b[0mres\u001b[0m\u001b[0;34m)\u001b[0m\u001b[0;34m:\u001b[0m\u001b[0;34m\u001b[0m\u001b[0m\n\u001b[1;32m    857\u001b[0m                 raise TypeError('Could not compare %s type with Series' %\n",
      "\u001b[0;32m/usr/local/lib/python2.7/dist-packages/pandas/core/ops.pyc\u001b[0m in \u001b[0;36mna_op\u001b[0;34m(x, y)\u001b[0m\n\u001b[1;32m    757\u001b[0m \u001b[0;34m\u001b[0m\u001b[0m\n\u001b[1;32m    758\u001b[0m         \u001b[0;32mif\u001b[0m \u001b[0mis_object_dtype\u001b[0m\u001b[0;34m(\u001b[0m\u001b[0mx\u001b[0m\u001b[0;34m.\u001b[0m\u001b[0mdtype\u001b[0m\u001b[0;34m)\u001b[0m\u001b[0;34m:\u001b[0m\u001b[0;34m\u001b[0m\u001b[0m\n\u001b[0;32m--> 759\u001b[0;31m             \u001b[0mresult\u001b[0m \u001b[0;34m=\u001b[0m \u001b[0m_comp_method_OBJECT_ARRAY\u001b[0m\u001b[0;34m(\u001b[0m\u001b[0mop\u001b[0m\u001b[0;34m,\u001b[0m \u001b[0mx\u001b[0m\u001b[0;34m,\u001b[0m \u001b[0my\u001b[0m\u001b[0;34m)\u001b[0m\u001b[0;34m\u001b[0m\u001b[0m\n\u001b[0m\u001b[1;32m    760\u001b[0m         \u001b[0;32melse\u001b[0m\u001b[0;34m:\u001b[0m\u001b[0;34m\u001b[0m\u001b[0m\n\u001b[1;32m    761\u001b[0m \u001b[0;34m\u001b[0m\u001b[0m\n",
      "\u001b[0;32m/usr/local/lib/python2.7/dist-packages/pandas/core/ops.pyc\u001b[0m in \u001b[0;36m_comp_method_OBJECT_ARRAY\u001b[0;34m(op, x, y)\u001b[0m\n\u001b[1;32m    737\u001b[0m         \u001b[0mresult\u001b[0m \u001b[0;34m=\u001b[0m \u001b[0mlib\u001b[0m\u001b[0;34m.\u001b[0m\u001b[0mvec_compare\u001b[0m\u001b[0;34m(\u001b[0m\u001b[0mx\u001b[0m\u001b[0;34m,\u001b[0m \u001b[0my\u001b[0m\u001b[0;34m,\u001b[0m \u001b[0mop\u001b[0m\u001b[0;34m)\u001b[0m\u001b[0;34m\u001b[0m\u001b[0m\n\u001b[1;32m    738\u001b[0m     \u001b[0;32melse\u001b[0m\u001b[0;34m:\u001b[0m\u001b[0;34m\u001b[0m\u001b[0m\n\u001b[0;32m--> 739\u001b[0;31m         \u001b[0mresult\u001b[0m \u001b[0;34m=\u001b[0m \u001b[0mlib\u001b[0m\u001b[0;34m.\u001b[0m\u001b[0mscalar_compare\u001b[0m\u001b[0;34m(\u001b[0m\u001b[0mx\u001b[0m\u001b[0;34m,\u001b[0m \u001b[0my\u001b[0m\u001b[0;34m,\u001b[0m \u001b[0mop\u001b[0m\u001b[0;34m)\u001b[0m\u001b[0;34m\u001b[0m\u001b[0m\n\u001b[0m\u001b[1;32m    740\u001b[0m     \u001b[0;32mreturn\u001b[0m \u001b[0mresult\u001b[0m\u001b[0;34m\u001b[0m\u001b[0m\n\u001b[1;32m    741\u001b[0m \u001b[0;34m\u001b[0m\u001b[0m\n",
      "\u001b[0;32mpandas/lib.pyx\u001b[0m in \u001b[0;36mpandas.lib.scalar_compare (pandas/lib.c:14398)\u001b[0;34m()\u001b[0m\n",
      "\u001b[0;31mTypeError\u001b[0m: can't compare datetime.datetime to str"
     ]
    }
   ],
   "source": [
    "# select data for a datetime range\n",
    "selDate = datetime.datetime( 2015,6,17,9 ) \n",
    "timeInterval = datetime.timedelta( minutes=30 )\n",
    "eleDF = eleDF[ (eleDF[\"date\"] > selDate-timeInterval)\\\n",
    "                & (eleDF[\"date\"] < selDate+timeInterval) ]\n",
    "# poesProFluxDF.plot( x=\"aacgm_lat_foot\", y=\"log_pro_flux\", kind=\"scatter\" )\n",
    "eleDF.head()"
   ]
  },
  {
   "cell_type": "code",
   "execution_count": null,
   "metadata": {
    "collapsed": true
   },
   "outputs": [],
   "source": []
  }
 ],
 "metadata": {
  "kernelspec": {
   "display_name": "Python 2",
   "language": "python",
   "name": "python2"
  },
  "language_info": {
   "codemirror_mode": {
    "name": "ipython",
    "version": 2
   },
   "file_extension": ".py",
   "mimetype": "text/x-python",
   "name": "python",
   "nbconvert_exporter": "python",
   "pygments_lexer": "ipython2",
   "version": "2.7.6"
  }
 },
 "nbformat": 4,
 "nbformat_minor": 1
}
