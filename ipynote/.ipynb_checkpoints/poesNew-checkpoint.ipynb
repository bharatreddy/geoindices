{
 "cells": [
  {
   "cell_type": "code",
   "execution_count": 34,
   "metadata": {
    "collapsed": false
   },
   "outputs": [],
   "source": [
    "import netCDF4\n",
    "import pandas\n",
    "import numpy\n",
    "%matplotlib inline"
   ]
  },
  {
   "cell_type": "code",
   "execution_count": 35,
   "metadata": {
    "collapsed": false
   },
   "outputs": [
    {
     "name": "stdout",
     "output_type": "stream",
     "text": [
      "time\n",
      "year\n",
      "day\n",
      "msec\n",
      "satID\n",
      "sat_direction\n",
      "alt\n",
      "lat\n",
      "lon\n",
      "mep_pro_tel0_flux_p1\n",
      "mep_pro_tel0_flux_p2\n",
      "mep_pro_tel0_flux_p3\n",
      "mep_pro_tel0_flux_p4\n",
      "mep_pro_tel0_flux_p5\n",
      "mep_pro_tel0_flux_p6\n",
      "mep_pro_tel0_flux_p1_err\n",
      "mep_pro_tel0_flux_p2_err\n",
      "mep_pro_tel0_flux_p3_err\n",
      "mep_pro_tel0_flux_p4_err\n",
      "mep_pro_tel0_flux_p5_err\n",
      "mep_pro_tel0_flux_p6_err\n",
      "mep_pro_tel90_flux_p1\n",
      "mep_pro_tel90_flux_p2\n",
      "mep_pro_tel90_flux_p3\n",
      "mep_pro_tel90_flux_p4\n",
      "mep_pro_tel90_flux_p5\n",
      "mep_pro_tel90_flux_p6\n",
      "mep_pro_tel90_flux_p1_err\n",
      "mep_pro_tel90_flux_p2_err\n",
      "mep_pro_tel90_flux_p3_err\n",
      "mep_pro_tel90_flux_p4_err\n",
      "mep_pro_tel90_flux_p5_err\n",
      "mep_pro_tel90_flux_p6_err\n",
      "mep_ele_tel0_flux_e1\n",
      "mep_ele_tel0_flux_e2\n",
      "mep_ele_tel0_flux_e3\n",
      "mep_ele_tel0_flux_e4\n",
      "mep_ele_tel0_flux_e1_err\n",
      "mep_ele_tel0_flux_e2_err\n",
      "mep_ele_tel0_flux_e3_err\n",
      "mep_ele_tel0_flux_e4_err\n",
      "mep_ele_tel90_flux_e1\n",
      "mep_ele_tel90_flux_e2\n",
      "mep_ele_tel90_flux_e3\n",
      "mep_ele_tel90_flux_e4\n",
      "mep_ele_tel90_flux_e1_err\n",
      "mep_ele_tel90_flux_e2_err\n",
      "mep_ele_tel90_flux_e3_err\n",
      "mep_ele_tel90_flux_e4_err\n",
      "mep_omni_flux_p1\n",
      "mep_omni_flux_p2\n",
      "mep_omni_flux_p3\n",
      "mep_omni_flux_flag_fit\n",
      "mep_omni_flux_flag_iter_lim\n",
      "mep_omni_gamma_p1\n",
      "mep_omni_gamma_p2\n",
      "mep_omni_gamma_p3\n",
      "ted_ele_tel0_flux_4\n",
      "ted_ele_tel0_flux_8\n",
      "ted_ele_tel0_flux_11\n",
      "ted_ele_tel0_flux_14\n",
      "ted_ele_tel30_flux_4\n",
      "ted_ele_tel30_flux_8\n",
      "ted_ele_tel30_flux_11\n",
      "ted_ele_tel30_flux_14\n",
      "ted_pro_tel0_flux_4\n",
      "ted_pro_tel0_flux_8\n",
      "ted_pro_tel0_flux_11\n",
      "ted_pro_tel0_flux_14\n",
      "ted_pro_tel30_flux_4\n",
      "ted_pro_tel30_flux_8\n",
      "ted_pro_tel30_flux_11\n",
      "ted_pro_tel30_flux_14\n",
      "ted_ele_tel0_low_eflux\n",
      "ted_ele_tel30_low_eflux\n",
      "ted_ele_tel0_hi_eflux\n",
      "ted_ele_tel30_hi_eflux\n",
      "ted_pro_tel0_low_eflux\n",
      "ted_pro_tel30_low_eflux\n",
      "ted_pro_tel0_hi_eflux\n",
      "ted_pro_tel30_hi_eflux\n",
      "ted_ele_tel0_low_eflux_error\n",
      "ted_ele_tel30_low_eflux_error\n",
      "ted_ele_tel0_hi_eflux_error\n",
      "ted_ele_tel30_hi_eflux_error\n",
      "ted_pro_tel0_low_eflux_error\n",
      "ted_pro_tel30_low_eflux_error\n",
      "ted_pro_tel0_hi_eflux_error\n",
      "ted_pro_tel30_hi_eflux_error\n",
      "ted_ele_eflux_atmo_low\n",
      "ted_ele_eflux_atmo_hi\n",
      "ted_ele_eflux_atmo_total\n",
      "ted_ele_eflux_atmo_low_err\n",
      "ted_ele_eflux_atmo_hi_err\n",
      "ted_ele_eflux_atmo_total_err\n",
      "ted_pro_eflux_atmo_low\n",
      "ted_pro_eflux_atmo_hi\n",
      "ted_pro_eflux_atmo_total\n",
      "ted_pro_eflux_atmo_low_err\n",
      "ted_pro_eflux_atmo_hi_err\n",
      "ted_pro_eflux_atmo_total_err\n",
      "ted_total_eflux_atmo\n",
      "ted_total_eflux_atmo_err\n",
      "ted_ele_energy_tel0\n",
      "ted_ele_energy_tel30\n",
      "ted_pro_energy_tel0\n",
      "ted_pro_energy_tel30\n",
      "ted_ele_max_flux_tel0\n",
      "ted_ele_max_flux_tel30\n",
      "ted_pro_max_flux_tel0\n",
      "ted_pro_max_flux_tel30\n",
      "ted_ele_eflux_bg_tel0_low\n",
      "ted_ele_eflux_bg_tel30_low\n",
      "ted_ele_eflux_bg_tel0_hi\n",
      "ted_ele_eflux_bg_tel30_hi\n",
      "ted_pro_eflux_bg_tel0_low\n",
      "ted_pro_eflux_bg_tel30_low\n",
      "ted_pro_eflux_bg_tel0_hi\n",
      "ted_pro_eflux_bg_tel30_hi\n",
      "ted_ele_eflux_bg_tel0_low_cps\n",
      "ted_ele_eflux_bg_tel30_low_cps\n",
      "ted_ele_eflux_bg_tel0_hi_cps\n",
      "ted_ele_eflux_bg_tel30_hi_cps\n",
      "ted_pro_eflux_bg_tel0_low_cps\n",
      "ted_pro_eflux_bg_tel30_low_cps\n",
      "ted_pro_eflux_bg_tel0_hi_cps\n",
      "ted_pro_eflux_bg_tel30_hi_cps\n",
      "Br_sat\n",
      "Bt_sat\n",
      "Bp_sat\n",
      "Btot_sat\n",
      "Br_foot\n",
      "Bt_foot\n",
      "Bp_foot\n",
      "Btot_foot\n",
      "geod_lat_foot\n",
      "geod_lon_foot\n",
      "aacgm_lat_foot\n",
      "aacgm_lon_foot\n",
      "mag_lat_foot\n",
      "mag_lon_foot\n",
      "mag_lat_sat\n",
      "mag_lon_sat\n",
      "Bx_sat\n",
      "By_sat\n",
      "Bz_sat\n",
      "ted_alpha_0_sat\n",
      "ted_alpha_30_sat\n",
      "ted_alpha_0_foot\n",
      "ted_alpha_30_foot\n",
      "meped_alpha_0_sat\n",
      "meped_alpha_90_sat\n",
      "meped_alpha_0_foot\n",
      "meped_alpha_90_foot\n",
      "L_IGRF\n",
      "MLT\n",
      "ted_IFC_on\n",
      "mep_IFC_on\n"
     ]
    }
   ],
   "source": [
    "# read data from the input (POES) file\n",
    "inpFil = \"/Users/bharat/Desktop/poes_n19_20150617_proc.nc\"\n",
    "poesRawData = netCDF4.Dataset(inpFil)\n",
    "for i in poesRawData.variables.iterkeys():\n",
    "    print i"
   ]
  },
  {
   "cell_type": "code",
   "execution_count": 36,
   "metadata": {
    "collapsed": false
   },
   "outputs": [],
   "source": [
    "poesDF = pandas.DataFrame( poesRawData.variables['time'][:], columns=[ \"timestamp\" ] )\n",
    "poesDF['date'] = pandas.to_datetime(poesDF['timestamp'], unit='ms')\n",
    "poesDF[\"alt\"] = poesRawData.variables['alt'][:]\n",
    "poesDF[\"aacgm_lat_foot\"] = poesRawData.variables['aacgm_lat_foot'][:]\n",
    "poesDF[\"aacgm_lon_foot\"] = poesRawData.variables['aacgm_lon_foot'][:]\n",
    "poesDF[\"MLT\"] = poesRawData.variables['MLT'][:]\n",
    "poesDF[\"ted_ele_eflux_atmo_total\"] = poesRawData.variables['ted_ele_eflux_atmo_total'][:]\n",
    "poesDF[\"ted_ele_eflux_atmo_total_err\"] = poesRawData.variables['ted_ele_eflux_atmo_total_err'][:]\n",
    "poesDF[\"ted_pro_eflux_atmo_total\"] = poesRawData.variables['ted_pro_eflux_atmo_total'][:]\n",
    "poesDF[\"ted_pro_eflux_atmo_total_err\"] = poesRawData.variables['ted_pro_eflux_atmo_total_err'][:]\n",
    "# poesDF.head()"
   ]
  },
  {
   "cell_type": "code",
   "execution_count": 37,
   "metadata": {
    "collapsed": false
   },
   "outputs": [
    {
     "data": {
      "text/plain": [
       "<matplotlib.axes._subplots.AxesSubplot at 0x1102dd210>"
      ]
     },
     "execution_count": 37,
     "metadata": {},
     "output_type": "execute_result"
    },
    {
     "data": {
      "image/png": "[encoded data removed]",
      "text/plain": [
       "<matplotlib.figure.Figure at 0x1103f75d0>"
      ]
     },
     "metadata": {},
     "output_type": "display_data"
    }
   ],
   "source": [
    "poesDF.plot(x=\"date\",y=\"ted_pro_eflux_atmo_total\")"
   ]
  },
  {
   "cell_type": "code",
   "execution_count": null,
   "metadata": {
    "collapsed": true
   },
   "outputs": [],
   "source": []
  }
 ],
 "metadata": {
  "kernelspec": {
   "display_name": "Python 2",
   "language": "python",
   "name": "python2"
  },
  "language_info": {
   "codemirror_mode": {
    "name": "ipython",
    "version": 2
   },
   "file_extension": ".py",
   "mimetype": "text/x-python",
   "name": "python",
   "nbconvert_exporter": "python",
   "pygments_lexer": "ipython2",
   "version": "2.7.9"
  }
 },
 "nbformat": 4,
 "nbformat_minor": 1
}
