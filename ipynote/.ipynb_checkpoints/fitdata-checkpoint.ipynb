{
 "cells": [
  {
   "cell_type": "code",
   "execution_count": 1,
   "metadata": {
    "collapsed": false
   },
   "outputs": [],
   "source": [
    "import pandas\n",
    "import datetime\n",
    "import numpy\n",
    "from scipy.optimize import curve_fit\n",
    "import seaborn as sns\n",
    "import matplotlib.pyplot as plt\n",
    "from matplotlib.colors import ListedColormap\n",
    "from matplotlib import ticker\n",
    "%matplotlib inline\n",
    "from matplotlib import rcParams"
   ]
  },
  {
   "cell_type": "code",
   "execution_count": 2,
   "metadata": {
    "collapsed": false
   },
   "outputs": [
    {
     "data": {
      "text/html": [
       "<div>\n",
       "<table border=\"1\" class=\"dataframe\">\n",
       "  <thead>\n",
       "    <tr style=\"text-align: right;\">\n",
       "      <th></th>\n",
       "      <th>dateStr</th>\n",
       "      <th>sapsLat</th>\n",
       "      <th>sapsMLT</th>\n",
       "      <th>sapsVel</th>\n",
       "      <th>dst_index</th>\n",
       "      <th>time</th>\n",
       "      <th>dst_bin</th>\n",
       "    </tr>\n",
       "  </thead>\n",
       "  <tbody>\n",
       "    <tr>\n",
       "      <th>0</th>\n",
       "      <td>20110107</td>\n",
       "      <td>56.5</td>\n",
       "      <td>17.7543</td>\n",
       "      <td>308.2077</td>\n",
       "      <td>-18.0</td>\n",
       "      <td>0</td>\n",
       "      <td>(-25, -10]</td>\n",
       "    </tr>\n",
       "    <tr>\n",
       "      <th>1</th>\n",
       "      <td>20110107</td>\n",
       "      <td>55.5</td>\n",
       "      <td>18.0147</td>\n",
       "      <td>224.1588</td>\n",
       "      <td>-18.0</td>\n",
       "      <td>0</td>\n",
       "      <td>(-25, -10]</td>\n",
       "    </tr>\n",
       "    <tr>\n",
       "      <th>2</th>\n",
       "      <td>20110107</td>\n",
       "      <td>56.5</td>\n",
       "      <td>17.8749</td>\n",
       "      <td>307.4328</td>\n",
       "      <td>-18.0</td>\n",
       "      <td>0</td>\n",
       "      <td>(-25, -10]</td>\n",
       "    </tr>\n",
       "    <tr>\n",
       "      <th>3</th>\n",
       "      <td>20110107</td>\n",
       "      <td>55.5</td>\n",
       "      <td>18.1324</td>\n",
       "      <td>222.4787</td>\n",
       "      <td>-18.0</td>\n",
       "      <td>0</td>\n",
       "      <td>(-25, -10]</td>\n",
       "    </tr>\n",
       "    <tr>\n",
       "      <th>4</th>\n",
       "      <td>20110107</td>\n",
       "      <td>56.5</td>\n",
       "      <td>17.9955</td>\n",
       "      <td>305.4201</td>\n",
       "      <td>-18.0</td>\n",
       "      <td>0</td>\n",
       "      <td>(-25, -10]</td>\n",
       "    </tr>\n",
       "  </tbody>\n",
       "</table>\n",
       "</div>"
      ],
      "text/plain": [
       "    dateStr  sapsLat  sapsMLT   sapsVel  dst_index  time     dst_bin\n",
       "0  20110107     56.5  17.7543  308.2077      -18.0     0  (-25, -10]\n",
       "1  20110107     55.5  18.0147  224.1588      -18.0     0  (-25, -10]\n",
       "2  20110107     56.5  17.8749  307.4328      -18.0     0  (-25, -10]\n",
       "3  20110107     55.5  18.1324  222.4787      -18.0     0  (-25, -10]\n",
       "4  20110107     56.5  17.9955  305.4201      -18.0     0  (-25, -10]"
      ]
     },
     "execution_count": 2,
     "metadata": {},
     "output_type": "execute_result"
    }
   ],
   "source": [
    "datFileName = \"../data/processedSaps.txt\"\n",
    "sapsDataDF = pandas.read_csv(datFileName, sep=' ')\n",
    "# add dst_bins\n",
    "dstBins = [ -150, -75, -50, -25, -10, 10 ]\n",
    "sapsDataDF = pandas.concat( [ sapsDataDF, \\\n",
    "                    pandas.cut( sapsDataDF[\"dst_index\"], \\\n",
    "                               bins=dstBins ) ], axis=1 )\n",
    "sapsDataDF.columns = [ \"dateStr\", \"sapsLat\", \"sapsMLT\", \\\n",
    "                      \"sapsVel\", \"radId\", \"poesLat\", \"poesMLT\", \\\n",
    "                      \"dst_date\", \"dst_index\", \"time\", \"dst_bin\" ]\n",
    "sapsDataDF = sapsDataDF.drop([\"radId\", \"poesLat\", \"poesMLT\", \"dst_date\"], 1)\n",
    "sapsDataDF.head()"
   ]
  },
  {
   "cell_type": "code",
   "execution_count": 3,
   "metadata": {
    "collapsed": false
   },
   "outputs": [
    {
     "data": {
      "text/html": [
       "<div>\n",
       "<table border=\"1\" class=\"dataframe\">\n",
       "  <thead>\n",
       "    <tr style=\"text-align: right;\">\n",
       "      <th></th>\n",
       "      <th>dst_bin</th>\n",
       "      <th>sapsMLT</th>\n",
       "      <th>sapsLat</th>\n",
       "      <th>normMLT</th>\n",
       "      <th>normLAT</th>\n",
       "      <th>dataCount</th>\n",
       "      <th>maxCount</th>\n",
       "      <th>MLT</th>\n",
       "      <th>probOcc</th>\n",
       "    </tr>\n",
       "  </thead>\n",
       "  <tbody>\n",
       "    <tr>\n",
       "      <th>0</th>\n",
       "      <td>(-150, -75]</td>\n",
       "      <td>0.0</td>\n",
       "      <td>51.5</td>\n",
       "      <td>0.0</td>\n",
       "      <td>-6.0</td>\n",
       "      <td>1</td>\n",
       "      <td>333</td>\n",
       "      <td>0</td>\n",
       "      <td>0.003003</td>\n",
       "    </tr>\n",
       "    <tr>\n",
       "      <th>1</th>\n",
       "      <td>(-150, -75]</td>\n",
       "      <td>0.0</td>\n",
       "      <td>52.5</td>\n",
       "      <td>0.0</td>\n",
       "      <td>-5.0</td>\n",
       "      <td>22</td>\n",
       "      <td>333</td>\n",
       "      <td>0</td>\n",
       "      <td>0.066066</td>\n",
       "    </tr>\n",
       "    <tr>\n",
       "      <th>2</th>\n",
       "      <td>(-150, -75]</td>\n",
       "      <td>0.0</td>\n",
       "      <td>53.5</td>\n",
       "      <td>0.0</td>\n",
       "      <td>-4.0</td>\n",
       "      <td>26</td>\n",
       "      <td>333</td>\n",
       "      <td>0</td>\n",
       "      <td>0.078078</td>\n",
       "    </tr>\n",
       "    <tr>\n",
       "      <th>3</th>\n",
       "      <td>(-150, -75]</td>\n",
       "      <td>0.0</td>\n",
       "      <td>54.5</td>\n",
       "      <td>0.0</td>\n",
       "      <td>-3.0</td>\n",
       "      <td>36</td>\n",
       "      <td>333</td>\n",
       "      <td>0</td>\n",
       "      <td>0.108108</td>\n",
       "    </tr>\n",
       "    <tr>\n",
       "      <th>4</th>\n",
       "      <td>(-150, -75]</td>\n",
       "      <td>0.0</td>\n",
       "      <td>55.5</td>\n",
       "      <td>0.0</td>\n",
       "      <td>-2.0</td>\n",
       "      <td>50</td>\n",
       "      <td>333</td>\n",
       "      <td>0</td>\n",
       "      <td>0.150150</td>\n",
       "    </tr>\n",
       "  </tbody>\n",
       "</table>\n",
       "</div>"
      ],
      "text/plain": [
       "       dst_bin  sapsMLT  sapsLat  normMLT  normLAT  dataCount  maxCount MLT  \\\n",
       "0  (-150, -75]      0.0     51.5      0.0     -6.0          1       333   0   \n",
       "1  (-150, -75]      0.0     52.5      0.0     -5.0         22       333   0   \n",
       "2  (-150, -75]      0.0     53.5      0.0     -4.0         26       333   0   \n",
       "3  (-150, -75]      0.0     54.5      0.0     -3.0         36       333   0   \n",
       "4  (-150, -75]      0.0     55.5      0.0     -2.0         50       333   0   \n",
       "\n",
       "    probOcc  \n",
       "0  0.003003  \n",
       "1  0.066066  \n",
       "2  0.078078  \n",
       "3  0.108108  \n",
       "4  0.150150  "
      ]
     },
     "execution_count": 3,
     "metadata": {},
     "output_type": "execute_result"
    }
   ],
   "source": [
    "# calculate prob of occ by dst_bin, MLT, Lat\n",
    "sapsDataDF[\"sapsMLTRounded\"] = sapsDataDF[\"sapsMLT\"].map(lambda x: round(x) )\n",
    "# get a normalized form of MLT where \n",
    "# if MLT > 12: MLT = MLT - 24, else MLT = MLT\n",
    "sapsDataDF['normMLT'] = [x-24 if x >= 12 else x for x in sapsDataDF['sapsMLTRounded']]\n",
    "sapsDataDF['normLAT'] = [x-57.5 for x in sapsDataDF['sapsLat']]\n",
    "# Get max points at a given Lat, MLT, DstBin\n",
    "dstGrps = sapsDataDF.groupby([\"dst_bin\", \"sapsMLTRounded\", \"sapsLat\", \"normMLT\", \"normLAT\"])\n",
    "dstSapsMLTLatCountDF = pandas.DataFrame( dstGrps[\"sapsVel\"].count() ).reset_index()\n",
    "maxCntMLTLatDst = dstSapsMLTLatCountDF.groupby([\"dst_bin\"]).max().reset_index()\n",
    "maxCntMLTLatDst = maxCntMLTLatDst.drop([\"sapsMLTRounded\", \"sapsLat\", \"normMLT\", \"normLAT\"], 1)\n",
    "maxCntMLTLatDst.columns = [\"dst_bin\", \"maxCount\"]\n",
    "dstSapsMLTLatCountDF = pandas.merge( dstSapsMLTLatCountDF, maxCntMLTLatDst, \\\n",
    "                              on=[\"dst_bin\"], how='inner')\n",
    "dstSapsMLTLatCountDF.columns = [\"dst_bin\", \"sapsMLT\", \"sapsLat\", \"normMLT\", \"normLAT\", \"dataCount\", \"maxCount\"]\n",
    "dstSapsMLTLatCountDF[\"MLT\"] = dstSapsMLTLatCountDF[\"sapsMLT\"].map(lambda x: str(int(x)) )\n",
    "dstSapsMLTLatCountDF[\"probOcc\"] = dstSapsMLTLatCountDF[\"dataCount\"]/dstSapsMLTLatCountDF[\"maxCount\"]\n",
    "dstSapsMLTLatCountDF.head()"
   ]
  },
  {
   "cell_type": "code",
   "execution_count": 4,
   "metadata": {
    "collapsed": false
   },
   "outputs": [],
   "source": [
    "# plot the data\n",
    "saps5075 = dstSapsMLTLatCountDF[ \\\n",
    "                    dstSapsMLTLatCountDF[\"dst_bin\"] == \"(-75, -50]\" ]\n",
    "# saps5075 = saps5075[ saps5075[\"probOcc\"] > 0.25 ].reset_index(drop=True)"
   ]
  },
  {
   "cell_type": "code",
   "execution_count": 5,
   "metadata": {
    "collapsed": false
   },
   "outputs": [
    {
     "data": {
      "image/png": "[encoded data removed]",
      "text/plain": [
       "<matplotlib.figure.Figure at 0x7ff6cc12ab90>"
      ]
     },
     "metadata": {},
     "output_type": "display_data"
    }
   ],
   "source": [
    "# Seaborn styling\n",
    "sns.set_style(\"darkgrid\")\n",
    "sns.set_context(\"paper\")\n",
    "seaMap = ListedColormap(sns.color_palette(\"Reds\"))\n",
    "# Plot using matplotlib\n",
    "fig1 = plt.figure()\n",
    "ax = fig1.add_subplot(111)\n",
    "saps5075.plot( kind='scatter',\n",
    "              x='sapsLat',\n",
    "              y='normMLT',\n",
    "              c='probOcc',\n",
    "              s=saps5075[\"probOcc\"]*150, cmap=seaMap, vmin=0, vmax=1, ax=ax)\n",
    "ax.set_ylabel(\"MLT\")\n",
    "ax.set_xlabel(\"Latitude\", fontsize=12)\n",
    "ax.set_title( \"SAPS prob of Occ. (-75 <= Dst < -50)\" )\n",
    "\n",
    "# plt.yticks(saps5075[\"normMLT\"].unique(), saps5075[\"MLT\"].unique())\n",
    "ax.get_figure().savefig(\"../figs/dst5075prob.pdf\",bbox_inches='tight')"
   ]
  },
  {
   "cell_type": "code",
   "execution_count": 6,
   "metadata": {
    "collapsed": false
   },
   "outputs": [],
   "source": [
    "def twoD_Gaussian((x, y), amplitude, xo, yo, sigma_x, sigma_y, theta):\n",
    "    xo = float(xo)\n",
    "    yo = float(yo)    \n",
    "    a = (numpy.cos(theta)**2)/(2*sigma_x**2) + (numpy.sin(theta)**2)/(2*sigma_y**2)\n",
    "    b = -(numpy.sin(2*theta))/(4*sigma_x**2) + (numpy.sin(2*theta))/(4*sigma_y**2)\n",
    "    c = (numpy.sin(theta)**2)/(2*sigma_x**2) + (numpy.cos(theta)**2)/(2*sigma_y**2)\n",
    "    g = amplitude*numpy.exp( - (a*((x-xo)**2) + 2*b*(x-xo)*(y-yo) \n",
    "                            + c*((y-yo)**2)))\n",
    "    return g.ravel()"
   ]
  },
  {
   "cell_type": "code",
   "execution_count": 7,
   "metadata": {
    "collapsed": false
   },
   "outputs": [],
   "source": [
    "# initGuess = (3,1,1,2,4,0,1)\n",
    "# popt, pcov = curve_fit(twoD_Gaussian, (saps5075['normLAT'],saps5075['normMLT']), saps5075['probOcc'],\n",
    "#                        p0=initGuess)\n",
    "# print popt"
   ]
  },
  {
   "cell_type": "code",
   "execution_count": 8,
   "metadata": {
    "collapsed": false
   },
   "outputs": [],
   "source": [
    "def saps_fun(mLatInp, mltInp):\n",
    "    x = mLatInp - 57.5\n",
    "    if mltInp > 12:\n",
    "        y = mltInp - 24\n",
    "    else:\n",
    "        y =mltInp\n",
    "    (amplitude, xo, yo, sigma_x, sigma_y, theta, offset) = \\\n",
    "        ( 1.02287182, 2.19380912, -2.6933215,\\\n",
    "         1.73397812, 2.72381186, -0.9983568, 0.01633968 )\n",
    "    xo = float(xo)\n",
    "    yo = float(yo)    \n",
    "    a = (numpy.cos(theta)**2)/(2*sigma_x**2) + (numpy.sin(theta)**2)/(2*sigma_y**2)\n",
    "    b = -(numpy.sin(2*theta))/(4*sigma_x**2) + (numpy.sin(2*theta))/(4*sigma_y**2)\n",
    "    c = (numpy.sin(theta)**2)/(2*sigma_x**2) + (numpy.cos(theta)**2)/(2*sigma_y**2)\n",
    "    g = offset + amplitude*numpy.exp( - (a*((x-xo)**2) + 2*b*(x-xo)*(y-yo) \n",
    "                            + c*((y-yo)**2)))\n",
    "    return g"
   ]
  },
  {
   "cell_type": "code",
   "execution_count": 9,
   "metadata": {
    "collapsed": false
   },
   "outputs": [
    {
     "name": "stdout",
     "output_type": "stream",
     "text": [
      "0.40932701538\n"
     ]
    }
   ],
   "source": [
    "pSapsScoreMod = saps_fun(57.5,20)\n",
    "print pSapsScoreMod"
   ]
  },
  {
   "cell_type": "code",
   "execution_count": 10,
   "metadata": {
    "collapsed": false
   },
   "outputs": [
    {
     "data": {
      "text/html": [
       "<div>\n",
       "<table border=\"1\" class=\"dataframe\">\n",
       "  <thead>\n",
       "    <tr style=\"text-align: right;\">\n",
       "      <th></th>\n",
       "      <th>normMLT</th>\n",
       "      <th>normLAT</th>\n",
       "      <th>probSAPS</th>\n",
       "      <th>MLT_x</th>\n",
       "      <th>Lat</th>\n",
       "      <th>dst_bin</th>\n",
       "      <th>sapsMLT</th>\n",
       "      <th>sapsLat</th>\n",
       "      <th>dataCount</th>\n",
       "      <th>maxCount</th>\n",
       "      <th>MLT_y</th>\n",
       "      <th>probOcc</th>\n",
       "    </tr>\n",
       "  </thead>\n",
       "  <tbody>\n",
       "    <tr>\n",
       "      <th>0</th>\n",
       "      <td>-12</td>\n",
       "      <td>-7</td>\n",
       "      <td>NaN</td>\n",
       "      <td>NaN</td>\n",
       "      <td>NaN</td>\n",
       "      <td>NaN</td>\n",
       "      <td>NaN</td>\n",
       "      <td>NaN</td>\n",
       "      <td>NaN</td>\n",
       "      <td>NaN</td>\n",
       "      <td>NaN</td>\n",
       "      <td>0.02</td>\n",
       "    </tr>\n",
       "    <tr>\n",
       "      <th>1</th>\n",
       "      <td>-11</td>\n",
       "      <td>-7</td>\n",
       "      <td>NaN</td>\n",
       "      <td>NaN</td>\n",
       "      <td>NaN</td>\n",
       "      <td>NaN</td>\n",
       "      <td>NaN</td>\n",
       "      <td>NaN</td>\n",
       "      <td>NaN</td>\n",
       "      <td>NaN</td>\n",
       "      <td>NaN</td>\n",
       "      <td>0.02</td>\n",
       "    </tr>\n",
       "    <tr>\n",
       "      <th>2</th>\n",
       "      <td>-10</td>\n",
       "      <td>-7</td>\n",
       "      <td>NaN</td>\n",
       "      <td>NaN</td>\n",
       "      <td>NaN</td>\n",
       "      <td>NaN</td>\n",
       "      <td>NaN</td>\n",
       "      <td>NaN</td>\n",
       "      <td>NaN</td>\n",
       "      <td>NaN</td>\n",
       "      <td>NaN</td>\n",
       "      <td>0.02</td>\n",
       "    </tr>\n",
       "    <tr>\n",
       "      <th>3</th>\n",
       "      <td>-9</td>\n",
       "      <td>-7</td>\n",
       "      <td>NaN</td>\n",
       "      <td>NaN</td>\n",
       "      <td>NaN</td>\n",
       "      <td>NaN</td>\n",
       "      <td>NaN</td>\n",
       "      <td>NaN</td>\n",
       "      <td>NaN</td>\n",
       "      <td>NaN</td>\n",
       "      <td>NaN</td>\n",
       "      <td>0.02</td>\n",
       "    </tr>\n",
       "    <tr>\n",
       "      <th>4</th>\n",
       "      <td>-8</td>\n",
       "      <td>-7</td>\n",
       "      <td>NaN</td>\n",
       "      <td>NaN</td>\n",
       "      <td>NaN</td>\n",
       "      <td>NaN</td>\n",
       "      <td>NaN</td>\n",
       "      <td>NaN</td>\n",
       "      <td>NaN</td>\n",
       "      <td>NaN</td>\n",
       "      <td>NaN</td>\n",
       "      <td>0.02</td>\n",
       "    </tr>\n",
       "  </tbody>\n",
       "</table>\n",
       "</div>"
      ],
      "text/plain": [
       "   normMLT  normLAT probSAPS MLT_x  Lat dst_bin  sapsMLT  sapsLat  dataCount  \\\n",
       "0      -12       -7      NaN   NaN  NaN     NaN      NaN      NaN        NaN   \n",
       "1      -11       -7      NaN   NaN  NaN     NaN      NaN      NaN        NaN   \n",
       "2      -10       -7      NaN   NaN  NaN     NaN      NaN      NaN        NaN   \n",
       "3       -9       -7      NaN   NaN  NaN     NaN      NaN      NaN        NaN   \n",
       "4       -8       -7      NaN   NaN  NaN     NaN      NaN      NaN        NaN   \n",
       "\n",
       "   maxCount MLT_y  probOcc  \n",
       "0       NaN   NaN     0.02  \n",
       "1       NaN   NaN     0.02  \n",
       "2       NaN   NaN     0.02  \n",
       "3       NaN   NaN     0.02  \n",
       "4       NaN   NaN     0.02  "
      ]
     },
     "execution_count": 10,
     "metadata": {},
     "output_type": "execute_result"
    }
   ],
   "source": [
    "sapsModelDF = pandas.DataFrame(columns=[\"normMLT\", \"normLAT\", \"probSAPS\", \"MLT\", \"Lat\"])\n",
    "latArr = []\n",
    "mltArr = []\n",
    "for x in range( int(saps5075[\"normLAT\"].min()), int(saps5075[\"normLAT\"].max()) + 1 ):\n",
    "    for y in range( int(saps5075[\"normMLT\"].min()), int(saps5075[\"normMLT\"].max()) + 1 ):\n",
    "        latArr.append(x)\n",
    "        mltArr.append(y)\n",
    "sapsModelDF[\"normMLT\"] = mltArr\n",
    "sapsModelDF[\"normLAT\"] = latArr\n",
    "sapsModelDF = pandas.merge( sapsModelDF, saps5075, on=[\"normMLT\", \"normLAT\"], how=\"outer\" )\n",
    "sapsModelDF[\"probOcc\"] = sapsModelDF[\"probOcc\"].fillna(0.02)\n",
    "# sapsModelDF = sapsModelDF[ [\"normMLT\", \"normLAT\", \"probOcc\"] ]\n",
    "sapsModelDF.head()"
   ]
  },
  {
   "cell_type": "code",
   "execution_count": 11,
   "metadata": {
    "collapsed": false
   },
   "outputs": [
    {
     "name": "stderr",
     "output_type": "stream",
     "text": [
      "/usr/local/lib/python2.7/dist-packages/matplotlib/figure.py:1742: UserWarning: This figure includes Axes that are not compatible with tight_layout, so its results might be incorrect.\n",
      "  warnings.warn(\"This figure includes Axes that are not \"\n"
     ]
    },
    {
     "data": {
      "image/png": "[encoded data removed]",
      "text/plain": [
       "<matplotlib.figure.Figure at 0x7ff6cc12abd0>"
      ]
     },
     "metadata": {},
     "output_type": "display_data"
    }
   ],
   "source": [
    "# Seaborn styling\n",
    "rcParams.update({'figure.autolayout': True, 'font.size':16})\n",
    "sns.set_style(\"darkgrid\")\n",
    "sns.set_context(\"paper\")\n",
    "seaMap = ListedColormap(sns.color_palette(\"Reds\"))\n",
    "# Plot using matplotlib\n",
    "ax = sapsModelDF.plot( kind='scatter',\n",
    "              x='normLAT',\n",
    "              y='normMLT',\n",
    "              c='probOcc',\n",
    "              s=sapsModelDF[\"probOcc\"]*150, cmap=seaMap, vmin=0, vmax=1)\n",
    "ax.set_ylabel(\"MLT\")\n",
    "ax.set_xlabel(\"Latitude\")\n",
    "ax.set_title( \"SAPS prob of Occ. (-75 <= Dst < -50)\" )\n",
    "ax.get_figure().savefig(\"../figs/fulldst5075prob.pdf\",bbox_inches='tight')"
   ]
  },
  {
   "cell_type": "code",
   "execution_count": 12,
   "metadata": {
    "collapsed": false
   },
   "outputs": [
    {
     "ename": "TypeError",
     "evalue": "twoD_Gaussian() takes exactly 7 arguments (8 given)",
     "output_type": "error",
     "traceback": [
      "\u001b[0;31m---------------------------------------------------------------------------\u001b[0m",
      "\u001b[0;31mTypeError\u001b[0m                                 Traceback (most recent call last)",
      "\u001b[0;32m<ipython-input-12-fc328bd72757>\u001b[0m in \u001b[0;36m<module>\u001b[0;34m()\u001b[0m\n\u001b[1;32m      1\u001b[0m \u001b[0minitGuess\u001b[0m \u001b[0;34m=\u001b[0m \u001b[0;34m(\u001b[0m\u001b[0;36m3\u001b[0m\u001b[0;34m,\u001b[0m\u001b[0;36m1\u001b[0m\u001b[0;34m,\u001b[0m\u001b[0;36m1\u001b[0m\u001b[0;34m,\u001b[0m\u001b[0;36m2\u001b[0m\u001b[0;34m,\u001b[0m\u001b[0;36m4\u001b[0m\u001b[0;34m,\u001b[0m\u001b[0;36m0\u001b[0m\u001b[0;34m,\u001b[0m\u001b[0;36m1\u001b[0m\u001b[0;34m)\u001b[0m\u001b[0;31m#(1,1,1,1,1,1)#(3,1,1,2,4,0,1)\u001b[0m\u001b[0;34m\u001b[0m\u001b[0m\n\u001b[1;32m      2\u001b[0m popt2, pcov2 = curve_fit(twoD_Gaussian, (sapsModelDF['normLAT'],sapsModelDF['normMLT']), sapsModelDF['probOcc'],\n\u001b[0;32m----> 3\u001b[0;31m                        p0=initGuess)\n\u001b[0m\u001b[1;32m      4\u001b[0m \u001b[0;31m#amplitude, xo, yo, sigma_x, sigma_y, theta, offset\u001b[0m\u001b[0;34m\u001b[0m\u001b[0;34m\u001b[0m\u001b[0m\n\u001b[1;32m      5\u001b[0m \u001b[0;31m# offset + amplitude*numpy.exp( - (a*((x-xo)**2) + 2*b*(x-xo)*(y-yo)\u001b[0m\u001b[0;34m\u001b[0m\u001b[0;34m\u001b[0m\u001b[0m\n",
      "\u001b[0;32m/usr/local/lib/python2.7/dist-packages/scipy/optimize/minpack.pyc\u001b[0m in \u001b[0;36mcurve_fit\u001b[0;34m(f, xdata, ydata, p0, sigma, absolute_sigma, check_finite, bounds, method, jac, **kwargs)\u001b[0m\n\u001b[1;32m    674\u001b[0m         \u001b[0;31m# Remove full_output from kwargs, otherwise we're passing it in twice.\u001b[0m\u001b[0;34m\u001b[0m\u001b[0;34m\u001b[0m\u001b[0m\n\u001b[1;32m    675\u001b[0m         \u001b[0mreturn_full\u001b[0m \u001b[0;34m=\u001b[0m \u001b[0mkwargs\u001b[0m\u001b[0;34m.\u001b[0m\u001b[0mpop\u001b[0m\u001b[0;34m(\u001b[0m\u001b[0;34m'full_output'\u001b[0m\u001b[0;34m,\u001b[0m \u001b[0mFalse\u001b[0m\u001b[0;34m)\u001b[0m\u001b[0;34m\u001b[0m\u001b[0m\n\u001b[0;32m--> 676\u001b[0;31m         \u001b[0mres\u001b[0m \u001b[0;34m=\u001b[0m \u001b[0mleastsq\u001b[0m\u001b[0;34m(\u001b[0m\u001b[0mfunc\u001b[0m\u001b[0;34m,\u001b[0m \u001b[0mp0\u001b[0m\u001b[0;34m,\u001b[0m \u001b[0mDfun\u001b[0m\u001b[0;34m=\u001b[0m\u001b[0mjac\u001b[0m\u001b[0;34m,\u001b[0m \u001b[0mfull_output\u001b[0m\u001b[0;34m=\u001b[0m\u001b[0;36m1\u001b[0m\u001b[0;34m,\u001b[0m \u001b[0;34m**\u001b[0m\u001b[0mkwargs\u001b[0m\u001b[0;34m)\u001b[0m\u001b[0;34m\u001b[0m\u001b[0m\n\u001b[0m\u001b[1;32m    677\u001b[0m         \u001b[0mpopt\u001b[0m\u001b[0;34m,\u001b[0m \u001b[0mpcov\u001b[0m\u001b[0;34m,\u001b[0m \u001b[0minfodict\u001b[0m\u001b[0;34m,\u001b[0m \u001b[0merrmsg\u001b[0m\u001b[0;34m,\u001b[0m \u001b[0mier\u001b[0m \u001b[0;34m=\u001b[0m \u001b[0mres\u001b[0m\u001b[0;34m\u001b[0m\u001b[0m\n\u001b[1;32m    678\u001b[0m         \u001b[0mcost\u001b[0m \u001b[0;34m=\u001b[0m \u001b[0mnp\u001b[0m\u001b[0;34m.\u001b[0m\u001b[0msum\u001b[0m\u001b[0;34m(\u001b[0m\u001b[0minfodict\u001b[0m\u001b[0;34m[\u001b[0m\u001b[0;34m'fvec'\u001b[0m\u001b[0;34m]\u001b[0m \u001b[0;34m**\u001b[0m \u001b[0;36m2\u001b[0m\u001b[0;34m)\u001b[0m\u001b[0;34m\u001b[0m\u001b[0m\n",
      "\u001b[0;32m/usr/local/lib/python2.7/dist-packages/scipy/optimize/minpack.pyc\u001b[0m in \u001b[0;36mleastsq\u001b[0;34m(func, x0, args, Dfun, full_output, col_deriv, ftol, xtol, gtol, maxfev, epsfcn, factor, diag)\u001b[0m\n\u001b[1;32m    375\u001b[0m     \u001b[0;32mif\u001b[0m \u001b[0;32mnot\u001b[0m \u001b[0misinstance\u001b[0m\u001b[0;34m(\u001b[0m\u001b[0margs\u001b[0m\u001b[0;34m,\u001b[0m \u001b[0mtuple\u001b[0m\u001b[0;34m)\u001b[0m\u001b[0;34m:\u001b[0m\u001b[0;34m\u001b[0m\u001b[0m\n\u001b[1;32m    376\u001b[0m         \u001b[0margs\u001b[0m \u001b[0;34m=\u001b[0m \u001b[0;34m(\u001b[0m\u001b[0margs\u001b[0m\u001b[0;34m,\u001b[0m\u001b[0;34m)\u001b[0m\u001b[0;34m\u001b[0m\u001b[0m\n\u001b[0;32m--> 377\u001b[0;31m     \u001b[0mshape\u001b[0m\u001b[0;34m,\u001b[0m \u001b[0mdtype\u001b[0m \u001b[0;34m=\u001b[0m \u001b[0m_check_func\u001b[0m\u001b[0;34m(\u001b[0m\u001b[0;34m'leastsq'\u001b[0m\u001b[0;34m,\u001b[0m \u001b[0;34m'func'\u001b[0m\u001b[0;34m,\u001b[0m \u001b[0mfunc\u001b[0m\u001b[0;34m,\u001b[0m \u001b[0mx0\u001b[0m\u001b[0;34m,\u001b[0m \u001b[0margs\u001b[0m\u001b[0;34m,\u001b[0m \u001b[0mn\u001b[0m\u001b[0;34m)\u001b[0m\u001b[0;34m\u001b[0m\u001b[0m\n\u001b[0m\u001b[1;32m    378\u001b[0m     \u001b[0mm\u001b[0m \u001b[0;34m=\u001b[0m \u001b[0mshape\u001b[0m\u001b[0;34m[\u001b[0m\u001b[0;36m0\u001b[0m\u001b[0;34m]\u001b[0m\u001b[0;34m\u001b[0m\u001b[0m\n\u001b[1;32m    379\u001b[0m     \u001b[0;32mif\u001b[0m \u001b[0mn\u001b[0m \u001b[0;34m>\u001b[0m \u001b[0mm\u001b[0m\u001b[0;34m:\u001b[0m\u001b[0;34m\u001b[0m\u001b[0m\n",
      "\u001b[0;32m/usr/local/lib/python2.7/dist-packages/scipy/optimize/minpack.pyc\u001b[0m in \u001b[0;36m_check_func\u001b[0;34m(checker, argname, thefunc, x0, args, numinputs, output_shape)\u001b[0m\n\u001b[1;32m     24\u001b[0m def _check_func(checker, argname, thefunc, x0, args, numinputs,\n\u001b[1;32m     25\u001b[0m                 output_shape=None):\n\u001b[0;32m---> 26\u001b[0;31m     \u001b[0mres\u001b[0m \u001b[0;34m=\u001b[0m \u001b[0matleast_1d\u001b[0m\u001b[0;34m(\u001b[0m\u001b[0mthefunc\u001b[0m\u001b[0;34m(\u001b[0m\u001b[0;34m*\u001b[0m\u001b[0;34m(\u001b[0m\u001b[0;34m(\u001b[0m\u001b[0mx0\u001b[0m\u001b[0;34m[\u001b[0m\u001b[0;34m:\u001b[0m\u001b[0mnuminputs\u001b[0m\u001b[0;34m]\u001b[0m\u001b[0;34m,\u001b[0m\u001b[0;34m)\u001b[0m \u001b[0;34m+\u001b[0m \u001b[0margs\u001b[0m\u001b[0;34m)\u001b[0m\u001b[0;34m)\u001b[0m\u001b[0;34m)\u001b[0m\u001b[0;34m\u001b[0m\u001b[0m\n\u001b[0m\u001b[1;32m     27\u001b[0m     \u001b[0;32mif\u001b[0m \u001b[0;34m(\u001b[0m\u001b[0moutput_shape\u001b[0m \u001b[0;32mis\u001b[0m \u001b[0;32mnot\u001b[0m \u001b[0mNone\u001b[0m\u001b[0;34m)\u001b[0m \u001b[0;32mand\u001b[0m \u001b[0;34m(\u001b[0m\u001b[0mshape\u001b[0m\u001b[0;34m(\u001b[0m\u001b[0mres\u001b[0m\u001b[0;34m)\u001b[0m \u001b[0;34m!=\u001b[0m \u001b[0moutput_shape\u001b[0m\u001b[0;34m)\u001b[0m\u001b[0;34m:\u001b[0m\u001b[0;34m\u001b[0m\u001b[0m\n\u001b[1;32m     28\u001b[0m         \u001b[0;32mif\u001b[0m \u001b[0;34m(\u001b[0m\u001b[0moutput_shape\u001b[0m\u001b[0;34m[\u001b[0m\u001b[0;36m0\u001b[0m\u001b[0;34m]\u001b[0m \u001b[0;34m!=\u001b[0m \u001b[0;36m1\u001b[0m\u001b[0;34m)\u001b[0m\u001b[0;34m:\u001b[0m\u001b[0;34m\u001b[0m\u001b[0m\n",
      "\u001b[0;32m/usr/local/lib/python2.7/dist-packages/scipy/optimize/minpack.pyc\u001b[0m in \u001b[0;36mfunc_wrapped\u001b[0;34m(params)\u001b[0m\n\u001b[1;32m    453\u001b[0m     \u001b[0;32mif\u001b[0m \u001b[0mweights\u001b[0m \u001b[0;32mis\u001b[0m \u001b[0mNone\u001b[0m\u001b[0;34m:\u001b[0m\u001b[0;34m\u001b[0m\u001b[0m\n\u001b[1;32m    454\u001b[0m         \u001b[0;32mdef\u001b[0m \u001b[0mfunc_wrapped\u001b[0m\u001b[0;34m(\u001b[0m\u001b[0mparams\u001b[0m\u001b[0;34m)\u001b[0m\u001b[0;34m:\u001b[0m\u001b[0;34m\u001b[0m\u001b[0m\n\u001b[0;32m--> 455\u001b[0;31m             \u001b[0;32mreturn\u001b[0m \u001b[0mfunc\u001b[0m\u001b[0;34m(\u001b[0m\u001b[0mxdata\u001b[0m\u001b[0;34m,\u001b[0m \u001b[0;34m*\u001b[0m\u001b[0mparams\u001b[0m\u001b[0;34m)\u001b[0m \u001b[0;34m-\u001b[0m \u001b[0mydata\u001b[0m\u001b[0;34m\u001b[0m\u001b[0m\n\u001b[0m\u001b[1;32m    456\u001b[0m     \u001b[0;32melse\u001b[0m\u001b[0;34m:\u001b[0m\u001b[0;34m\u001b[0m\u001b[0m\n\u001b[1;32m    457\u001b[0m         \u001b[0;32mdef\u001b[0m \u001b[0mfunc_wrapped\u001b[0m\u001b[0;34m(\u001b[0m\u001b[0mparams\u001b[0m\u001b[0;34m)\u001b[0m\u001b[0;34m:\u001b[0m\u001b[0;34m\u001b[0m\u001b[0m\n",
      "\u001b[0;31mTypeError\u001b[0m: twoD_Gaussian() takes exactly 7 arguments (8 given)"
     ]
    }
   ],
   "source": [
    "initGuess = (3,1,1,2,4,1)#(1,1,1,1,1,1)#(3,1,1,2,4,0,1)\n",
    "popt2, pcov2 = curve_fit(twoD_Gaussian, (sapsModelDF['normLAT'],sapsModelDF['normMLT']), sapsModelDF['probOcc'],\n",
    "                       p0=initGuess)\n",
    "#amplitude, xo, yo, sigma_x, sigma_y, theta, offset\n",
    "# offset + amplitude*numpy.exp( - (a*((x-xo)**2) + 2*b*(x-xo)*(y-yo) \n",
    "#                             + c*((y-yo)**2)))\n",
    "print popt2\n",
    "print pcov2"
   ]
  },
  {
   "cell_type": "code",
   "execution_count": null,
   "metadata": {
    "collapsed": true
   },
   "outputs": [],
   "source": [
    "def saps_pred_func(x, y):    \n",
    "    (amplitude, xo, yo, sigma_x, sigma_y, theta, offset) = \\\n",
    "        ( 0.99277339, 0.56183913, -3.488714,\\\n",
    "         1.49141158, 2.76582389, -1.01041474, 0.02019752 )        \n",
    "    xo = float(xo)\n",
    "    yo = float(yo)    \n",
    "    a = (numpy.cos(theta)**2)/(2*sigma_x**2) + (numpy.sin(theta)**2)/(2*sigma_y**2)\n",
    "    b = -(numpy.sin(2*theta))/(4*sigma_x**2) + (numpy.sin(2*theta))/(4*sigma_y**2)\n",
    "    c = (numpy.sin(theta)**2)/(2*sigma_x**2) + (numpy.cos(theta)**2)/(2*sigma_y**2)\n",
    "    g = offset + amplitude*numpy.exp( - (a*((x-xo)**2) + 2*b*(x-xo)*(y-yo) \n",
    "                            + c*((y-yo)**2)))\n",
    "    return g"
   ]
  },
  {
   "cell_type": "code",
   "execution_count": null,
   "metadata": {
    "collapsed": false
   },
   "outputs": [],
   "source": [
    "sapsPredDF = pandas.DataFrame(columns=[\"normMLT\", \"normLAT\", \"probSAPS\", \"MLT\", \"Lat\"])\n",
    "latArr = []\n",
    "mltArr = []\n",
    "normLatArr = []\n",
    "normMltArr = []\n",
    "probSapsArr = []\n",
    "for x in range( int(saps5075[\"normLAT\"].min()), int(saps5075[\"normLAT\"].max()) + 1 ):\n",
    "    for y in range( int(saps5075[\"normMLT\"].min()), int(saps5075[\"normMLT\"].max()) + 1 ):        \n",
    "        normLatArr.append( x )\n",
    "        normMltArr.append( y )\n",
    "        if y > 0:\n",
    "            mltArr.append( y )\n",
    "        else:\n",
    "            mltArr.append( y + 24 )\n",
    "        latArr.append( x + 57.5 )\n",
    "        probSapsArr.append( saps_pred_func(x,y) )\n",
    "        \n",
    "sapsPredDF[\"MLT\"] = mltArr\n",
    "sapsPredDF[\"Lat\"] = latArr\n",
    "sapsPredDF[\"normMLT\"] = normMltArr\n",
    "sapsPredDF[\"normLAT\"] = normLatArr\n",
    "sapsPredDF[\"probSAPS\"] = probSapsArr"
   ]
  },
  {
   "cell_type": "code",
   "execution_count": null,
   "metadata": {
    "collapsed": false
   },
   "outputs": [],
   "source": [
    "# Seaborn styling\n",
    "\n",
    "sns.set_style(\"darkgrid\")\n",
    "sns.set_context(\"paper\")\n",
    "seaMap = ListedColormap(sns.color_palette(\"Reds\"))\n",
    "# Plot using matplotlib\n",
    "ax = sapsPredDF.plot( kind='scatter',\n",
    "              x='normLAT',\n",
    "              y='normMLT',\n",
    "              c='probSAPS',\n",
    "              s=sapsPredDF[\"probSAPS\"]*150, cmap=seaMap, vmin=0, vmax=1)\n",
    "ax.set_ylabel(\"MLT\")\n",
    "ax.set_xlabel(\"Latitude\")\n",
    "ax.set_title( \"SAPS Pred. prob of Occ. (-75 <= Dst < -50)\" )\n",
    "ax.get_figure().savefig(\"../figs/preddst5075prob.pdf\",bbox_inches='tight')\n"
   ]
  },
  {
   "cell_type": "code",
   "execution_count": null,
   "metadata": {
    "collapsed": false
   },
   "outputs": [],
   "source": [
    "# rename columns for ease of comparison\n",
    "sapsPredDF.columns = [ \"pred_normMLT\", \"pred_normLAT\", \"pred_prob\", \"pred_MLT\", \"pred_Lat\" ]\n",
    "# join the two dataframes and find the difference between pred and actual prob \n",
    "sapsModelDF = pandas.merge( sapsModelDF, sapsPredDF, left_on=[ \"normMLT\", \"normLAT\" ],\\\n",
    "                           right_on=[ \"pred_normMLT\", \"pred_normLAT\" ] )\n",
    "# sapsModelDF = sapsModelDF[\"pred_normMLT\", \"pred_normLAT\", \"pred_prob\", \"probOcc\"]\n",
    "sapsModelDF.drop( [ \"normMLT\", \"normLAT\", \"MLT_x\", \"Lat\", \\\n",
    "                   \"dst_bin\", \"sapsMLT\", \"sapsLat\", \"dataCount\",\\\n",
    "                   \"maxCount\", \"probSAPS\", \"MLT_y\"], axis=1, inplace=True )\n",
    "# get the difference\n",
    "sapsModelDF[\"prob_diff\"] = sapsModelDF[\"pred_prob\"] - sapsModelDF[\"probOcc\"]\n",
    "sapsModelDF[\"stringMLT\"] = sapsModelDF[\"pred_MLT\"].map(lambda x: str(x) )"
   ]
  },
  {
   "cell_type": "code",
   "execution_count": null,
   "metadata": {
    "collapsed": false
   },
   "outputs": [],
   "source": [
    "# Make a comparison plot of the data\n",
    "# the model, actual values and error\n",
    "# Set up the matplotlib figure\n",
    "f = plt.figure(figsize=(12, 8))\n",
    "ax1 = f.add_subplot(3,1,1)\n",
    "ax2 = f.add_subplot(3,1,2)\n",
    "ax3 = f.add_subplot(3,1,3)\n",
    "# plt.tick_params(axis='both', which='major', labelsize=16)\n",
    "# f, (ax1, ax2, ax3) = plt.subplots(3, 1, figsize=(12, 8), sharex=True)\n",
    "\n",
    "# sns.set_style(\"darkgrid\")\n",
    "# sns.set_context(\"paper\")\n",
    "seaMap = ListedColormap(sns.color_palette(\"Reds\"))\n",
    "# Actual prob values\n",
    "sapsModelDF.plot( kind='scatter',\n",
    "              x='pred_normLAT',\n",
    "              y='pred_normMLT',\n",
    "              c='probOcc',\n",
    "              s=sapsModelDF[\"probOcc\"]*150, cmap=seaMap, vmin=0, vmax=1, ax=ax1)\n",
    "ax1.set_ylabel(\"MLT\", fontsize=14)\n",
    "ax1.set_xlabel(\"Latitude\", fontsize=14)\n",
    "ax1.set_title( \"Actual probabilities\", fontsize=14 )\n",
    "# ax1.set_yticks( sapsModelDF[\"pred_normMLT\"][0:-1:3] )\n",
    "ax1.set_yticklabels(sapsModelDF[\"stringMLT\"].unique()[0:-1:3])\n",
    "ax1.set_xticklabels(sapsModelDF[\"pred_Lat\"].unique())\n",
    "ax1.tick_params(axis='both', which='major', labelsize=14)\n",
    "# ax1.yaxis.major.locator.set_params(nbins=10) \n",
    "\n",
    "# Predicted prob values\n",
    "sapsModelDF.plot( kind='scatter',\n",
    "              x='pred_normLAT',\n",
    "              y='pred_normMLT',\n",
    "              c='pred_prob',\n",
    "              s=sapsModelDF[\"pred_prob\"]*150, cmap=seaMap, vmin=0, vmax=1, ax=ax2)\n",
    "ax2.set_ylabel(\"MLT\", fontsize=14)\n",
    "ax2.set_xlabel(\"Latitude\", fontsize=14)\n",
    "ax2.set_title( \"Predited probabilities\", fontsize=14 )\n",
    "# ax2.set_yticks( sapsModelDF[\"pred_normMLT\"] )\n",
    "ax2.set_yticklabels(sapsModelDF[\"stringMLT\"].unique()[0:-1:3])\n",
    "ax2.set_xticklabels(sapsModelDF[\"pred_Lat\"].unique())\n",
    "ax2.tick_params(axis='both', which='major', labelsize=14)\n",
    "# difference between actual and pred values (error)\n",
    "sapsModelDF.plot( kind='scatter',\n",
    "              x='pred_normLAT',\n",
    "              y='pred_normMLT',\n",
    "              c='prob_diff',\n",
    "              s=sapsModelDF[\"prob_diff\"]*150, cmap=seaMap, vmin=-1, vmax=1, ax=ax3)\n",
    "ax3.set_ylabel(\"MLT\", fontsize=14)\n",
    "ax3.set_xlabel(\"Latitude\", fontsize=14)\n",
    "ax3.set_title( \"Error\", fontsize=14 )\n",
    "ax3.set_yticklabels(sapsModelDF[\"stringMLT\"].unique()[0:-1:3])\n",
    "ax3.set_xticklabels(sapsModelDF[\"pred_Lat\"].unique())\n",
    "ax3.tick_params(axis='both', which='major', labelsize=14)\n",
    "plt.savefig(\"../figs/probsModelComp.pdf\",bbox_inches='tight')"
   ]
  },
  {
   "cell_type": "code",
   "execution_count": null,
   "metadata": {
    "collapsed": true
   },
   "outputs": [],
   "source": []
  }
 ],
 "metadata": {
  "kernelspec": {
   "display_name": "Python 2",
   "language": "python",
   "name": "python2"
  },
  "language_info": {
   "codemirror_mode": {
    "name": "ipython",
    "version": 2
   },
   "file_extension": ".py",
   "mimetype": "text/x-python",
   "name": "python",
   "nbconvert_exporter": "python",
   "pygments_lexer": "ipython2",
   "version": "2.7.6"
  }
 },
 "nbformat": 4,
 "nbformat_minor": 0
}
