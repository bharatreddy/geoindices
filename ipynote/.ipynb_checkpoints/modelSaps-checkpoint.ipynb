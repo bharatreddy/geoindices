{
 "cells": [
  {
   "cell_type": "code",
   "execution_count": 1,
   "metadata": {
    "collapsed": true
   },
   "outputs": [],
   "source": [
    "import pandas\n",
    "import datetime\n",
    "import numpy\n",
    "from scipy.optimize import curve_fit\n",
    "import seaborn as sns\n",
    "import matplotlib.pyplot as plt\n",
    "from matplotlib.colors import ListedColormap\n",
    "%matplotlib inline"
   ]
  },
  {
   "cell_type": "code",
   "execution_count": 2,
   "metadata": {
    "collapsed": true
   },
   "outputs": [],
   "source": [
    "def mean_dst_value(row):\n",
    "    if row['dst_bin'] == \"(-10, 10]\" :\n",
    "        return 0.\n",
    "    elif row['dst_bin'] == \"(-25, -10]\" :\n",
    "          return -18.\n",
    "    elif row['dst_bin'] == \"(-50, -25]\" :\n",
    "        return -38.\n",
    "    elif row['dst_bin'] == \"(-75, -50]\" :\n",
    "        return -63.\n",
    "    else:\n",
    "        return -113."
   ]
  },
  {
   "cell_type": "code",
   "execution_count": 3,
   "metadata": {
    "collapsed": false
   },
   "outputs": [
    {
     "data": {
      "text/html": [
       "<div>\n",
       "<table border=\"1\" class=\"dataframe\">\n",
       "  <thead>\n",
       "    <tr style=\"text-align: right;\">\n",
       "      <th></th>\n",
       "      <th>dateStr</th>\n",
       "      <th>sapsLat</th>\n",
       "      <th>sapsMLT</th>\n",
       "      <th>sapsVel</th>\n",
       "      <th>dst_index</th>\n",
       "      <th>time</th>\n",
       "      <th>dst_bin</th>\n",
       "    </tr>\n",
       "  </thead>\n",
       "  <tbody>\n",
       "    <tr>\n",
       "      <th>0</th>\n",
       "      <td>20110107</td>\n",
       "      <td>56.5</td>\n",
       "      <td>17.7543</td>\n",
       "      <td>308.2077</td>\n",
       "      <td>-18.0</td>\n",
       "      <td>0</td>\n",
       "      <td>(-25, -10]</td>\n",
       "    </tr>\n",
       "    <tr>\n",
       "      <th>1</th>\n",
       "      <td>20110107</td>\n",
       "      <td>55.5</td>\n",
       "      <td>18.0147</td>\n",
       "      <td>224.1588</td>\n",
       "      <td>-18.0</td>\n",
       "      <td>0</td>\n",
       "      <td>(-25, -10]</td>\n",
       "    </tr>\n",
       "    <tr>\n",
       "      <th>2</th>\n",
       "      <td>20110107</td>\n",
       "      <td>56.5</td>\n",
       "      <td>17.8749</td>\n",
       "      <td>307.4328</td>\n",
       "      <td>-18.0</td>\n",
       "      <td>0</td>\n",
       "      <td>(-25, -10]</td>\n",
       "    </tr>\n",
       "    <tr>\n",
       "      <th>3</th>\n",
       "      <td>20110107</td>\n",
       "      <td>55.5</td>\n",
       "      <td>18.1324</td>\n",
       "      <td>222.4787</td>\n",
       "      <td>-18.0</td>\n",
       "      <td>0</td>\n",
       "      <td>(-25, -10]</td>\n",
       "    </tr>\n",
       "    <tr>\n",
       "      <th>4</th>\n",
       "      <td>20110107</td>\n",
       "      <td>56.5</td>\n",
       "      <td>17.9955</td>\n",
       "      <td>305.4201</td>\n",
       "      <td>-18.0</td>\n",
       "      <td>0</td>\n",
       "      <td>(-25, -10]</td>\n",
       "    </tr>\n",
       "  </tbody>\n",
       "</table>\n",
       "</div>"
      ],
      "text/plain": [
       "    dateStr  sapsLat  sapsMLT   sapsVel  dst_index  time     dst_bin\n",
       "0  20110107     56.5  17.7543  308.2077      -18.0     0  (-25, -10]\n",
       "1  20110107     55.5  18.0147  224.1588      -18.0     0  (-25, -10]\n",
       "2  20110107     56.5  17.8749  307.4328      -18.0     0  (-25, -10]\n",
       "3  20110107     55.5  18.1324  222.4787      -18.0     0  (-25, -10]\n",
       "4  20110107     56.5  17.9955  305.4201      -18.0     0  (-25, -10]"
      ]
     },
     "execution_count": 3,
     "metadata": {},
     "output_type": "execute_result"
    }
   ],
   "source": [
    "datFileName = \"../data/processedSaps.txt\"\n",
    "sapsDataDF = pandas.read_csv(datFileName, sep=' ')\n",
    "# add dst_bins\n",
    "dstBins = [ -150, -75, -50, -25, -10, 35 ]\n",
    "sapsDataDF = pandas.concat( [ sapsDataDF, \\\n",
    "                    pandas.cut( sapsDataDF[\"dst_index\"], \\\n",
    "                               bins=dstBins ) ], axis=1 )\n",
    "sapsDataDF.columns = [ \"dateStr\", \"sapsLat\", \"sapsMLT\", \\\n",
    "                      \"sapsVel\", \"radId\", \"poesLat\", \"poesMLT\", \\\n",
    "                      \"dst_date\", \"dst_index\", \"time\", \"dst_bin\" ]\n",
    "sapsDataDF = sapsDataDF.drop([\"radId\", \"poesLat\", \"poesMLT\", \"dst_date\"], 1)\n",
    "sapsDataDF.head()"
   ]
  },
  {
   "cell_type": "code",
   "execution_count": 4,
   "metadata": {
    "collapsed": false
   },
   "outputs": [
    {
     "data": {
      "text/html": [
       "<div>\n",
       "<table border=\"1\" class=\"dataframe\">\n",
       "  <thead>\n",
       "    <tr style=\"text-align: right;\">\n",
       "      <th></th>\n",
       "      <th>dst_bin</th>\n",
       "      <th>sapsMLT</th>\n",
       "      <th>sapsLat</th>\n",
       "      <th>normMLT</th>\n",
       "      <th>normLAT</th>\n",
       "      <th>dataCount</th>\n",
       "      <th>maxCount</th>\n",
       "      <th>MLT</th>\n",
       "      <th>probOcc</th>\n",
       "    </tr>\n",
       "  </thead>\n",
       "  <tbody>\n",
       "    <tr>\n",
       "      <th>0</th>\n",
       "      <td>(-150, -75]</td>\n",
       "      <td>0.0</td>\n",
       "      <td>51.5</td>\n",
       "      <td>0.0</td>\n",
       "      <td>-6.0</td>\n",
       "      <td>1</td>\n",
       "      <td>333</td>\n",
       "      <td>0</td>\n",
       "      <td>0.003003</td>\n",
       "    </tr>\n",
       "    <tr>\n",
       "      <th>1</th>\n",
       "      <td>(-150, -75]</td>\n",
       "      <td>0.0</td>\n",
       "      <td>52.5</td>\n",
       "      <td>0.0</td>\n",
       "      <td>-5.0</td>\n",
       "      <td>22</td>\n",
       "      <td>333</td>\n",
       "      <td>0</td>\n",
       "      <td>0.066066</td>\n",
       "    </tr>\n",
       "    <tr>\n",
       "      <th>2</th>\n",
       "      <td>(-150, -75]</td>\n",
       "      <td>0.0</td>\n",
       "      <td>53.5</td>\n",
       "      <td>0.0</td>\n",
       "      <td>-4.0</td>\n",
       "      <td>26</td>\n",
       "      <td>333</td>\n",
       "      <td>0</td>\n",
       "      <td>0.078078</td>\n",
       "    </tr>\n",
       "    <tr>\n",
       "      <th>3</th>\n",
       "      <td>(-150, -75]</td>\n",
       "      <td>0.0</td>\n",
       "      <td>54.5</td>\n",
       "      <td>0.0</td>\n",
       "      <td>-3.0</td>\n",
       "      <td>36</td>\n",
       "      <td>333</td>\n",
       "      <td>0</td>\n",
       "      <td>0.108108</td>\n",
       "    </tr>\n",
       "    <tr>\n",
       "      <th>4</th>\n",
       "      <td>(-150, -75]</td>\n",
       "      <td>0.0</td>\n",
       "      <td>55.5</td>\n",
       "      <td>0.0</td>\n",
       "      <td>-2.0</td>\n",
       "      <td>50</td>\n",
       "      <td>333</td>\n",
       "      <td>0</td>\n",
       "      <td>0.150150</td>\n",
       "    </tr>\n",
       "  </tbody>\n",
       "</table>\n",
       "</div>"
      ],
      "text/plain": [
       "       dst_bin  sapsMLT  sapsLat  normMLT  normLAT  dataCount  maxCount MLT  \\\n",
       "0  (-150, -75]      0.0     51.5      0.0     -6.0          1       333   0   \n",
       "1  (-150, -75]      0.0     52.5      0.0     -5.0         22       333   0   \n",
       "2  (-150, -75]      0.0     53.5      0.0     -4.0         26       333   0   \n",
       "3  (-150, -75]      0.0     54.5      0.0     -3.0         36       333   0   \n",
       "4  (-150, -75]      0.0     55.5      0.0     -2.0         50       333   0   \n",
       "\n",
       "    probOcc  \n",
       "0  0.003003  \n",
       "1  0.066066  \n",
       "2  0.078078  \n",
       "3  0.108108  \n",
       "4  0.150150  "
      ]
     },
     "execution_count": 4,
     "metadata": {},
     "output_type": "execute_result"
    }
   ],
   "source": [
    "# calculate prob of occ by dst_bin, MLT, Lat\n",
    "sapsDataDF[\"sapsMLTRounded\"] = sapsDataDF[\"sapsMLT\"].map(lambda x: round(x) )\n",
    "# get a normalized form of MLT where \n",
    "# if MLT > 12: MLT = MLT - 24, else MLT = MLT\n",
    "sapsDataDF['normMLT'] = [x-24 if x >= 12 else x for x in sapsDataDF['sapsMLTRounded']]\n",
    "sapsDataDF['normLAT'] = [x-57.5 for x in sapsDataDF['sapsLat']]\n",
    "# Get max points at a given Lat, MLT, DstBin\n",
    "dstGrps = sapsDataDF.groupby([\"dst_bin\", \"sapsMLTRounded\", \"sapsLat\", \"normMLT\", \"normLAT\"])\n",
    "dstSapsMLTLatCountDF = pandas.DataFrame( dstGrps[\"sapsVel\"].count() ).reset_index()\n",
    "maxCntMLTLatDst = dstSapsMLTLatCountDF.groupby([\"dst_bin\"]).max().reset_index()\n",
    "maxCntMLTLatDst = maxCntMLTLatDst.drop([\"sapsMLTRounded\", \"sapsLat\", \"normMLT\", \"normLAT\"], 1)\n",
    "maxCntMLTLatDst.columns = [\"dst_bin\", \"maxCount\"]\n",
    "dstSapsMLTLatCountDF = pandas.merge( dstSapsMLTLatCountDF, maxCntMLTLatDst, \\\n",
    "                              on=[\"dst_bin\"], how='inner')\n",
    "dstSapsMLTLatCountDF.columns = [\"dst_bin\", \"sapsMLT\", \"sapsLat\", \"normMLT\", \"normLAT\", \"dataCount\", \"maxCount\"]\n",
    "dstSapsMLTLatCountDF[\"MLT\"] = dstSapsMLTLatCountDF[\"sapsMLT\"].map(lambda x: str(int(x)) )\n",
    "dstSapsMLTLatCountDF[\"probOcc\"] = dstSapsMLTLatCountDF[\"dataCount\"]/dstSapsMLTLatCountDF[\"maxCount\"]\n",
    "\n",
    "dstSapsMLTLatCountDF.head()"
   ]
  },
  {
   "cell_type": "code",
   "execution_count": 13,
   "metadata": {
    "collapsed": false
   },
   "outputs": [
    {
     "data": {
      "text/html": [
       "<div>\n",
       "<table border=\"1\" class=\"dataframe\">\n",
       "  <thead>\n",
       "    <tr style=\"text-align: right;\">\n",
       "      <th></th>\n",
       "      <th>normMLT</th>\n",
       "      <th>normLAT</th>\n",
       "      <th>probSAPS</th>\n",
       "      <th>MLT_x</th>\n",
       "      <th>Lat</th>\n",
       "      <th>dst_bin</th>\n",
       "      <th>sapsMLT</th>\n",
       "      <th>sapsLat</th>\n",
       "      <th>dataCount</th>\n",
       "      <th>maxCount</th>\n",
       "      <th>MLT_y</th>\n",
       "      <th>probOcc</th>\n",
       "      <th>meanDst</th>\n",
       "    </tr>\n",
       "  </thead>\n",
       "  <tbody>\n",
       "    <tr>\n",
       "      <th>74</th>\n",
       "      <td>-4</td>\n",
       "      <td>-4</td>\n",
       "      <td>NaN</td>\n",
       "      <td>NaN</td>\n",
       "      <td>NaN</td>\n",
       "      <td>(-150, -75]</td>\n",
       "      <td>20.0</td>\n",
       "      <td>53.5</td>\n",
       "      <td>181.0</td>\n",
       "      <td>333.0</td>\n",
       "      <td>20</td>\n",
       "      <td>0.543544</td>\n",
       "      <td>-113.0</td>\n",
       "    </tr>\n",
       "    <tr>\n",
       "      <th>75</th>\n",
       "      <td>-3</td>\n",
       "      <td>-4</td>\n",
       "      <td>NaN</td>\n",
       "      <td>NaN</td>\n",
       "      <td>NaN</td>\n",
       "      <td>(-150, -75]</td>\n",
       "      <td>21.0</td>\n",
       "      <td>53.5</td>\n",
       "      <td>178.0</td>\n",
       "      <td>333.0</td>\n",
       "      <td>21</td>\n",
       "      <td>0.534535</td>\n",
       "      <td>-113.0</td>\n",
       "    </tr>\n",
       "    <tr>\n",
       "      <th>95</th>\n",
       "      <td>-5</td>\n",
       "      <td>-3</td>\n",
       "      <td>NaN</td>\n",
       "      <td>NaN</td>\n",
       "      <td>NaN</td>\n",
       "      <td>(-150, -75]</td>\n",
       "      <td>19.0</td>\n",
       "      <td>54.5</td>\n",
       "      <td>182.0</td>\n",
       "      <td>333.0</td>\n",
       "      <td>19</td>\n",
       "      <td>0.546547</td>\n",
       "      <td>-113.0</td>\n",
       "    </tr>\n",
       "    <tr>\n",
       "      <th>96</th>\n",
       "      <td>-4</td>\n",
       "      <td>-3</td>\n",
       "      <td>NaN</td>\n",
       "      <td>NaN</td>\n",
       "      <td>NaN</td>\n",
       "      <td>(-150, -75]</td>\n",
       "      <td>20.0</td>\n",
       "      <td>54.5</td>\n",
       "      <td>328.0</td>\n",
       "      <td>333.0</td>\n",
       "      <td>20</td>\n",
       "      <td>0.984985</td>\n",
       "      <td>-113.0</td>\n",
       "    </tr>\n",
       "    <tr>\n",
       "      <th>97</th>\n",
       "      <td>-3</td>\n",
       "      <td>-3</td>\n",
       "      <td>NaN</td>\n",
       "      <td>NaN</td>\n",
       "      <td>NaN</td>\n",
       "      <td>(-150, -75]</td>\n",
       "      <td>21.0</td>\n",
       "      <td>54.5</td>\n",
       "      <td>268.0</td>\n",
       "      <td>333.0</td>\n",
       "      <td>21</td>\n",
       "      <td>0.804805</td>\n",
       "      <td>-113.0</td>\n",
       "    </tr>\n",
       "  </tbody>\n",
       "</table>\n",
       "</div>"
      ],
      "text/plain": [
       "    normMLT  normLAT probSAPS MLT_x  Lat      dst_bin  sapsMLT  sapsLat  \\\n",
       "74       -4       -4      NaN   NaN  NaN  (-150, -75]     20.0     53.5   \n",
       "75       -3       -4      NaN   NaN  NaN  (-150, -75]     21.0     53.5   \n",
       "95       -5       -3      NaN   NaN  NaN  (-150, -75]     19.0     54.5   \n",
       "96       -4       -3      NaN   NaN  NaN  (-150, -75]     20.0     54.5   \n",
       "97       -3       -3      NaN   NaN  NaN  (-150, -75]     21.0     54.5   \n",
       "\n",
       "    dataCount  maxCount MLT_y   probOcc  meanDst  \n",
       "74      181.0     333.0    20  0.543544   -113.0  \n",
       "75      178.0     333.0    21  0.534535   -113.0  \n",
       "95      182.0     333.0    19  0.546547   -113.0  \n",
       "96      328.0     333.0    20  0.984985   -113.0  \n",
       "97      268.0     333.0    21  0.804805   -113.0  "
      ]
     },
     "execution_count": 13,
     "metadata": {},
     "output_type": "execute_result"
    }
   ],
   "source": [
    "sapsModelDF = pandas.DataFrame(columns=[\"normMLT\", \"normLAT\", \"probSAPS\", \"MLT\", \"Lat\"])\n",
    "latArr = []\n",
    "mltArr = []\n",
    "dstBinArr = []\n",
    "for z in range( len( dstSapsMLTLatCountDF[\"dst_bin\"].unique() ) ):\n",
    "    for x in range( int(dstSapsMLTLatCountDF[\"normLAT\"].min()), int(dstSapsMLTLatCountDF[\"normLAT\"].max()) + 1 ):\n",
    "        for y in range( int(dstSapsMLTLatCountDF[\"normMLT\"].min()), int(dstSapsMLTLatCountDF[\"normMLT\"].max()) + 1 ):\n",
    "            latArr.append(x)\n",
    "            mltArr.append(y)\n",
    "            dstBinArr.append(dstSapsMLTLatCountDF[\"dst_bin\"].unique()[z])\n",
    "sapsModelDF[\"normMLT\"] = mltArr\n",
    "sapsModelDF[\"normLAT\"] = latArr\n",
    "sapsModelDF[\"dst_bin\"] = dstBinArr\n",
    "sapsModelDF = pandas.merge( sapsModelDF, dstSapsMLTLatCountDF, on=[\"normMLT\", \"normLAT\", \"dst_bin\"], how=\"outer\" )\n",
    "sapsModelDF[\"probOcc\"] = sapsModelDF[\"probOcc\"].fillna(0.02)\n",
    "# sapsModelDF = sapsModelDF[ [\"normMLT\", \"normLAT\", \"probOcc\"] ]\n",
    "# Also have a mean value of dst for each bin\n",
    "# this will be useful for modeling purposes\n",
    "sapsModelDF[\"meanDst\"] = sapsModelDF.apply (lambda row: mean_dst_value(row),axis=1)\n",
    "sapsModelDF[ sapsModelDF[\"probOcc\"] > 0.5 ].head()"
   ]
  },
  {
   "cell_type": "code",
   "execution_count": 16,
   "metadata": {
    "collapsed": true
   },
   "outputs": [],
   "source": [
    "def saps_fit_func((x, y, dst), a_sx, b_sx, a_sy, b_sy, a_xo, b_xo, a_yo, b_yo, a_o, b_o, theta):\n",
    "    \n",
    "    sigma_x = a_sx + b_sx * dst\n",
    "    sigma_y = a_sy + b_sy * dst\n",
    "    xo = a_xo + b_xo * dst\n",
    "    yo = a_yo + b_yo * dst\n",
    "    amplitude = a_o + b_o * dst    \n",
    "    \n",
    "    a = (numpy.cos(theta)**2)/(2*sigma_x**2) + (numpy.sin(theta)**2)/(2*sigma_y**2)\n",
    "    b = -(numpy.sin(2*theta))/(4*sigma_x**2) + (numpy.sin(2*theta))/(4*sigma_y**2)\n",
    "    c = (numpy.sin(theta)**2)/(2*sigma_x**2) + (numpy.cos(theta)**2)/(2*sigma_y**2)\n",
    "    g = amplitude*numpy.exp( - (a*((x-xo)**2) + 2*b*(x-xo)*(y-yo) \n",
    "                            + c*((y-yo)**2)))\n",
    "    return g.ravel()"
   ]
  },
  {
   "cell_type": "code",
   "execution_count": 18,
   "metadata": {
    "collapsed": false
   },
   "outputs": [
    {
     "name": "stdout",
     "output_type": "stream",
     "text": [
      "[ 344.49666614  -50.60269452   97.06283467   -1.59909497 -422.38479349\n",
      "   29.13832646 -516.63918436   29.21937622  124.95167746  -82.90382667\n",
      "  111.14484956]\n"
     ]
    },
    {
     "name": "stderr",
     "output_type": "stream",
     "text": [
      "/usr/local/lib/python2.7/dist-packages/scipy/optimize/minpack.py:715: OptimizeWarning: Covariance of the parameters could not be estimated\n",
      "  category=OptimizeWarning)\n"
     ]
    }
   ],
   "source": [
    "initGuess = (3,0.001,2,0.001,4,0.05,-0.5,0.05,1,0.001,1)#(3,0.001,2,0.001,4,0.05,-0.5,0.05,1,0.001,1)\n",
    "popt2, pcov2 = curve_fit(saps_fit_func, (sapsModelDF['normLAT'].T,sapsModelDF['normMLT'].T,sapsModelDF['meanDst'].T), sapsModelDF['probOcc'],\n",
    "                       p0=initGuess)\n",
    "print popt2"
   ]
  },
  {
   "cell_type": "code",
   "execution_count": 8,
   "metadata": {
    "collapsed": false
   },
   "outputs": [],
   "source": [
    "def saps_model(mLatInp, mltInp, dstInp):\n",
    "    x = mLatInp - 57.5\n",
    "    if mltInp > 12:\n",
    "        y = mltInp - 24\n",
    "    else:\n",
    "        y = mltInp\n",
    "    # parameters from fitting\n",
    "    (a_sx, b_sx, a_sy, b_sy, a_xo, b_xo, a_yo, b_yo, a_o, b_o, theta) = \\\n",
    "        ( -13.98, -0.81, 0.82, -0.024, 5.57,  \\\n",
    "           0.057, 7.43, 0.063, 6.42, -0.125, 0.9 )\n",
    "    sigma_x = a_sx + b_sx * dstInp\n",
    "    sigma_y = a_sy + b_sy * dstInp\n",
    "    xo = a_xo + b_xo * dstInp\n",
    "    yo = a_yo + b_yo * dstInp\n",
    "    amplitude = a_o + b_o * dstInp    \n",
    "    \n",
    "    a = (numpy.cos(theta)**2)/(2*sigma_x**2) + (numpy.sin(theta)**2)/(2*sigma_y**2)\n",
    "    b = -(numpy.sin(2*theta))/(4*sigma_x**2) + (numpy.sin(2*theta))/(4*sigma_y**2)\n",
    "    c = (numpy.sin(theta)**2)/(2*sigma_x**2) + (numpy.cos(theta)**2)/(2*sigma_y**2)\n",
    "    outProb = amplitude*numpy.exp( - (a*((x-xo)**2) + 2*b*(x-xo)*(y-yo) \n",
    "                            + c*((y-yo)**2)))\n",
    "    return outProb"
   ]
  },
  {
   "cell_type": "code",
   "execution_count": 11,
   "metadata": {
    "collapsed": false
   },
   "outputs": [
    {
     "name": "stdout",
     "output_type": "stream",
     "text": [
      "0.000213108511681\n"
     ]
    }
   ],
   "source": [
    "# Test the probs\n",
    "pSapsTest = saps_model(55.5, 19, -50.)\n",
    "print pSapsTest"
   ]
  },
  {
   "cell_type": "code",
   "execution_count": 10,
   "metadata": {
    "collapsed": false
   },
   "outputs": [
    {
     "name": "stdout",
     "output_type": "stream",
     "text": [
      "0.72003336\n"
     ]
    }
   ],
   "source": [
    "print 7.20033360e-01"
   ]
  },
  {
   "cell_type": "code",
   "execution_count": null,
   "metadata": {
    "collapsed": true
   },
   "outputs": [],
   "source": []
  }
 ],
 "metadata": {
  "kernelspec": {
   "display_name": "Python 2",
   "language": "python",
   "name": "python2"
  },
  "language_info": {
   "codemirror_mode": {
    "name": "ipython",
    "version": 2
   },
   "file_extension": ".py",
   "mimetype": "text/x-python",
   "name": "python",
   "nbconvert_exporter": "python",
   "pygments_lexer": "ipython2",
   "version": "2.7.6"
  }
 },
 "nbformat": 4,
 "nbformat_minor": 1
}
