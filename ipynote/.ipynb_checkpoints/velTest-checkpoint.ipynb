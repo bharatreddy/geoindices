{
 "cells": [
  {
   "cell_type": "code",
   "execution_count": 1,
   "metadata": {
    "collapsed": true
   },
   "outputs": [],
   "source": [
    "import pandas\n",
    "import datetime\n",
    "import numpy\n",
    "from scipy.optimize import curve_fit\n",
    "import seaborn as sns\n",
    "import matplotlib.pyplot as plt\n",
    "from matplotlib.colors import ListedColormap\n",
    "from matplotlib import ticker\n",
    "%matplotlib inline\n",
    "from matplotlib import rcParams"
   ]
  },
  {
   "cell_type": "code",
   "execution_count": 2,
   "metadata": {
    "collapsed": false
   },
   "outputs": [
    {
     "data": {
      "text/html": [
       "<div>\n",
       "<table border=\"1\" class=\"dataframe\">\n",
       "  <thead>\n",
       "    <tr style=\"text-align: right;\">\n",
       "      <th></th>\n",
       "      <th>dateStr</th>\n",
       "      <th>sapsLat</th>\n",
       "      <th>sapsMLT</th>\n",
       "      <th>sapsVel</th>\n",
       "      <th>radId</th>\n",
       "      <th>dst_date</th>\n",
       "      <th>dst_index</th>\n",
       "      <th>time</th>\n",
       "      <th>dst_bin</th>\n",
       "      <th>sapsMLTRounded</th>\n",
       "    </tr>\n",
       "  </thead>\n",
       "  <tbody>\n",
       "    <tr>\n",
       "      <th>0</th>\n",
       "      <td>20110107</td>\n",
       "      <td>56.5</td>\n",
       "      <td>17.7543</td>\n",
       "      <td>308.2077</td>\n",
       "      <td>33.0</td>\n",
       "      <td>2011-01-07 00:00:00</td>\n",
       "      <td>-18.0</td>\n",
       "      <td>0</td>\n",
       "      <td>(-25, -10]</td>\n",
       "      <td>18.0</td>\n",
       "    </tr>\n",
       "    <tr>\n",
       "      <th>1</th>\n",
       "      <td>20110107</td>\n",
       "      <td>55.5</td>\n",
       "      <td>18.0147</td>\n",
       "      <td>224.1588</td>\n",
       "      <td>33.0</td>\n",
       "      <td>2011-01-07 00:00:00</td>\n",
       "      <td>-18.0</td>\n",
       "      <td>0</td>\n",
       "      <td>(-25, -10]</td>\n",
       "      <td>18.0</td>\n",
       "    </tr>\n",
       "    <tr>\n",
       "      <th>2</th>\n",
       "      <td>20110107</td>\n",
       "      <td>56.5</td>\n",
       "      <td>17.8749</td>\n",
       "      <td>307.4328</td>\n",
       "      <td>33.0</td>\n",
       "      <td>2011-01-07 00:00:00</td>\n",
       "      <td>-18.0</td>\n",
       "      <td>0</td>\n",
       "      <td>(-25, -10]</td>\n",
       "      <td>18.0</td>\n",
       "    </tr>\n",
       "    <tr>\n",
       "      <th>3</th>\n",
       "      <td>20110107</td>\n",
       "      <td>55.5</td>\n",
       "      <td>18.1324</td>\n",
       "      <td>222.4787</td>\n",
       "      <td>33.0</td>\n",
       "      <td>2011-01-07 00:00:00</td>\n",
       "      <td>-18.0</td>\n",
       "      <td>0</td>\n",
       "      <td>(-25, -10]</td>\n",
       "      <td>18.0</td>\n",
       "    </tr>\n",
       "    <tr>\n",
       "      <th>4</th>\n",
       "      <td>20110107</td>\n",
       "      <td>56.5</td>\n",
       "      <td>17.9955</td>\n",
       "      <td>305.4201</td>\n",
       "      <td>33.0</td>\n",
       "      <td>2011-01-07 00:00:00</td>\n",
       "      <td>-18.0</td>\n",
       "      <td>0</td>\n",
       "      <td>(-25, -10]</td>\n",
       "      <td>18.0</td>\n",
       "    </tr>\n",
       "  </tbody>\n",
       "</table>\n",
       "</div>"
      ],
      "text/plain": [
       "    dateStr  sapsLat  sapsMLT   sapsVel  radId             dst_date  \\\n",
       "0  20110107     56.5  17.7543  308.2077   33.0  2011-01-07 00:00:00   \n",
       "1  20110107     55.5  18.0147  224.1588   33.0  2011-01-07 00:00:00   \n",
       "2  20110107     56.5  17.8749  307.4328   33.0  2011-01-07 00:00:00   \n",
       "3  20110107     55.5  18.1324  222.4787   33.0  2011-01-07 00:00:00   \n",
       "4  20110107     56.5  17.9955  305.4201   33.0  2011-01-07 00:00:00   \n",
       "\n",
       "   dst_index  time     dst_bin  sapsMLTRounded  \n",
       "0      -18.0     0  (-25, -10]            18.0  \n",
       "1      -18.0     0  (-25, -10]            18.0  \n",
       "2      -18.0     0  (-25, -10]            18.0  \n",
       "3      -18.0     0  (-25, -10]            18.0  \n",
       "4      -18.0     0  (-25, -10]            18.0  "
      ]
     },
     "execution_count": 2,
     "metadata": {},
     "output_type": "execute_result"
    }
   ],
   "source": [
    "datFileName = \"../data/processedSaps.txt\"\n",
    "sapsDataDF = pandas.read_csv(datFileName, sep=' ')\n",
    "# # add dst_bins\n",
    "dstBins = [ -150, -75, -50, -25, -10, 10 ]\n",
    "sapsDataDF = pandas.concat( [ sapsDataDF, \\\n",
    "                    pandas.cut( sapsDataDF[\"dst_index\"], \\\n",
    "                               bins=dstBins ) ], axis=1 )\n",
    "sapsDataDF.columns = [ \"dateStr\", \"sapsLat\", \"sapsMLT\", \\\n",
    "                      \"sapsVel\", \"radId\", \"poesLat\", \"poesMLT\", \\\n",
    "                      \"dst_date\", \"dst_index\", \"time\", \"dst_bin\" ]\n",
    "sapsDataDF = sapsDataDF.drop([\"poesLat\", \"poesMLT\"], 1)\n",
    "sapsDataDF[\"sapsMLTRounded\"] = sapsDataDF[\"sapsMLT\"].map(lambda x: round(x) )\n",
    "sapsDataDF.head()"
   ]
  },
  {
   "cell_type": "code",
   "execution_count": 19,
   "metadata": {
    "collapsed": false
   },
   "outputs": [],
   "source": [
    "sapsNumRadsSer = sapsDataDF.groupby([\"dateStr\"]).agg( {\"radId\": pandas.Series.nunique} )"
   ]
  },
  {
   "cell_type": "code",
   "execution_count": 68,
   "metadata": {
    "collapsed": false
   },
   "outputs": [
    {
     "data": {
      "text/html": [
       "<div>\n",
       "<table border=\"1\" class=\"dataframe\">\n",
       "  <thead>\n",
       "    <tr style=\"text-align: right;\">\n",
       "      <th></th>\n",
       "      <th>dateStr</th>\n",
       "      <th>time</th>\n",
       "      <th>nRads</th>\n",
       "      <th>nPoints</th>\n",
       "    </tr>\n",
       "  </thead>\n",
       "  <tbody>\n",
       "    <tr>\n",
       "      <th>0</th>\n",
       "      <td>20110205</td>\n",
       "      <td>230</td>\n",
       "      <td>4.0</td>\n",
       "      <td>98</td>\n",
       "    </tr>\n",
       "    <tr>\n",
       "      <th>1</th>\n",
       "      <td>20110205</td>\n",
       "      <td>300</td>\n",
       "      <td>4.0</td>\n",
       "      <td>88</td>\n",
       "    </tr>\n",
       "    <tr>\n",
       "      <th>2</th>\n",
       "      <td>20110205</td>\n",
       "      <td>330</td>\n",
       "      <td>5.0</td>\n",
       "      <td>93</td>\n",
       "    </tr>\n",
       "    <tr>\n",
       "      <th>3</th>\n",
       "      <td>20110302</td>\n",
       "      <td>100</td>\n",
       "      <td>4.0</td>\n",
       "      <td>75</td>\n",
       "    </tr>\n",
       "    <tr>\n",
       "      <th>4</th>\n",
       "      <td>20110302</td>\n",
       "      <td>200</td>\n",
       "      <td>4.0</td>\n",
       "      <td>81</td>\n",
       "    </tr>\n",
       "  </tbody>\n",
       "</table>\n",
       "</div>"
      ],
      "text/plain": [
       "    dateStr  time  nRads  nPoints\n",
       "0  20110205   230    4.0       98\n",
       "1  20110205   300    4.0       88\n",
       "2  20110205   330    5.0       93\n",
       "3  20110302   100    4.0       75\n",
       "4  20110302   200    4.0       81"
      ]
     },
     "execution_count": 68,
     "metadata": {},
     "output_type": "execute_result"
    }
   ],
   "source": [
    "# get times, dates when the number of data points observed\n",
    "# is greater than 50 points at a given time.\n",
    "sapsDateTimeCount = sapsDataDF.groupby([\"dateStr\", \"time\"]).count()\n",
    "sapsDateTimeCount = sapsDateTimeCount[ sapsDateTimeCount[\"sapsLat\"] > 50 ].reset_index()\n",
    "sapsDateTimeCount = sapsDateTimeCount[['dateStr','time', 'sapsLat']]\n",
    "sapsDateTimeCount.columns = [ \"dateStr\", \"time\", \"nPoints\" ]\n",
    "# Now get data points when atleast 4 radars were making observations\n",
    "sapsUniqRadsCnt = sapsDataDF.groupby([\"dateStr\",\"time\"]).agg( {\"radId\": pandas.Series.nunique} )\n",
    "sapsUniqRadsCnt = sapsUniqRadsCnt[ sapsUniqRadsCnt >= 4 ].dropna().reset_index()\n",
    "sapsUniqRadsCnt.columns = [ \"dateStr\", \"time\", \"nRads\" ]\n",
    "# Merge both to get good dates where we can get velocity measurements\n",
    "selVelDatesDF = pandas.merge( sapsUniqRadsCnt, \\\n",
    "                             sapsDateTimeCount, \\\n",
    "                             on=[ \"dateStr\", \"time\" ], how=\"inner\" )\n",
    "selVelDatesDF.head()\n",
    "# save as csv file\n",
    "# selVelDatesDF.to_csv(\"../data/sapsVelDatesTimes.txt\", sep=' ', index=False)"
   ]
  },
  {
   "cell_type": "code",
   "execution_count": null,
   "metadata": {
    "collapsed": false
   },
   "outputs": [],
   "source": [
    "# Merge the selected date time DF with sapsDataDF\n",
    "# to get the radar ids as well\n",
    "selVelDatesDF = pandas.merge( selVelDatesDF, sapsDataDF, on=[\"dateStr\",\"time\"] )\n",
    "selVelDatesDF = selVelDatesDF[ [ 'dateStr','time', 'radId', 'nRads', 'nPoints' ] ]\n",
    "selVelDatesDF.head()"
   ]
  },
  {
   "cell_type": "code",
   "execution_count": null,
   "metadata": {
    "collapsed": true
   },
   "outputs": [],
   "source": []
  }
 ],
 "metadata": {
  "kernelspec": {
   "display_name": "Python 2",
   "language": "python",
   "name": "python2"
  },
  "language_info": {
   "codemirror_mode": {
    "name": "ipython",
    "version": 2
   },
   "file_extension": ".py",
   "mimetype": "text/x-python",
   "name": "python",
   "nbconvert_exporter": "python",
   "pygments_lexer": "ipython2",
   "version": "2.7.6"
  }
 },
 "nbformat": 4,
 "nbformat_minor": 1
}
