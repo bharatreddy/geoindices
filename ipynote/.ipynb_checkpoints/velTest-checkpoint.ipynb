{
 "cells": [
  {
   "cell_type": "code",
   "execution_count": 1,
   "metadata": {
    "collapsed": true
   },
   "outputs": [],
   "source": [
    "import pandas\n",
    "import datetime\n",
    "import numpy\n",
    "from scipy.optimize import curve_fit\n",
    "import seaborn as sns\n",
    "import matplotlib.pyplot as plt\n",
    "from matplotlib.colors import ListedColormap\n",
    "from matplotlib import ticker\n",
    "%matplotlib inline\n",
    "from matplotlib import rcParams"
   ]
  },
  {
   "cell_type": "code",
   "execution_count": 2,
   "metadata": {
    "collapsed": false
   },
   "outputs": [
    {
     "data": {
      "text/html": [
       "<div>\n",
       "<table border=\"1\" class=\"dataframe\">\n",
       "  <thead>\n",
       "    <tr style=\"text-align: right;\">\n",
       "      <th></th>\n",
       "      <th>dateStr</th>\n",
       "      <th>sapsLat</th>\n",
       "      <th>sapsMLT</th>\n",
       "      <th>sapsVel</th>\n",
       "      <th>radId</th>\n",
       "      <th>dst_date</th>\n",
       "      <th>dst_index</th>\n",
       "      <th>time</th>\n",
       "      <th>dst_bin</th>\n",
       "      <th>sapsMLTRounded</th>\n",
       "    </tr>\n",
       "  </thead>\n",
       "  <tbody>\n",
       "    <tr>\n",
       "      <th>0</th>\n",
       "      <td>20110107</td>\n",
       "      <td>56.5</td>\n",
       "      <td>17.7543</td>\n",
       "      <td>308.2077</td>\n",
       "      <td>33.0</td>\n",
       "      <td>2011-01-07 00:00:00</td>\n",
       "      <td>-18.0</td>\n",
       "      <td>0</td>\n",
       "      <td>(-25, -10]</td>\n",
       "      <td>18.0</td>\n",
       "    </tr>\n",
       "    <tr>\n",
       "      <th>1</th>\n",
       "      <td>20110107</td>\n",
       "      <td>55.5</td>\n",
       "      <td>18.0147</td>\n",
       "      <td>224.1588</td>\n",
       "      <td>33.0</td>\n",
       "      <td>2011-01-07 00:00:00</td>\n",
       "      <td>-18.0</td>\n",
       "      <td>0</td>\n",
       "      <td>(-25, -10]</td>\n",
       "      <td>18.0</td>\n",
       "    </tr>\n",
       "    <tr>\n",
       "      <th>2</th>\n",
       "      <td>20110107</td>\n",
       "      <td>56.5</td>\n",
       "      <td>17.8749</td>\n",
       "      <td>307.4328</td>\n",
       "      <td>33.0</td>\n",
       "      <td>2011-01-07 00:00:00</td>\n",
       "      <td>-18.0</td>\n",
       "      <td>0</td>\n",
       "      <td>(-25, -10]</td>\n",
       "      <td>18.0</td>\n",
       "    </tr>\n",
       "    <tr>\n",
       "      <th>3</th>\n",
       "      <td>20110107</td>\n",
       "      <td>55.5</td>\n",
       "      <td>18.1324</td>\n",
       "      <td>222.4787</td>\n",
       "      <td>33.0</td>\n",
       "      <td>2011-01-07 00:00:00</td>\n",
       "      <td>-18.0</td>\n",
       "      <td>0</td>\n",
       "      <td>(-25, -10]</td>\n",
       "      <td>18.0</td>\n",
       "    </tr>\n",
       "    <tr>\n",
       "      <th>4</th>\n",
       "      <td>20110107</td>\n",
       "      <td>56.5</td>\n",
       "      <td>17.9955</td>\n",
       "      <td>305.4201</td>\n",
       "      <td>33.0</td>\n",
       "      <td>2011-01-07 00:00:00</td>\n",
       "      <td>-18.0</td>\n",
       "      <td>0</td>\n",
       "      <td>(-25, -10]</td>\n",
       "      <td>18.0</td>\n",
       "    </tr>\n",
       "  </tbody>\n",
       "</table>\n",
       "</div>"
      ],
      "text/plain": [
       "    dateStr  sapsLat  sapsMLT   sapsVel  radId             dst_date  \\\n",
       "0  20110107     56.5  17.7543  308.2077   33.0  2011-01-07 00:00:00   \n",
       "1  20110107     55.5  18.0147  224.1588   33.0  2011-01-07 00:00:00   \n",
       "2  20110107     56.5  17.8749  307.4328   33.0  2011-01-07 00:00:00   \n",
       "3  20110107     55.5  18.1324  222.4787   33.0  2011-01-07 00:00:00   \n",
       "4  20110107     56.5  17.9955  305.4201   33.0  2011-01-07 00:00:00   \n",
       "\n",
       "   dst_index  time     dst_bin  sapsMLTRounded  \n",
       "0      -18.0     0  (-25, -10]            18.0  \n",
       "1      -18.0     0  (-25, -10]            18.0  \n",
       "2      -18.0     0  (-25, -10]            18.0  \n",
       "3      -18.0     0  (-25, -10]            18.0  \n",
       "4      -18.0     0  (-25, -10]            18.0  "
      ]
     },
     "execution_count": 2,
     "metadata": {},
     "output_type": "execute_result"
    }
   ],
   "source": [
    "datFileName = \"../data/processedSaps.txt\"\n",
    "sapsDataDF = pandas.read_csv(datFileName, sep=' ')\n",
    "# # add dst_bins\n",
    "dstBins = [ -150, -75, -50, -25, -10, 10 ]\n",
    "sapsDataDF = pandas.concat( [ sapsDataDF, \\\n",
    "                    pandas.cut( sapsDataDF[\"dst_index\"], \\\n",
    "                               bins=dstBins ) ], axis=1 )\n",
    "sapsDataDF.columns = [ \"dateStr\", \"sapsLat\", \"sapsMLT\", \\\n",
    "                      \"sapsVel\", \"radId\", \"poesLat\", \"poesMLT\", \\\n",
    "                      \"dst_date\", \"dst_index\", \"time\", \"dst_bin\" ]\n",
    "sapsDataDF = sapsDataDF.drop([\"poesLat\", \"poesMLT\"], 1)\n",
    "sapsDataDF[\"sapsMLTRounded\"] = sapsDataDF[\"sapsMLT\"].map(lambda x: round(x) )\n",
    "sapsDataDF.head()"
   ]
  },
  {
   "cell_type": "code",
   "execution_count": 3,
   "metadata": {
    "collapsed": false
   },
   "outputs": [],
   "source": [
    "sapsNumRadsSer = sapsDataDF.groupby([\"dateStr\"]).agg( {\"radId\": pandas.Series.nunique} )"
   ]
  },
  {
   "cell_type": "code",
   "execution_count": 4,
   "metadata": {
    "collapsed": false
   },
   "outputs": [
    {
     "ename": "KeyError",
     "evalue": "\"['dateStr' 'time'] not in index\"",
     "output_type": "error",
     "traceback": [
      "\u001b[0;31m---------------------------------------------------------------------------\u001b[0m",
      "\u001b[0;31mKeyError\u001b[0m                                  Traceback (most recent call last)",
      "\u001b[0;32m<ipython-input-4-b5a44f920b69>\u001b[0m in \u001b[0;36m<module>\u001b[0;34m()\u001b[0m\n\u001b[1;32m      4\u001b[0m \u001b[0;31m# sapsDateTimeCount = sapsDateTimeCount[ sapsDateTimeCount[\"sapsLat\"] > 50 ].reset_index()\u001b[0m\u001b[0;34m\u001b[0m\u001b[0;34m\u001b[0m\u001b[0m\n\u001b[1;32m      5\u001b[0m \u001b[0msapsDateTimeCount\u001b[0m\u001b[0;34m.\u001b[0m\u001b[0mhead\u001b[0m\u001b[0;34m(\u001b[0m\u001b[0;34m)\u001b[0m\u001b[0;34m\u001b[0m\u001b[0m\n\u001b[0;32m----> 6\u001b[0;31m \u001b[0msapsDateTimeCount\u001b[0m \u001b[0;34m=\u001b[0m \u001b[0msapsDateTimeCount\u001b[0m\u001b[0;34m[\u001b[0m\u001b[0;34m[\u001b[0m\u001b[0;34m'dateStr'\u001b[0m\u001b[0;34m,\u001b[0m\u001b[0;34m'time'\u001b[0m\u001b[0;34m,\u001b[0m \u001b[0;34m'sapsLat'\u001b[0m\u001b[0;34m]\u001b[0m\u001b[0;34m]\u001b[0m\u001b[0;34m\u001b[0m\u001b[0m\n\u001b[0m\u001b[1;32m      7\u001b[0m \u001b[0msapsDateTimeCount\u001b[0m\u001b[0;34m.\u001b[0m\u001b[0mcolumns\u001b[0m \u001b[0;34m=\u001b[0m \u001b[0;34m[\u001b[0m \u001b[0;34m\"dateStr\"\u001b[0m\u001b[0;34m,\u001b[0m \u001b[0;34m\"time\"\u001b[0m\u001b[0;34m,\u001b[0m \u001b[0;34m\"nPoints\"\u001b[0m \u001b[0;34m]\u001b[0m\u001b[0;34m\u001b[0m\u001b[0m\n\u001b[1;32m      8\u001b[0m \u001b[0;31m# Now get data points when atleast 4 radars were making observations\u001b[0m\u001b[0;34m\u001b[0m\u001b[0;34m\u001b[0m\u001b[0m\n",
      "\u001b[0;32m/usr/local/lib/python2.7/dist-packages/pandas/core/frame.pyc\u001b[0m in \u001b[0;36m__getitem__\u001b[0;34m(self, key)\u001b[0m\n\u001b[1;32m   2049\u001b[0m         \u001b[0;32mif\u001b[0m \u001b[0misinstance\u001b[0m\u001b[0;34m(\u001b[0m\u001b[0mkey\u001b[0m\u001b[0;34m,\u001b[0m \u001b[0;34m(\u001b[0m\u001b[0mSeries\u001b[0m\u001b[0;34m,\u001b[0m \u001b[0mnp\u001b[0m\u001b[0;34m.\u001b[0m\u001b[0mndarray\u001b[0m\u001b[0;34m,\u001b[0m \u001b[0mIndex\u001b[0m\u001b[0;34m,\u001b[0m \u001b[0mlist\u001b[0m\u001b[0;34m)\u001b[0m\u001b[0;34m)\u001b[0m\u001b[0;34m:\u001b[0m\u001b[0;34m\u001b[0m\u001b[0m\n\u001b[1;32m   2050\u001b[0m             \u001b[0;31m# either boolean or fancy integer index\u001b[0m\u001b[0;34m\u001b[0m\u001b[0;34m\u001b[0m\u001b[0m\n\u001b[0;32m-> 2051\u001b[0;31m             \u001b[0;32mreturn\u001b[0m \u001b[0mself\u001b[0m\u001b[0;34m.\u001b[0m\u001b[0m_getitem_array\u001b[0m\u001b[0;34m(\u001b[0m\u001b[0mkey\u001b[0m\u001b[0;34m)\u001b[0m\u001b[0;34m\u001b[0m\u001b[0m\n\u001b[0m\u001b[1;32m   2052\u001b[0m         \u001b[0;32melif\u001b[0m \u001b[0misinstance\u001b[0m\u001b[0;34m(\u001b[0m\u001b[0mkey\u001b[0m\u001b[0;34m,\u001b[0m \u001b[0mDataFrame\u001b[0m\u001b[0;34m)\u001b[0m\u001b[0;34m:\u001b[0m\u001b[0;34m\u001b[0m\u001b[0m\n\u001b[1;32m   2053\u001b[0m             \u001b[0;32mreturn\u001b[0m \u001b[0mself\u001b[0m\u001b[0;34m.\u001b[0m\u001b[0m_getitem_frame\u001b[0m\u001b[0;34m(\u001b[0m\u001b[0mkey\u001b[0m\u001b[0;34m)\u001b[0m\u001b[0;34m\u001b[0m\u001b[0m\n",
      "\u001b[0;32m/usr/local/lib/python2.7/dist-packages/pandas/core/frame.pyc\u001b[0m in \u001b[0;36m_getitem_array\u001b[0;34m(self, key)\u001b[0m\n\u001b[1;32m   2093\u001b[0m             \u001b[0;32mreturn\u001b[0m \u001b[0mself\u001b[0m\u001b[0;34m.\u001b[0m\u001b[0mtake\u001b[0m\u001b[0;34m(\u001b[0m\u001b[0mindexer\u001b[0m\u001b[0;34m,\u001b[0m \u001b[0maxis\u001b[0m\u001b[0;34m=\u001b[0m\u001b[0;36m0\u001b[0m\u001b[0;34m,\u001b[0m \u001b[0mconvert\u001b[0m\u001b[0;34m=\u001b[0m\u001b[0mFalse\u001b[0m\u001b[0;34m)\u001b[0m\u001b[0;34m\u001b[0m\u001b[0m\n\u001b[1;32m   2094\u001b[0m         \u001b[0;32melse\u001b[0m\u001b[0;34m:\u001b[0m\u001b[0;34m\u001b[0m\u001b[0m\n\u001b[0;32m-> 2095\u001b[0;31m             \u001b[0mindexer\u001b[0m \u001b[0;34m=\u001b[0m \u001b[0mself\u001b[0m\u001b[0;34m.\u001b[0m\u001b[0mix\u001b[0m\u001b[0;34m.\u001b[0m\u001b[0m_convert_to_indexer\u001b[0m\u001b[0;34m(\u001b[0m\u001b[0mkey\u001b[0m\u001b[0;34m,\u001b[0m \u001b[0maxis\u001b[0m\u001b[0;34m=\u001b[0m\u001b[0;36m1\u001b[0m\u001b[0;34m)\u001b[0m\u001b[0;34m\u001b[0m\u001b[0m\n\u001b[0m\u001b[1;32m   2096\u001b[0m             \u001b[0;32mreturn\u001b[0m \u001b[0mself\u001b[0m\u001b[0;34m.\u001b[0m\u001b[0mtake\u001b[0m\u001b[0;34m(\u001b[0m\u001b[0mindexer\u001b[0m\u001b[0;34m,\u001b[0m \u001b[0maxis\u001b[0m\u001b[0;34m=\u001b[0m\u001b[0;36m1\u001b[0m\u001b[0;34m,\u001b[0m \u001b[0mconvert\u001b[0m\u001b[0;34m=\u001b[0m\u001b[0mTrue\u001b[0m\u001b[0;34m)\u001b[0m\u001b[0;34m\u001b[0m\u001b[0m\n\u001b[1;32m   2097\u001b[0m \u001b[0;34m\u001b[0m\u001b[0m\n",
      "\u001b[0;32m/usr/local/lib/python2.7/dist-packages/pandas/core/indexing.pyc\u001b[0m in \u001b[0;36m_convert_to_indexer\u001b[0;34m(self, obj, axis, is_setter)\u001b[0m\n\u001b[1;32m   1227\u001b[0m                 \u001b[0mmask\u001b[0m \u001b[0;34m=\u001b[0m \u001b[0mcheck\u001b[0m \u001b[0;34m==\u001b[0m \u001b[0;34m-\u001b[0m\u001b[0;36m1\u001b[0m\u001b[0;34m\u001b[0m\u001b[0m\n\u001b[1;32m   1228\u001b[0m                 \u001b[0;32mif\u001b[0m \u001b[0mmask\u001b[0m\u001b[0;34m.\u001b[0m\u001b[0many\u001b[0m\u001b[0;34m(\u001b[0m\u001b[0;34m)\u001b[0m\u001b[0;34m:\u001b[0m\u001b[0;34m\u001b[0m\u001b[0m\n\u001b[0;32m-> 1229\u001b[0;31m                     \u001b[0;32mraise\u001b[0m \u001b[0mKeyError\u001b[0m\u001b[0;34m(\u001b[0m\u001b[0;34m'%s not in index'\u001b[0m \u001b[0;34m%\u001b[0m \u001b[0mobjarr\u001b[0m\u001b[0;34m[\u001b[0m\u001b[0mmask\u001b[0m\u001b[0;34m]\u001b[0m\u001b[0;34m)\u001b[0m\u001b[0;34m\u001b[0m\u001b[0m\n\u001b[0m\u001b[1;32m   1230\u001b[0m \u001b[0;34m\u001b[0m\u001b[0m\n\u001b[1;32m   1231\u001b[0m                 \u001b[0;32mreturn\u001b[0m \u001b[0m_values_from_object\u001b[0m\u001b[0;34m(\u001b[0m\u001b[0mindexer\u001b[0m\u001b[0;34m)\u001b[0m\u001b[0;34m\u001b[0m\u001b[0m\n",
      "\u001b[0;31mKeyError\u001b[0m: \"['dateStr' 'time'] not in index\""
     ]
    }
   ],
   "source": [
    "# get times, dates when the number of data points observed\n",
    "# is greater than 50 points at a given time.\n",
    "sapsDateTimeCount = sapsDataDF.groupby([\"dateStr\", \"time\"]).count()\n",
    "sapsDateTimeCount = sapsDateTimeCount[ sapsDateTimeCount[\"sapsLat\"] > 50 ].reset_index()\n",
    "sapsDateTimeCount = sapsDateTimeCount[['dateStr','time', 'sapsLat']]\n",
    "sapsDateTimeCount.columns = [ \"dateStr\", \"time\", \"nPoints\" ]\n",
    "# Now get data points when atleast 4 radars were making observations\n",
    "sapsUniqRadsCnt = sapsDataDF.groupby([\"dateStr\",\"time\"]).agg( {\"radId\": pandas.Series.nunique} )\n",
    "sapsUniqRadsCnt = sapsUniqRadsCnt[ sapsUniqRadsCnt >= 4 ].dropna().reset_index()\n",
    "sapsUniqRadsCnt.columns = [ \"dateStr\", \"time\", \"nRads\" ]\n",
    "# Merge both to get good dates where we can get velocity measurements\n",
    "selVelDatesDF = pandas.merge( sapsUniqRadsCnt, \\\n",
    "                             sapsDateTimeCount, \\\n",
    "                             on=[ \"dateStr\", \"time\" ], how=\"inner\" )\n",
    "# selVelDatesDF.head()\n",
    "# save as csv file\n",
    "# selVelDatesDF.to_csv(\"../data/sapsVelDatesTimes.txt\", sep=' ', index=False)"
   ]
  },
  {
   "cell_type": "code",
   "execution_count": null,
   "metadata": {
    "collapsed": false
   },
   "outputs": [],
   "source": [
    "# Merge the selected date time DF with sapsDataDF\n",
    "# to get the radar ids as well\n",
    "selVelDatesDF = pandas.merge( selVelDatesDF, sapsDataDF, on=[\"dateStr\",\"time\"] )\n",
    "selVelDatesDF = selVelDatesDF[ [ 'dateStr','time', 'radId' ] ]\n",
    "selVelDatesDF = selVelDatesDF.drop_duplicates()\n",
    "# selVelDatesDF.to_csv(\"../data/XuelingSaps.txt\", sep=' ', index=False)\n",
    "selVelDatesGrps = selVelDatesDF.groupby( [\"dateStr\", \"radId\"] )"
   ]
  },
  {
   "cell_type": "code",
   "execution_count": null,
   "metadata": {
    "collapsed": false
   },
   "outputs": [],
   "source": [
    "selVelDatesDF[ selVelDatesDF[\"dateStr\"] == 20110310 ]"
   ]
  },
  {
   "cell_type": "code",
   "execution_count": null,
   "metadata": {
    "collapsed": true
   },
   "outputs": [],
   "source": []
  }
 ],
 "metadata": {
  "kernelspec": {
   "display_name": "Python 2",
   "language": "python",
   "name": "python2"
  },
  "language_info": {
   "codemirror_mode": {
    "name": "ipython",
    "version": 2
   },
   "file_extension": ".py",
   "mimetype": "text/x-python",
   "name": "python",
   "nbconvert_exporter": "python",
   "pygments_lexer": "ipython2",
   "version": "2.7.6"
  }
 },
 "nbformat": 4,
 "nbformat_minor": 1
}
