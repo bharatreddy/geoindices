{
 "cells": [
  {
   "cell_type": "code",
   "execution_count": 1,
   "metadata": {
    "collapsed": true
   },
   "outputs": [],
   "source": [
    "import pandas"
   ]
  },
  {
   "cell_type": "code",
   "execution_count": 1,
   "metadata": {
    "collapsed": false
   },
   "outputs": [
    {
     "ename": "NameError",
     "evalue": "name 'pandas' is not defined",
     "output_type": "error",
     "traceback": [
      "\u001b[0;31m---------------------------------------------------------------------------\u001b[0m",
      "\u001b[0;31mNameError\u001b[0m                                 Traceback (most recent call last)",
      "\u001b[0;32m<ipython-input-1-e635086a04fe>\u001b[0m in \u001b[0;36m<module>\u001b[0;34m()\u001b[0m\n\u001b[1;32m     11\u001b[0m \u001b[0;34m\u001b[0m\u001b[0m\n\u001b[1;32m     12\u001b[0m \u001b[0minpFile\u001b[0m \u001b[0;34m=\u001b[0m \u001b[0;34m\"../data/XuelingSaps.txt\"\u001b[0m\u001b[0;34m\u001b[0m\u001b[0m\n\u001b[0;32m---> 13\u001b[0;31m \u001b[0mdataDF\u001b[0m \u001b[0;34m=\u001b[0m \u001b[0mpandas\u001b[0m\u001b[0;34m.\u001b[0m\u001b[0mread_csv\u001b[0m\u001b[0;34m(\u001b[0m\u001b[0minpFile\u001b[0m\u001b[0;34m,\u001b[0m \u001b[0msep\u001b[0m\u001b[0;34m=\u001b[0m\u001b[0;34m' '\u001b[0m\u001b[0;34m)\u001b[0m\u001b[0;34m\u001b[0m\u001b[0m\n\u001b[0m\u001b[1;32m     14\u001b[0m \u001b[0mdataDF\u001b[0m\u001b[0;34m[\u001b[0m\u001b[0;34m\"radId\"\u001b[0m\u001b[0;34m]\u001b[0m \u001b[0;34m=\u001b[0m \u001b[0mdataDF\u001b[0m\u001b[0;34m[\u001b[0m\u001b[0;34m\"radId\"\u001b[0m\u001b[0;34m]\u001b[0m\u001b[0;34m.\u001b[0m\u001b[0mastype\u001b[0m\u001b[0;34m(\u001b[0m\u001b[0;34m'category'\u001b[0m\u001b[0;34m)\u001b[0m\u001b[0;34m\u001b[0m\u001b[0m\n\u001b[1;32m     15\u001b[0m \u001b[0;31m# Order of radar arrays is given below\u001b[0m\u001b[0;34m\u001b[0m\u001b[0;34m\u001b[0m\u001b[0m\n",
      "\u001b[0;31mNameError\u001b[0m: name 'pandas' is not defined"
     ]
    }
   ],
   "source": [
    "def convert_to_datetime(row):\n",
    "    if row[\"time\"] < 10:\n",
    "        currTimeStr = \"000\" + str( int( row[\"time\"] ) )\n",
    "    elif row[\"time\"] < 100:\n",
    "        currTimeStr = \"00\" + str( int( row[\"time\"] ) )\n",
    "    elif row[\"time\"] < 1000:\n",
    "        currTimeStr = \"0\" + str( int( row[\"time\"] ) )\n",
    "    else:\n",
    "        currTimeStr = str( int( row[\"time\"] ) )\n",
    "    return currTimeStr\n",
    "\n",
    "inpFile = \"../data/XuelingSaps.txt\"\n",
    "dataDF = pandas.read_csv(inpFile, sep=' ')\n",
    "dataDF[\"radId\"] = dataDF[\"radId\"].astype('category')\n",
    "# Order of radar arrays is given below\n",
    "#[32.0, 33.0, 204.0, 205.0, 206.0, 207.0, 208.0, 209.0]\n",
    "radNameArr = [ \"wal\", \"bks\", \"fhw\", \"fhe\", \"cvw\", \"cve\", \"adw\", \"ade\" ]\n",
    "dataDF[\"catIndex\"] = dataDF[[ \"radId\" ]].apply(lambda x: x.cat.codes )\n",
    "dataDF[\"radNames\"] = dataDF[\"catIndex\"].map(lambda x: radNameArr[x] )\n",
    "dataDF[\"timeStr\"] = dataDF.apply( convert_to_datetime, axis=1 )\n",
    "dataDF = dataDF.drop([\"catIndex\", \"time\"], 1)\n",
    "# Save to a new model file\n",
    "dataDF.to_csv(\"../data/XuelingSaps-new.txt\", sep=' ', index=False)\n",
    "dataDF.head()\n",
    "\n",
    "\n",
    "#### MAY ALSO WANT TO CHECK OUT REPLACE !!!\n",
    "#### MAY ALSO WANT TO CHECK OUT REPLACE !!!\n",
    "#### MAY ALSO WANT TO CHECK OUT REPLACE !!!"
   ]
  },
  {
   "cell_type": "code",
   "execution_count": null,
   "metadata": {
    "collapsed": true
   },
   "outputs": [],
   "source": []
  }
 ],
 "metadata": {
  "kernelspec": {
   "display_name": "Python 2",
   "language": "python",
   "name": "python2"
  },
  "language_info": {
   "codemirror_mode": {
    "name": "ipython",
    "version": 2
   },
   "file_extension": ".py",
   "mimetype": "text/x-python",
   "name": "python",
   "nbconvert_exporter": "python",
   "pygments_lexer": "ipython2",
   "version": "2.7.6"
  }
 },
 "nbformat": 4,
 "nbformat_minor": 1
}
