{
 "cells": [
  {
   "cell_type": "code",
   "execution_count": 1,
   "metadata": {
    "collapsed": true
   },
   "outputs": [],
   "source": [
    "import pandas"
   ]
  },
  {
   "cell_type": "code",
   "execution_count": 40,
   "metadata": {
    "collapsed": false
   },
   "outputs": [
    {
     "data": {
      "text/html": [
       "<div>\n",
       "<table border=\"1\" class=\"dataframe\">\n",
       "  <thead>\n",
       "    <tr style=\"text-align: right;\">\n",
       "      <th></th>\n",
       "      <th>dateStr</th>\n",
       "      <th>radId</th>\n",
       "      <th>radNames</th>\n",
       "      <th>timeStr</th>\n",
       "    </tr>\n",
       "  </thead>\n",
       "  <tbody>\n",
       "    <tr>\n",
       "      <th>0</th>\n",
       "      <td>20110205</td>\n",
       "      <td>206.0</td>\n",
       "      <td>cvw</td>\n",
       "      <td>0230</td>\n",
       "    </tr>\n",
       "    <tr>\n",
       "      <th>1</th>\n",
       "      <td>20110205</td>\n",
       "      <td>207.0</td>\n",
       "      <td>cve</td>\n",
       "      <td>0230</td>\n",
       "    </tr>\n",
       "    <tr>\n",
       "      <th>2</th>\n",
       "      <td>20110205</td>\n",
       "      <td>205.0</td>\n",
       "      <td>fhe</td>\n",
       "      <td>0230</td>\n",
       "    </tr>\n",
       "    <tr>\n",
       "      <th>3</th>\n",
       "      <td>20110205</td>\n",
       "      <td>33.0</td>\n",
       "      <td>bks</td>\n",
       "      <td>0230</td>\n",
       "    </tr>\n",
       "    <tr>\n",
       "      <th>4</th>\n",
       "      <td>20110205</td>\n",
       "      <td>206.0</td>\n",
       "      <td>cvw</td>\n",
       "      <td>0300</td>\n",
       "    </tr>\n",
       "  </tbody>\n",
       "</table>\n",
       "</div>"
      ],
      "text/plain": [
       "    dateStr  radId radNames timeStr\n",
       "0  20110205  206.0      cvw    0230\n",
       "1  20110205  207.0      cve    0230\n",
       "2  20110205  205.0      fhe    0230\n",
       "3  20110205   33.0      bks    0230\n",
       "4  20110205  206.0      cvw    0300"
      ]
     },
     "execution_count": 40,
     "metadata": {},
     "output_type": "execute_result"
    }
   ],
   "source": [
    "def convert_to_datetime(row):\n",
    "    if row[\"time\"] < 10:\n",
    "        currTimeStr = \"000\" + str( int( row[\"time\"] ) )\n",
    "    elif row[\"time\"] < 100:\n",
    "        currTimeStr = \"00\" + str( int( row[\"time\"] ) )\n",
    "    elif row[\"time\"] < 1000:\n",
    "        currTimeStr = \"0\" + str( int( row[\"time\"] ) )\n",
    "    else:\n",
    "        currTimeStr = str( int( row[\"time\"] ) )\n",
    "    return currTimeStr\n",
    "\n",
    "inpFile = \"../data/XuelingSaps.txt\"\n",
    "dataDF = pandas.read_csv(inpFile, sep=' ')\n",
    "dataDF[\"radId\"] = dataDF[\"radId\"].astype('category')\n",
    "# Order of radar arrays is given below\n",
    "#[32.0, 33.0, 204.0, 205.0, 206.0, 207.0, 208.0, 209.0]\n",
    "radNameArr = [ \"wal\", \"bks\", \"fhw\", \"fhe\", \"cvw\", \"cve\", \"adw\", \"ade\" ]\n",
    "dataDF[\"catIndex\"] = dataDF[[ \"radId\" ]].apply(lambda x: x.cat.codes )\n",
    "dataDF[\"radNames\"] = dataDF[\"catIndex\"].map(lambda x: radNameArr[x] )\n",
    "dataDF[\"timeStr\"] = dataDF.apply( convert_to_datetime, axis=1 )\n",
    "dataDF = dataDF.drop([\"catIndex\", \"time\"], 1)\n",
    "# Save to a new model file\n",
    "dataDF.to_csv(\"../data/XuelingSaps-new.txt\", sep=' ', index=False)\n",
    "dataDF.head()"
   ]
  },
  {
   "cell_type": "code",
   "execution_count": null,
   "metadata": {
    "collapsed": true
   },
   "outputs": [],
   "source": []
  }
 ],
 "metadata": {
  "kernelspec": {
   "display_name": "Python 2",
   "language": "python",
   "name": "python2"
  },
  "language_info": {
   "codemirror_mode": {
    "name": "ipython",
    "version": 2
   },
   "file_extension": ".py",
   "mimetype": "text/x-python",
   "name": "python",
   "nbconvert_exporter": "python",
   "pygments_lexer": "ipython2",
   "version": "2.7.6"
  }
 },
 "nbformat": 4,
 "nbformat_minor": 1
}
