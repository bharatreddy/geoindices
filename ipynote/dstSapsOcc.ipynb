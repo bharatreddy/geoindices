{
 "cells": [
  {
   "cell_type": "code",
   "execution_count": 1,
   "metadata": {
    "collapsed": false
   },
   "outputs": [],
   "source": [
    "import pandas\n",
    "import datetime\n",
    "import numpy\n",
    "import time\n",
    "import bs4\n",
    "import urllib\n",
    "import seaborn\n",
    "import matplotlib.pyplot as plt\n",
    "%matplotlib inline"
   ]
  },
  {
   "cell_type": "code",
   "execution_count": 2,
   "metadata": {
    "collapsed": false
   },
   "outputs": [
    {
     "data": {
      "text/html": [
       "<div>\n",
       "<table border=\"1\" class=\"dataframe\">\n",
       "  <thead>\n",
       "    <tr style=\"text-align: right;\">\n",
       "      <th></th>\n",
       "      <th>dst_date</th>\n",
       "      <th>dst_index</th>\n",
       "    </tr>\n",
       "  </thead>\n",
       "  <tbody>\n",
       "    <tr>\n",
       "      <th>0</th>\n",
       "      <td>2011-01-01 01:00:00</td>\n",
       "      <td>-11.0</td>\n",
       "    </tr>\n",
       "    <tr>\n",
       "      <th>1</th>\n",
       "      <td>2011-01-01 02:00:00</td>\n",
       "      <td>-11.0</td>\n",
       "    </tr>\n",
       "    <tr>\n",
       "      <th>2</th>\n",
       "      <td>2011-01-01 03:00:00</td>\n",
       "      <td>-9.0</td>\n",
       "    </tr>\n",
       "    <tr>\n",
       "      <th>3</th>\n",
       "      <td>2011-01-01 04:00:00</td>\n",
       "      <td>-5.0</td>\n",
       "    </tr>\n",
       "    <tr>\n",
       "      <th>4</th>\n",
       "      <td>2011-01-01 05:00:00</td>\n",
       "      <td>-3.0</td>\n",
       "    </tr>\n",
       "  </tbody>\n",
       "</table>\n",
       "</div>"
      ],
      "text/plain": [
       "             dst_date  dst_index\n",
       "0 2011-01-01 01:00:00      -11.0\n",
       "1 2011-01-01 02:00:00      -11.0\n",
       "2 2011-01-01 03:00:00       -9.0\n",
       "3 2011-01-01 04:00:00       -5.0\n",
       "4 2011-01-01 05:00:00       -3.0"
      ]
     },
     "execution_count": 2,
     "metadata": {},
     "output_type": "execute_result"
    }
   ],
   "source": [
    "# get dst index vals from wdc kyoto website\n",
    "# create a list of dates with monthly freq\n",
    "date_dst_arr = []\n",
    "dst_val = []\n",
    "dst_time_del = datetime.timedelta(hours = 1)\n",
    "start_date = datetime.datetime(2011,1,1)\n",
    "end_date = datetime.datetime(2014,12,31)\n",
    "daterange = pandas.date_range(start_date, end_date, freq=\"M\")\n",
    "for dt in daterange:\n",
    "    if dt.month <= 9:\n",
    "            monthStr = \"0\" + str(dt.month)\n",
    "    else:\n",
    "        monthStr = str(dt.month)\n",
    "    if dt.year >= 2015:\n",
    "        # create the url\n",
    "        currUrl = \"http://wdc.kugi.kyoto-u.ac.jp/\" + \"dst_realtime\" + \\\n",
    "            \"/\" + str(dt.year) + monthStr + \"/index.html\"\n",
    "    elif ( (dt.year > 2011) and (dt.year < 2015) ):\n",
    "        # create the url\n",
    "        currUrl = \"http://wdc.kugi.kyoto-u.ac.jp/\" + \"dst_provisional\" + \\\n",
    "            \"/\" + str(dt.year) + monthStr + \"/index.html\"\n",
    "    else:\n",
    "        # create the url\n",
    "        currUrl = \"http://wdc.kugi.kyoto-u.ac.jp/\" + \"dst_final\" + \\\n",
    "            \"/\" + str(dt.year) + monthStr + \"/index.html\"\n",
    "    conn = urllib.urlopen(currUrl)\n",
    "    htmlSource = conn.read()\n",
    "    soup = bs4.BeautifulSoup(htmlSource, 'html.parser')\n",
    "    dataResObj = soup.find(\"pre\", { \"class\" : \"data\" })\n",
    "    # get the data as a list of strings after removing white space\n",
    "    lines = dataResObj.text.strip().splitlines()\n",
    "    for line in lines[6:]:\n",
    "        columns = line.split()\n",
    "        if len( columns ) > 0. :\n",
    "            date_dst_arr.append( datetime.datetime( \\\n",
    "                dt.year, dt.month, int(columns[0]), 1 ) )\n",
    "            for cols in range( len( columns[1:] ) ) :\n",
    "                try:\n",
    "                    inNumberFloatTest = float(columns[cols + 1])\n",
    "                except:\n",
    "                    # split these cols as well and work on them!\n",
    "                    try:\n",
    "                        missedCols = columns[cols + 1].split(\"-\")[1:]\n",
    "                        if len(missedCols) >= 1:\n",
    "                            for mcols in missedCols:\n",
    "                                dst_val.append( -1*float( mcols ) )\n",
    "                                # now since we added the date earlier we need to be\n",
    "                                # careful about appending date values\n",
    "                                if ( len(date_dst_arr) != len(dst_val) ):\n",
    "                                    date_dst_arr.append ( date_dst_arr[-1] + dst_time_del )\n",
    "                    except:\n",
    "                        print \"something wrong with messed up vals!-->\", columns[cols + 1]\n",
    "                        continue\n",
    "                    continue\n",
    "                # I have to do this because of the messed up way Kyoto puts up the latest dst value..\n",
    "                # mixed with 9999 (fillers) like if latest dst is 1 then Kyoto puts it as 199999.....\n",
    "                if len( columns[ cols + 1 ] ) < 5 :\n",
    "                    dst_val.append( float( columns[ cols + 1 ] ) )\n",
    "                elif ( len( columns[ cols + 1 ] ) > 5 and columns[ cols + 1 ][0:3] != '999' ) :\n",
    "                    mixed_messed_dst = ''\n",
    "                    for jj in range(5) :\n",
    "                        if columns[ cols + 1 ][jj] != '9' :\n",
    "                            mixed_messed_dst = mixed_messed_dst + columns[ cols + 1 ][jj]\n",
    "\n",
    "                    if mixed_messed_dst != '-' :\n",
    "                        dst_val.append( float( mixed_messed_dst ) )\n",
    "                    else :\n",
    "                        dst_val.append( float( 'nan' ) )\n",
    "                else :\n",
    "                    dst_val.append( float( 'nan' ) )\n",
    "                if cols > 0 :\n",
    "                    date_dst_arr.append ( date_dst_arr[-1] + dst_time_del )\n",
    "# convert dst data to a dataframe\n",
    "dstDF = pandas.DataFrame(\n",
    "    {'dst_date': date_dst_arr,\n",
    "     'dst_index': dst_val\n",
    "    })\n",
    "dstDF.head()"
   ]
  },
  {
   "cell_type": "code",
   "execution_count": 14,
   "metadata": {
    "collapsed": false
   },
   "outputs": [
    {
     "name": "stdout",
     "output_type": "stream",
     "text": [
      "num of unique(total) dates---> 1320\n"
     ]
    },
    {
     "data": {
      "text/html": [
       "<div>\n",
       "<table border=\"1\" class=\"dataframe\">\n",
       "  <thead>\n",
       "    <tr style=\"text-align: right;\">\n",
       "      <th></th>\n",
       "      <th>dateTimeString</th>\n",
       "      <th>date</th>\n",
       "      <th>dateStr</th>\n",
       "      <th>sapsLat</th>\n",
       "      <th>sapsMLT</th>\n",
       "      <th>sapsVel</th>\n",
       "      <th>radId</th>\n",
       "      <th>poesLat</th>\n",
       "      <th>poesMLT</th>\n",
       "    </tr>\n",
       "  </thead>\n",
       "  <tbody>\n",
       "    <tr>\n",
       "      <th>0</th>\n",
       "      <td>20110101-100</td>\n",
       "      <td>2011-01-01 01:00:00</td>\n",
       "      <td>20110101</td>\n",
       "      <td>61.5</td>\n",
       "      <td>2.7764</td>\n",
       "      <td>336.5572</td>\n",
       "      <td>10.0</td>\n",
       "      <td>65.4015</td>\n",
       "      <td>3.0</td>\n",
       "    </tr>\n",
       "    <tr>\n",
       "      <th>1</th>\n",
       "      <td>20110101-230</td>\n",
       "      <td>2011-01-01 02:30:00</td>\n",
       "      <td>20110101</td>\n",
       "      <td>61.5</td>\n",
       "      <td>4.5593</td>\n",
       "      <td>254.1402</td>\n",
       "      <td>10.0</td>\n",
       "      <td>66.2104</td>\n",
       "      <td>5.0</td>\n",
       "    </tr>\n",
       "    <tr>\n",
       "      <th>2</th>\n",
       "      <td>20110101-700</td>\n",
       "      <td>2011-01-01 07:00:00</td>\n",
       "      <td>20110101</td>\n",
       "      <td>54.5</td>\n",
       "      <td>1.7927</td>\n",
       "      <td>639.8867</td>\n",
       "      <td>33.0</td>\n",
       "      <td>67.2811</td>\n",
       "      <td>2.0</td>\n",
       "    </tr>\n",
       "    <tr>\n",
       "      <th>3</th>\n",
       "      <td>20110101-700</td>\n",
       "      <td>2011-01-01 07:00:00</td>\n",
       "      <td>20110101</td>\n",
       "      <td>54.5</td>\n",
       "      <td>1.9076</td>\n",
       "      <td>650.9573</td>\n",
       "      <td>33.0</td>\n",
       "      <td>67.2811</td>\n",
       "      <td>2.0</td>\n",
       "    </tr>\n",
       "    <tr>\n",
       "      <th>4</th>\n",
       "      <td>20110101-700</td>\n",
       "      <td>2011-01-01 07:00:00</td>\n",
       "      <td>20110101</td>\n",
       "      <td>55.5</td>\n",
       "      <td>1.8949</td>\n",
       "      <td>653.0461</td>\n",
       "      <td>33.0</td>\n",
       "      <td>67.2811</td>\n",
       "      <td>2.0</td>\n",
       "    </tr>\n",
       "  </tbody>\n",
       "</table>\n",
       "</div>"
      ],
      "text/plain": [
       "  dateTimeString                date   dateStr  sapsLat  sapsMLT   sapsVel  \\\n",
       "0   20110101-100 2011-01-01 01:00:00  20110101     61.5   2.7764  336.5572   \n",
       "1   20110101-230 2011-01-01 02:30:00  20110101     61.5   4.5593  254.1402   \n",
       "2   20110101-700 2011-01-01 07:00:00  20110101     54.5   1.7927  639.8867   \n",
       "3   20110101-700 2011-01-01 07:00:00  20110101     54.5   1.9076  650.9573   \n",
       "4   20110101-700 2011-01-01 07:00:00  20110101     55.5   1.8949  653.0461   \n",
       "\n",
       "   radId  poesLat  poesMLT  \n",
       "0   10.0  65.4015      3.0  \n",
       "1   10.0  66.2104      5.0  \n",
       "2   33.0  67.2811      2.0  \n",
       "3   33.0  67.2811      2.0  \n",
       "4   33.0  67.2811      2.0  "
      ]
     },
     "execution_count": 14,
     "metadata": {},
     "output_type": "execute_result"
    }
   ],
   "source": [
    "# file containing saps data --> date, time, sapsLat, sapsMLT, sapsVel, radId, poesLat, poesMLT\n",
    "#file_sapsdata = \"/Users/bharat/Desktop/saps-north-2011-2012.txt\"\n",
    "file_sapsdata = \"../data/rawsaps-north-2011-2014.txt\"\n",
    "# store the data to convert it to DF later\n",
    "allData = []\n",
    "# open and read through the file\n",
    "fs = open(file_sapsdata, 'r')\n",
    "# only take data from mid-latitude radars\n",
    "midlatRadIds = [209, 208, 33, 207, 206, 205, 204, 32]\n",
    "for line in fs:\n",
    "    line = line.strip()\n",
    "    columns = line.split()\n",
    "    \n",
    "    dt_ind = time.strptime( columns[0], \"%Y%m%d\" )\n",
    "    hh_ind = int(int(columns[1])/100)\n",
    "    mm_ind = int(int(columns[1]) % 100)\n",
    "    currDt = datetime.datetime( dt_ind.tm_year, dt_ind.tm_mon, dt_ind.tm_mday, hh_ind, mm_ind )\n",
    "    allData.append( [ columns[0] + \"-\" + columns[1], currDt, columns[0], \\\n",
    "                     float( columns[2] ), float( columns[3] ), float( columns[4] ), \\\n",
    "                     float( columns[5] ), float( columns[6] ), float( columns[7] ) ] )  \n",
    "fs.close()\n",
    "# store data in a DF\n",
    "sapsRawDF = pandas.DataFrame(allData)\n",
    "sapsRawDF.columns = [ \"dateTimeString\", \"date\", \"dateStr\", \"sapsLat\", \\\n",
    "                     \"sapsMLT\", \"sapsVel\", \"radId\", \"poesLat\", \"poesMLT\" ]\n",
    "# count number of unique dates present in the raw DF\n",
    "uniqRawDates = sapsRawDF[\"dateStr\"].unique().tolist()\n",
    "print \"num of unique(total) dates--->\", len(uniqRawDates)\n",
    "sapsRawDF.head()"
   ]
  },
  {
   "cell_type": "code",
   "execution_count": 15,
   "metadata": {
    "collapsed": false
   },
   "outputs": [
    {
     "data": {
      "text/html": [
       "<div>\n",
       "<table border=\"1\" class=\"dataframe\">\n",
       "  <thead>\n",
       "    <tr style=\"text-align: right;\">\n",
       "      <th></th>\n",
       "      <th>dateTimeString</th>\n",
       "      <th>date</th>\n",
       "      <th>dateStr</th>\n",
       "      <th>sapsLat</th>\n",
       "      <th>sapsMLT</th>\n",
       "      <th>sapsVel</th>\n",
       "      <th>radId</th>\n",
       "      <th>poesLat</th>\n",
       "      <th>poesMLT</th>\n",
       "      <th>hour</th>\n",
       "      <th>dst_date</th>\n",
       "      <th>dst_index</th>\n",
       "    </tr>\n",
       "  </thead>\n",
       "  <tbody>\n",
       "    <tr>\n",
       "      <th>0</th>\n",
       "      <td>20110101-100</td>\n",
       "      <td>2011-01-01 01:00:00</td>\n",
       "      <td>20110101</td>\n",
       "      <td>61.5</td>\n",
       "      <td>2.7764</td>\n",
       "      <td>336.5572</td>\n",
       "      <td>10.0</td>\n",
       "      <td>65.4015</td>\n",
       "      <td>3.0</td>\n",
       "      <td>01</td>\n",
       "      <td>2011-01-01 01:00:00</td>\n",
       "      <td>-11.0</td>\n",
       "    </tr>\n",
       "    <tr>\n",
       "      <th>1</th>\n",
       "      <td>20110101-230</td>\n",
       "      <td>2011-01-01 02:30:00</td>\n",
       "      <td>20110101</td>\n",
       "      <td>61.5</td>\n",
       "      <td>4.5593</td>\n",
       "      <td>254.1402</td>\n",
       "      <td>10.0</td>\n",
       "      <td>66.2104</td>\n",
       "      <td>5.0</td>\n",
       "      <td>02</td>\n",
       "      <td>2011-01-01 02:00:00</td>\n",
       "      <td>-11.0</td>\n",
       "    </tr>\n",
       "    <tr>\n",
       "      <th>2</th>\n",
       "      <td>20110101-700</td>\n",
       "      <td>2011-01-01 07:00:00</td>\n",
       "      <td>20110101</td>\n",
       "      <td>54.5</td>\n",
       "      <td>1.7927</td>\n",
       "      <td>639.8867</td>\n",
       "      <td>33.0</td>\n",
       "      <td>67.2811</td>\n",
       "      <td>2.0</td>\n",
       "      <td>07</td>\n",
       "      <td>2011-01-01 07:00:00</td>\n",
       "      <td>-5.0</td>\n",
       "    </tr>\n",
       "    <tr>\n",
       "      <th>3</th>\n",
       "      <td>20110101-700</td>\n",
       "      <td>2011-01-01 07:00:00</td>\n",
       "      <td>20110101</td>\n",
       "      <td>54.5</td>\n",
       "      <td>1.9076</td>\n",
       "      <td>650.9573</td>\n",
       "      <td>33.0</td>\n",
       "      <td>67.2811</td>\n",
       "      <td>2.0</td>\n",
       "      <td>07</td>\n",
       "      <td>2011-01-01 07:00:00</td>\n",
       "      <td>-5.0</td>\n",
       "    </tr>\n",
       "    <tr>\n",
       "      <th>4</th>\n",
       "      <td>20110101-700</td>\n",
       "      <td>2011-01-01 07:00:00</td>\n",
       "      <td>20110101</td>\n",
       "      <td>55.5</td>\n",
       "      <td>1.8949</td>\n",
       "      <td>653.0461</td>\n",
       "      <td>33.0</td>\n",
       "      <td>67.2811</td>\n",
       "      <td>2.0</td>\n",
       "      <td>07</td>\n",
       "      <td>2011-01-01 07:00:00</td>\n",
       "      <td>-5.0</td>\n",
       "    </tr>\n",
       "  </tbody>\n",
       "</table>\n",
       "</div>"
      ],
      "text/plain": [
       "  dateTimeString                date   dateStr  sapsLat  sapsMLT   sapsVel  \\\n",
       "0   20110101-100 2011-01-01 01:00:00  20110101     61.5   2.7764  336.5572   \n",
       "1   20110101-230 2011-01-01 02:30:00  20110101     61.5   4.5593  254.1402   \n",
       "2   20110101-700 2011-01-01 07:00:00  20110101     54.5   1.7927  639.8867   \n",
       "3   20110101-700 2011-01-01 07:00:00  20110101     54.5   1.9076  650.9573   \n",
       "4   20110101-700 2011-01-01 07:00:00  20110101     55.5   1.8949  653.0461   \n",
       "\n",
       "   radId  poesLat  poesMLT hour            dst_date  dst_index  \n",
       "0   10.0  65.4015      3.0   01 2011-01-01 01:00:00      -11.0  \n",
       "1   10.0  66.2104      5.0   02 2011-01-01 02:00:00      -11.0  \n",
       "2   33.0  67.2811      2.0   07 2011-01-01 07:00:00       -5.0  \n",
       "3   33.0  67.2811      2.0   07 2011-01-01 07:00:00       -5.0  \n",
       "4   33.0  67.2811      2.0   07 2011-01-01 07:00:00       -5.0  "
      ]
     },
     "execution_count": 15,
     "metadata": {},
     "output_type": "execute_result"
    }
   ],
   "source": [
    "# create a date string and time column for the dst DF\n",
    "dstDF[\"dateStr\"] = dstDF[\"dst_date\"].map(lambda x: x.strftime('%Y%m%d'))\n",
    "dstDF[\"hour\"] = dstDF[\"dst_date\"].map(lambda x: x.strftime('%H'))\n",
    "# Make an hour column for the sapsRawDF too\n",
    "sapsRawDF[\"hour\"] = sapsRawDF[\"date\"].map(lambda x: x.strftime('%H'))\n",
    "# Now merge the dst and sapsRaw DFs\n",
    "sapsRawDF = pandas.merge( sapsRawDF, dstDF, on=[\"dateStr\", \"hour\"], how='inner')\n",
    "sapsRawDF.head()"
   ]
  },
  {
   "cell_type": "code",
   "execution_count": 16,
   "metadata": {
    "collapsed": false
   },
   "outputs": [
    {
     "name": "stdout",
     "output_type": "stream",
     "text": [
      "num of saps dates---> 1320\n",
      "(-10, 50]      578\n",
      "(-25, -10]     455\n",
      "(-50, -25]     212\n",
      "(-75, -50]      51\n",
      "(-150, -75]     24\n",
      "Name: dst_index, dtype: int64\n"
     ]
    }
   ],
   "source": [
    "# Get dst wise days\n",
    "# count number of (saps) dates present in the processed DF\n",
    "uniqTotalDates = sapsRawDF[\"dateStr\"].unique().tolist()\n",
    "print \"num of saps dates--->\", len(uniqTotalDates)\n",
    "# get daywise min Dst\n",
    "allDatesDstGrps = sapsRawDF.groupby([\"dateStr\"])\n",
    "minDstAllDataDaywise = allDatesDstGrps[\"dst_index\"].min()\n",
    "# We'll use the pandas cut function to bin the data\n",
    "# our bins are --> [-10,10], [-25,-10], [-50,-25], [-75,-50], [-125,-75]\n",
    "bins = [-150,-75,-50,-25,-10,50]\n",
    "allDataDayWiseBins = pandas.cut( minDstAllDataDaywise, bins=bins )\n",
    "print pandas.value_counts( allDataDayWiseBins )"
   ]
  },
  {
   "cell_type": "code",
   "execution_count": 46,
   "metadata": {
    "collapsed": false
   },
   "outputs": [
    {
     "name": "stdout",
     "output_type": "stream",
     "text": [
      "JOIN WENT WELL LOOKE FINE!\n"
     ]
    }
   ],
   "source": [
    "# Instead of the daywise thing we'll do an hourwise analysis too!\n",
    "allDatesDstGrps = sapsRawDF.groupby([\"dateStr\", \"hour\"])\n",
    "minDstAllDataHourwise = allDatesDstGrps[\"dst_index\"].aggregate(lambda x: set(tuple(x))).reset_index()\n",
    "# Below is just a sanity check to verify the joins are working fine\n",
    "# Basically we shouldn't have more than 1 Dst index\n",
    "minDstAllDataHourwise[\"checkSameDst\"] = minDstAllDataHourwise[\"dst_index\"].map(\\\n",
    "                                    lambda x: len(x) > 1 )\n",
    "if (minDstAllDataHourwise[ minDstAllDataHourwise[ \"checkSameDst\" ] == True ][\"dst_index\"].count() == 0):\n",
    "    print \"JOIN WENT WELL LOOKE FINE!\"\n",
    "else:\n",
    "    print \"NEED TO CHECK THE CODE! MAJORRRR PROBLEMMMMM!\"\n",
    "minDstAllDataHourwise[\"dst_index\"] = minDstAllDataHourwise[\"dst_index\"].map(\\\n",
    "                                    lambda x: x.pop() )"
   ]
  },
  {
   "cell_type": "code",
   "execution_count": 48,
   "metadata": {
    "collapsed": false
   },
   "outputs": [
    {
     "name": "stdout",
     "output_type": "stream",
     "text": [
      "(-10, 50]      15409\n",
      "(-25, -10]      3067\n",
      "(-50, -25]      1410\n",
      "(-75, -50]       265\n",
      "(-150, -75]      133\n",
      "dtype: int64\n"
     ]
    }
   ],
   "source": [
    "allDataHourWiseBins = pandas.cut( minDstAllDataHourwise, bins=bins )\n",
    "print pandas.value_counts( allDataHourWiseBins )"
   ]
  },
  {
   "cell_type": "code",
   "execution_count": 57,
   "metadata": {
    "collapsed": false
   },
   "outputs": [
    {
     "name": "stderr",
     "output_type": "stream",
     "text": [
      "/usr/local/lib/python2.7/dist-packages/ipykernel/__main__.py:15: SettingWithCopyWarning: \n",
      "A value is trying to be set on a copy of a slice from a DataFrame.\n",
      "Try using .loc[row_indexer,col_indexer] = value instead\n",
      "\n",
      "See the caveats in the documentation: http://pandas.pydata.org/pandas-docs/stable/indexing.html#indexing-view-versus-copy\n"
     ]
    },
    {
     "data": {
      "text/html": [
       "<div>\n",
       "<table border=\"1\" class=\"dataframe\">\n",
       "  <thead>\n",
       "    <tr style=\"text-align: right;\">\n",
       "      <th></th>\n",
       "      <th>dateStr</th>\n",
       "      <th>hour</th>\n",
       "      <th>sapsLat</th>\n",
       "      <th>sapsMLT</th>\n",
       "      <th>sapsVel</th>\n",
       "      <th>radId</th>\n",
       "      <th>poesLat</th>\n",
       "      <th>poesMLT</th>\n",
       "      <th>dst_date</th>\n",
       "      <th>dst_index</th>\n",
       "      <th>time</th>\n",
       "    </tr>\n",
       "  </thead>\n",
       "  <tbody>\n",
       "    <tr>\n",
       "      <th>0</th>\n",
       "      <td>20110107</td>\n",
       "      <td>00</td>\n",
       "      <td>56.5</td>\n",
       "      <td>17.7543</td>\n",
       "      <td>308.2077</td>\n",
       "      <td>33.0</td>\n",
       "      <td>62.0082</td>\n",
       "      <td>18.0</td>\n",
       "      <td>2011-01-07</td>\n",
       "      <td>-18.0</td>\n",
       "      <td>0000</td>\n",
       "    </tr>\n",
       "    <tr>\n",
       "      <th>1</th>\n",
       "      <td>20110107</td>\n",
       "      <td>00</td>\n",
       "      <td>55.5</td>\n",
       "      <td>18.0147</td>\n",
       "      <td>224.1588</td>\n",
       "      <td>33.0</td>\n",
       "      <td>62.0082</td>\n",
       "      <td>18.0</td>\n",
       "      <td>2011-01-07</td>\n",
       "      <td>-18.0</td>\n",
       "      <td>0000</td>\n",
       "    </tr>\n",
       "    <tr>\n",
       "      <th>2</th>\n",
       "      <td>20110107</td>\n",
       "      <td>00</td>\n",
       "      <td>56.5</td>\n",
       "      <td>17.8749</td>\n",
       "      <td>307.4328</td>\n",
       "      <td>33.0</td>\n",
       "      <td>62.0082</td>\n",
       "      <td>18.0</td>\n",
       "      <td>2011-01-07</td>\n",
       "      <td>-18.0</td>\n",
       "      <td>0000</td>\n",
       "    </tr>\n",
       "    <tr>\n",
       "      <th>3</th>\n",
       "      <td>20110107</td>\n",
       "      <td>00</td>\n",
       "      <td>55.5</td>\n",
       "      <td>18.1324</td>\n",
       "      <td>222.4787</td>\n",
       "      <td>33.0</td>\n",
       "      <td>62.0082</td>\n",
       "      <td>18.0</td>\n",
       "      <td>2011-01-07</td>\n",
       "      <td>-18.0</td>\n",
       "      <td>0000</td>\n",
       "    </tr>\n",
       "    <tr>\n",
       "      <th>4</th>\n",
       "      <td>20110107</td>\n",
       "      <td>00</td>\n",
       "      <td>56.5</td>\n",
       "      <td>17.9955</td>\n",
       "      <td>305.4201</td>\n",
       "      <td>33.0</td>\n",
       "      <td>62.0082</td>\n",
       "      <td>18.0</td>\n",
       "      <td>2011-01-07</td>\n",
       "      <td>-18.0</td>\n",
       "      <td>0000</td>\n",
       "    </tr>\n",
       "  </tbody>\n",
       "</table>\n",
       "</div>"
      ],
      "text/plain": [
       "    dateStr hour  sapsLat  sapsMLT   sapsVel  radId  poesLat  poesMLT  \\\n",
       "0  20110107   00     56.5  17.7543  308.2077   33.0  62.0082     18.0   \n",
       "1  20110107   00     55.5  18.0147  224.1588   33.0  62.0082     18.0   \n",
       "2  20110107   00     56.5  17.8749  307.4328   33.0  62.0082     18.0   \n",
       "3  20110107   00     55.5  18.1324  222.4787   33.0  62.0082     18.0   \n",
       "4  20110107   00     56.5  17.9955  305.4201   33.0  62.0082     18.0   \n",
       "\n",
       "    dst_date  dst_index  time  \n",
       "0 2011-01-07      -18.0  0000  \n",
       "1 2011-01-07      -18.0  0000  \n",
       "2 2011-01-07      -18.0  0000  \n",
       "3 2011-01-07      -18.0  0000  \n",
       "4 2011-01-07      -18.0  0000  "
      ]
     },
     "execution_count": 57,
     "metadata": {},
     "output_type": "execute_result"
    }
   ],
   "source": [
    "# dates = pandas.DatetimeIndex(sapsRawDF.date)\n",
    "# # get data from only mid-lat radars\n",
    "sapsRawDF = sapsRawDF[ sapsRawDF[\"radId\"].isin(midlatRadIds) ]\n",
    "# sapsRawDF.reset_index(inplace=True, drop=True)\n",
    "sapsDateGrp = sapsRawDF.groupby([\"dateStr\"])\n",
    "numSapsDates = sapsDateGrp[\"dateTimeString\"].count()\n",
    "# # get a list of SAPS dates where num of \n",
    "# # observations is greater than 200.\n",
    "numSapsDates = numSapsDates[ numSapsDates > 200 ]\n",
    "sapsDatesList = numSapsDates.index.tolist()\n",
    "# # get only data points from the selected dates\n",
    "sapsRawDF = sapsRawDF[sapsRawDF[\"dateStr\"].isin(sapsDatesList)].reset_index(drop=True)\n",
    "# get a df with proper format\n",
    "prcsdSapsDF = sapsRawDF[ [\"dateStr\", \"hour\",\"sapsLat\", \\\n",
    "                     \"sapsMLT\", \"sapsVel\", \"radId\", \"poesLat\", \"poesMLT\", \"dst_date\", \"dst_index\"] ]\n",
    "prcsdSapsDF[\"time\"] = sapsRawDF[\"date\"].map(lambda x: x.strftime('%H%M'))\n",
    "prcsdSapsDF.head()"
   ]
  },
  {
   "cell_type": "code",
   "execution_count": 51,
   "metadata": {
    "collapsed": false
   },
   "outputs": [
    {
     "name": "stdout",
     "output_type": "stream",
     "text": [
      "num of saps dates---> 316\n"
     ]
    }
   ],
   "source": [
    "# count number of (saps) dates present in the processed DF\n",
    "uniqSapsDates = prcsdSapsDF[\"dateStr\"].unique().tolist()\n",
    "print \"num of saps dates--->\", len(uniqSapsDates)"
   ]
  },
  {
   "cell_type": "code",
   "execution_count": 58,
   "metadata": {
    "collapsed": false
   },
   "outputs": [
    {
     "name": "stdout",
     "output_type": "stream",
     "text": [
      "(-25, -10]     1101\n",
      "(-50, -25]      924\n",
      "(-10, 50]       763\n",
      "(-75, -50]      230\n",
      "(-150, -75]     124\n",
      "Name: dst_index, dtype: int64\n",
      "(-10, 50]      15409\n",
      "(-25, -10]      3067\n",
      "(-50, -25]      1410\n",
      "(-75, -50]       265\n",
      "(-150, -75]      133\n",
      "dtype: int64\n"
     ]
    }
   ],
   "source": [
    "# get daywise min Dst\n",
    "sapsDFHourDstGrps = prcsdSapsDF.groupby([\"dateStr\", \"hour\"])\n",
    "minDstHourwise = sapsDFHourDstGrps[\"dst_index\"].min()\n",
    "# We'll use the pandas cut function to bin the data\n",
    "# our bins are --> [-10,10], [-25,-10], [-50,-25], [-75,-50], [-125,-75]\n",
    "bins = [-150,-75,-50,-25,-10,50]\n",
    "hourWiseBins = pandas.cut( minDstHourwise, bins=bins )\n",
    "print pandas.value_counts(hourWiseBins)\n",
    "print pandas.value_counts( allDataHourWiseBins )"
   ]
  },
  {
   "cell_type": "code",
   "execution_count": 61,
   "metadata": {
    "collapsed": false
   },
   "outputs": [
    {
     "data": {
      "image/png": "[encoded data removed]",
      "text/plain": [
       "<matplotlib.figure.Figure at 0x7f133b7185d0>"
      ]
     },
     "metadata": {},
     "output_type": "display_data"
    }
   ],
   "source": [
    "# set seaborn color\n",
    "seaborn.set_style(\"whitegrid\")\n",
    "seaborn.set_context(\"poster\")\n",
    "dstSapsHoursDF = pandas.concat([ \\\n",
    "                     pandas.value_counts( hourWiseBins ), \\\n",
    "                     pandas.value_counts( allDataHourWiseBins )],\\\n",
    "                    axis=1)#.reset_index()\n",
    "dstSapsHoursDF = dstSapsHoursDF.reindex(index = ['(-150, -75]','(-75, -50]',\\\n",
    "                                               '(-50, -25]', '(-25, -10]', '(-10, 50]']).reset_index()\n",
    "dstSapsHoursDF.columns = [ \"dstRange\", \"sapsdays\", \"totaldays\" ]\n",
    "dstSapsHoursDF[\"sapsPercent\"] = dstSapsHoursDF[\"sapsdays\"]*100/dstSapsHoursDF[\"totaldays\"]\n",
    "# colors - dodgerblue, lightseagreen, palevioletred, skyblue, c\n",
    "hoursBar = seaborn.barplot( dstSapsHoursDF[\"dstRange\"], dstSapsHoursDF[\"sapsPercent\"], color=\"c\" )\n",
    "plt.ylim(0, 100)\n",
    "plt.xlabel(\"Dst index bins\")\n",
    "plt.ylabel(\"Percent Occurrence\")\n",
    "for n,p in enumerate(hoursBar.patches):\n",
    "    titStrg = str( dstSapsHoursDF[\"sapsdays\"][n] ) +\\\n",
    "        \" / \" + str( dstSapsHoursDF[\"totaldays\"][n] )\n",
    "    hoursBar.annotate(\n",
    "        s= titStrg,\n",
    "        xy=(p.get_x()+p.get_width()/2.,p.get_height()),\n",
    "        ha='center',va='center',\n",
    "        xytext=(0,10),\n",
    "        textcoords='offset points'\n",
    ")\n",
    "fig = hoursBar.get_figure()\n",
    "fig.savefig(\"../figs/hoursPercent.pdf\",bbox_inches='tight')"
   ]
  },
  {
   "cell_type": "code",
   "execution_count": null,
   "metadata": {
    "collapsed": true
   },
   "outputs": [],
   "source": []
  }
 ],
 "metadata": {
  "kernelspec": {
   "display_name": "Python 2",
   "language": "python",
   "name": "python2"
  },
  "language_info": {
   "codemirror_mode": {
    "name": "ipython",
    "version": 2
   },
   "file_extension": ".py",
   "mimetype": "text/x-python",
   "name": "python",
   "nbconvert_exporter": "python",
   "pygments_lexer": "ipython2",
   "version": "2.7.6"
  }
 },
 "nbformat": 4,
 "nbformat_minor": 1
}
