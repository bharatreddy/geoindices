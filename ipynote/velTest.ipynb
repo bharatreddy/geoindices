{
 "cells": [
  {
   "cell_type": "code",
   "execution_count": 1,
   "metadata": {
    "collapsed": true
   },
   "outputs": [],
   "source": [
    "import pandas\n",
    "import datetime\n",
    "import numpy\n",
    "from scipy.optimize import curve_fit\n",
    "import seaborn as sns\n",
    "import matplotlib.pyplot as plt\n",
    "from matplotlib.colors import ListedColormap\n",
    "from matplotlib import ticker\n",
    "%matplotlib inline\n",
    "from matplotlib import rcParams"
   ]
  },
  {
   "cell_type": "code",
   "execution_count": 2,
   "metadata": {
    "collapsed": false
   },
   "outputs": [
    {
     "data": {
      "text/html": [
       "<div>\n",
       "<table border=\"1\" class=\"dataframe\">\n",
       "  <thead>\n",
       "    <tr style=\"text-align: right;\">\n",
       "      <th></th>\n",
       "      <th>dateStr</th>\n",
       "      <th>sapsLat</th>\n",
       "      <th>sapsMLT</th>\n",
       "      <th>sapsVel</th>\n",
       "      <th>radId</th>\n",
       "      <th>dst_date</th>\n",
       "      <th>dst_index</th>\n",
       "      <th>time</th>\n",
       "      <th>dst_bin</th>\n",
       "      <th>sapsMLTRounded</th>\n",
       "    </tr>\n",
       "  </thead>\n",
       "  <tbody>\n",
       "    <tr>\n",
       "      <th>0</th>\n",
       "      <td>20110107</td>\n",
       "      <td>56.5</td>\n",
       "      <td>17.7543</td>\n",
       "      <td>308.2077</td>\n",
       "      <td>33.0</td>\n",
       "      <td>2011-01-07 00:00:00</td>\n",
       "      <td>-18.0</td>\n",
       "      <td>0</td>\n",
       "      <td>(-25, -10]</td>\n",
       "      <td>18.0</td>\n",
       "    </tr>\n",
       "    <tr>\n",
       "      <th>1</th>\n",
       "      <td>20110107</td>\n",
       "      <td>55.5</td>\n",
       "      <td>18.0147</td>\n",
       "      <td>224.1588</td>\n",
       "      <td>33.0</td>\n",
       "      <td>2011-01-07 00:00:00</td>\n",
       "      <td>-18.0</td>\n",
       "      <td>0</td>\n",
       "      <td>(-25, -10]</td>\n",
       "      <td>18.0</td>\n",
       "    </tr>\n",
       "    <tr>\n",
       "      <th>2</th>\n",
       "      <td>20110107</td>\n",
       "      <td>56.5</td>\n",
       "      <td>17.8749</td>\n",
       "      <td>307.4328</td>\n",
       "      <td>33.0</td>\n",
       "      <td>2011-01-07 00:00:00</td>\n",
       "      <td>-18.0</td>\n",
       "      <td>0</td>\n",
       "      <td>(-25, -10]</td>\n",
       "      <td>18.0</td>\n",
       "    </tr>\n",
       "    <tr>\n",
       "      <th>3</th>\n",
       "      <td>20110107</td>\n",
       "      <td>55.5</td>\n",
       "      <td>18.1324</td>\n",
       "      <td>222.4787</td>\n",
       "      <td>33.0</td>\n",
       "      <td>2011-01-07 00:00:00</td>\n",
       "      <td>-18.0</td>\n",
       "      <td>0</td>\n",
       "      <td>(-25, -10]</td>\n",
       "      <td>18.0</td>\n",
       "    </tr>\n",
       "    <tr>\n",
       "      <th>4</th>\n",
       "      <td>20110107</td>\n",
       "      <td>56.5</td>\n",
       "      <td>17.9955</td>\n",
       "      <td>305.4201</td>\n",
       "      <td>33.0</td>\n",
       "      <td>2011-01-07 00:00:00</td>\n",
       "      <td>-18.0</td>\n",
       "      <td>0</td>\n",
       "      <td>(-25, -10]</td>\n",
       "      <td>18.0</td>\n",
       "    </tr>\n",
       "  </tbody>\n",
       "</table>\n",
       "</div>"
      ],
      "text/plain": [
       "    dateStr  sapsLat  sapsMLT   sapsVel  radId             dst_date  \\\n",
       "0  20110107     56.5  17.7543  308.2077   33.0  2011-01-07 00:00:00   \n",
       "1  20110107     55.5  18.0147  224.1588   33.0  2011-01-07 00:00:00   \n",
       "2  20110107     56.5  17.8749  307.4328   33.0  2011-01-07 00:00:00   \n",
       "3  20110107     55.5  18.1324  222.4787   33.0  2011-01-07 00:00:00   \n",
       "4  20110107     56.5  17.9955  305.4201   33.0  2011-01-07 00:00:00   \n",
       "\n",
       "   dst_index  time     dst_bin  sapsMLTRounded  \n",
       "0      -18.0     0  (-25, -10]            18.0  \n",
       "1      -18.0     0  (-25, -10]            18.0  \n",
       "2      -18.0     0  (-25, -10]            18.0  \n",
       "3      -18.0     0  (-25, -10]            18.0  \n",
       "4      -18.0     0  (-25, -10]            18.0  "
      ]
     },
     "execution_count": 2,
     "metadata": {},
     "output_type": "execute_result"
    }
   ],
   "source": [
    "datFileName = \"../data/processedSaps.txt\"\n",
    "sapsDataDF = pandas.read_csv(datFileName, sep=' ')\n",
    "# # add dst_bins\n",
    "dstBins = [ -150, -75, -50, -25, -10, 10 ]\n",
    "sapsDataDF = pandas.concat( [ sapsDataDF, \\\n",
    "                    pandas.cut( sapsDataDF[\"dst_index\"], \\\n",
    "                               bins=dstBins ) ], axis=1 )\n",
    "sapsDataDF.columns = [ \"dateStr\", \"sapsLat\", \"sapsMLT\", \\\n",
    "                      \"sapsVel\", \"radId\", \"poesLat\", \"poesMLT\", \\\n",
    "                      \"dst_date\", \"dst_index\", \"time\", \"dst_bin\" ]\n",
    "sapsDataDF = sapsDataDF.drop([\"poesLat\", \"poesMLT\"], 1)\n",
    "sapsDataDF[\"sapsMLTRounded\"] = sapsDataDF[\"sapsMLT\"].map(lambda x: round(x) )\n",
    "sapsDataDF.head()"
   ]
  },
  {
   "cell_type": "code",
   "execution_count": 3,
   "metadata": {
    "collapsed": false
   },
   "outputs": [],
   "source": [
    "sapsNumRadsSer = sapsDataDF.groupby([\"dateStr\"]).agg( {\"radId\": pandas.Series.nunique} )"
   ]
  },
  {
   "cell_type": "code",
   "execution_count": 4,
   "metadata": {
    "collapsed": false
   },
   "outputs": [],
   "source": [
    "# get times, dates when the number of data points observed\n",
    "# is greater than 50 points at a given time.\n",
    "sapsDateTimeCount = sapsDataDF.groupby([\"dateStr\", \"time\"]).count()\n",
    "sapsDateTimeCount = sapsDateTimeCount[ sapsDateTimeCount[\"sapsLat\"] > 50 ].reset_index()\n",
    "sapsDateTimeCount = sapsDateTimeCount[['dateStr','time', 'sapsLat']]\n",
    "sapsDateTimeCount.columns = [ \"dateStr\", \"time\", \"nPoints\" ]\n",
    "# Now get data points when atleast 4 radars were making observations\n",
    "sapsUniqRadsCnt = sapsDataDF.groupby([\"dateStr\",\"time\"]).agg( {\"radId\": pandas.Series.nunique} )\n",
    "sapsUniqRadsCnt = sapsUniqRadsCnt[ sapsUniqRadsCnt >= 4 ].dropna().reset_index()\n",
    "sapsUniqRadsCnt.columns = [ \"dateStr\", \"time\", \"nRads\" ]\n",
    "# Merge both to get good dates where we can get velocity measurements\n",
    "selVelDatesDF = pandas.merge( sapsUniqRadsCnt, \\\n",
    "                             sapsDateTimeCount, \\\n",
    "                             on=[ \"dateStr\", \"time\" ], how=\"inner\" )\n",
    "# selVelDatesDF.head()\n",
    "# save as csv file\n",
    "# selVelDatesDF.to_csv(\"../data/sapsVelDatesTimes.txt\", sep=' ', index=False)"
   ]
  },
  {
   "cell_type": "code",
   "execution_count": 5,
   "metadata": {
    "collapsed": true
   },
   "outputs": [],
   "source": [
    "def convert_to_datetime(row):\n",
    "    currDateStr = str( int( row[\"dateStr\"] ) )\n",
    "#     return currDateStr\n",
    "    if row[\"time\"] < 10:\n",
    "        currTimeStr = \"000\" + str( int( row[\"time\"] ) )\n",
    "    elif row[\"time\"] < 100:\n",
    "        currTimeStr = \"00\" + str( int( row[\"time\"] ) )\n",
    "    elif row[\"time\"] < 1000:\n",
    "        currTimeStr = \"0\" + str( int( row[\"time\"] ) )\n",
    "    else:\n",
    "        currTimeStr = str( int( row[\"time\"] ) )\n",
    "    return datetime.datetime.strptime( currDateStr\\\n",
    "                    + \":\" + currTimeStr, \"%Y%m%d:%H%M\" )"
   ]
  },
  {
   "cell_type": "code",
   "execution_count": 6,
   "metadata": {
    "collapsed": false
   },
   "outputs": [
    {
     "data": {
      "text/html": [
       "<div>\n",
       "<table border=\"1\" class=\"dataframe\">\n",
       "  <thead>\n",
       "    <tr style=\"text-align: right;\">\n",
       "      <th></th>\n",
       "      <th>dateStr</th>\n",
       "      <th>time</th>\n",
       "      <th>radId</th>\n",
       "      <th>dtObj</th>\n",
       "    </tr>\n",
       "  </thead>\n",
       "  <tbody>\n",
       "    <tr>\n",
       "      <th>0</th>\n",
       "      <td>20110205</td>\n",
       "      <td>230</td>\n",
       "      <td>206.0</td>\n",
       "      <td>20110205</td>\n",
       "    </tr>\n",
       "    <tr>\n",
       "      <th>20</th>\n",
       "      <td>20110205</td>\n",
       "      <td>230</td>\n",
       "      <td>207.0</td>\n",
       "      <td>20110205</td>\n",
       "    </tr>\n",
       "    <tr>\n",
       "      <th>29</th>\n",
       "      <td>20110205</td>\n",
       "      <td>230</td>\n",
       "      <td>205.0</td>\n",
       "      <td>20110205</td>\n",
       "    </tr>\n",
       "    <tr>\n",
       "      <th>36</th>\n",
       "      <td>20110205</td>\n",
       "      <td>230</td>\n",
       "      <td>33.0</td>\n",
       "      <td>20110205</td>\n",
       "    </tr>\n",
       "    <tr>\n",
       "      <th>98</th>\n",
       "      <td>20110205</td>\n",
       "      <td>300</td>\n",
       "      <td>206.0</td>\n",
       "      <td>20110205</td>\n",
       "    </tr>\n",
       "  </tbody>\n",
       "</table>\n",
       "</div>"
      ],
      "text/plain": [
       "     dateStr  time  radId     dtObj\n",
       "0   20110205   230  206.0  20110205\n",
       "20  20110205   230  207.0  20110205\n",
       "29  20110205   230  205.0  20110205\n",
       "36  20110205   230   33.0  20110205\n",
       "98  20110205   300  206.0  20110205"
      ]
     },
     "execution_count": 6,
     "metadata": {},
     "output_type": "execute_result"
    }
   ],
   "source": [
    "# Merge the selected date time DF with sapsDataDF\n",
    "# to get the radar ids as well\n",
    "selVelDatesDF = pandas.merge( selVelDatesDF, sapsDataDF, on=[\"dateStr\",\"time\"] )\n",
    "selVelDatesDF = selVelDatesDF[ [ 'dateStr','time', 'radId' ] ]\n",
    "selVelDatesDF = selVelDatesDF.drop_duplicates()\n",
    "selVelDatesDF[\"dtObj\"] = selVelDatesDF.apply( convert_to_datetime, axis=1 )\n",
    "# selVelDatesDF.to_csv(\"../data/XuelingSaps.txt\", sep=' ', index=False)\n",
    "selVelDatesGrps = selVelDatesDF.groupby( [\"dateStr\", \"radId\"] )\n",
    "selVelDatesDF.head()"
   ]
  },
  {
   "cell_type": "code",
   "execution_count": 7,
   "metadata": {
    "collapsed": false
   },
   "outputs": [
    {
     "data": {
      "text/html": [
       "<div>\n",
       "<table border=\"1\" class=\"dataframe\">\n",
       "  <thead>\n",
       "    <tr style=\"text-align: right;\">\n",
       "      <th></th>\n",
       "      <th>dateStr</th>\n",
       "      <th>radId</th>\n",
       "      <th>time</th>\n",
       "      <th>dtObj</th>\n",
       "      <th>timeObj</th>\n",
       "    </tr>\n",
       "  </thead>\n",
       "  <tbody>\n",
       "    <tr>\n",
       "      <th>0</th>\n",
       "      <td>20110205</td>\n",
       "      <td>33.0</td>\n",
       "      <td>(230, 300, 330)</td>\n",
       "      <td>(20110205, 20110205, 20110205)</td>\n",
       "      <td>[70, 30]</td>\n",
       "    </tr>\n",
       "    <tr>\n",
       "      <th>1</th>\n",
       "      <td>20110205</td>\n",
       "      <td>204.0</td>\n",
       "      <td>(330,)</td>\n",
       "      <td>(20110205,)</td>\n",
       "      <td>[]</td>\n",
       "    </tr>\n",
       "    <tr>\n",
       "      <th>2</th>\n",
       "      <td>20110205</td>\n",
       "      <td>205.0</td>\n",
       "      <td>(230, 300, 330)</td>\n",
       "      <td>(20110205, 20110205, 20110205)</td>\n",
       "      <td>[70, 30]</td>\n",
       "    </tr>\n",
       "    <tr>\n",
       "      <th>3</th>\n",
       "      <td>20110205</td>\n",
       "      <td>206.0</td>\n",
       "      <td>(230, 300, 330)</td>\n",
       "      <td>(20110205, 20110205, 20110205)</td>\n",
       "      <td>[70, 30]</td>\n",
       "    </tr>\n",
       "    <tr>\n",
       "      <th>4</th>\n",
       "      <td>20110205</td>\n",
       "      <td>207.0</td>\n",
       "      <td>(230, 300, 330)</td>\n",
       "      <td>(20110205, 20110205, 20110205)</td>\n",
       "      <td>[70, 30]</td>\n",
       "    </tr>\n",
       "  </tbody>\n",
       "</table>\n",
       "</div>"
      ],
      "text/plain": [
       "    dateStr  radId             time                           dtObj   timeObj\n",
       "0  20110205   33.0  (230, 300, 330)  (20110205, 20110205, 20110205)  [70, 30]\n",
       "1  20110205  204.0           (330,)                     (20110205,)        []\n",
       "2  20110205  205.0  (230, 300, 330)  (20110205, 20110205, 20110205)  [70, 30]\n",
       "3  20110205  206.0  (230, 300, 330)  (20110205, 20110205, 20110205)  [70, 30]\n",
       "4  20110205  207.0  (230, 300, 330)  (20110205, 20110205, 20110205)  [70, 30]"
      ]
     },
     "execution_count": 7,
     "metadata": {},
     "output_type": "execute_result"
    }
   ],
   "source": [
    "velDateTimeRadDF = selVelDatesGrps.aggregate(lambda x: tuple(x)).reset_index()\n",
    "# Get the difference between consecutive elements in the time tuple\n",
    "# We can determine the time ranges for each radar this way...\n",
    "velDateTimeRadDF[\"timeObj\"] = velDateTimeRadDF[\"time\"].map(\\\n",
    "                                    lambda x: numpy.ediff1d(x) )\n",
    "velDateTimeRadDF.head()"
   ]
  },
  {
   "cell_type": "code",
   "execution_count": 8,
   "metadata": {
    "collapsed": false
   },
   "outputs": [
    {
     "data": {
      "text/html": [
       "<div>\n",
       "<table border=\"1\" class=\"dataframe\">\n",
       "  <thead>\n",
       "    <tr style=\"text-align: right;\">\n",
       "      <th>radId</th>\n",
       "      <th>32.0</th>\n",
       "      <th>33.0</th>\n",
       "      <th>204.0</th>\n",
       "      <th>205.0</th>\n",
       "      <th>206.0</th>\n",
       "      <th>207.0</th>\n",
       "      <th>208.0</th>\n",
       "      <th>209.0</th>\n",
       "    </tr>\n",
       "    <tr>\n",
       "      <th>dateStr</th>\n",
       "      <th></th>\n",
       "      <th></th>\n",
       "      <th></th>\n",
       "      <th></th>\n",
       "      <th></th>\n",
       "      <th></th>\n",
       "      <th></th>\n",
       "      <th></th>\n",
       "    </tr>\n",
       "  </thead>\n",
       "  <tbody>\n",
       "    <tr>\n",
       "      <th>20110205</th>\n",
       "      <td>None</td>\n",
       "      <td>(230, 300, 330)</td>\n",
       "      <td>(330,)</td>\n",
       "      <td>(230, 300, 330)</td>\n",
       "      <td>(230, 300, 330)</td>\n",
       "      <td>(230, 300, 330)</td>\n",
       "      <td>None</td>\n",
       "      <td>None</td>\n",
       "    </tr>\n",
       "    <tr>\n",
       "      <th>20110302</th>\n",
       "      <td>(100, 200, 230)</td>\n",
       "      <td>(100, 200, 230)</td>\n",
       "      <td>None</td>\n",
       "      <td>(200, 230)</td>\n",
       "      <td>(100, 230)</td>\n",
       "      <td>(100, 200, 230)</td>\n",
       "      <td>None</td>\n",
       "      <td>None</td>\n",
       "    </tr>\n",
       "    <tr>\n",
       "      <th>20110310</th>\n",
       "      <td>(600,)</td>\n",
       "      <td>(600,)</td>\n",
       "      <td>None</td>\n",
       "      <td>(600,)</td>\n",
       "      <td>(600,)</td>\n",
       "      <td>(600,)</td>\n",
       "      <td>None</td>\n",
       "      <td>None</td>\n",
       "    </tr>\n",
       "    <tr>\n",
       "      <th>20110312</th>\n",
       "      <td>(30,)</td>\n",
       "      <td>(30,)</td>\n",
       "      <td>None</td>\n",
       "      <td>(30,)</td>\n",
       "      <td>None</td>\n",
       "      <td>(30,)</td>\n",
       "      <td>None</td>\n",
       "      <td>None</td>\n",
       "    </tr>\n",
       "    <tr>\n",
       "      <th>20110403</th>\n",
       "      <td>(400, 430, 500, 530, 600)</td>\n",
       "      <td>(400, 430, 500, 530, 600)</td>\n",
       "      <td>None</td>\n",
       "      <td>None</td>\n",
       "      <td>(400, 430, 500, 530, 600)</td>\n",
       "      <td>(400, 430, 500, 530, 600)</td>\n",
       "      <td>None</td>\n",
       "      <td>None</td>\n",
       "    </tr>\n",
       "  </tbody>\n",
       "</table>\n",
       "</div>"
      ],
      "text/plain": [
       "radId                         32.0                       33.0    204.0  \\\n",
       "dateStr                                                                  \n",
       "20110205                       None            (230, 300, 330)  (330,)   \n",
       "20110302            (100, 200, 230)            (100, 200, 230)    None   \n",
       "20110310                     (600,)                     (600,)    None   \n",
       "20110312                      (30,)                      (30,)    None   \n",
       "20110403  (400, 430, 500, 530, 600)  (400, 430, 500, 530, 600)    None   \n",
       "\n",
       "radId               205.0                      206.0  \\\n",
       "dateStr                                                \n",
       "20110205  (230, 300, 330)            (230, 300, 330)   \n",
       "20110302       (200, 230)                 (100, 230)   \n",
       "20110310           (600,)                     (600,)   \n",
       "20110312            (30,)                       None   \n",
       "20110403             None  (400, 430, 500, 530, 600)   \n",
       "\n",
       "radId                         207.0 208.0 209.0  \n",
       "dateStr                                          \n",
       "20110205            (230, 300, 330)  None  None  \n",
       "20110302            (100, 200, 230)  None  None  \n",
       "20110310                     (600,)  None  None  \n",
       "20110312                      (30,)  None  None  \n",
       "20110403  (400, 430, 500, 530, 600)  None  None  "
      ]
     },
     "execution_count": 8,
     "metadata": {},
     "output_type": "execute_result"
    }
   ],
   "source": [
    "# Pivot the table so that date is row,\n",
    "# radId is col and time is the value!!!\n",
    "pivDF = velDateTimeRadDF.pivot(index='dateStr', columns='radId', values='time')\n",
    "pivDF.head()"
   ]
  },
  {
   "cell_type": "code",
   "execution_count": 9,
   "metadata": {
    "collapsed": false
   },
   "outputs": [
    {
     "name": "stdout",
     "output_type": "stream",
     "text": [
      "1900-01-01 23:00:00\n"
     ]
    }
   ],
   "source": [
    "import datetime\n",
    "print datetime.datetime.strptime( \"230\", \"%H%M\" )"
   ]
  },
  {
   "cell_type": "code",
   "execution_count": null,
   "metadata": {
    "collapsed": true
   },
   "outputs": [],
   "source": []
  }
 ],
 "metadata": {
  "kernelspec": {
   "display_name": "Python 2",
   "language": "python",
   "name": "python2"
  },
  "language_info": {
   "codemirror_mode": {
    "name": "ipython",
    "version": 2
   },
   "file_extension": ".py",
   "mimetype": "text/x-python",
   "name": "python",
   "nbconvert_exporter": "python",
   "pygments_lexer": "ipython2",
   "version": "2.7.6"
  }
 },
 "nbformat": 4,
 "nbformat_minor": 1
}
