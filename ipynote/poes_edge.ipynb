{
 "cells": [
  {
   "cell_type": "code",
   "execution_count": 1,
   "metadata": {
    "collapsed": true
   },
   "outputs": [],
   "source": [
    "import netCDF4\n",
    "import pandas\n",
    "import datetime\n",
    "import numpy\n",
    "import seaborn as sns\n",
    "import matplotlib.pyplot as plt\n",
    "from matplotlib.colors import ListedColormap\n",
    "from scipy import signal, ndimage\n",
    "%matplotlib inline"
   ]
  },
  {
   "cell_type": "code",
   "execution_count": 2,
   "metadata": {
    "collapsed": true
   },
   "outputs": [],
   "source": [
    "minCutoffFitLat = 45.\n",
    "delTimeCutOffNrstPass = 45 # min\n",
    "mlonDiffOtrEndCutoff = 50.\n",
    "delLatCutoff = 2.\n",
    "delCtimeCutoff = 60. #min\n",
    "gauss_smooth_sigma = 5. # Roughly corresponds to 1 deg in MLAT\n",
    "diffElctrCutoffBnd = 0.1"
   ]
  },
  {
   "cell_type": "code",
   "execution_count": 3,
   "metadata": {},
   "outputs": [
    {
     "name": "stdout",
     "output_type": "stream",
     "text": [
      "reading file--> ../poes_n15_20130302_proc.nc\n",
      "reading file--> ../poes_n18_20130302_proc.nc\n",
      "reading file--> ../poes_m01_20130302_proc.nc\n",
      "reading file--> ../poes_n19_20130302_proc.nc\n",
      "reading file--> ../poes_m01_20130302_proc.nc\n",
      "reading file--> ../poes_n16_20130302_proc.nc\n",
      "reading file--> ../poes_n17_20130302_proc.nc\n"
     ]
    }
   ],
   "source": [
    "fileList = [ \"../poes_n15_20130302_proc.nc\",\\\n",
    "                \"../poes_n18_20130302_proc.nc\",\\\n",
    "                \"../poes_m01_20130302_proc.nc\",\\\n",
    "                \"../poes_n19_20130302_proc.nc\",\\\n",
    "                \"../poes_m01_20130302_proc.nc\",\\\n",
    "                \"../poes_n16_20130302_proc.nc\",\\\n",
    "                \"../poes_n17_20130302_proc.nc\" ]\n",
    "poesAllEleDataDF = pandas.DataFrame( columns =  [\"timestamp\", \"date\", \"aacgm_lat_foot\",\\\n",
    "                         \"aacgm_lon_foot\", \"MLT\", \"log_ele_flux\", \"sat\"] )\n",
    "poesAllProDataDF = pandas.DataFrame( columns =  [\"timestamp\", \"date\", \"aacgm_lat_foot\",\\\n",
    "                         \"aacgm_lon_foot\", \"MLT\", \"log_pro_flux\", \"sat\"] )\n",
    "for f in fileList:\n",
    "    print \"reading file-->\", f\n",
    "    # read variable from the netCDF files\n",
    "    poesRawData = netCDF4.Dataset(f)\n",
    "    poesDF = pandas.DataFrame( poesRawData.variables['time'][:], columns=[ \"timestamp\" ] )\n",
    "    poesDF['date'] = pandas.to_datetime(poesDF['timestamp'], unit='ms')\n",
    "    poesDF[\"alt\"] = poesRawData.variables['alt'][:]\n",
    "    poesDF[\"aacgm_lat_foot\"] = poesRawData.variables['aacgm_lat_foot'][:]\n",
    "\n",
    "    poesDF[\"aacgm_lon_foot\"] = poesRawData.variables['aacgm_lon_foot'][:]\n",
    "    poesDF[\"MLT\"] = poesRawData.variables['MLT'][:]\n",
    "    # round of to 2 decimals\n",
    "    poesDF['alt'] = [ round( x, 2 ) for x in poesDF['alt']]\n",
    "    poesDF['aacgm_lat_foot'] = [ round( x, 2 ) for x in poesDF['aacgm_lat_foot']]\n",
    "    poesDF['aacgm_lon_foot'] = [ round( x, 2 ) for x in poesDF['aacgm_lon_foot']]\n",
    "    poesDF['MLT'] = [ round( x, 2 ) for x in poesDF['MLT']]\n",
    "    # Add up the fluxes\n",
    "    poesDF[\"ted_ele_total_flux\"] = poesRawData.variables['ted_ele_tel0_flux_4'][:] +\\\n",
    "            poesRawData.variables['ted_ele_tel0_flux_8'][:] + \\\n",
    "            poesRawData.variables['ted_ele_tel0_flux_11'][:] + \\\n",
    "            poesRawData.variables['ted_ele_tel0_flux_14'][:] + \\\n",
    "            poesRawData.variables['ted_ele_tel30_flux_4'][:] +\\\n",
    "            poesRawData.variables['ted_ele_tel30_flux_8'][:] + \\\n",
    "            poesRawData.variables['ted_ele_tel30_flux_11'][:] + \\\n",
    "            poesRawData.variables['ted_ele_tel30_flux_14'][:]\n",
    "    poesDF[\"ted_pro_total_flux\"] = poesRawData.variables['ted_pro_tel0_flux_4'][:] +\\\n",
    "            poesRawData.variables['ted_pro_tel0_flux_8'][:] + \\\n",
    "            poesRawData.variables['ted_pro_tel0_flux_11'][:] + \\\n",
    "            poesRawData.variables['ted_pro_tel0_flux_14'][:] + \\\n",
    "            poesRawData.variables['ted_pro_tel30_flux_4'][:] +\\\n",
    "            poesRawData.variables['ted_pro_tel30_flux_8'][:] + \\\n",
    "            poesRawData.variables['ted_pro_tel30_flux_11'][:] + \\\n",
    "            poesRawData.variables['ted_pro_tel30_flux_14'][:]\n",
    "    poesDF['log_ele_flux'] = [0. if x <= 0. else round( numpy.log10(x), 2 )\\\n",
    "                 for x in poesDF['ted_ele_total_flux']]\n",
    "    poesDF['log_pro_flux'] = [0. if x <= 0. else round( numpy.log10(x), 2 )\\\n",
    "                 for x in poesDF['ted_pro_total_flux']]\n",
    "    # the current satellite number\n",
    "    poesDF[\"sat\"] = f[-19:-17]\n",
    "#     seperate out electron and proton flux and discard all zeros\n",
    "    currPoesEleFluxDF = poesDF[poesDF[\"log_ele_flux\"] > 0.][ [\"timestamp\",\\\n",
    "                     \"date\", \"aacgm_lat_foot\", \"aacgm_lon_foot\", \"MLT\",\\\n",
    "                     \"log_ele_flux\", \"sat\"] ].reset_index(drop=True)\n",
    "    currPoesProFluxDF = poesDF[poesDF[\"log_pro_flux\"] > 0.][ [\"timestamp\",\\\n",
    "                     \"date\", \"aacgm_lat_foot\", \"aacgm_lon_foot\", \"MLT\",\\\n",
    "                     \"log_pro_flux\", \"sat\"] ].reset_index(drop=True)\n",
    "    \n",
    "    \n",
    "    poesAllEleDataDF = poesAllEleDataDF.append( currPoesEleFluxDF )\n",
    "    poesAllProDataDF = poesAllProDataDF.append( currPoesProFluxDF )\n",
    "    # now delete all the rows for prev DFs\n",
    "    # we don't want to duplicate data\n",
    "    poesDF = poesDF.drop( poesDF.index )\n",
    "    currPoesEleFluxDF = currPoesEleFluxDF.drop( currPoesEleFluxDF.index )\n",
    "    currPoesProFluxDF = currPoesProFluxDF.drop( currPoesProFluxDF.index )\n",
    "# create a date and time columns\n",
    "poesAllEleDataDF[\"dateStr\"] = poesAllEleDataDF[\"date\"].map(lambda x: x.strftime('%Y%m%d'))\n",
    "poesAllEleDataDF[\"time\"] = poesAllEleDataDF[\"date\"].map(lambda x: x.strftime('%H%M'))\n",
    "poesAllProDataDF[\"dateStr\"] = poesAllProDataDF[\"date\"].map(lambda x: x.strftime('%Y%m%d'))\n",
    "poesAllProDataDF[\"time\"] = poesAllProDataDF[\"date\"].map(lambda x: x.strftime('%H%M'))"
   ]
  },
  {
   "cell_type": "code",
   "execution_count": 4,
   "metadata": {
    "collapsed": true
   },
   "outputs": [],
   "source": [
    "#   sat              start_time                end_time\n",
    "# 0  01 2013-03-02 03:26:54.755 2013-03-02 03:55:02.752\n",
    "# 1  16 2013-03-02 04:28:24.986 2013-03-02 04:55:20.987\n",
    "# 2  17 2013-03-02 03:56:16.193 2013-03-02 04:21:50.193\n",
    "# 3  18 2013-03-02 03:10:09.132 2013-03-02 03:31:43.132\n",
    "# 4  19 2013-03-02 04:42:44.994 2013-03-02 05:08:46.993"
   ]
  },
  {
   "cell_type": "code",
   "execution_count": 5,
   "metadata": {},
   "outputs": [
    {
     "data": {
      "text/plain": [
       "[<matplotlib.lines.Line2D at 0x7f988ab13050>]"
      ]
     },
     "execution_count": 5,
     "metadata": {},
     "output_type": "execute_result"
    },
    {
     "data": {
      "image/png": "[encoded data removed]",
      "text/plain": [
       "<matplotlib.figure.Figure at 0x7f9880865c10>"
      ]
     },
     "metadata": {},
     "output_type": "display_data"
    }
   ],
   "source": [
    "selSat = \"01\"\n",
    "selStTime = datetime.datetime( 2013,3,2,3,26 )\n",
    "selEndTime = datetime.datetime( 2013,3,2,3,56 )\n",
    "testDF = poesAllEleDataDF[ (poesAllEleDataDF[\"sat\"] == selSat) &\\\n",
    "                         (poesAllEleDataDF[\"date\"] >= selStTime) &\\\n",
    "                         (poesAllEleDataDF[\"date\"] <= selEndTime)].reset_index(drop=True)\n",
    "testProDF = poesAllProDataDF[ (poesAllProDataDF[\"sat\"] == selSat) &\\\n",
    "                         (poesAllProDataDF[\"date\"] >= selStTime) &\\\n",
    "                         (poesAllProDataDF[\"date\"] <= selEndTime)].reset_index(drop=True)\n",
    "# plt.plot_date( testDF[\"date\"], testDF[\"log_ele_flux\"] )\n",
    "plt.plot_date( testDF[\"date\"], testDF[\"log_ele_flux\"] )"
   ]
  },
  {
   "cell_type": "code",
   "execution_count": 6,
   "metadata": {},
   "outputs": [],
   "source": [
    "# Divide satellite data to two passes\n",
    "# we'll get boundary data from each pass\n",
    "# In the first pass, sat is moving from \n",
    "# low to high latitudes and in the second one\n",
    "# We'll get the opposite case\n",
    "testDF = testDF.sort_values( [\"sat\",\"date\"],\\\n",
    "                ascending=[True, True] \\\n",
    "                ).reset_index(drop=True)\n",
    "# We'll get the the satellite pass which is moving polewards\n",
    "# Basically percent change in latitudes should be positive\n",
    "# for a satellite moving polewards.\n",
    "testDF[\"latRowDiffs\"] = testDF.groupby(\"sat\")[[\\\n",
    "                \"aacgm_lat_foot\" ] ].pct_change()\n",
    "testDFPolewards = testDF[\\\n",
    "                        testDF[\"latRowDiffs\"] > 0.\\\n",
    "                        ].reset_index(drop=True)\n",
    "testDFEquatorwards = testDF[\\\n",
    "                        testDF[\"latRowDiffs\"] < 0.\\\n",
    "                        ].reset_index(drop=True)\n",
    "# print testDFPolewards[ [\"date\", \"aacgm_lat_foot\", \"MLT\", \"latRowDiffs\", \"log_ele_flux\"] ]\n"
   ]
  },
  {
   "cell_type": "code",
   "execution_count": 7,
   "metadata": {},
   "outputs": [
    {
     "name": "stdout",
     "output_type": "stream",
     "text": [
      "117 0.000236145951132\n",
      "78 0.00142855315426\n",
      "2013-03-02T03:34:08.755000000 2013-03-02T03:46:16.753000000\n"
     ]
    }
   ],
   "source": [
    "# Get laplacian of gaussian for poleward pass\n",
    "datePoleArr = testDFPolewards[\"date\"].values\n",
    "mlatPoleArr = testDFPolewards[\"aacgm_lat_foot\"].values\n",
    "eleFluxPoleArr = testDFPolewards[\"log_ele_flux\"].values\n",
    "filtEleFluxPoleArr = ndimage.filters.gaussian_filter1d(eleFluxPoleArr,gauss_smooth_sigma) #\n",
    "diffEleFluxPoleArr = numpy.gradient(numpy.gradient(filtEleFluxPoleArr))\n",
    "# Get laplacian of gaussian for Equatorward pass\n",
    "dateEquatorArr = testDFEquatorwards[\"date\"].values\n",
    "mlatEquatorArr = testDFEquatorwards[\"aacgm_lat_foot\"].values\n",
    "eleFluxEquatorArr = testDFEquatorwards[\"log_ele_flux\"].values\n",
    "filtEleFluxEquatorArr = ndimage.filters.gaussian_filter1d(eleFluxEquatorArr,gauss_smooth_sigma) #\n",
    "diffEleFluxEquatorArr = numpy.gradient(numpy.gradient(filtEleFluxEquatorArr))\n",
    "# Now get the max and min indices (of \n",
    "# Laplacian of Gaussian of electron flux) \n",
    "# for poleward and equatorward passes\n",
    "# Poleward\n",
    "minPolePassLoc = numpy.argmin(diffEleFluxPoleArr)\n",
    "maxPolePassLoc = numpy.argmax(diffEleFluxPoleArr)\n",
    "# Equatorward\n",
    "minEquatorPassLoc = numpy.argmin(diffEleFluxEquatorArr)\n",
    "maxEquatorPassLoc = numpy.argmax(diffEleFluxEquatorArr)\n",
    "# Now we calculate the equatorward boundary currently\n",
    "# We'll only choose the sharpest edge (could be poleward\n",
    "# or equatorward edge). For the equatorward boundary, we \n",
    "# can simply get the nearest (in lat) point where \n",
    "# diffEleFluxPoleArr is 10% or less in magnitude.\n",
    "selLocPolePass = min( minPolePassLoc, maxPolePassLoc )\n",
    "selLocEquatorPass = max( minEquatorPassLoc, maxEquatorPassLoc )\n",
    "\n",
    "polePassEqBndLocs = numpy.where( abs(diffEleFluxPoleArr) <= \\\n",
    "                        abs(diffEleFluxPoleArr[selLocPolePass])*diffElctrCutoffBnd )\n",
    "polePassEqBndLocs = polePassEqBndLocs[0]\n",
    "equatorPassEqBndLocs = numpy.where( abs(diffEleFluxEquatorArr) <= \\\n",
    "                        abs(diffEleFluxEquatorArr[selLocEquatorPass])*diffElctrCutoffBnd )\n",
    "equatorPassEqBndLocs = equatorPassEqBndLocs[0]\n",
    "# Now choose the closest (equatorward/earlier value) \n",
    "# which was less than selLocPolePass\n",
    "polePassEqBndLocInds = numpy.where( polePassEqBndLocs < selLocPolePass )\n",
    "polePassEqBndLocInds = numpy.max( polePassEqBndLocInds[0] )\n",
    "polePassEqBndLocs = polePassEqBndLocs[polePassEqBndLocInds]\n",
    "# get the date parameter to retreive other vars\n",
    "dateSelPolePassEqBnd = datePoleArr[ polePassEqBndLocs ]\n",
    "# Now choose the closest (poleward/later value) \n",
    "# which was less than selLocEquatorPass\n",
    "equatorPassEqBndLocInds = numpy.where( equatorPassEqBndLocs > selLocEquatorPass )\n",
    "equatorPassEqBndLocInds = numpy.min( equatorPassEqBndLocInds[0] )\n",
    "equatorPassEqBndLocs = equatorPassEqBndLocs[equatorPassEqBndLocInds]\n",
    "# get the date parameter to retreive other vars\n",
    "dateSelEquatorPassEqBnd = dateEquatorArr[ equatorPassEqBndLocs ]\n",
    "\n",
    "print polePassEqBndLocs, diffEleFluxPoleArr[polePassEqBndLocs]\n",
    "print equatorPassEqBndLocs, diffEleFluxEquatorArr[equatorPassEqBndLocs]\n",
    "\n",
    "print dateSelPolePassEqBnd, dateSelEquatorPassEqBnd\n",
    "\n",
    "# print selLocPolePass, selLocEquatorPass, diffEleFluxPoleArr[selLocPolePass]\n",
    "# print minPolePassLoc, maxPolePassLoc, filtEleFluxPoleArr[minPolePassLoc],filtEleFluxPoleArr[maxPolePassLoc]\n",
    "# print minEquatorPassLoc, maxEquatorPassLoc, diffEleFluxPoleArr[minPolePassLoc],diffEleFluxPoleArr[maxPolePassLoc]"
   ]
  },
  {
   "cell_type": "code",
   "execution_count": 8,
   "metadata": {},
   "outputs": [
    {
     "data": {
      "text/plain": [
       "[<matplotlib.lines.Line2D at 0x7f983ccc4e10>]"
      ]
     },
     "execution_count": 8,
     "metadata": {},
     "output_type": "execute_result"
    },
    {
     "data": {
      "image/png": "[encoded data removed]",
      "text/plain": [
       "<matplotlib.figure.Figure at 0x7f983c408a10>"
      ]
     },
     "metadata": {},
     "output_type": "display_data"
    }
   ],
   "source": [
    "plt.plot_date( datePoleArr, filtEleFluxPoleArr, 'bo' )\n",
    "plt.plot_date( dateEquatorArr, filtEleFluxEquatorArr, 'ro' )\n",
    "plt.plot_date( dateSelPolePassEqBnd, filtEleFluxPoleArr[polePassEqBndLocs], 'm*', markersize=20 )\n",
    "plt.plot_date( dateSelEquatorPassEqBnd, filtEleFluxEquatorArr[equatorPassEqBndLocs], 'c*', markersize=20 )"
   ]
  },
  {
   "cell_type": "code",
   "execution_count": 14,
   "metadata": {},
   "outputs": [
    {
     "data": {
      "text/plain": [
       "[<matplotlib.lines.Line2D at 0x7f983cad2f50>]"
      ]
     },
     "execution_count": 14,
     "metadata": {},
     "output_type": "execute_result"
    },
    {
     "data": {
      "image/png": "[encoded data removed]",
      "text/plain": [
       "<matplotlib.figure.Figure at 0x7f983cbda490>"
      ]
     },
     "metadata": {},
     "output_type": "display_data"
    }
   ],
   "source": [
    "plt.plot_date( datePoleArr, diffEleFluxPoleArr, 'bo' )\n",
    "plt.plot_date( dateSelPolePassEqBnd, diffEleFluxPoleArr[polePassEqBndLocs], 'm*', markersize=20 )\n",
    "plt.plot_date( dateEquatorArr, diffEleFluxEquatorArr, 'ro' )\n",
    "plt.plot_date( dateSelEquatorPassEqBnd, diffEleFluxEquatorArr[equatorPassEqBndLocs], 'c*', markersize=20 )"
   ]
  },
  {
   "cell_type": "code",
   "execution_count": null,
   "metadata": {
    "collapsed": true
   },
   "outputs": [],
   "source": []
  }
 ],
 "metadata": {
  "kernelspec": {
   "display_name": "Python 2",
   "language": "python",
   "name": "python2"
  },
  "language_info": {
   "codemirror_mode": {
    "name": "ipython",
    "version": 2
   },
   "file_extension": ".py",
   "mimetype": "text/x-python",
   "name": "python",
   "nbconvert_exporter": "python",
   "pygments_lexer": "ipython2",
   "version": "2.7.6"
  }
 },
 "nbformat": 4,
 "nbformat_minor": 2
}
