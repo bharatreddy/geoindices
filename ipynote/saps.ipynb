{
 "cells": [
  {
   "cell_type": "code",
   "execution_count": 1,
   "metadata": {
    "collapsed": true
   },
   "outputs": [],
   "source": [
    "import pandas"
   ]
  },
  {
   "cell_type": "code",
   "execution_count": 52,
   "metadata": {
    "collapsed": false
   },
   "outputs": [
    {
     "data": {
      "text/html": [
       "<div>\n",
       "<table border=\"1\" class=\"dataframe\">\n",
       "  <thead>\n",
       "    <tr style=\"text-align: right;\">\n",
       "      <th></th>\n",
       "      <th>dateTimeString</th>\n",
       "      <th>latitude</th>\n",
       "      <th>mlt</th>\n",
       "      <th>velocity</th>\n",
       "      <th>POESLat</th>\n",
       "      <th>dateString</th>\n",
       "      <th>date</th>\n",
       "    </tr>\n",
       "  </thead>\n",
       "  <tbody>\n",
       "    <tr>\n",
       "      <th>0</th>\n",
       "      <td>20110102-0006</td>\n",
       "      <td>61.5</td>\n",
       "      <td>1.9604</td>\n",
       "      <td>230.7238</td>\n",
       "      <td>70.0</td>\n",
       "      <td>20110102</td>\n",
       "      <td>2011-01-02 00:06:00</td>\n",
       "    </tr>\n",
       "    <tr>\n",
       "      <th>1</th>\n",
       "      <td>20110102-0016</td>\n",
       "      <td>61.5</td>\n",
       "      <td>2.1307</td>\n",
       "      <td>329.1260</td>\n",
       "      <td>70.0</td>\n",
       "      <td>20110102</td>\n",
       "      <td>2011-01-02 00:16:00</td>\n",
       "    </tr>\n",
       "    <tr>\n",
       "      <th>2</th>\n",
       "      <td>20110102-0016</td>\n",
       "      <td>60.5</td>\n",
       "      <td>2.2028</td>\n",
       "      <td>378.1796</td>\n",
       "      <td>70.0</td>\n",
       "      <td>20110102</td>\n",
       "      <td>2011-01-02 00:16:00</td>\n",
       "    </tr>\n",
       "    <tr>\n",
       "      <th>3</th>\n",
       "      <td>20110102-0018</td>\n",
       "      <td>60.5</td>\n",
       "      <td>2.2372</td>\n",
       "      <td>205.6017</td>\n",
       "      <td>70.0</td>\n",
       "      <td>20110102</td>\n",
       "      <td>2011-01-02 00:18:00</td>\n",
       "    </tr>\n",
       "    <tr>\n",
       "      <th>4</th>\n",
       "      <td>20110102-0022</td>\n",
       "      <td>60.5</td>\n",
       "      <td>2.0353</td>\n",
       "      <td>338.3082</td>\n",
       "      <td>70.0</td>\n",
       "      <td>20110102</td>\n",
       "      <td>2011-01-02 00:22:00</td>\n",
       "    </tr>\n",
       "  </tbody>\n",
       "</table>\n",
       "</div>"
      ],
      "text/plain": [
       "  dateTimeString  latitude     mlt  velocity  POESLat dateString  \\\n",
       "0  20110102-0006      61.5  1.9604  230.7238     70.0   20110102   \n",
       "1  20110102-0016      61.5  2.1307  329.1260     70.0   20110102   \n",
       "2  20110102-0016      60.5  2.2028  378.1796     70.0   20110102   \n",
       "3  20110102-0018      60.5  2.2372  205.6017     70.0   20110102   \n",
       "4  20110102-0022      60.5  2.0353  338.3082     70.0   20110102   \n",
       "\n",
       "                 date  \n",
       "0 2011-01-02 00:06:00  \n",
       "1 2011-01-02 00:16:00  \n",
       "2 2011-01-02 00:16:00  \n",
       "3 2011-01-02 00:18:00  \n",
       "4 2011-01-02 00:22:00  "
      ]
     },
     "execution_count": 52,
     "metadata": {},
     "output_type": "execute_result"
    }
   ],
   "source": [
    "fname = \"/Users/bharatkunduri/Documents/pers/saps-north-2.txt\"\n",
    "with open(fname) as f:\n",
    "    lines = f.readlines()\n",
    "linesData =[]\n",
    "for l in lines:\n",
    "    split = l.split()\n",
    "    currHour = (4-len(split[1]))*\"0\"+split[1]\n",
    "    dateTimeString = split[0] + \"-\" + currHour\n",
    "    linesData.append( [dateTimeString, float(split[2]), float(split[3]), float(split[4]), float(split[5]), split[0]] )\n",
    "sapsRawDF = pandas.DataFrame(linesData)\n",
    "sapsRawDF.columns = [\"dateTimeString\", \"latitude\",\"mlt\", \"velocity\", \"POESLat\", \"dateString\"]\n",
    "sapsRawDF['date'] =  pandas.to_datetime(sapsRawDF['dateTimeString'], format='%Y%m%d-%H%M')\n",
    "sapsRawDF.head()"
   ]
  },
  {
   "cell_type": "code",
   "execution_count": 66,
   "metadata": {
    "collapsed": false
   },
   "outputs": [
    {
     "data": {
      "text/plain": [
       "<bound method DataFrame.describe of             dateTimeString  latitude    mlt  velocity  POESLat   date\n",
       "dateString                                                           \n",
       "20110102               922       922    922       922      922    922\n",
       "20110103               673       673    673       673      673    673\n",
       "20110104              1079      1079   1079      1079     1079   1079\n",
       "20110107              1303      1303   1303      1303     1303   1303\n",
       "20110108               925       925    925       925      925    925\n",
       "20110110              1366      1366   1366      1366     1366   1366\n",
       "20110111               610       610    610       610      610    610\n",
       "20110112               940       940    940       940      940    940\n",
       "20110113               261       261    261       261      261    261\n",
       "20110114              1011      1011   1011      1011     1011   1011\n",
       "20110116              1083      1083   1083      1083     1083   1083\n",
       "20110117               430       430    430       430      430    430\n",
       "20110118               397       397    397       397      397    397\n",
       "20110119               601       601    601       601      601    601\n",
       "20110121               882       882    882       882      882    882\n",
       "20110123               662       662    662       662      662    662\n",
       "20110125               214       214    214       214      214    214\n",
       "20110126               579       579    579       579      579    579\n",
       "20110127               620       620    620       620      620    620\n",
       "20110128               769       769    769       769      769    769\n",
       "20110201              1058      1058   1058      1058     1058   1058\n",
       "20110203              1159      1159   1159      1159     1159   1159\n",
       "20110205               397       397    397       397      397    397\n",
       "20110206              1417      1417   1417      1417     1417   1417\n",
       "20110207               721       721    721       721      721    721\n",
       "20110208               296       296    296       296      296    296\n",
       "20110210               306       306    306       306      306    306\n",
       "20110211               472       472    472       472      472    472\n",
       "20110215               513       513    513       513      513    513\n",
       "20110218              8197      8197   8197      8197     8197   8197\n",
       "...                    ...       ...    ...       ...      ...    ...\n",
       "20120718               858       858    858       858      858    858\n",
       "20120719               914       914    914       914      914    914\n",
       "20120721              2128      2128   2128      2128     2128   2128\n",
       "20120722              6622      6622   6622      6622     6622   6622\n",
       "20120723              1607      1607   1607      1607     1607   1607\n",
       "20120724              2342      2342   2342      2342     2342   2342\n",
       "20120725              2662      2662   2662      2662     2662   2662\n",
       "20120726              1300      1300   1300      1300     1300   1300\n",
       "20120731               253       253    253       253      253    253\n",
       "20120803             25948     25948  25948     25948    25948  25948\n",
       "20120804               485       485    485       485      485    485\n",
       "20120805               633       633    633       633      633    633\n",
       "20120806             13844     13844  13844     13844    13844  13844\n",
       "20120809              3250      3250   3250      3250     3250   3250\n",
       "20120811               478       478    478       478      478    478\n",
       "20120812              4558      4558   4558      4558     4558   4558\n",
       "20120813              4802      4802   4802      4802     4802   4802\n",
       "20120814              8934      8934   8934      8934     8934   8934\n",
       "20120816              2639      2639   2639      2639     2639   2639\n",
       "20120817               381       381    381       381      381    381\n",
       "20120818              6778      6778   6778      6778     6778   6778\n",
       "20120819              1054      1054   1054      1054     1054   1054\n",
       "20120820             14298     14298  14298     14298    14298  14298\n",
       "20120822               601       601    601       601      601    601\n",
       "20120824              1512      1512   1512      1512     1512   1512\n",
       "20120825              4443      4443   4443      4443     4443   4443\n",
       "20120826              2025      2025   2025      2025     2025   2025\n",
       "20120827              2113      2113   2113      2113     2113   2113\n",
       "20120828               621       621    621       621      621    621\n",
       "20120829               749       749    749       749      749    749\n",
       "\n",
       "[414 rows x 6 columns]>"
      ]
     },
     "execution_count": 66,
     "metadata": {},
     "output_type": "execute_result"
    }
   ],
   "source": [
    "sapsRawDF = sapsRawDF[ sapsRawDF[\"velocity\"] > 200. ]\n",
    "sapsDateGrpDF = sapsRawDF.groupby([\"dateString\"]).count()\n",
    "sapsDateGrpDF = sapsDateGrpDF[ sapsDateGrpDF['dateTimeString'] > 200 ]\n",
    "\n",
    "sapsDateGrpDF.describe"
   ]
  },
  {
   "cell_type": "code",
   "execution_count": null,
   "metadata": {
    "collapsed": true
   },
   "outputs": [],
   "source": []
  }
 ],
 "metadata": {
  "kernelspec": {
   "display_name": "Python 2",
   "language": "python",
   "name": "python2"
  },
  "language_info": {
   "codemirror_mode": {
    "name": "ipython",
    "version": 2
   },
   "file_extension": ".py",
   "mimetype": "text/x-python",
   "name": "python",
   "nbconvert_exporter": "python",
   "pygments_lexer": "ipython2",
   "version": "2.7.10"
  }
 },
 "nbformat": 4,
 "nbformat_minor": 0
}
