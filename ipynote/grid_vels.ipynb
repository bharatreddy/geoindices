{
 "cells": [
  {
   "cell_type": "code",
   "execution_count": 1,
   "metadata": {
    "collapsed": true
   },
   "outputs": [],
   "source": [
    "import pandas\n",
    "import datetime\n",
    "import numpy\n",
    "from scipy.optimize import curve_fit\n",
    "import seaborn as sns\n",
    "import matplotlib.pyplot as plt\n",
    "from matplotlib.colors import ListedColormap\n",
    "from matplotlib import ticker\n",
    "%matplotlib inline"
   ]
  },
  {
   "cell_type": "code",
   "execution_count": 2,
   "metadata": {
    "collapsed": false
   },
   "outputs": [
    {
     "data": {
      "text/html": [
       "<div>\n",
       "<table border=\"1\" class=\"dataframe\">\n",
       "  <thead>\n",
       "    <tr style=\"text-align: right;\">\n",
       "      <th></th>\n",
       "      <th>dateStr</th>\n",
       "      <th>sapsLat</th>\n",
       "      <th>sapsMLT</th>\n",
       "      <th>sapsVel</th>\n",
       "      <th>dst_index</th>\n",
       "      <th>time</th>\n",
       "      <th>dst_bin</th>\n",
       "    </tr>\n",
       "  </thead>\n",
       "  <tbody>\n",
       "    <tr>\n",
       "      <th>0</th>\n",
       "      <td>20110107</td>\n",
       "      <td>56.5</td>\n",
       "      <td>17.7543</td>\n",
       "      <td>308.2077</td>\n",
       "      <td>-18.0</td>\n",
       "      <td>0</td>\n",
       "      <td>(-25, -10]</td>\n",
       "    </tr>\n",
       "    <tr>\n",
       "      <th>1</th>\n",
       "      <td>20110107</td>\n",
       "      <td>55.5</td>\n",
       "      <td>18.0147</td>\n",
       "      <td>224.1588</td>\n",
       "      <td>-18.0</td>\n",
       "      <td>0</td>\n",
       "      <td>(-25, -10]</td>\n",
       "    </tr>\n",
       "    <tr>\n",
       "      <th>2</th>\n",
       "      <td>20110107</td>\n",
       "      <td>56.5</td>\n",
       "      <td>17.8749</td>\n",
       "      <td>307.4328</td>\n",
       "      <td>-18.0</td>\n",
       "      <td>0</td>\n",
       "      <td>(-25, -10]</td>\n",
       "    </tr>\n",
       "    <tr>\n",
       "      <th>3</th>\n",
       "      <td>20110107</td>\n",
       "      <td>55.5</td>\n",
       "      <td>18.1324</td>\n",
       "      <td>222.4787</td>\n",
       "      <td>-18.0</td>\n",
       "      <td>0</td>\n",
       "      <td>(-25, -10]</td>\n",
       "    </tr>\n",
       "    <tr>\n",
       "      <th>4</th>\n",
       "      <td>20110107</td>\n",
       "      <td>56.5</td>\n",
       "      <td>17.9955</td>\n",
       "      <td>305.4201</td>\n",
       "      <td>-18.0</td>\n",
       "      <td>0</td>\n",
       "      <td>(-25, -10]</td>\n",
       "    </tr>\n",
       "  </tbody>\n",
       "</table>\n",
       "</div>"
      ],
      "text/plain": [
       "    dateStr  sapsLat  sapsMLT   sapsVel  dst_index  time     dst_bin\n",
       "0  20110107     56.5  17.7543  308.2077      -18.0     0  (-25, -10]\n",
       "1  20110107     55.5  18.0147  224.1588      -18.0     0  (-25, -10]\n",
       "2  20110107     56.5  17.8749  307.4328      -18.0     0  (-25, -10]\n",
       "3  20110107     55.5  18.1324  222.4787      -18.0     0  (-25, -10]\n",
       "4  20110107     56.5  17.9955  305.4201      -18.0     0  (-25, -10]"
      ]
     },
     "execution_count": 2,
     "metadata": {},
     "output_type": "execute_result"
    }
   ],
   "source": [
    "datFileName = \"../data/processedSaps-new.txt\"\n",
    "sapsDataDF = pandas.read_csv(datFileName, sep=' ')\n",
    "# add dst_bins\n",
    "dstBins = [ -150, -75, -50, -25, -10, 10 ]\n",
    "sapsDataDF = pandas.concat( [ sapsDataDF, \\\n",
    "                    pandas.cut( sapsDataDF[\"dst_index\"], \\\n",
    "                               bins=dstBins ) ], axis=1 )\n",
    "sapsDataDF.columns = [ [\"dateStr\", \"hour\",\"sapsLat\", \\\n",
    "                     \"sapsMLT\", \"sapsVel\", \"radId\", \"poesLat\",\\\n",
    "                     \"poesMLT\", \"dst_date\", \"dst_index\", \"time\", \"dst_bin\"] ]\n",
    "sapsDataDF = sapsDataDF.drop([\"radId\", \"poesLat\", \"poesMLT\", \"dst_date\", \"hour\"], 1)\n",
    "sapsDataDF.head()"
   ]
  },
  {
   "cell_type": "code",
   "execution_count": null,
   "metadata": {
    "collapsed": true
   },
   "outputs": [],
   "source": []
  }
 ],
 "metadata": {
  "kernelspec": {
   "display_name": "Python 2",
   "language": "python",
   "name": "python2"
  },
  "language_info": {
   "codemirror_mode": {
    "name": "ipython",
    "version": 2
   },
   "file_extension": ".py",
   "mimetype": "text/x-python",
   "name": "python",
   "nbconvert_exporter": "python",
   "pygments_lexer": "ipython2",
   "version": "2.7.6"
  }
 },
 "nbformat": 4,
 "nbformat_minor": 1
}
