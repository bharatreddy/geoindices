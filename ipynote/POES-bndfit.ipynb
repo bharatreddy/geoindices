{
 "cells": [
  {
   "cell_type": "code",
   "execution_count": 1,
   "metadata": {
    "collapsed": true
   },
   "outputs": [],
   "source": [
    "import netCDF4\n",
    "import pandas\n",
    "import datetime\n",
    "import numpy"
   ]
  },
  {
   "cell_type": "code",
   "execution_count": 2,
   "metadata": {
    "collapsed": true
   },
   "outputs": [],
   "source": [
    "minCutoffFitLat = 45.\n",
    "delTimeCutOffNrstPass = 50 # min\n",
    "mlonDiffOtrEndCutoff = 50.\n",
    "delLatCutoff = 2.\n",
    "delCtimeCutoff = 60. #min"
   ]
  },
  {
   "cell_type": "code",
   "execution_count": 3,
   "metadata": {
    "collapsed": false
   },
   "outputs": [
    {
     "name": "stdout",
     "output_type": "stream",
     "text": [
      "reading file--> ../poes_n15_20130302_proc.nc\n",
      "reading file--> ../poes_n18_20130302_proc.nc\n",
      "reading file--> ../poes_m01_20130302_proc.nc\n",
      "reading file--> ../poes_n19_20130302_proc.nc\n",
      "reading file--> ../poes_m01_20130302_proc.nc\n",
      "reading file--> ../poes_n16_20130302_proc.nc\n",
      "reading file--> ../poes_n17_20130302_proc.nc\n"
     ]
    }
   ],
   "source": [
    "fileList = [ \"../poes_n15_20130302_proc.nc\",\\\n",
    "                \"../poes_n18_20130302_proc.nc\",\\\n",
    "                \"../poes_m01_20130302_proc.nc\",\\\n",
    "                \"../poes_n19_20130302_proc.nc\",\\\n",
    "                \"../poes_m01_20130302_proc.nc\",\\\n",
    "                \"../poes_n16_20130302_proc.nc\",\\\n",
    "                \"../poes_n17_20130302_proc.nc\" ]\n",
    "poesAllEleDataDF = pandas.DataFrame( columns =  [\"timestamp\", \"date\", \"aacgm_lat_foot\",\\\n",
    "                         \"aacgm_lon_foot\", \"MLT\", \"log_ele_flux\", \"sat\"] )\n",
    "poesAllProDataDF = pandas.DataFrame( columns =  [\"timestamp\", \"date\", \"aacgm_lat_foot\",\\\n",
    "                         \"aacgm_lon_foot\", \"MLT\", \"log_pro_flux\", \"sat\"] )\n",
    "for f in fileList:\n",
    "    print \"reading file-->\", f\n",
    "    # read variable from the netCDF files\n",
    "    poesRawData = netCDF4.Dataset(f)\n",
    "    poesDF = pandas.DataFrame( poesRawData.variables['time'][:], columns=[ \"timestamp\" ] )\n",
    "    poesDF['date'] = pandas.to_datetime(poesDF['timestamp'], unit='ms')\n",
    "    poesDF[\"alt\"] = poesRawData.variables['alt'][:]\n",
    "    poesDF[\"aacgm_lat_foot\"] = poesRawData.variables['aacgm_lat_foot'][:]\n",
    "\n",
    "    poesDF[\"aacgm_lon_foot\"] = poesRawData.variables['aacgm_lon_foot'][:]\n",
    "    poesDF[\"MLT\"] = poesRawData.variables['MLT'][:]\n",
    "    # round of to 2 decimals\n",
    "    poesDF['alt'] = [ round( x, 2 ) for x in poesDF['alt']]\n",
    "    poesDF['aacgm_lat_foot'] = [ round( x, 2 ) for x in poesDF['aacgm_lat_foot']]\n",
    "    poesDF['aacgm_lon_foot'] = [ round( x, 2 ) for x in poesDF['aacgm_lon_foot']]\n",
    "    poesDF['MLT'] = [ round( x, 2 ) for x in poesDF['MLT']]\n",
    "    # Add up the fluxes\n",
    "    poesDF[\"ted_ele_total_flux\"] = poesRawData.variables['ted_ele_tel0_flux_4'][:] +\\\n",
    "            poesRawData.variables['ted_ele_tel0_flux_8'][:] + \\\n",
    "            poesRawData.variables['ted_ele_tel0_flux_11'][:] + \\\n",
    "            poesRawData.variables['ted_ele_tel0_flux_14'][:] + \\\n",
    "            poesRawData.variables['ted_ele_tel30_flux_4'][:] +\\\n",
    "            poesRawData.variables['ted_ele_tel30_flux_8'][:] + \\\n",
    "            poesRawData.variables['ted_ele_tel30_flux_11'][:] + \\\n",
    "            poesRawData.variables['ted_ele_tel30_flux_14'][:]\n",
    "    poesDF[\"ted_pro_total_flux\"] = poesRawData.variables['ted_pro_tel0_flux_4'][:] +\\\n",
    "            poesRawData.variables['ted_pro_tel0_flux_8'][:] + \\\n",
    "            poesRawData.variables['ted_pro_tel0_flux_11'][:] + \\\n",
    "            poesRawData.variables['ted_pro_tel0_flux_14'][:] + \\\n",
    "            poesRawData.variables['ted_pro_tel30_flux_4'][:] +\\\n",
    "            poesRawData.variables['ted_pro_tel30_flux_8'][:] + \\\n",
    "            poesRawData.variables['ted_pro_tel30_flux_11'][:] + \\\n",
    "            poesRawData.variables['ted_pro_tel30_flux_14'][:]\n",
    "    poesDF['log_ele_flux'] = [0. if x <= 0. else round( numpy.log10(x), 2 )\\\n",
    "                 for x in poesDF['ted_ele_total_flux']]\n",
    "    poesDF['log_pro_flux'] = [0. if x <= 0. else round( numpy.log10(x), 2 )\\\n",
    "                 for x in poesDF['ted_pro_total_flux']]\n",
    "    # the current satellite number\n",
    "    poesDF[\"sat\"] = f[-19:-17]\n",
    "#     seperate out electron and proton flux and discard all zeros\n",
    "    currPoesEleFluxDF = poesDF[poesDF[\"log_ele_flux\"] > 0.][ [\"timestamp\",\\\n",
    "                     \"date\", \"aacgm_lat_foot\", \"aacgm_lon_foot\", \"MLT\",\\\n",
    "                     \"log_ele_flux\", \"sat\"] ].reset_index(drop=True)\n",
    "    currPoesProFluxDF = poesDF[poesDF[\"log_pro_flux\"] > 0.][ [\"timestamp\",\\\n",
    "                     \"date\", \"aacgm_lat_foot\", \"aacgm_lon_foot\", \"MLT\",\\\n",
    "                     \"log_pro_flux\", \"sat\"] ].reset_index(drop=True)\n",
    "    \n",
    "    \n",
    "    poesAllEleDataDF = poesAllEleDataDF.append( currPoesEleFluxDF )\n",
    "    poesAllProDataDF = poesAllProDataDF.append( currPoesProFluxDF )\n",
    "    # now delete all the rows for prev DFs\n",
    "    # we don't want to duplicate data\n",
    "    poesDF = poesDF.drop( poesDF.index )\n",
    "    currPoesEleFluxDF = currPoesEleFluxDF.drop( currPoesEleFluxDF.index )\n",
    "    currPoesProFluxDF = currPoesProFluxDF.drop( currPoesProFluxDF.index )\n",
    "# create a date and time columns\n",
    "poesAllEleDataDF[\"dateStr\"] = poesAllEleDataDF[\"date\"].map(lambda x: x.strftime('%Y%m%d'))\n",
    "poesAllEleDataDF[\"time\"] = poesAllEleDataDF[\"date\"].map(lambda x: x.strftime('%H%M'))\n",
    "poesAllProDataDF[\"dateStr\"] = poesAllProDataDF[\"date\"].map(lambda x: x.strftime('%Y%m%d'))\n",
    "poesAllProDataDF[\"time\"] = poesAllProDataDF[\"date\"].map(lambda x: x.strftime('%H%M'))"
   ]
  },
  {
   "cell_type": "code",
   "execution_count": 4,
   "metadata": {
    "collapsed": false
   },
   "outputs": [
    {
     "name": "stdout",
     "output_type": "stream",
     "text": [
      "2013-03-02 04:00:00.201000\n"
     ]
    }
   ],
   "source": [
    "timeRange = [ poesAllEleDataDF[\"date\"].min(), poesAllEleDataDF[\"date\"].max() ]\n",
    "ctime = timeRange[0]\n",
    "timeInterval=datetime.timedelta(minutes=30)\n",
    "while ctime <= timeRange[1]:\n",
    "    ctime += timeInterval\n",
    "    if abs( ctime - datetime.datetime(2013,3,2,4) ) < datetime.timedelta(minutes=1):\n",
    "        break\n",
    "print ctime"
   ]
  },
  {
   "cell_type": "code",
   "execution_count": 5,
   "metadata": {
    "collapsed": true
   },
   "outputs": [],
   "source": [
    "# We only need those times when POES was above minCutoffFitLat(45) MLAT\n",
    "poesAllEleDataDF = poesAllEleDataDF[ \\\n",
    "                ( abs( poesAllEleDataDF[\"aacgm_lat_foot\"] ) >= minCutoffFitLat )\\\n",
    "                ].reset_index(drop=True)\n",
    "# We only need a few columns, discard the rest\n",
    "poesAllEleDataDF = poesAllEleDataDF[ [ 'sat', 'date',\\\n",
    "                        'aacgm_lat_foot', 'aacgm_lon_foot',\\\n",
    "                            'MLT', 'log_ele_flux' ] ]\n",
    "poesAllEleDataDF[\"delCtime\"] = abs(poesAllEleDataDF[\"date\"] - ctime)\n",
    "poesAllEleDataDF[\"delLatFit\"] = abs( abs( poesAllEleDataDF[\"aacgm_lat_foot\"] ) -\\\n",
    "                                    abs( minCutoffFitLat ) )\n",
    "# We are sorting by sats, dates and lats to pick the nearest time\n",
    "# when the satellite is between two 45 MLATs\n",
    "poesAllEleDataDFNth = poesAllEleDataDF[ poesAllEleDataDF[\"aacgm_lat_foot\"]\\\n",
    "                        >= 0. ].sort_values( ['sat', 'date', 'aacgm_lat_foot'],\\\n",
    "                                ascending=True ).reset_index(drop=True).drop_duplicates()\n",
    "poesAllEleDataDFSth = poesAllEleDataDF[ poesAllEleDataDF[\"aacgm_lat_foot\"]\\\n",
    "                        < 0. ].sort_values( ['sat', 'date', 'aacgm_lat_foot'],\\\n",
    "                                ascending=True ).reset_index(drop=True).drop_duplicates()"
   ]
  },
  {
   "cell_type": "code",
   "execution_count": 6,
   "metadata": {
    "collapsed": false,
    "scrolled": true
   },
   "outputs": [
    {
     "name": "stdout",
     "output_type": "stream",
     "text": [
      "  sat              start_time                end_time\n",
      "0  01 2013-03-02 03:26:54.755 2013-03-02 03:55:02.752\n",
      "1  16 2013-03-02 04:28:24.986 2013-03-02 04:55:20.987\n",
      "2  17 2013-03-02 03:56:16.193 2013-03-02 04:21:50.193\n",
      "3  18 2013-03-02 03:10:09.132 2013-03-02 03:31:43.132\n",
      "4  19 2013-03-02 04:42:44.994 2013-03-02 05:08:46.993\n"
     ]
    }
   ],
   "source": [
    "# Now we need to pick the satellite path\n",
    "# which is closest to the selected time.!\n",
    "# Northern Hemisphere\n",
    "poesAllEleDataDFNthST = poesAllEleDataDFNth[ \\\n",
    "                            (poesAllEleDataDFNth[\"date\"] \\\n",
    "                                >= ctime-datetime.timedelta(\\\n",
    "                                minutes=delTimeCutOffNrstPass)) &\\\n",
    "                                (poesAllEleDataDFNth[\"date\"] <=\\\n",
    "                                 ctime+datetime.timedelta(\\\n",
    "                                minutes=delTimeCutOffNrstPass))].reset_index(drop=True)\n",
    "poesAllEleDataDFNthST = poesAllEleDataDFNthST.sort_values(\\\n",
    "                            [\"sat\",\"date\"], ascending=[True, True]\\\n",
    "                            ).reset_index(drop=True)\n",
    "# We'll get the the satellite pass which is moving polewards\n",
    "# Basically percent change in latitudes should be positive\n",
    "# for a satellite moving polewards (percent change would help\n",
    "# with the southern hemisphere lcoations.)\n",
    "poesAllEleDataDFNthST[\"latRowDiffs\"] = poesAllEleDataDFNthST.groupby(\"sat\")[[\\\n",
    "                \"aacgm_lat_foot\" ] ].pct_change()\n",
    "poesAllEleDataDFNthST = poesAllEleDataDFNthST[\\\n",
    "                        poesAllEleDataDFNthST[\"latRowDiffs\"] > 0.\\\n",
    "                        ].reset_index(drop=True)\n",
    "poesAllEleDataDFNthST = poesAllEleDataDFNthST.sort_values(\\\n",
    "                            [\"sat\", \"aacgm_lat_foot\",\"delCtime\"]\\\n",
    "                            ).reset_index(drop=True)\n",
    "# get the start time\n",
    "selTimeRangeNthDF = poesAllEleDataDFNthST.groupby(\"sat\").first().reset_index()\n",
    "# Now if the time difference is too large, discard the satellite data\n",
    "selTimeRangeNthDF = selTimeRangeNthDF[ selTimeRangeNthDF[\"delCtime\"] <= \\\n",
    "                    datetime.timedelta(minutes=delTimeCutOffNrstPass)\\\n",
    "                    ].reset_index()\n",
    "selTimeRangeNthDF = selTimeRangeNthDF[ [\"sat\", \"date\"] ]\n",
    "selTimeRangeNthDF.columns = [ \"sat\", \"start_time\" ] \n",
    "\n",
    "# Now get the end times, simply get all times that are\n",
    "# greater than start time, sort them by date and get\n",
    "# lowest deLatFit\n",
    "poesAllEleDataDFNthET = pandas.merge( poesAllEleDataDFNth,\\\n",
    "                            selTimeRangeNthDF, on=\"sat\" )\n",
    "poesAllEleDataDFNthET = poesAllEleDataDFNthET[ (\\\n",
    "                                poesAllEleDataDFNthET[\"date\"] >=\\\n",
    "                                poesAllEleDataDFNthET[\"start_time\"] ) &\\\n",
    "                                (poesAllEleDataDFNthET[\"date\"] <=\\\n",
    "                                poesAllEleDataDFNthET[\"start_time\"]+datetime.timedelta(\\\n",
    "                                minutes=delTimeCutOffNrstPass)) ].reset_index(drop=True)\n",
    "poesAllEleDataDFNthET = poesAllEleDataDFNthET.sort_values(\\\n",
    "                            [\"sat\",\"date\"], ascending=[True, True]\\\n",
    "                            ).reset_index(drop=True)\n",
    "# We'll get the the satellite pass which is moving equatorwards\n",
    "# Basically percent change in latitudes should be negative\n",
    "# for a satellite moving polewards (percent change would help\n",
    "# with the southern hemisphere lcoations.)\n",
    "poesAllEleDataDFNthET[\"latRowDiffs\"] = poesAllEleDataDFNthET.groupby(\"sat\")[[\\\n",
    "                \"aacgm_lat_foot\" ] ].pct_change()\n",
    "poesAllEleDataDFNthET = poesAllEleDataDFNthET[\\\n",
    "                        poesAllEleDataDFNthET[\"latRowDiffs\"] < 0.\\\n",
    "                        ].reset_index(drop=True)\n",
    "poesAllEleDataDFNthET = poesAllEleDataDFNthET.sort_values(\\\n",
    "                            [\"sat\", \"aacgm_lat_foot\",\"delCtime\"]\\\n",
    "                            ).reset_index(drop=True)\n",
    "# get the start time\n",
    "eTimeNthDF = poesAllEleDataDFNthET.groupby(\"sat\").first().reset_index()\n",
    "eTimeNthDF = eTimeNthDF[ [\"sat\", \"date\"] ]\n",
    "eTimeNthDF.columns = [ \"sat\", \"end_time\" ] \n",
    "selTimeRangeNthDF = pandas.merge( selTimeRangeNthDF, eTimeNthDF, on=\"sat\" )\n",
    "print selTimeRangeNthDF"
   ]
  },
  {
   "cell_type": "code",
   "execution_count": 7,
   "metadata": {
    "collapsed": false
   },
   "outputs": [
    {
     "name": "stdout",
     "output_type": "stream",
     "text": [
      "  sat              start_time                end_time\n",
      "0  01 2013-03-02 04:17:26.750 2013-03-02 04:43:44.748\n",
      "1  16 2013-03-02 03:35:52.987 2013-03-02 04:01:26.987\n",
      "2  17 2013-03-02 04:45:02.194 2013-03-02 05:13:26.194\n",
      "3  18 2013-03-02 03:58:31.132 2013-03-02 04:26:09.132\n",
      "4  19 2013-03-02 03:53:02.994 2013-03-02 04:19:56.993\n"
     ]
    }
   ],
   "source": [
    "# Now we need to pick the satellite path\n",
    "# which is closest to the selected time.!\n",
    "# Northern Hemisphere\n",
    "poesAllEleDataDFSthST = poesAllEleDataDFSth[ \\\n",
    "                            (poesAllEleDataDFSth[\"date\"] \\\n",
    "                                >= ctime-datetime.timedelta(\\\n",
    "                                minutes=delTimeCutOffNrstPass)) &\\\n",
    "                                (poesAllEleDataDFSth[\"date\"] <=\\\n",
    "                                 ctime+datetime.timedelta(\\\n",
    "                                minutes=delTimeCutOffNrstPass))].reset_index(drop=True)\n",
    "poesAllEleDataDFSthST = poesAllEleDataDFSthST.sort_values(\\\n",
    "                            [\"sat\",\"date\"], ascending=[True, True]\\\n",
    "                            ).reset_index(drop=True)\n",
    "# We'll get the the satellite pass which is moving polewards\n",
    "# Basically percent change in latitudes should be positive\n",
    "# for a satellite moving polewards (percent change would help\n",
    "# with the southern hemisphere lcoations.)\n",
    "poesAllEleDataDFSthST[\"latRowDiffs\"] = poesAllEleDataDFSthST.groupby(\"sat\")[[\\\n",
    "                \"aacgm_lat_foot\" ] ].pct_change()\n",
    "poesAllEleDataDFSthST = poesAllEleDataDFSthST[\\\n",
    "                        poesAllEleDataDFSthST[\"latRowDiffs\"] > 0.\\\n",
    "                        ].reset_index(drop=True)\n",
    "poesAllEleDataDFSthST = poesAllEleDataDFSthST.sort_values(\\\n",
    "                            [\"sat\", \"aacgm_lat_foot\",\"delCtime\"],\\\n",
    "                            ascending=[True, False, True]\\\n",
    "                            ).reset_index(drop=True)\n",
    "# # get the start time\n",
    "selTimeRangeSthDF = poesAllEleDataDFSthST.groupby(\"sat\").first().reset_index()\n",
    "# Now if the time difference is too large, discard the satellite data\n",
    "selTimeRangeSthDF = selTimeRangeSthDF[ selTimeRangeSthDF[\"delCtime\"] <= \\\n",
    "                    datetime.timedelta(minutes=delTimeCutOffNrstPass)\\\n",
    "                    ].reset_index()\n",
    "selTimeRangeSthDF = selTimeRangeSthDF[ [\"sat\", \"date\"] ]\n",
    "selTimeRangeSthDF.columns = [ \"sat\", \"start_time\" ] \n",
    "\n",
    "\n",
    "# # Now get the end times, simply get all times that are\n",
    "# # greater than start time, sort them by date and get\n",
    "# # lowest deLatFit\n",
    "poesAllEleDataDFSthET = pandas.merge( poesAllEleDataDFSth,\\\n",
    "                            selTimeRangeSthDF, on=\"sat\" )\n",
    "poesAllEleDataDFSthET = poesAllEleDataDFSthET[ (\\\n",
    "                                poesAllEleDataDFSthET[\"date\"] >=\\\n",
    "                                poesAllEleDataDFSthET[\"start_time\"] ) &\\\n",
    "                                (poesAllEleDataDFSthET[\"date\"] <=\\\n",
    "                                poesAllEleDataDFSthET[\"start_time\"]+datetime.timedelta(\\\n",
    "                                minutes=delTimeCutOffNrstPass)) ].reset_index(drop=True)\n",
    "poesAllEleDataDFSthET = poesAllEleDataDFSthET.sort_values(\\\n",
    "                            [\"sat\",\"date\"], ascending=[True, True]\\\n",
    "                            ).reset_index(drop=True)\n",
    "# We'll get the the satellite pass which is moving equatorwards\n",
    "# Basically percent change in latitudes should be negative\n",
    "# for a satellite moving polewards (percent change would help\n",
    "# with the southern hemisphere lcoations.)\n",
    "poesAllEleDataDFSthET[\"latRowDiffs\"] = poesAllEleDataDFSthET.groupby(\"sat\")[[\\\n",
    "                \"aacgm_lat_foot\" ] ].pct_change()\n",
    "poesAllEleDataDFSthET = poesAllEleDataDFSthET[\\\n",
    "                        poesAllEleDataDFSthET[\"latRowDiffs\"] < 0.\\\n",
    "                        ].reset_index(drop=True)\n",
    "poesAllEleDataDFSthET = poesAllEleDataDFSthET.sort_values(\\\n",
    "                            [\"sat\", \"aacgm_lat_foot\",\"delCtime\"],\\\n",
    "                            ascending=[True, False, True]\\\n",
    "                            ).reset_index(drop=True)\n",
    "# get the start time\n",
    "eTimeSthDF = poesAllEleDataDFSthET.groupby(\"sat\").first().reset_index()\n",
    "eTimeSthDF = eTimeSthDF[ [\"sat\", \"date\"] ]\n",
    "eTimeSthDF.columns = [ \"sat\", \"end_time\" ] \n",
    "selTimeRangeSthDF = pandas.merge( selTimeRangeSthDF, eTimeSthDF, on=\"sat\" )\n",
    "print selTimeRangeSthDF"
   ]
  },
  {
   "cell_type": "code",
   "execution_count": 8,
   "metadata": {
    "collapsed": true
   },
   "outputs": [],
   "source": [
    "#   sat              start_time                end_time\n",
    "# 0  01 2013-03-02 03:26:54.755 2013-03-02 03:55:02.752\n",
    "# 1  16 2013-03-02 04:28:24.986 2013-03-02 04:55:20.987\n",
    "# 2  17 2013-03-02 03:56:16.193 2013-03-02 04:21:50.193\n",
    "# 3  18 2013-03-02 03:15:05.133 2013-03-02 03:31:43.132\n",
    "# 4  19 2013-03-02 04:42:44.994 2013-03-02 05:08:46.993"
   ]
  }
 ],
 "metadata": {
  "kernelspec": {
   "display_name": "Python 2",
   "language": "python",
   "name": "python2"
  },
  "language_info": {
   "codemirror_mode": {
    "name": "ipython",
    "version": 2
   },
   "file_extension": ".py",
   "mimetype": "text/x-python",
   "name": "python",
   "nbconvert_exporter": "python",
   "pygments_lexer": "ipython2",
   "version": "2.7.9"
  }
 },
 "nbformat": 4,
 "nbformat_minor": 1
}
