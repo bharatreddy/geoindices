{
 "cells": [
  {
   "cell_type": "code",
   "execution_count": 1,
   "metadata": {
    "collapsed": true
   },
   "outputs": [],
   "source": [
    "import netCDF4\n",
    "import pandas\n",
    "import datetime\n",
    "import numpy"
   ]
  },
  {
   "cell_type": "code",
   "execution_count": 2,
   "metadata": {
    "collapsed": true
   },
   "outputs": [],
   "source": [
    "minCutoffFitLat = 45.\n",
    "delTimeCutOffNrstPass = 45 # min\n",
    "mlonDiffOtrEndCutoff = 50.\n",
    "delLatCutoff = 2.\n",
    "delCtimeCutoff = 60. #min"
   ]
  },
  {
   "cell_type": "code",
   "execution_count": 3,
   "metadata": {},
   "outputs": [
    {
     "name": "stdout",
     "output_type": "stream",
     "text": [
      "reading file--> ../poes_n15_20130302_proc.nc\n",
      "reading file--> ../poes_n18_20130302_proc.nc\n",
      "reading file--> ../poes_m01_20130302_proc.nc\n",
      "reading file--> ../poes_n19_20130302_proc.nc\n",
      "reading file--> ../poes_m01_20130302_proc.nc\n",
      "reading file--> ../poes_n16_20130302_proc.nc\n",
      "reading file--> ../poes_n17_20130302_proc.nc\n"
     ]
    }
   ],
   "source": [
    "fileList = [ \"../poes_n15_20130302_proc.nc\",\\\n",
    "                \"../poes_n18_20130302_proc.nc\",\\\n",
    "                \"../poes_m01_20130302_proc.nc\",\\\n",
    "                \"../poes_n19_20130302_proc.nc\",\\\n",
    "                \"../poes_m01_20130302_proc.nc\",\\\n",
    "                \"../poes_n16_20130302_proc.nc\",\\\n",
    "                \"../poes_n17_20130302_proc.nc\" ]\n",
    "poesAllEleDataDF = pandas.DataFrame( columns =  [\"timestamp\", \"date\", \"aacgm_lat_foot\",\\\n",
    "                         \"aacgm_lon_foot\", \"MLT\", \"log_ele_flux\", \"sat\"] )\n",
    "poesAllProDataDF = pandas.DataFrame( columns =  [\"timestamp\", \"date\", \"aacgm_lat_foot\",\\\n",
    "                         \"aacgm_lon_foot\", \"MLT\", \"log_pro_flux\", \"sat\"] )\n",
    "for f in fileList:\n",
    "    print \"reading file-->\", f\n",
    "    # read variable from the netCDF files\n",
    "    poesRawData = netCDF4.Dataset(f)\n",
    "    poesDF = pandas.DataFrame( poesRawData.variables['time'][:], columns=[ \"timestamp\" ] )\n",
    "    poesDF['date'] = pandas.to_datetime(poesDF['timestamp'], unit='ms')\n",
    "    poesDF[\"alt\"] = poesRawData.variables['alt'][:]\n",
    "    poesDF[\"aacgm_lat_foot\"] = poesRawData.variables['aacgm_lat_foot'][:]\n",
    "\n",
    "    poesDF[\"aacgm_lon_foot\"] = poesRawData.variables['aacgm_lon_foot'][:]\n",
    "    poesDF[\"MLT\"] = poesRawData.variables['MLT'][:]\n",
    "    # round of to 2 decimals\n",
    "    poesDF['alt'] = [ round( x, 2 ) for x in poesDF['alt']]\n",
    "    poesDF['aacgm_lat_foot'] = [ round( x, 2 ) for x in poesDF['aacgm_lat_foot']]\n",
    "    poesDF['aacgm_lon_foot'] = [ round( x, 2 ) for x in poesDF['aacgm_lon_foot']]\n",
    "    poesDF['MLT'] = [ round( x, 2 ) for x in poesDF['MLT']]\n",
    "    # Add up the fluxes\n",
    "    poesDF[\"ted_ele_total_flux\"] = poesRawData.variables['ted_ele_tel0_flux_4'][:] +\\\n",
    "            poesRawData.variables['ted_ele_tel0_flux_8'][:] + \\\n",
    "            poesRawData.variables['ted_ele_tel0_flux_11'][:] + \\\n",
    "            poesRawData.variables['ted_ele_tel0_flux_14'][:] + \\\n",
    "            poesRawData.variables['ted_ele_tel30_flux_4'][:] +\\\n",
    "            poesRawData.variables['ted_ele_tel30_flux_8'][:] + \\\n",
    "            poesRawData.variables['ted_ele_tel30_flux_11'][:] + \\\n",
    "            poesRawData.variables['ted_ele_tel30_flux_14'][:]\n",
    "    poesDF[\"ted_pro_total_flux\"] = poesRawData.variables['ted_pro_tel0_flux_4'][:] +\\\n",
    "            poesRawData.variables['ted_pro_tel0_flux_8'][:] + \\\n",
    "            poesRawData.variables['ted_pro_tel0_flux_11'][:] + \\\n",
    "            poesRawData.variables['ted_pro_tel0_flux_14'][:] + \\\n",
    "            poesRawData.variables['ted_pro_tel30_flux_4'][:] +\\\n",
    "            poesRawData.variables['ted_pro_tel30_flux_8'][:] + \\\n",
    "            poesRawData.variables['ted_pro_tel30_flux_11'][:] + \\\n",
    "            poesRawData.variables['ted_pro_tel30_flux_14'][:]\n",
    "    poesDF['log_ele_flux'] = [0. if x <= 0. else round( numpy.log10(x), 2 )\\\n",
    "                 for x in poesDF['ted_ele_total_flux']]\n",
    "    poesDF['log_pro_flux'] = [0. if x <= 0. else round( numpy.log10(x), 2 )\\\n",
    "                 for x in poesDF['ted_pro_total_flux']]\n",
    "    # the current satellite number\n",
    "    poesDF[\"sat\"] = f[-19:-17]\n",
    "#     seperate out electron and proton flux and discard all zeros\n",
    "    currPoesEleFluxDF = poesDF[poesDF[\"log_ele_flux\"] > 0.][ [\"timestamp\",\\\n",
    "                     \"date\", \"aacgm_lat_foot\", \"aacgm_lon_foot\", \"MLT\",\\\n",
    "                     \"log_ele_flux\", \"sat\"] ].reset_index(drop=True)\n",
    "    currPoesProFluxDF = poesDF[poesDF[\"log_pro_flux\"] > 0.][ [\"timestamp\",\\\n",
    "                     \"date\", \"aacgm_lat_foot\", \"aacgm_lon_foot\", \"MLT\",\\\n",
    "                     \"log_pro_flux\", \"sat\"] ].reset_index(drop=True)\n",
    "    \n",
    "    \n",
    "    poesAllEleDataDF = poesAllEleDataDF.append( currPoesEleFluxDF )\n",
    "    poesAllProDataDF = poesAllProDataDF.append( currPoesProFluxDF )\n",
    "    # now delete all the rows for prev DFs\n",
    "    # we don't want to duplicate data\n",
    "    poesDF = poesDF.drop( poesDF.index )\n",
    "    currPoesEleFluxDF = currPoesEleFluxDF.drop( currPoesEleFluxDF.index )\n",
    "    currPoesProFluxDF = currPoesProFluxDF.drop( currPoesProFluxDF.index )\n",
    "# create a date and time columns\n",
    "poesAllEleDataDF[\"dateStr\"] = poesAllEleDataDF[\"date\"].map(lambda x: x.strftime('%Y%m%d'))\n",
    "poesAllEleDataDF[\"time\"] = poesAllEleDataDF[\"date\"].map(lambda x: x.strftime('%H%M'))\n",
    "poesAllProDataDF[\"dateStr\"] = poesAllProDataDF[\"date\"].map(lambda x: x.strftime('%Y%m%d'))\n",
    "poesAllProDataDF[\"time\"] = poesAllProDataDF[\"date\"].map(lambda x: x.strftime('%H%M'))"
   ]
  },
  {
   "cell_type": "code",
   "execution_count": 4,
   "metadata": {},
   "outputs": [
    {
     "name": "stdout",
     "output_type": "stream",
     "text": [
      "2013-03-02 05:00:00.201000\n"
     ]
    }
   ],
   "source": [
    "timeRange = [ poesAllEleDataDF[\"date\"].min(), poesAllEleDataDF[\"date\"].max() ]\n",
    "ctime = timeRange[0]\n",
    "timeInterval=datetime.timedelta(minutes=30)\n",
    "while ctime <= timeRange[1]:\n",
    "    ctime += timeInterval\n",
    "    if abs( ctime - datetime.datetime(2013,3,2,5) ) < datetime.timedelta(minutes=1):\n",
    "        break\n",
    "print ctime"
   ]
  },
  {
   "cell_type": "code",
   "execution_count": 5,
   "metadata": {
    "collapsed": true
   },
   "outputs": [],
   "source": [
    "# We only need those times when POES was above minCutoffFitLat(45) MLAT\n",
    "poesAllEleDataDF = poesAllEleDataDF[ \\\n",
    "                ( abs( poesAllEleDataDF[\"aacgm_lat_foot\"] ) >= minCutoffFitLat )\\\n",
    "                ].reset_index(drop=True)\n",
    "# We only need a few columns, discard the rest\n",
    "poesAllEleDataDF = poesAllEleDataDF[ [ 'sat', 'date',\\\n",
    "                        'aacgm_lat_foot', 'aacgm_lon_foot',\\\n",
    "                            'MLT', 'log_ele_flux' ] ]\n",
    "poesAllEleDataDF[\"delCtime\"] = abs(poesAllEleDataDF[\"date\"] - ctime)\n",
    "poesAllEleDataDF[\"delLatFit\"] = abs( abs( poesAllEleDataDF[\"aacgm_lat_foot\"] ) -\\\n",
    "                                    abs( minCutoffFitLat ) )\n",
    "# We are sorting by sats, dates and lats to pick the nearest time\n",
    "# when the satellite is between two 45 MLATs\n",
    "poesAllEleDataDFNth = poesAllEleDataDF[ poesAllEleDataDF[\"aacgm_lat_foot\"]\\\n",
    "                        >= 0. ].sort_values( ['sat', 'date', 'aacgm_lat_foot'],\\\n",
    "                                ascending=True ).reset_index(drop=True).drop_duplicates()\n",
    "poesAllEleDataDFSth = poesAllEleDataDF[ poesAllEleDataDF[\"aacgm_lat_foot\"]\\\n",
    "                        < 0. ].sort_values( ['sat', 'date', 'aacgm_lat_foot'],\\\n",
    "                                ascending=True ).reset_index(drop=True).drop_duplicates()"
   ]
  },
  {
   "cell_type": "code",
   "execution_count": 6,
   "metadata": {
    "scrolled": true
   },
   "outputs": [
    {
     "name": "stdout",
     "output_type": "stream",
     "text": [
      "   index sat                    date  aacgm_lat_foot  aacgm_lon_foot    MLT  \\\n",
      "0      0  01 2013-03-02 05:09:28.746           45.13          303.08  20.28   \n",
      "1      1  16 2013-03-02 04:28:24.986           45.77          302.61  19.43   \n",
      "2      2  17 2013-03-02 05:38:46.194           45.24          251.48  17.42   \n",
      "3      3  18 2013-03-02 04:50:15.132           45.74          215.10  14.03   \n",
      "4      4  19 2013-03-02 04:42:44.994           45.39          195.69  12.59   \n",
      "\n",
      "   log_ele_flux        delCtime  delLatFit  latRowDiffs  \n",
      "0          3.20 00:09:28.545000       0.13     0.002221  \n",
      "1          3.35 00:31:35.215000       0.77     0.008594  \n",
      "2          3.08 00:38:45.993000       0.24     0.004218  \n",
      "3          2.62 00:09:45.069000       0.74     0.007045  \n",
      "4          2.73 00:17:15.207000       0.39     0.007100  \n"
     ]
    }
   ],
   "source": [
    "# Now we need to pick the satellite path\n",
    "# which is closest to the selected time.!\n",
    "# Northern Hemisphere\n",
    "poesAllEleDataDFNthST = poesAllEleDataDFNth[ \\\n",
    "                            (poesAllEleDataDFNth[\"date\"] \\\n",
    "                                >= ctime-datetime.timedelta(\\\n",
    "                                minutes=delTimeCutOffNrstPass)) &\\\n",
    "                                (poesAllEleDataDFNth[\"date\"] <=\\\n",
    "                                 ctime+datetime.timedelta(\\\n",
    "                                minutes=delTimeCutOffNrstPass))].reset_index(drop=True)\n",
    "poesAllEleDataDFNthST = poesAllEleDataDFNthST.sort_values(\\\n",
    "                            [\"sat\",\"date\"], ascending=[True, True] ).reset_index(drop=True)\n",
    "# We'll get the the satellite pass which is moving polewards\n",
    "# Basically percent change in latitudes should be positive\n",
    "# for a satellite moving polewards (percent change would help\n",
    "# with the southern hemisphere lcoations.)\n",
    "poesAllEleDataDFNthST[\"latRowDiffs\"] = poesAllEleDataDFNthST.groupby(\"sat\")[[\\\n",
    "                \"aacgm_lat_foot\" ] ].pct_change()\n",
    "poesAllEleDataDFNthST = poesAllEleDataDFNthST[\\\n",
    "                        poesAllEleDataDFNthST[\"latRowDiffs\"] > 0.\\\n",
    "                        ].reset_index(drop=True)\n",
    "poesAllEleDataDFNthST = poesAllEleDataDFNthST.sort_values(\\\n",
    "                            [\"sat\", \"aacgm_lat_foot\",\"delCtime\"]\\\n",
    "                            ).reset_index(drop=True)\n",
    "# get the start time\n",
    "selTimeRangeNthDF = poesAllEleDataDFNthST.groupby(\"sat\").first().reset_index()\n",
    "# Now if the time difference is too large, discard the satellite data\n",
    "selTimeRangeNthDF = selTimeRangeNthDF[ selTimeRangeNthDF[\"delCtime\"] <= \\\n",
    "                    datetime.timedelta(minutes=delTimeCutOffNrstPass)\\\n",
    "                    ].reset_index()\n",
    "\n",
    "print selTimeRangeNthDF"
   ]
  },
  {
   "cell_type": "code",
   "execution_count": 7,
   "metadata": {},
   "outputs": [
    {
     "name": "stdout",
     "output_type": "stream",
     "text": [
      "2013-03-02 04:15:00.201000\n"
     ]
    }
   ],
   "source": [
    "print ctime-datetime.timedelta(minutes=delTimeCutOffNrstPass)"
   ]
  },
  {
   "cell_type": "code",
   "execution_count": null,
   "metadata": {
    "collapsed": true
   },
   "outputs": [],
   "source": []
  }
 ],
 "metadata": {
  "kernelspec": {
   "display_name": "Python 2",
   "language": "python",
   "name": "python2"
  },
  "language_info": {
   "codemirror_mode": {
    "name": "ipython",
    "version": 2
   },
   "file_extension": ".py",
   "mimetype": "text/x-python",
   "name": "python",
   "nbconvert_exporter": "python",
   "pygments_lexer": "ipython2",
   "version": "2.7.6"
  }
 },
 "nbformat": 4,
 "nbformat_minor": 1
}
